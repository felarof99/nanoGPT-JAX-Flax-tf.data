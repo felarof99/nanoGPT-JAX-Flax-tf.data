{
  "nbformat": 4,
  "nbformat_minor": 0,
  "metadata": {
    "colab": {
      "provenance": []
    },
    "kernelspec": {
      "name": "python3",
      "display_name": "Python 3"
    },
    "language_info": {
      "name": "python"
    }
  },
  "cells": [
    {
      "cell_type": "markdown",
      "source": [
        "# Install dependencies for CPU"
      ],
      "metadata": {
        "id": "16WhNG98gurS"
      }
    },
    {
      "cell_type": "code",
      "execution_count": 4,
      "metadata": {
        "id": "6427RRkAbysU",
        "colab": {
          "base_uri": "https://localhost:8080/"
        },
        "outputId": "b9d5f11c-ec0c-4655-bf97-694839ee7d1a"
      },
      "outputs": [
        {
          "output_type": "stream",
          "name": "stdout",
          "text": [
            "--2024-02-03 17:15:35--  https://raw.githubusercontent.com/karpathy/char-rnn/master/data/tinyshakespeare/input.txt\n",
            "Resolving raw.githubusercontent.com (raw.githubusercontent.com)... 185.199.111.133, 185.199.110.133, 185.199.109.133, ...\n",
            "Connecting to raw.githubusercontent.com (raw.githubusercontent.com)|185.199.111.133|:443... connected.\n",
            "HTTP request sent, awaiting response... 200 OK\n",
            "Length: 1115394 (1.1M) [text/plain]\n",
            "Saving to: ‘input.txt’\n",
            "\n",
            "\rinput.txt             0%[                    ]       0  --.-KB/s               \rinput.txt           100%[===================>]   1.06M  --.-KB/s    in 0.04s   \n",
            "\n",
            "2024-02-03 17:15:35 (28.3 MB/s) - ‘input.txt’ saved [1115394/1115394]\n",
            "\n",
            "\u001b[2K     \u001b[90m━━━━━━━━━━━━━━━━━━━━━━━━━━━━━━━━━━━━━━━━\u001b[0m \u001b[32m2.1/2.1 MB\u001b[0m \u001b[31m12.9 MB/s\u001b[0m eta \u001b[36m0:00:00\u001b[0m\n",
            "\u001b[?25h\u001b[33mWARNING: Running pip as the 'root' user can result in broken permissions and conflicting behaviour with the system package manager. It is recommended to use a virtual environment instead: https://pip.pypa.io/warnings/venv\u001b[0m\u001b[33m\n",
            "\u001b[0m\u001b[33mWARNING: Running pip as the 'root' user can result in broken permissions and conflicting behaviour with the system package manager. It is recommended to use a virtual environment instead: https://pip.pypa.io/warnings/venv\u001b[0m\u001b[33m\n",
            "\u001b[0m\u001b[33mWARNING: Running pip as the 'root' user can result in broken permissions and conflicting behaviour with the system package manager. It is recommended to use a virtual environment instead: https://pip.pypa.io/warnings/venv\u001b[0m\u001b[33m\n",
            "\u001b[0m"
          ]
        }
      ],
      "source": [
        "# We always start with a dataset to train on. Let's download the tiny shakespeare dataset\n",
        "!wget https://raw.githubusercontent.com/karpathy/char-rnn/master/data/tinyshakespeare/input.txt\n",
        "\n",
        "!pip install -q --upgrade pip # To support manylinux2010 wheels.\n",
        "!pip install -q --upgrade jax jaxlib # CPU-only\n",
        "!pip install -q --upgrade jaxtyping\n",
        "!pip install -q --upgrade flax"
      ]
    },
    {
      "cell_type": "code",
      "source": [
        "from typing import List, Dict, Mapping, Tuple\n",
        "\n",
        "import jax\n",
        "import jax.numpy as jnp\n",
        "import jax.random as jrand\n",
        "import jaxtyping\n",
        "import flax.linen as nn\n",
        "from flax.training import train_state  # Useful dataclass to keep train state\n",
        "import optax\n",
        "import tensorflow as tf\n",
        "import pdb\n",
        "\n",
        "def println(*args):\n",
        "  for arg in args:\n",
        "    print(arg)\n"
      ],
      "metadata": {
        "id": "OZqEXlfmfuwo"
      },
      "execution_count": 5,
      "outputs": []
    },
    {
      "cell_type": "markdown",
      "source": [
        "# Dataset pipeline"
      ],
      "metadata": {
        "id": "TeccUW1zg-V-"
      }
    },
    {
      "cell_type": "code",
      "source": [
        "with open('input.txt', 'r', encoding='utf-8') as f:\n",
        "    text = f.read()\n",
        "\n",
        "# Create chars vocubulary using all the unique characters in the text.\n",
        "chars = sorted(list(set(text)))\n",
        "VOCAB_SIZE = len(chars)\n",
        "\n",
        "# Create mapping from characters to integers.\n",
        "stoi = {ch: i for i, ch in enumerate(chars)}\n",
        "\n",
        "# Create reverse mapping from integers to characters.\n",
        "itos = {i: ch for i, ch in enumerate(chars)}\n",
        "\n",
        "# Create encode, decode function.\n",
        "def encode(s: str, stoi: Mapping[str, int]) -> List[int]:\n",
        "  return [stoi[c] for c in s]\n",
        "\n",
        "def decode(tokens: List[int], itos: Mapping[int, str]) -> str:\n",
        "  return ''.join([itos[i] for i in tokens])\n",
        "\n",
        "println(encode(\"hii there\", stoi), decode(encode(\"hii there\", stoi), itos))\n",
        "\n",
        "# Let's now split up the data into train and validation sets.\n",
        "data = jnp.array(encode(text, stoi), dtype=jnp.int64)\n",
        "n = int(0.9*len(data))\n",
        "train_data = data[:n]\n",
        "val_data = data[n:]\n",
        "\n",
        "# Below would result in a minibatch size of 32.\n",
        "BATCH_SIZE = 4 # how many independent sequences will we process in parallel?\n",
        "BLOCK_SIZE = 8 # what is the maximum context length for predictions?\n",
        "\n",
        "train_dataset = (tf.data.Dataset.from_tensor_slices(train_data)\n",
        "                .batch(BLOCK_SIZE+1)\n",
        "                .map(lambda input: (input[:BLOCK_SIZE], input[1:BLOCK_SIZE+1]),\n",
        "                     num_parallel_calls=tf.data.AUTOTUNE)\n",
        "                .batch(BATCH_SIZE)\n",
        "                .repeat()\n",
        "                .as_numpy_iterator())\n",
        "val_dataset = (tf.data.Dataset.from_tensor_slices(val_data)\n",
        "                .batch(BLOCK_SIZE+1)\n",
        "                .map(lambda input: (input[:BLOCK_SIZE], input[1:BLOCK_SIZE+1]),\n",
        "                     num_parallel_calls=tf.data.AUTOTUNE)\n",
        "                .batch(BATCH_SIZE)\n",
        "                .repeat()\n",
        "                .as_numpy_iterator())\n",
        "\n",
        "def get_batch(training: bool = True):\n",
        "  if not training:\n",
        "    val_batch = next(val_dataset)\n",
        "    return jnp.array(val_batch)\n",
        "\n",
        "  train_batch = next(train_dataset)\n",
        "  return jnp.array(train_batch)"
      ],
      "metadata": {
        "colab": {
          "base_uri": "https://localhost:8080/"
        },
        "id": "jYycQ8ocg2sy",
        "outputId": "2fce4169-b421-438e-8b07-7cc77ad35043"
      },
      "execution_count": 6,
      "outputs": [
        {
          "output_type": "stream",
          "name": "stdout",
          "text": [
            "[46, 47, 47, 1, 58, 46, 43, 56, 43]\n",
            "hii there\n"
          ]
        },
        {
          "output_type": "stream",
          "name": "stderr",
          "text": [
            "<ipython-input-6-560c18dc3230>:24: UserWarning: Explicitly requested dtype <class 'jax.numpy.int64'> requested in array is not available, and will be truncated to dtype int32. To enable more dtypes, set the jax_enable_x64 configuration option or the JAX_ENABLE_X64 shell environment variable. See https://github.com/google/jax#current-gotchas for more.\n",
            "  data = jnp.array(encode(text, stoi), dtype=jnp.int64)\n"
          ]
        }
      ]
    },
    {
      "cell_type": "markdown",
      "source": [
        "### Test dataset pipeline"
      ],
      "metadata": {
        "id": "sTAGaeSwXeG8"
      }
    },
    {
      "cell_type": "code",
      "source": [
        "xb, yb = get_batch()\n",
        "println(\"inputs\", xb, \"inputs shape\", xb.shape)\n",
        "println(\"targets\", yb, \"targets shape\", yb.shape)\n",
        "for b in rangee(BATCH_SIZE): # batch dimension\n",
        "    for t in range(BLOCK_SIZE): # time dimension\n",
        "        context = xb[b, :t+1]\n",
        "        target = yb[b,t]\n",
        "        print(f\"when input is {context.tolist()} the target: {target}\")"
      ],
      "metadata": {
        "colab": {
          "base_uri": "https://localhost:8080/"
        },
        "id": "3YTqHDylg6cY",
        "outputId": "404bd473-0b59-486b-ea98-b7be5ce325cf"
      },
      "execution_count": 7,
      "outputs": [
        {
          "output_type": "stream",
          "name": "stdout",
          "text": [
            "inputs\n",
            "[[18 47 56 57 58  1 15 47]\n",
            " [47 64 43 52 10  0 14 43]\n",
            " [53 56 43  1 61 43  1 54]\n",
            " [53 41 43 43 42  1 39 52]]\n",
            "inputs shape\n",
            "(4, 8)\n",
            "targets\n",
            "[[47 56 57 58  1 15 47 58]\n",
            " [64 43 52 10  0 14 43 44]\n",
            " [56 43  1 61 43  1 54 56]\n",
            " [41 43 43 42  1 39 52 63]]\n",
            "targets shape\n",
            "(4, 8)\n",
            "when input is [18] the target: 47\n",
            "when input is [18, 47] the target: 56\n",
            "when input is [18, 47, 56] the target: 57\n",
            "when input is [18, 47, 56, 57] the target: 58\n",
            "when input is [18, 47, 56, 57, 58] the target: 1\n",
            "when input is [18, 47, 56, 57, 58, 1] the target: 15\n",
            "when input is [18, 47, 56, 57, 58, 1, 15] the target: 47\n",
            "when input is [18, 47, 56, 57, 58, 1, 15, 47] the target: 58\n",
            "when input is [47] the target: 64\n",
            "when input is [47, 64] the target: 43\n",
            "when input is [47, 64, 43] the target: 52\n",
            "when input is [47, 64, 43, 52] the target: 10\n",
            "when input is [47, 64, 43, 52, 10] the target: 0\n",
            "when input is [47, 64, 43, 52, 10, 0] the target: 14\n",
            "when input is [47, 64, 43, 52, 10, 0, 14] the target: 43\n",
            "when input is [47, 64, 43, 52, 10, 0, 14, 43] the target: 44\n",
            "when input is [53] the target: 56\n",
            "when input is [53, 56] the target: 43\n",
            "when input is [53, 56, 43] the target: 1\n",
            "when input is [53, 56, 43, 1] the target: 61\n",
            "when input is [53, 56, 43, 1, 61] the target: 43\n",
            "when input is [53, 56, 43, 1, 61, 43] the target: 1\n",
            "when input is [53, 56, 43, 1, 61, 43, 1] the target: 54\n",
            "when input is [53, 56, 43, 1, 61, 43, 1, 54] the target: 56\n",
            "when input is [53] the target: 41\n",
            "when input is [53, 41] the target: 43\n",
            "when input is [53, 41, 43] the target: 43\n",
            "when input is [53, 41, 43, 43] the target: 42\n",
            "when input is [53, 41, 43, 43, 42] the target: 1\n",
            "when input is [53, 41, 43, 43, 42, 1] the target: 39\n",
            "when input is [53, 41, 43, 43, 42, 1, 39] the target: 52\n",
            "when input is [53, 41, 43, 43, 42, 1, 39, 52] the target: 63\n"
          ]
        }
      ]
    },
    {
      "cell_type": "markdown",
      "source": [
        "# Implement Bigram Model"
      ],
      "metadata": {
        "id": "a3ozrVm0XiVN"
      }
    },
    {
      "cell_type": "code",
      "source": [
        "class BigramLangModel(nn.Module):\n",
        "  \"\"\"Reads one char and predicits the next char.\"\"\"\n",
        "  vocab_size: int\n",
        "\n",
        "  def setup(self):\n",
        "    super().setup()\n",
        "    self.token_embedding_table = nn.Embed(num_embeddings=self.vocab_size, features=self.vocab_size)\n",
        "\n",
        "  def __call__(self, inputs):\n",
        "    # Run block size inputs through embedding lookup.\n",
        "    # For each char, you get the logit predicted for that char.\n",
        "    # Then, you use the target token for that input and do a cross_entropy_loss.\n",
        "    logits = self.token_embedding_table(inputs)\n",
        "    return logits"
      ],
      "metadata": {
        "id": "2eyyiNsw_YL-"
      },
      "execution_count": 8,
      "outputs": []
    },
    {
      "cell_type": "markdown",
      "source": [
        "## I'll make the flax model accept\n",
        "`[block size worth tokens, token]`\n",
        "\n",
        "## I'll then use vmap to make the model accept batches of data.\n",
        "`[batch dim, block size worth of tokens, token]`"
      ],
      "metadata": {
        "id": "bLZdjG6cVxij"
      }
    },
    {
      "cell_type": "code",
      "source": [
        "sample_input_row = jnp.ones(shape=[1, 1], dtype=jnp.int32)\n",
        "sample_input_row"
      ],
      "metadata": {
        "colab": {
          "base_uri": "https://localhost:8080/"
        },
        "id": "FkxBwwipK6Yc",
        "outputId": "ca147835-c1a4-4493-c63f-412dc83ca1c9"
      },
      "execution_count": 10,
      "outputs": [
        {
          "output_type": "execute_result",
          "data": {
            "text/plain": [
              "Array([[1]], dtype=int32)"
            ]
          },
          "metadata": {},
          "execution_count": 10
        }
      ]
    },
    {
      "cell_type": "code",
      "source": [
        "model = BigramLangModel(vocab_size=65)\n",
        "output, params = model.init_with_output(jrand.PRNGKey(99), sample_input_row)\n",
        "params = params[\"params\"]"
      ],
      "metadata": {
        "id": "dtb3A3KFCgF8"
      },
      "execution_count": 11,
      "outputs": []
    },
    {
      "cell_type": "markdown",
      "source": [
        "## Make the model accepts batch of data\n",
        "`[batch, block of tokens, token_ids]`\n",
        "\n",
        "## To make it accept a batch, you need to use vmap."
      ],
      "metadata": {
        "id": "n0GfZYSQRE93"
      }
    },
    {
      "cell_type": "code",
      "source": [
        "model_apply_batch = jax.vmap(model.apply, in_axes=(None, 0), out_axes=(0))"
      ],
      "metadata": {
        "id": "nu8eFbAURSOy"
      },
      "execution_count": 12,
      "outputs": []
    },
    {
      "cell_type": "code",
      "source": [
        "# model_apply_batch will accept\n",
        "# [batch, block of tokens, token ids]"
      ],
      "metadata": {
        "id": "eHo-zsVlWxNl"
      },
      "execution_count": 13,
      "outputs": []
    },
    {
      "cell_type": "markdown",
      "source": [
        "## Sample forward pass, loss and backward pass."
      ],
      "metadata": {
        "id": "BPYIijJYDSV6"
      }
    },
    {
      "cell_type": "code",
      "source": [
        "batch = get_batch()\n",
        "inputs, targets = batch\n",
        "println(\"inputs\", inputs, inputs.shape, \"targets\", targets.shape)"
      ],
      "metadata": {
        "id": "x9UFVRpPDeZI",
        "outputId": "a0b9b232-8d21-4b2b-f563-cc26e8f482d3",
        "colab": {
          "base_uri": "https://localhost:8080/"
        }
      },
      "execution_count": 14,
      "outputs": [
        {
          "output_type": "stream",
          "name": "stdout",
          "text": [
            "inputs\n",
            "[[ 1 44 59 56 58 46 43 56]\n",
            " [ 1 46 43 39 56  1 51 43]\n",
            " [57 54 43 39 49  8  0  0]\n",
            " [50 50 10  0 31 54 43 39]]\n",
            "(4, 8)\n",
            "targets\n",
            "(4, 8)\n"
          ]
        }
      ]
    },
    {
      "cell_type": "code",
      "source": [
        "output = model_apply_batch({\"params\": params}, inputs)"
      ],
      "metadata": {
        "id": "JNlkzt-IRr5O"
      },
      "execution_count": 15,
      "outputs": []
    },
    {
      "cell_type": "code",
      "source": [
        "# output should shape [4, 8, 65]\n",
        "# batch size = 4\n",
        "# block of tokens = 8\n",
        "# token_id to embedding = 65\n",
        "\n",
        "output.shape"
      ],
      "metadata": {
        "colab": {
          "base_uri": "https://localhost:8080/"
        },
        "id": "EiE6Yl0QXFml",
        "outputId": "386c7b0e-8727-432c-c4f4-3815b4f70fe5"
      },
      "execution_count": 21,
      "outputs": [
        {
          "output_type": "execute_result",
          "data": {
            "text/plain": [
              "(4, 8, 65)"
            ]
          },
          "metadata": {},
          "execution_count": 21
        }
      ]
    },
    {
      "cell_type": "code",
      "source": [
        "# To do backward pass, you first need to compute grads.\n",
        "# In JAX, you use jax.grad to do a function transformation on the forward\n",
        "# function to get the gradient of the original function.\n",
        "# The grad is calculate wrt to the first param in the function.\n",
        "def forward_pass(params, batch):\n",
        "  inputs, targets = batch\n",
        "  logits = model_apply_batch({\"params\": params}, inputs)\n",
        "  loss = optax.softmax_cross_entropy_with_integer_labels(logits, targets)\n",
        "  loss = loss.mean()\n",
        "  return loss"
      ],
      "metadata": {
        "id": "09vAczHeGDis"
      },
      "execution_count": 19,
      "outputs": []
    },
    {
      "cell_type": "code",
      "source": [
        "# Test forward pass.\n",
        "batch = get_batch()\n",
        "forward_pass(params=params, batch=batch)"
      ],
      "metadata": {
        "colab": {
          "base_uri": "https://localhost:8080/"
        },
        "id": "KCh6wzoHYWDm",
        "outputId": "855fd970-2134-4dc1-aa56-abc9dbd151a9"
      },
      "execution_count": 20,
      "outputs": [
        {
          "output_type": "execute_result",
          "data": {
            "text/plain": [
              "Array(4.188369, dtype=float32)"
            ]
          },
          "metadata": {},
          "execution_count": 20
        }
      ]
    },
    {
      "cell_type": "code",
      "source": [
        "grad_fn = jax.value_and_grad(forward_pass, argnums=(0))  # differentiate wrt 0th pos argument."
      ],
      "metadata": {
        "id": "lJnYF1OtGzPq"
      },
      "execution_count": 22,
      "outputs": []
    },
    {
      "cell_type": "code",
      "source": [
        "# Test forward pass and grads.\n",
        "# Grads would be the gradients for params.\n",
        "loss, grads = grad_fn(params, batch)\n",
        "println(\"loss\", loss, \"grads\", grads)"
      ],
      "metadata": {
        "id": "o3XKCpCJHQip",
        "outputId": "385d5943-9f91-4ee0-cfca-46b2be7dc522",
        "colab": {
          "base_uri": "https://localhost:8080/"
        }
      },
      "execution_count": 23,
      "outputs": [
        {
          "output_type": "stream",
          "name": "stdout",
          "text": [
            "loss\n",
            "4.188369\n",
            "grads\n",
            "{'token_embedding_table': {'embedding': Array([[0.00103511, 0.00097044, 0.00093559, ..., 0.00089521, 0.001064  ,\n",
            "        0.00093856],\n",
            "       [0.00203619, 0.00209828, 0.00198735, ..., 0.00196691, 0.00215726,\n",
            "        0.00207174],\n",
            "       [0.        , 0.        , 0.        , ..., 0.        , 0.        ,\n",
            "        0.        ],\n",
            "       ...,\n",
            "       [0.        , 0.        , 0.        , ..., 0.        , 0.        ,\n",
            "        0.        ],\n",
            "       [0.        , 0.        , 0.        , ..., 0.        , 0.        ,\n",
            "        0.        ],\n",
            "       [0.00040068, 0.00039527, 0.00040171, ..., 0.00042136, 0.00055311,\n",
            "        0.00042526]], dtype=float32)}}\n"
          ]
        }
      ]
    },
    {
      "cell_type": "code",
      "source": [
        "# Apply grads to params to get new params.\n",
        "lr = 0.001\n",
        "println(\"params before:\", params)\n",
        "params = jax.tree_map(lambda p, g: p - lr * g, params, grads)\n",
        "println(\"params after:\", params)"
      ],
      "metadata": {
        "id": "qLHB0BpQHfI1",
        "outputId": "97c9107d-a592-4157-f2a7-5171cf85d723",
        "colab": {
          "base_uri": "https://localhost:8080/"
        }
      },
      "execution_count": 24,
      "outputs": [
        {
          "output_type": "stream",
          "name": "stdout",
          "text": [
            "params before:\n",
            "{'token_embedding_table': {'embedding': Array([[ 0.0752212 ,  0.01071652, -0.02585994, ..., -0.06997449,\n",
            "         0.10274917, -0.0226865 ],\n",
            "       [ 0.09400459,  0.12404279,  0.06972364, ...,  0.0593865 ,\n",
            "         0.1517611 ,  0.11131446],\n",
            "       [-0.0302137 , -0.07326671, -0.2515272 , ...,  0.20769818,\n",
            "         0.01281604,  0.03134193],\n",
            "       ...,\n",
            "       [-0.1394756 , -0.00640967, -0.07666602, ..., -0.2944119 ,\n",
            "         0.11875169, -0.08573762],\n",
            "       [ 0.05703759, -0.11280773,  0.2570641 , ..., -0.02059634,\n",
            "        -0.02818088,  0.13305528],\n",
            "       [-0.12428083, -0.13785616, -0.12170235, ..., -0.07394623,\n",
            "         0.19811267, -0.06473607]], dtype=float32)}}\n",
            "params after:\n",
            "{'token_embedding_table': {'embedding': Array([[ 0.07522016,  0.01071555, -0.02586087, ..., -0.06997538,\n",
            "         0.1027481 , -0.02268744],\n",
            "       [ 0.09400256,  0.12404069,  0.06972165, ...,  0.05938453,\n",
            "         0.15175894,  0.11131239],\n",
            "       [-0.0302137 , -0.07326671, -0.2515272 , ...,  0.20769818,\n",
            "         0.01281604,  0.03134193],\n",
            "       ...,\n",
            "       [-0.1394756 , -0.00640967, -0.07666602, ..., -0.2944119 ,\n",
            "         0.11875169, -0.08573762],\n",
            "       [ 0.05703759, -0.11280773,  0.2570641 , ..., -0.02059634,\n",
            "        -0.02818088,  0.13305528],\n",
            "       [-0.12428124, -0.13785656, -0.12170275, ..., -0.07394665,\n",
            "         0.19811212, -0.06473649]], dtype=float32)}}\n"
          ]
        }
      ]
    },
    {
      "cell_type": "markdown",
      "source": [
        "# Writing train step in flax\n",
        "## copy-pasting everything at one place and running a train step."
      ],
      "metadata": {
        "id": "LKPwDOFmIaSE"
      }
    },
    {
      "cell_type": "code",
      "source": [
        "class BigramLangModel(nn.Module):\n",
        "  \"\"\"Reads one char and predicits the next char.\"\"\"\n",
        "  vocab_size: int\n",
        "\n",
        "  def setup(self):\n",
        "    super().setup()\n",
        "    self.token_embedding_table = nn.Embed(num_embeddings=self.vocab_size, features=self.vocab_size)\n",
        "\n",
        "  def __call__(self, inputs):\n",
        "    # Run block size inputs through embedding lookup.\n",
        "    # For each char, you get the logit predicted for that char.\n",
        "    # Then, you use the target token for that input and do a cross_entropy_loss.\n",
        "    logits = self.token_embedding_table(inputs)\n",
        "    return logits\n",
        "\n",
        "def forward_pass(params, state, batch):\n",
        "  inputs, targets = batch\n",
        "  logits = state.apply_fn({\"params\": params}, inputs)\n",
        "  loss = optax.softmax_cross_entropy_with_integer_labels(logits, targets)\n",
        "  loss = loss.mean()\n",
        "  return loss\n",
        "\n",
        "model = BigramLangModel(vocab_size=65)\n",
        "\n",
        "sample_input_row = jnp.ones(shape=[1, 1], dtype=jnp.int32)\n",
        "output, params = model.init_with_output(jrand.PRNGKey(99), sample_input_row)\n",
        "params = params[\"params\"]\n",
        "\n",
        "model_apply_batch = jax.vmap(model.apply, in_axes=(None, 0), out_axes=(0))\n",
        "\n",
        "grad_fn = jax.value_and_grad(forward_pass, argnums=(0))  # differentiate wrt 0th pos argument.\n",
        "\n",
        "opt = optax.adam(learning_rate=0.001)\n",
        "state = train_state.TrainState.create(apply_fn=model_apply_batch, params=params, tx=opt)\n",
        "\n",
        "for epoch in range(10000):\n",
        "  batch = get_batch()\n",
        "  loss, grads = grad_fn(state.params, state, batch)\n",
        "  print(loss) if epoch%100==0 else None\n",
        "  state = state.apply_gradients(grads=grads)"
      ],
      "metadata": {
        "colab": {
          "base_uri": "https://localhost:8080/"
        },
        "id": "gtzCS8NzMJx9",
        "outputId": "2bfc10fc-feaa-4035-934e-0f4e2ddc599d"
      },
      "execution_count": 27,
      "outputs": [
        {
          "output_type": "stream",
          "name": "stdout",
          "text": [
            "4.1384206\n",
            "4.1080074\n",
            "4.0430775\n",
            "3.9432473\n",
            "3.8892488\n",
            "3.8569257\n",
            "3.7364187\n",
            "3.7333505\n",
            "3.6341212\n",
            "3.6173444\n",
            "3.6121833\n",
            "3.4578762\n",
            "3.4529896\n",
            "3.272968\n",
            "3.331564\n",
            "3.601662\n",
            "3.1814268\n",
            "3.2281318\n",
            "3.1645112\n",
            "3.0993776\n",
            "3.0928118\n",
            "3.1436317\n",
            "3.0181093\n",
            "3.3979583\n",
            "3.0808904\n",
            "2.9470723\n",
            "3.1007977\n",
            "3.0123637\n",
            "2.8227682\n",
            "2.8049037\n",
            "2.882127\n",
            "3.0365796\n",
            "2.9474034\n",
            "2.9139266\n",
            "2.6942496\n",
            "2.7621021\n",
            "2.7131565\n",
            "2.8251586\n",
            "2.7729301\n",
            "2.856067\n",
            "2.8203034\n",
            "2.5563579\n",
            "2.7390242\n",
            "2.6059659\n",
            "2.680951\n",
            "2.9985638\n",
            "2.8653827\n",
            "2.772189\n",
            "2.6595619\n",
            "2.964511\n",
            "2.4245665\n",
            "2.7897303\n",
            "2.8755765\n",
            "2.8244472\n",
            "2.569009\n",
            "2.6286025\n",
            "2.5906487\n",
            "2.599893\n",
            "3.0167284\n",
            "2.6264596\n",
            "2.7147222\n",
            "2.8912623\n",
            "2.2763188\n",
            "2.6737447\n",
            "2.6895428\n",
            "2.1630557\n",
            "2.4596457\n",
            "2.874239\n",
            "2.5003088\n",
            "2.4894412\n",
            "2.7582502\n",
            "2.4395156\n",
            "2.5846305\n",
            "2.444762\n",
            "2.3081725\n",
            "2.787832\n",
            "2.4526424\n",
            "2.3600192\n",
            "2.5083973\n",
            "2.3297908\n",
            "2.3155606\n",
            "2.059496\n",
            "2.418715\n",
            "2.730968\n",
            "2.882252\n",
            "2.6508014\n",
            "2.5163581\n",
            "2.5607893\n",
            "2.7323165\n",
            "2.7324786\n",
            "2.4521596\n",
            "2.2785528\n",
            "2.5239694\n",
            "2.5756414\n",
            "2.4010992\n",
            "2.8174121\n",
            "2.8034475\n",
            "2.5511281\n",
            "2.4749606\n",
            "2.2926285\n"
          ]
        }
      ]
    },
    {
      "cell_type": "markdown",
      "source": [
        "# Implement code for generating tokens"
      ],
      "metadata": {
        "id": "Bze9wctCbxls"
      }
    },
    {
      "cell_type": "code",
      "source": [
        "input_token = \"n\"\n",
        "encode(input_token, stoi)\n"
      ],
      "metadata": {
        "id": "h2BUBirGMWo6"
      },
      "execution_count": null,
      "outputs": []
    },
    {
      "cell_type": "code",
      "source": [
        "input_token = jnp.array([[52]], dtype=jnp.int32)\n",
        "input_token.shape"
      ],
      "metadata": {
        "id": "8p4A99r1NKx-"
      },
      "execution_count": null,
      "outputs": []
    },
    {
      "cell_type": "code",
      "source": [
        "next_token_logit = state.apply_fn({\"params\": state.params}, input_token)"
      ],
      "metadata": {
        "id": "cJwJPnIlNSEP"
      },
      "execution_count": null,
      "outputs": []
    },
    {
      "cell_type": "code",
      "source": [
        "next_token_logit"
      ],
      "metadata": {
        "id": "Df1oFKh9N4oj"
      },
      "execution_count": null,
      "outputs": []
    },
    {
      "cell_type": "code",
      "source": [
        "init_key = jrand.PRNGKey(99)\n",
        "key, split_key = jrand.split(init_key)"
      ],
      "metadata": {
        "id": "OiIl31K0cQVj"
      },
      "execution_count": null,
      "outputs": []
    },
    {
      "cell_type": "code",
      "source": [
        "next_to_next_token = jrand.categorical(split_key, next_token_logit)\n",
        "next_to_next_token"
      ],
      "metadata": {
        "id": "hMY9sAsCczWf"
      },
      "execution_count": null,
      "outputs": []
    },
    {
      "cell_type": "code",
      "source": [
        "decode(next_to_next_token.tolist()[0], itos)"
      ],
      "metadata": {
        "id": "7gpbNLGCc8k-"
      },
      "execution_count": null,
      "outputs": []
    },
    {
      "cell_type": "code",
      "source": [
        "next_to_next_to_next_logit = state.apply_fn({\"params\": state.params}, next_to_next_token)"
      ],
      "metadata": {
        "id": "9yoh9KIXdby-"
      },
      "execution_count": null,
      "outputs": []
    },
    {
      "cell_type": "code",
      "source": [
        "key, split_key = jrand.split(key)"
      ],
      "metadata": {
        "id": "eT4SCAXidmBi"
      },
      "execution_count": null,
      "outputs": []
    },
    {
      "cell_type": "code",
      "source": [
        "next_to_next_to_next_token = jrand.categorical(split_key, next_token_logit)\n",
        "\n",
        "next_to_next_to_next_token"
      ],
      "metadata": {
        "id": "JE6B49q2dkNm"
      },
      "execution_count": null,
      "outputs": []
    },
    {
      "cell_type": "code",
      "source": [
        "decode(next_to_next_to_next_token.tolist()[0], itos)"
      ],
      "metadata": {
        "id": "qGbhB8K7d2B0"
      },
      "execution_count": null,
      "outputs": []
    },
    {
      "cell_type": "code",
      "source": [
        "# Putting together the generate code\n",
        "\n",
        "input_token = jnp.array([[52]], dtype=jnp.int32)\n",
        "key = jrand.PRNGKey(99)\n",
        "\n",
        "result = \"\"\n",
        "for i in range(100):\n",
        "  key, split_key = jrand.split(key)\n",
        "  next_token_logit = state.apply_fn({\"params\": state.params}, input_token)\n",
        "  next_token = jrand.categorical(split_key, next_token_logit)\n",
        "  next_token_decode = decode(next_token.tolist()[0], itos)\n",
        "  result = result + next_token_decode\n",
        "\n",
        "print(result)\n",
        "\n"
      ],
      "metadata": {
        "colab": {
          "base_uri": "https://localhost:8080/"
        },
        "id": "keaylzQod6rh",
        "outputId": "07dc9bf8-62d4-4005-ff1a-d92f4775eeb5"
      },
      "execution_count": 28,
      "outputs": [
        {
          "output_type": "stream",
          "name": "stdout",
          "text": [
            "d ddtod ogg, d ddg dftdcertdd, gdggd,,d,,d .tg a'd  deoodttd:oc ectcodttkg eddogoc gd gf s  gga!ko e\n"
          ]
        }
      ]
    },
    {
      "cell_type": "markdown",
      "source": [
        "# Mathematical trick in attention"
      ],
      "metadata": {
        "id": "G78p73EKNOJp"
      }
    },
    {
      "cell_type": "markdown",
      "source": [
        "## doing bag of words\n",
        "basically, in B, T, C\n",
        "at t-th token in a row of batch, just sum all the values upto t."
      ],
      "metadata": {
        "id": "vWZlcN7aNQ6f"
      }
    },
    {
      "cell_type": "code",
      "source": [
        "# Generate T, C and write code which works for T, C.\n",
        "# Then, vmap it for batch\n",
        "\n",
        "# Using tokens = 4\n",
        "# Using each token with channel = 2 to make it easy to visualize\n",
        "T, C = 4, 2\n",
        "\n",
        "key, split_key = jrand.split(jrand.PRNGKey(99))\n",
        "\n",
        "x = jrand.normal(split_key, (T, C))\n",
        "x"
      ],
      "metadata": {
        "colab": {
          "base_uri": "https://localhost:8080/"
        },
        "id": "4x3NkSoBNsTg",
        "outputId": "dcf0cf99-274d-49b8-9cce-f93444cc61b6"
      },
      "execution_count": 137,
      "outputs": [
        {
          "output_type": "execute_result",
          "data": {
            "text/plain": [
              "Array([[ 0.2628779 , -0.1837252 ],\n",
              "       [ 0.38331428, -0.16180514],\n",
              "       [ 1.4986674 ,  1.10728   ],\n",
              "       [ 1.1535788 ,  0.9676541 ]], dtype=float32)"
            ]
          },
          "metadata": {},
          "execution_count": 137
        }
      ]
    },
    {
      "cell_type": "code",
      "source": [
        "def bow_attention(x: jnp.array, T: int, C: int):\n",
        "  \"\"\"Operates on a single row within batchs\n",
        "\n",
        "    It calculates bow attention by summing all\n",
        "    token channels prev + current token channels.\n",
        "  \"\"\"\n",
        "  xbow = jnp.zeros(shape=(T, C))\n",
        "  for token in range(T):\n",
        "    xprev = x[:token]\n",
        "    xcurrent = x[token:token+1]\n",
        "\n",
        "    current_bow = jnp.mean(jnp.concatenate([xprev, xcurrent], axis=0), axis=0)\n",
        "    xbow = xbow.at[token].set(current_bow)\n",
        "  return xbow"
      ],
      "metadata": {
        "id": "jtZjg_WyS3pD"
      },
      "execution_count": 66,
      "outputs": []
    },
    {
      "cell_type": "code",
      "source": [
        "bow_attention(x, T, C)"
      ],
      "metadata": {
        "id": "EwDgkObLJh5X",
        "outputId": "c86d55cf-be97-48a4-c611-71c888e65fbb",
        "colab": {
          "base_uri": "https://localhost:8080/"
        }
      },
      "execution_count": 67,
      "outputs": [
        {
          "output_type": "execute_result",
          "data": {
            "text/plain": [
              "Array([[ 0.2628779 , -0.1837252 ],\n",
              "       [ 0.3230961 , -0.17276517],\n",
              "       [ 0.7149532 ,  0.25391656],\n",
              "       [ 0.8246096 ,  0.43235093]], dtype=float32)"
            ]
          },
          "metadata": {},
          "execution_count": 67
        }
      ]
    },
    {
      "cell_type": "code",
      "source": [
        "# Test bow_attention using non-random tensor.\n",
        "numbers = jnp.arange(1, 5).reshape(-1, 1)\n",
        "test_arr = jnp.tile(numbers, (1, C))\n",
        "bow_attention(test_arr, T, C)"
      ],
      "metadata": {
        "id": "aDTyU_cJCQaW",
        "colab": {
          "base_uri": "https://localhost:8080/"
        },
        "outputId": "36f480af-8d0d-449b-8a81-453b197e84f7"
      },
      "execution_count": 73,
      "outputs": [
        {
          "output_type": "execute_result",
          "data": {
            "text/plain": [
              "Array([[1. , 1. ],\n",
              "       [1.5, 1.5],\n",
              "       [2. , 2. ],\n",
              "       [2.5, 2.5]], dtype=float32)"
            ]
          },
          "metadata": {},
          "execution_count": 73
        }
      ]
    },
    {
      "cell_type": "markdown",
      "source": [
        "## Starting to write it using matmul"
      ],
      "metadata": {
        "id": "iCEfpKc4Juqy"
      }
    },
    {
      "cell_type": "code",
      "source": [
        "x"
      ],
      "metadata": {
        "id": "aDJaLAS9JyAy",
        "outputId": "d07d89ca-1d87-4b5f-cca3-15145914fdec",
        "colab": {
          "base_uri": "https://localhost:8080/"
        }
      },
      "execution_count": 74,
      "outputs": [
        {
          "output_type": "execute_result",
          "data": {
            "text/plain": [
              "Array([[ 0.2628779 , -0.1837252 ],\n",
              "       [ 0.38331428, -0.16180514],\n",
              "       [ 1.4986674 ,  1.10728   ],\n",
              "       [ 1.1535788 ,  0.9676541 ]], dtype=float32)"
            ]
          },
          "metadata": {},
          "execution_count": 74
        }
      ]
    },
    {
      "cell_type": "code",
      "source": [
        "wei = jnp.array([[1.0, 0., 0., 0.],\n",
        " [0.5, 0.5, 0., 0.],\n",
        " [0.333, 0.333, 0.333, 0.],\n",
        " [0.25, 0.25, 0.25, 0.25]])"
      ],
      "metadata": {
        "id": "KseF9l2cJ550"
      },
      "execution_count": 75,
      "outputs": []
    },
    {
      "cell_type": "code",
      "source": [
        "tril = jnp.tril(jnp.ones(shape=(T, T)))\n",
        "tril"
      ],
      "metadata": {
        "colab": {
          "base_uri": "https://localhost:8080/"
        },
        "id": "0HBRJlxnQ9Wu",
        "outputId": "beceacf7-3c92-4e77-91f0-407aea3acbe8"
      },
      "execution_count": 96,
      "outputs": [
        {
          "output_type": "execute_result",
          "data": {
            "text/plain": [
              "Array([[1., 0., 0., 0.],\n",
              "       [1., 1., 0., 0.],\n",
              "       [1., 1., 1., 0.],\n",
              "       [1., 1., 1., 1.]], dtype=float32)"
            ]
          },
          "metadata": {},
          "execution_count": 96
        }
      ]
    },
    {
      "cell_type": "code",
      "source": [
        "jnp.sum(tril, axis=1, keepdims=True)"
      ],
      "metadata": {
        "id": "SbHxqFspWcN0",
        "outputId": "54a7e538-036b-48c5-9a58-407c2ab4dd81",
        "colab": {
          "base_uri": "https://localhost:8080/"
        }
      },
      "execution_count": 128,
      "outputs": [
        {
          "output_type": "execute_result",
          "data": {
            "text/plain": [
              "Array([[1.],\n",
              "       [2.],\n",
              "       [3.],\n",
              "       [4.]], dtype=float32)"
            ]
          },
          "metadata": {},
          "execution_count": 128
        }
      ]
    },
    {
      "cell_type": "code",
      "source": [
        "def get_wei(T: int):\n",
        "  tril = jnp.tril(jnp.ones(shape=(T, T)))\n",
        "  return tril/jnp.sum(tril, axis=1, keepdims=True)"
      ],
      "metadata": {
        "id": "naS4RF-FWfEL"
      },
      "execution_count": 129,
      "outputs": []
    },
    {
      "cell_type": "code",
      "source": [
        "get_wei(T)"
      ],
      "metadata": {
        "id": "W-cr82EcWq5P",
        "outputId": "75ee8a06-b94b-43ab-9302-04fcf90c55a6",
        "colab": {
          "base_uri": "https://localhost:8080/"
        }
      },
      "execution_count": 130,
      "outputs": [
        {
          "output_type": "execute_result",
          "data": {
            "text/plain": [
              "Array([[1.        , 0.        , 0.        , 0.        ],\n",
              "       [0.5       , 0.5       , 0.        , 0.        ],\n",
              "       [0.33333334, 0.33333334, 0.33333334, 0.        ],\n",
              "       [0.25      , 0.25      , 0.25      , 0.25      ]], dtype=float32)"
            ]
          },
          "metadata": {},
          "execution_count": 130
        }
      ]
    },
    {
      "cell_type": "code",
      "source": [
        "# Putting together the bow attention calculation using matmul\n",
        "def bow_attention_matmul(x: jnp.array, T: int, C: int):\n",
        "  tril = jnp.tril(jnp.ones(shape=(T, T)))\n",
        "  wei = tril/jnp.sum(tril, axis=1, keepdims=True)\n",
        "\n",
        "  return jnp.dot(wei, x)\n"
      ],
      "metadata": {
        "id": "D2za5ZmdE9fu"
      },
      "execution_count": 131,
      "outputs": []
    },
    {
      "cell_type": "code",
      "source": [
        "bow_attention_matmul(x, T, C)"
      ],
      "metadata": {
        "id": "0P96Sm6qXHfi",
        "outputId": "c922c8bb-b73f-47cd-add3-0a3ed0a16028",
        "colab": {
          "base_uri": "https://localhost:8080/"
        }
      },
      "execution_count": 134,
      "outputs": [
        {
          "output_type": "execute_result",
          "data": {
            "text/plain": [
              "Array([[ 0.2628779 , -0.1837252 ],\n",
              "       [ 0.3230961 , -0.17276517],\n",
              "       [ 0.7149532 ,  0.25391656],\n",
              "       [ 0.8246096 ,  0.43235093]], dtype=float32)"
            ]
          },
          "metadata": {},
          "execution_count": 134
        }
      ]
    },
    {
      "cell_type": "markdown",
      "source": [
        "## NanoGPT"
      ],
      "metadata": {
        "id": "-_JsJ5hoKQ-w"
      }
    },
    {
      "cell_type": "code",
      "source": [
        "from dataclasses import dataclass\n",
        "from functools import partial\n",
        "import pickle\n",
        "\n",
        "import jax\n",
        "import jax.numpy as jnp\n",
        "\n",
        "import flax.linen as nn\n",
        "from flax.training import train_state\n",
        "from flax import serialization\n",
        "\n",
        "import optax\n",
        "\n",
        "\n",
        "@dataclass\n",
        "class Config():\n",
        "    seed = 42\n",
        "    num_iterations = 20000\n",
        "    batch_size = 512\n",
        "    block_size = 64\n",
        "    learning_rate = 1e-4\n",
        "    embed_size = 256\n",
        "    num_heads = 8\n",
        "    head_size = 32\n",
        "    num_layers = 6\n",
        "    dropout = 0.2\n",
        "\n",
        "config = Config()\n",
        "\n",
        "with open(\"input.txt\", \"r\", encoding=\"utf-8\") as f:\n",
        "    text = f.read()\n",
        "\n",
        "chars = sorted(list(set(text)))\n",
        "vocab_size = len(chars)\n",
        "\n",
        "# create a mapping from characters to integers\n",
        "stoi = {ch:i for i,ch in enumerate(chars)}\n",
        "itos = {i:ch for i,ch in enumerate(chars)}\n",
        "encode = lambda s: [stoi[c] for c in s] # encoder: take a string, output a list of integers\n",
        "decode = lambda l: \"\".join([itos[i] for i in l]) # decoder: take a list of integers, output a string\n",
        "\n",
        "# Let's now split up the data into train and validation sets\n",
        "data = jnp.array(encode(text))\n",
        "n = int(0.9*len(data)) # first 90% will be train, rest val\n",
        "train_data = data[:n]\n",
        "eval_data = data[n:]\n",
        "\n",
        "dynamic_slice_vmap = jax.vmap(jax.lax.dynamic_slice, in_axes=(None, 0, None))\n",
        "\n",
        "@jax.jit\n",
        "def get_batch(random_key, data):\n",
        "    # generate a small batch of data of inputs x and targets y\n",
        "    ix = jax.random.randint(random_key, shape=(config.batch_size, 1), minval=0, maxval=len(data)-config.block_size)\n",
        "    x = dynamic_slice_vmap(data, ix, (config.block_size,))\n",
        "    y = dynamic_slice_vmap(data, ix+1, (config.block_size,))\n",
        "    return x, y"
      ],
      "metadata": {
        "id": "GXp557EPKSwd",
        "colab": {
          "base_uri": "https://localhost:8080/",
          "height": 245
        },
        "outputId": "be6910d3-c513-4b6b-e9f7-08dc881f3bc8"
      },
      "execution_count": 3,
      "outputs": [
        {
          "output_type": "error",
          "ename": "FileNotFoundError",
          "evalue": "[Errno 2] No such file or directory: 'input.txt'",
          "traceback": [
            "\u001b[0;31m---------------------------------------------------------------------------\u001b[0m",
            "\u001b[0;31mFileNotFoundError\u001b[0m                         Traceback (most recent call last)",
            "\u001b[0;32m<ipython-input-3-0c1a92bcba1e>\u001b[0m in \u001b[0;36m<cell line: 30>\u001b[0;34m()\u001b[0m\n\u001b[1;32m     28\u001b[0m \u001b[0mconfig\u001b[0m \u001b[0;34m=\u001b[0m \u001b[0mConfig\u001b[0m\u001b[0;34m(\u001b[0m\u001b[0;34m)\u001b[0m\u001b[0;34m\u001b[0m\u001b[0;34m\u001b[0m\u001b[0m\n\u001b[1;32m     29\u001b[0m \u001b[0;34m\u001b[0m\u001b[0m\n\u001b[0;32m---> 30\u001b[0;31m \u001b[0;32mwith\u001b[0m \u001b[0mopen\u001b[0m\u001b[0;34m(\u001b[0m\u001b[0;34m\"input.txt\"\u001b[0m\u001b[0;34m,\u001b[0m \u001b[0;34m\"r\"\u001b[0m\u001b[0;34m,\u001b[0m \u001b[0mencoding\u001b[0m\u001b[0;34m=\u001b[0m\u001b[0;34m\"utf-8\"\u001b[0m\u001b[0;34m)\u001b[0m \u001b[0;32mas\u001b[0m \u001b[0mf\u001b[0m\u001b[0;34m:\u001b[0m\u001b[0;34m\u001b[0m\u001b[0;34m\u001b[0m\u001b[0m\n\u001b[0m\u001b[1;32m     31\u001b[0m     \u001b[0mtext\u001b[0m \u001b[0;34m=\u001b[0m \u001b[0mf\u001b[0m\u001b[0;34m.\u001b[0m\u001b[0mread\u001b[0m\u001b[0;34m(\u001b[0m\u001b[0;34m)\u001b[0m\u001b[0;34m\u001b[0m\u001b[0;34m\u001b[0m\u001b[0m\n\u001b[1;32m     32\u001b[0m \u001b[0;34m\u001b[0m\u001b[0m\n",
            "\u001b[0;31mFileNotFoundError\u001b[0m: [Errno 2] No such file or directory: 'input.txt'"
          ]
        }
      ]
    },
    {
      "cell_type": "code",
      "source": [
        "class LayerNorm(nn.Module):\n",
        "    epsilon: float = 1e-6\n",
        "    reduction_axes = -1\n",
        "\n",
        "    @nn.compact\n",
        "    def __call__(self, x):\n",
        "        \"\"\"Applies layer normalization on the input.\"\"\"\n",
        "        # compute statistics\n",
        "        mean2 = jnp.mean(jax.lax.square(x), self.reduction_axes, keepdims=True)\n",
        "        mean = jnp.mean(x, self.reduction_axes, keepdims=True)\n",
        "        var = jnp.maximum(0., mean2 - jax.lax.square(mean))\n",
        "\n",
        "        # compute normalized inputs\n",
        "        x_norm = (x - mean) * jax.lax.rsqrt(var + self.epsilon)\n",
        "        return x_norm * self.param(\"scale\", nn.initializers.ones, x.shape[-1]) + self.param(\"bias\", nn.initializers.zeros, x.shape[-1])"
      ],
      "metadata": {
        "id": "54ZaAxlQJ__q"
      },
      "execution_count": null,
      "outputs": []
    },
    {
      "cell_type": "code",
      "source": [
        "class Attention(nn.Module):\n",
        "    head_size: int\n",
        "\n",
        "    @nn.compact\n",
        "    def __call__(self, x, training: bool):\n",
        "        key = nn.Dense(self.head_size, use_bias=False)(x)\n",
        "        query = nn.Dense(self.head_size, use_bias=False)(x)\n",
        "        value = nn.Dense(self.head_size, use_bias=False)(x)\n",
        "\n",
        "        tril = jnp.tril(jnp.ones((x.shape[-2], x.shape[-2])))\n",
        "        attention_weights = nn.softmax(jnp.where(tril == 0, -jnp.inf, query @ jnp.transpose(key, axes=(0, 2, 1))), axis=-1)\n",
        "        attention_weights = nn.Dropout(config.dropout)(attention_weights, deterministic=not training)\n",
        "        return attention_weights @ value\n",
        "\n",
        "class MultiHeadAttention(nn.Module):\n",
        "    num_heads: int\n",
        "    head_size: int\n",
        "\n",
        "    @nn.compact\n",
        "    def __call__(self, x, training: bool):\n",
        "        x = jnp.concatenate([Attention(self.head_size)(x, training) for _ in range(self.num_heads)], axis=-1)\n",
        "        return nn.Dropout(config.dropout)(nn.Dense(self.num_heads*self.head_size)(x), deterministic=not training)\n",
        "\n",
        "class FeedFoward(nn.Module):\n",
        "\n",
        "    @nn.compact\n",
        "    def __call__(self, x, training: bool):\n",
        "        return nn.Dropout(config.dropout)(nn.Dense(config.embed_size)(nn.relu(nn.Dense(4*config.embed_size)(x))), deterministic=not training)\n",
        "\n",
        "class Block(nn.Module):\n",
        "    num_heads: int\n",
        "    head_size: int\n",
        "\n",
        "    @nn.compact\n",
        "    def __call__(self, x, training: bool):\n",
        "        x = x + MultiHeadAttention(self.num_heads, self.head_size)(LayerNorm()(x), training)\n",
        "        return x + FeedFoward()(LayerNorm()(x), training)"
      ],
      "metadata": {
        "id": "u18njNd2J0Us"
      },
      "execution_count": null,
      "outputs": []
    },
    {
      "cell_type": "code",
      "source": [
        "class Model(nn.Module):\n",
        "    num_layers: int\n",
        "    num_heads: int\n",
        "    head_size: int\n",
        "\n",
        "    @nn.compact\n",
        "    def __call__(self, x, training: bool):\n",
        "        B, T = x.shape\n",
        "        x = nn.Embed(num_embeddings=vocab_size, features=config.embed_size)(x) + \\\n",
        "            nn.Embed(num_embeddings=config.block_size, features=config.embed_size)(jnp.arange(T))\n",
        "        for _ in range(self.num_layers):\n",
        "            x = Block(self.num_heads, self.head_size)(x, training)\n",
        "        x = nn.LayerNorm()(x)\n",
        "        return nn.Dense(vocab_size)(x)\n",
        "\n",
        "    def generate(self, random_key, params, context, length=50):\n",
        "        for _ in range(length):\n",
        "            logits = self.apply(params, context[:, -config.block_size:], training=False)\n",
        "            random_key, random_subkey = jax.random.split(random_key)\n",
        "            new_token = jax.random.categorical(random_subkey, logits[:, -1, :], axis=-1, shape=(1, 1))\n",
        "            context = jnp.concatenate([context, new_token], axis=1)\n",
        "        return context\n",
        "\n",
        "    @partial(jax.jit, static_argnames=(\"self\", \"length\"))\n",
        "    def generate_jit(self, random_key, params, length):\n",
        "        def scan_generate(carry, x):\n",
        "            key, context = carry\n",
        "            logits = self.apply(params, context, training=False)\n",
        "            random_key, random_subkey = jax.random.split(key)\n",
        "            new_token = jax.random.categorical(random_subkey, logits[:, -1, :], axis=-1, shape=(1, 1))\n",
        "            context = jnp.concatenate([context[:, 1:], new_token], axis=1)\n",
        "            return (random_key, context), new_token\n",
        "\n",
        "        _, new_tokens = jax.lax.scan(\n",
        "            scan_generate,\n",
        "            (random_key, jnp.zeros((1, config.block_size), dtype=jnp.int32)),\n",
        "            (),\n",
        "            length=length,\n",
        "        )\n",
        "        return new_tokens"
      ],
      "metadata": {
        "id": "TrHBW_n2KDrD"
      },
      "execution_count": null,
      "outputs": []
    },
    {
      "cell_type": "code",
      "source": [
        "class TrainState(train_state.TrainState):\n",
        "  key: jax.random.KeyArray\n",
        "\n",
        "def create_train_state(random_key, config):\n",
        "    model = Model(num_layers=config.num_layers, num_heads=config.num_heads, head_size=config.head_size)\n",
        "    params = model.init(random_key, jnp.ones((config.batch_size, config.block_size), dtype=jnp.int32), training=False)\n",
        "    tx = optax.adamw(config.learning_rate)\n",
        "    return TrainState.create(\n",
        "        apply_fn=model.apply, params=params, key=random_key, tx=tx)\n",
        "\n",
        "@jax.jit\n",
        "def train_step(state, x, y, dropout_key):\n",
        "    dropout_key = jax.random.fold_in(key=dropout_key, data=state.step)\n",
        "    def loss_fn(params):\n",
        "        logits = state.apply_fn(params, x, training=True, rngs={'dropout': dropout_key})\n",
        "        one_hot_encoded_labels = jax.nn.one_hot(y, num_classes=vocab_size)\n",
        "        return optax.softmax_cross_entropy(\n",
        "            logits=logits, labels=one_hot_encoded_labels\n",
        "        ).mean()\n",
        "\n",
        "    loss, grads = jax.value_and_grad(loss_fn)(state.params)\n",
        "    state = state.apply_gradients(grads=grads)\n",
        "\n",
        "    return state, loss\n",
        "\n",
        "@jax.jit\n",
        "def eval_step(state, x, y):\n",
        "    logits = state.apply_fn(state.params, x, training=False)\n",
        "    one_hot_encoded_labels = jax.nn.one_hot(y, num_classes=vocab_size)\n",
        "    return optax.softmax_cross_entropy(\n",
        "        logits=logits, labels=one_hot_encoded_labels\n",
        "    ).mean()\n",
        "\n",
        "random_key = jax.random.PRNGKey(config.seed)\n",
        "random_key, random_subkey = jax.random.split(random_key)\n",
        "\n",
        "state = create_train_state(random_subkey, config)\n",
        "for i in range(config.num_iterations):\n",
        "    random_key, random_subkey = jax.random.split(random_key)\n",
        "    state, loss = train_step(state, *get_batch(random_subkey, train_data), random_subkey)\n",
        "\n",
        "    if i % 100 == 0:\n",
        "        random_key, random_subkey = jax.random.split(random_key)\n",
        "        print(f\"Step: {i}\\t train loss: {loss}\\t eval loss: {eval_step(state, *get_batch(random_subkey, eval_data))}\")\n",
        "\n",
        "params_state_dict = serialization.to_state_dict(state.params)\n",
        "with open(\"./outputs/params.pickle\", \"wb\") as params_file:\n",
        "    pickle.dump(params_state_dict, params_file)"
      ],
      "metadata": {
        "id": "RAj1yJO3KH10"
      },
      "execution_count": null,
      "outputs": []
    }
  ]
}