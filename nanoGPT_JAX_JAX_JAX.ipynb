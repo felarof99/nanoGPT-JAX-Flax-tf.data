{
  "nbformat": 4,
  "nbformat_minor": 0,
  "metadata": {
    "colab": {
      "provenance": [],
      "gpuType": "T4"
    },
    "kernelspec": {
      "name": "python3",
      "display_name": "Python 3"
    },
    "language_info": {
      "name": "python"
    },
    "accelerator": "GPU"
  },
  "cells": [
    {
      "cell_type": "markdown",
      "source": [
        "<h1>Install dependencies for CPU</h1>"
      ],
      "metadata": {
        "id": "16WhNG98gurS"
      }
    },
    {
      "cell_type": "code",
      "execution_count": 4,
      "metadata": {
        "id": "6427RRkAbysU",
        "colab": {
          "base_uri": "https://localhost:8080/"
        },
        "outputId": "60fb0375-2caf-4e52-c296-f0d0ef5badc2"
      },
      "outputs": [
        {
          "output_type": "stream",
          "name": "stdout",
          "text": [
            "--2024-02-04 22:30:02--  https://raw.githubusercontent.com/karpathy/char-rnn/master/data/tinyshakespeare/input.txt\n",
            "Resolving raw.githubusercontent.com (raw.githubusercontent.com)... 185.199.108.133, 185.199.109.133, 185.199.110.133, ...\n",
            "Connecting to raw.githubusercontent.com (raw.githubusercontent.com)|185.199.108.133|:443... connected.\n",
            "HTTP request sent, awaiting response... 200 OK\n",
            "Length: 1115394 (1.1M) [text/plain]\n",
            "Saving to: ‘input.txt.1’\n",
            "\n",
            "\rinput.txt.1           0%[                    ]       0  --.-KB/s               \rinput.txt.1         100%[===================>]   1.06M  --.-KB/s    in 0.04s   \n",
            "\n",
            "2024-02-04 22:30:02 (29.5 MB/s) - ‘input.txt.1’ saved [1115394/1115394]\n",
            "\n"
          ]
        }
      ],
      "source": [
        "# We always start with a dataset to train on. Let's download the tiny shakespeare dataset\n",
        "!wget https://raw.githubusercontent.com/karpathy/char-rnn/master/data/tinyshakespeare/input.txt"
      ]
    },
    {
      "cell_type": "code",
      "source": [
        "# !pip install -q --upgrade pip # To support manylinux2010 wheels.\n",
        "# !pip install -q --upgrade jax jaxlib # CPU-only\n",
        "# !pip install -q --upgrade jaxtyping\n",
        "# !pip install -q --upgrade flax"
      ],
      "metadata": {
        "id": "5qQHP7SGLTlT"
      },
      "execution_count": 5,
      "outputs": []
    },
    {
      "cell_type": "code",
      "source": [
        "from typing import List, Dict, Mapping, Tuple\n",
        "\n",
        "import jax\n",
        "import jax.numpy as jnp\n",
        "import jax.random as jrand\n",
        "import flax.linen as nn\n",
        "from flax.training import train_state  # Useful dataclass to keep train state\n",
        "import optax\n",
        "import tensorflow as tf\n",
        "import pdb\n",
        "\n",
        "def println(*args):\n",
        "  for arg in args:\n",
        "    print(arg)\n"
      ],
      "metadata": {
        "id": "OZqEXlfmfuwo"
      },
      "execution_count": 6,
      "outputs": []
    },
    {
      "cell_type": "markdown",
      "source": [
        "# Dataset pipeline"
      ],
      "metadata": {
        "id": "TeccUW1zg-V-"
      }
    },
    {
      "cell_type": "code",
      "source": [
        "with open('input.txt', 'r', encoding='utf-8') as f:\n",
        "    text = f.read()\n",
        "\n",
        "# Create chars vocubulary using all the unique characters in the text.\n",
        "chars = sorted(list(set(text)))\n",
        "VOCAB_SIZE = len(chars)\n",
        "\n",
        "# Create mapping from characters to integers.\n",
        "stoi = {ch: i for i, ch in enumerate(chars)}\n",
        "\n",
        "# Create reverse mapping from integers to characters.\n",
        "itos = {i: ch for i, ch in enumerate(chars)}\n",
        "\n",
        "# Create encode, decode function.\n",
        "def encode(s: str, stoi: Mapping[str, int]) -> List[int]:\n",
        "  return [stoi[c] for c in s]\n",
        "\n",
        "def decode(tokens: List[int], itos: Mapping[int, str]) -> str:\n",
        "  return ''.join([itos[i] for i in tokens])\n",
        "\n",
        "println(encode(\"hii there\", stoi), decode(encode(\"hii there\", stoi), itos))\n",
        "\n",
        "# Let's now split up the data into train and validation sets.\n",
        "data = jnp.array(encode(text, stoi), dtype=jnp.int64)\n",
        "n = int(0.9*len(data))\n",
        "train_data = data[:n]\n",
        "val_data = data[n:]\n",
        "\n",
        "# Below would result in a minibatch size of 32.\n",
        "BATCH_SIZE = 4 # how many independent sequences will we process in parallel?\n",
        "BLOCK_SIZE = 8 # what is the maximum context length for predictions?\n",
        "\n",
        "train_dataset = (tf.data.Dataset.from_tensor_slices(train_data)\n",
        "                .batch(BLOCK_SIZE+1)\n",
        "                .map(lambda input: (input[:BLOCK_SIZE], input[1:BLOCK_SIZE+1]),\n",
        "                     num_parallel_calls=tf.data.AUTOTUNE)\n",
        "                .batch(BATCH_SIZE)\n",
        "                .repeat()\n",
        "                .as_numpy_iterator())\n",
        "val_dataset = (tf.data.Dataset.from_tensor_slices(val_data)\n",
        "                .batch(BLOCK_SIZE+1)\n",
        "                .map(lambda input: (input[:BLOCK_SIZE], input[1:BLOCK_SIZE+1]),\n",
        "                     num_parallel_calls=tf.data.AUTOTUNE)\n",
        "                .batch(BATCH_SIZE)\n",
        "                .repeat()\n",
        "                .as_numpy_iterator())\n",
        "\n",
        "def get_batch(training: bool = True):\n",
        "  if not training:\n",
        "    val_batch = next(val_dataset)\n",
        "    return jnp.array(val_batch)\n",
        "\n",
        "  train_batch = next(train_dataset)\n",
        "  return jnp.array(train_batch)"
      ],
      "metadata": {
        "colab": {
          "base_uri": "https://localhost:8080/"
        },
        "id": "jYycQ8ocg2sy",
        "outputId": "6221e4a9-8d12-44fd-8504-dd4b2a4b04b1"
      },
      "execution_count": 7,
      "outputs": [
        {
          "output_type": "stream",
          "name": "stdout",
          "text": [
            "[46, 47, 47, 1, 58, 46, 43, 56, 43]\n",
            "hii there\n"
          ]
        },
        {
          "output_type": "stream",
          "name": "stderr",
          "text": [
            "<ipython-input-7-560c18dc3230>:24: UserWarning: Explicitly requested dtype <class 'jax.numpy.int64'> requested in array is not available, and will be truncated to dtype int32. To enable more dtypes, set the jax_enable_x64 configuration option or the JAX_ENABLE_X64 shell environment variable. See https://github.com/google/jax#current-gotchas for more.\n",
            "  data = jnp.array(encode(text, stoi), dtype=jnp.int64)\n"
          ]
        }
      ]
    },
    {
      "cell_type": "markdown",
      "source": [
        "### Test dataset pipeline"
      ],
      "metadata": {
        "id": "sTAGaeSwXeG8"
      }
    },
    {
      "cell_type": "code",
      "source": [
        "xb, yb = get_batch()\n",
        "println(\"inputs\", xb, \"inputs shape\", xb.shape)\n",
        "println(\"targets\", yb, \"targets shape\", yb.shape)\n",
        "for b in range(BATCH_SIZE): # batch dimension\n",
        "    for t in range(BLOCK_SIZE): # time dimension\n",
        "        context = xb[b, :t+1]\n",
        "        target = yb[b,t]\n",
        "        print(f\"when input is {context.tolist()} the target: {target}\")"
      ],
      "metadata": {
        "colab": {
          "base_uri": "https://localhost:8080/"
        },
        "id": "3YTqHDylg6cY",
        "outputId": "57443827-89b1-433b-ede1-bdc760c1e058"
      },
      "execution_count": 8,
      "outputs": [
        {
          "output_type": "stream",
          "name": "stdout",
          "text": [
            "inputs\n",
            "[[18 47 56 57 58  1 15 47]\n",
            " [47 64 43 52 10  0 14 43]\n",
            " [53 56 43  1 61 43  1 54]\n",
            " [53 41 43 43 42  1 39 52]]\n",
            "inputs shape\n",
            "(4, 8)\n",
            "targets\n",
            "[[47 56 57 58  1 15 47 58]\n",
            " [64 43 52 10  0 14 43 44]\n",
            " [56 43  1 61 43  1 54 56]\n",
            " [41 43 43 42  1 39 52 63]]\n",
            "targets shape\n",
            "(4, 8)\n",
            "when input is [18] the target: 47\n",
            "when input is [18, 47] the target: 56\n",
            "when input is [18, 47, 56] the target: 57\n",
            "when input is [18, 47, 56, 57] the target: 58\n",
            "when input is [18, 47, 56, 57, 58] the target: 1\n",
            "when input is [18, 47, 56, 57, 58, 1] the target: 15\n",
            "when input is [18, 47, 56, 57, 58, 1, 15] the target: 47\n",
            "when input is [18, 47, 56, 57, 58, 1, 15, 47] the target: 58\n",
            "when input is [47] the target: 64\n",
            "when input is [47, 64] the target: 43\n",
            "when input is [47, 64, 43] the target: 52\n",
            "when input is [47, 64, 43, 52] the target: 10\n",
            "when input is [47, 64, 43, 52, 10] the target: 0\n",
            "when input is [47, 64, 43, 52, 10, 0] the target: 14\n",
            "when input is [47, 64, 43, 52, 10, 0, 14] the target: 43\n",
            "when input is [47, 64, 43, 52, 10, 0, 14, 43] the target: 44\n",
            "when input is [53] the target: 56\n",
            "when input is [53, 56] the target: 43\n",
            "when input is [53, 56, 43] the target: 1\n",
            "when input is [53, 56, 43, 1] the target: 61\n",
            "when input is [53, 56, 43, 1, 61] the target: 43\n",
            "when input is [53, 56, 43, 1, 61, 43] the target: 1\n",
            "when input is [53, 56, 43, 1, 61, 43, 1] the target: 54\n",
            "when input is [53, 56, 43, 1, 61, 43, 1, 54] the target: 56\n",
            "when input is [53] the target: 41\n",
            "when input is [53, 41] the target: 43\n",
            "when input is [53, 41, 43] the target: 43\n",
            "when input is [53, 41, 43, 43] the target: 42\n",
            "when input is [53, 41, 43, 43, 42] the target: 1\n",
            "when input is [53, 41, 43, 43, 42, 1] the target: 39\n",
            "when input is [53, 41, 43, 43, 42, 1, 39] the target: 52\n",
            "when input is [53, 41, 43, 43, 42, 1, 39, 52] the target: 63\n"
          ]
        }
      ]
    },
    {
      "cell_type": "markdown",
      "source": [
        "# Implement Bigram Model"
      ],
      "metadata": {
        "id": "a3ozrVm0XiVN"
      }
    },
    {
      "cell_type": "code",
      "source": [
        "class BigramLangModel(nn.Module):\n",
        "  \"\"\"Reads one char and predicits the next char.\"\"\"\n",
        "  vocab_size: int\n",
        "\n",
        "  def setup(self):\n",
        "    super().setup()\n",
        "    self.token_embedding_table = nn.Embed(num_embeddings=self.vocab_size, features=self.vocab_size)\n",
        "\n",
        "  def __call__(self, inputs):\n",
        "    # Run block size inputs through embedding lookup.\n",
        "    # For each char, you get the logit predicted for that char.\n",
        "    # Then, you use the target token for that input and do a cross_entropy_loss.\n",
        "    logits = self.token_embedding_table(inputs)\n",
        "    return logits"
      ],
      "metadata": {
        "id": "2eyyiNsw_YL-"
      },
      "execution_count": 9,
      "outputs": []
    },
    {
      "cell_type": "markdown",
      "source": [
        "## I'll make the flax model accept\n",
        "`[block size worth tokens, token]`\n",
        "\n",
        "## I'll then use vmap to make the model accept batches of data.\n",
        "`[batch dim, block size worth of tokens, token]`"
      ],
      "metadata": {
        "id": "bLZdjG6cVxij"
      }
    },
    {
      "cell_type": "code",
      "source": [
        "sample_input_row = jnp.ones(shape=[1, 1], dtype=jnp.int32)\n",
        "sample_input_row"
      ],
      "metadata": {
        "colab": {
          "base_uri": "https://localhost:8080/"
        },
        "id": "FkxBwwipK6Yc",
        "outputId": "28508458-843a-41c1-bb51-04a505e4a696"
      },
      "execution_count": 10,
      "outputs": [
        {
          "output_type": "execute_result",
          "data": {
            "text/plain": [
              "Array([[1]], dtype=int32)"
            ]
          },
          "metadata": {},
          "execution_count": 10
        }
      ]
    },
    {
      "cell_type": "code",
      "source": [
        "model = BigramLangModel(vocab_size=65)\n",
        "output, params = model.init_with_output(jrand.PRNGKey(99), sample_input_row)\n",
        "params = params[\"params\"]"
      ],
      "metadata": {
        "id": "dtb3A3KFCgF8"
      },
      "execution_count": 11,
      "outputs": []
    },
    {
      "cell_type": "markdown",
      "source": [
        "## Make the model accepts batch of data\n",
        "`[batch, block of tokens, token_ids]`\n",
        "\n",
        "## To make it accept a batch, you need to use vmap."
      ],
      "metadata": {
        "id": "n0GfZYSQRE93"
      }
    },
    {
      "cell_type": "code",
      "source": [
        "model_apply_batch = jax.vmap(model.apply, in_axes=(None, 0), out_axes=(0))"
      ],
      "metadata": {
        "id": "nu8eFbAURSOy"
      },
      "execution_count": 12,
      "outputs": []
    },
    {
      "cell_type": "code",
      "source": [
        "# model_apply_batch will accept\n",
        "# [batch, block of tokens, token ids]"
      ],
      "metadata": {
        "id": "eHo-zsVlWxNl"
      },
      "execution_count": 13,
      "outputs": []
    },
    {
      "cell_type": "markdown",
      "source": [
        "## Sample forward pass, loss and backward pass."
      ],
      "metadata": {
        "id": "BPYIijJYDSV6"
      }
    },
    {
      "cell_type": "code",
      "source": [
        "batch = get_batch()\n",
        "inputs, targets = batch\n",
        "println(\"inputs\", inputs, inputs.shape, \"targets\", targets.shape)"
      ],
      "metadata": {
        "id": "x9UFVRpPDeZI",
        "outputId": "377b357e-f53d-4dc3-8602-07c7e162facb",
        "colab": {
          "base_uri": "https://localhost:8080/"
        }
      },
      "execution_count": 14,
      "outputs": [
        {
          "output_type": "stream",
          "name": "stdout",
          "text": [
            "inputs\n",
            "[[ 1 44 59 56 58 46 43 56]\n",
            " [ 1 46 43 39 56  1 51 43]\n",
            " [57 54 43 39 49  8  0  0]\n",
            " [50 50 10  0 31 54 43 39]]\n",
            "(4, 8)\n",
            "targets\n",
            "(4, 8)\n"
          ]
        }
      ]
    },
    {
      "cell_type": "code",
      "source": [
        "output = model_apply_batch({\"params\": params}, inputs)"
      ],
      "metadata": {
        "id": "JNlkzt-IRr5O"
      },
      "execution_count": 15,
      "outputs": []
    },
    {
      "cell_type": "code",
      "source": [
        "# output should shape [4, 8, 65]\n",
        "# batch size = 4\n",
        "# block of tokens = 8\n",
        "# token_id to embedding = 65\n",
        "\n",
        "output.shape"
      ],
      "metadata": {
        "colab": {
          "base_uri": "https://localhost:8080/"
        },
        "id": "EiE6Yl0QXFml",
        "outputId": "da7f0752-d51d-444c-d71c-c836fd3f2670"
      },
      "execution_count": 16,
      "outputs": [
        {
          "output_type": "execute_result",
          "data": {
            "text/plain": [
              "(4, 8, 65)"
            ]
          },
          "metadata": {},
          "execution_count": 16
        }
      ]
    },
    {
      "cell_type": "code",
      "source": [
        "# To do backward pass, you first need to compute grads.\n",
        "# In JAX, you use jax.grad to do a function transformation on the forward\n",
        "# function to get the gradient of the original function.\n",
        "# The grad is calculate wrt to the first param in the function.\n",
        "def forward_pass(params, batch):\n",
        "  inputs, targets = batch\n",
        "  logits = model_apply_batch({\"params\": params}, inputs)\n",
        "  loss = optax.softmax_cross_entropy_with_integer_labels(logits, targets)\n",
        "  loss = loss.mean()\n",
        "  return loss"
      ],
      "metadata": {
        "id": "09vAczHeGDis"
      },
      "execution_count": 17,
      "outputs": []
    },
    {
      "cell_type": "code",
      "source": [
        "# Test forward pass.\n",
        "batch = get_batch()\n",
        "forward_pass(params=params, batch=batch)"
      ],
      "metadata": {
        "colab": {
          "base_uri": "https://localhost:8080/"
        },
        "id": "KCh6wzoHYWDm",
        "outputId": "5e858031-4014-4123-f6f2-37be16a776c5"
      },
      "execution_count": 18,
      "outputs": [
        {
          "output_type": "execute_result",
          "data": {
            "text/plain": [
              "Array(4.188369, dtype=float32)"
            ]
          },
          "metadata": {},
          "execution_count": 18
        }
      ]
    },
    {
      "cell_type": "code",
      "source": [
        "grad_fn = jax.value_and_grad(forward_pass, argnums=(0))  # differentiate wrt 0th pos argument."
      ],
      "metadata": {
        "id": "lJnYF1OtGzPq"
      },
      "execution_count": 19,
      "outputs": []
    },
    {
      "cell_type": "code",
      "source": [
        "# Test forward pass and grads.\n",
        "# Grads would be the gradients for params.\n",
        "loss, grads = grad_fn(params, batch)\n",
        "println(\"loss\", loss, \"grads\", grads)"
      ],
      "metadata": {
        "id": "o3XKCpCJHQip",
        "outputId": "5187ece7-8042-4afb-ea6b-2a6c00394eb8",
        "colab": {
          "base_uri": "https://localhost:8080/"
        }
      },
      "execution_count": 20,
      "outputs": [
        {
          "output_type": "stream",
          "name": "stdout",
          "text": [
            "loss\n",
            "4.188369\n",
            "grads\n",
            "{'token_embedding_table': {'embedding': Array([[0.00103511, 0.00097044, 0.00093559, ..., 0.00089521, 0.001064  ,\n",
            "        0.00093856],\n",
            "       [0.00203619, 0.00209828, 0.00198735, ..., 0.00196691, 0.00215726,\n",
            "        0.00207174],\n",
            "       [0.        , 0.        , 0.        , ..., 0.        , 0.        ,\n",
            "        0.        ],\n",
            "       ...,\n",
            "       [0.        , 0.        , 0.        , ..., 0.        , 0.        ,\n",
            "        0.        ],\n",
            "       [0.        , 0.        , 0.        , ..., 0.        , 0.        ,\n",
            "        0.        ],\n",
            "       [0.00040068, 0.00039527, 0.00040171, ..., 0.00042136, 0.00055311,\n",
            "        0.00042526]], dtype=float32)}}\n"
          ]
        }
      ]
    },
    {
      "cell_type": "code",
      "source": [
        "# Apply grads to params to get new params.\n",
        "lr = 0.001\n",
        "println(\"params before:\", params)\n",
        "params = jax.tree_map(lambda p, g: p - lr * g, params, grads)\n",
        "println(\"params after:\", params)"
      ],
      "metadata": {
        "id": "qLHB0BpQHfI1",
        "outputId": "a8ff5388-ff1a-4428-c12a-f08cb6ff1921",
        "colab": {
          "base_uri": "https://localhost:8080/"
        }
      },
      "execution_count": 21,
      "outputs": [
        {
          "output_type": "stream",
          "name": "stdout",
          "text": [
            "params before:\n",
            "{'token_embedding_table': {'embedding': Array([[ 0.0752212 ,  0.01071652, -0.02585994, ..., -0.06997449,\n",
            "         0.10274917, -0.0226865 ],\n",
            "       [ 0.09400459,  0.12404279,  0.06972364, ...,  0.0593865 ,\n",
            "         0.1517611 ,  0.11131445],\n",
            "       [-0.0302137 , -0.07326671, -0.2515272 , ...,  0.20769818,\n",
            "         0.01281604,  0.03134193],\n",
            "       ...,\n",
            "       [-0.1394756 , -0.00640967, -0.07666602, ..., -0.2944119 ,\n",
            "         0.1187517 , -0.08573762],\n",
            "       [ 0.05703759, -0.11280773,  0.2570641 , ..., -0.02059634,\n",
            "        -0.02818088,  0.13305528],\n",
            "       [-0.12428083, -0.13785616, -0.12170236, ..., -0.07394623,\n",
            "         0.19811267, -0.06473607]], dtype=float32)}}\n",
            "params after:\n",
            "{'token_embedding_table': {'embedding': Array([[ 0.07522016,  0.01071555, -0.02586087, ..., -0.06997538,\n",
            "         0.1027481 , -0.02268744],\n",
            "       [ 0.09400256,  0.12404069,  0.06972165, ...,  0.05938453,\n",
            "         0.15175894,  0.11131237],\n",
            "       [-0.0302137 , -0.07326671, -0.2515272 , ...,  0.20769818,\n",
            "         0.01281604,  0.03134193],\n",
            "       ...,\n",
            "       [-0.1394756 , -0.00640967, -0.07666602, ..., -0.2944119 ,\n",
            "         0.1187517 , -0.08573762],\n",
            "       [ 0.05703759, -0.11280773,  0.2570641 , ..., -0.02059634,\n",
            "        -0.02818088,  0.13305528],\n",
            "       [-0.12428124, -0.13785656, -0.12170276, ..., -0.07394665,\n",
            "         0.19811212, -0.06473649]], dtype=float32)}}\n"
          ]
        }
      ]
    },
    {
      "cell_type": "markdown",
      "source": [
        "# Writing train step in flax\n",
        "## copy-pasting everything at one place and running a train step."
      ],
      "metadata": {
        "id": "LKPwDOFmIaSE"
      }
    },
    {
      "cell_type": "code",
      "source": [
        "class BigramLangModel(nn.Module):\n",
        "  \"\"\"Reads one char and predicits the next char.\"\"\"\n",
        "  vocab_size: int\n",
        "\n",
        "  def setup(self):\n",
        "    super().setup()\n",
        "    self.token_embedding_table = nn.Embed(num_embeddings=self.vocab_size, features=self.vocab_size)\n",
        "\n",
        "  def __call__(self, inputs):\n",
        "    # Run block size inputs through embedding lookup.\n",
        "    # For each char, you get the logit predicted for that char.\n",
        "    # Then, you use the target token for that input and do a cross_entropy_loss.\n",
        "    logits = self.token_embedding_table(inputs)\n",
        "    return logits\n",
        "\n",
        "model = BigramLangModel(vocab_size=65)\n",
        "\n",
        "sample_input_row = jnp.ones(shape=[1, 1], dtype=jnp.int32)\n",
        "output, params = model.init_with_output(jrand.PRNGKey(99), sample_input_row)\n",
        "params = params[\"params\"]\n",
        "\n",
        "model_apply_batch = jax.vmap(model.apply, in_axes=(None, 0), out_axes=(0))\n",
        "\n",
        "def forward_pass(params, state, batch):\n",
        "  inputs, targets = batch\n",
        "  logits = state.apply_fn({\"params\": params}, inputs)\n",
        "  loss = optax.softmax_cross_entropy_with_integer_labels(logits, targets)\n",
        "  loss = loss.mean()\n",
        "  return loss\n",
        "\n",
        "grad_fn = jax.value_and_grad(forward_pass, argnums=(0))  # differentiate wrt 0th pos argument.\n",
        "\n",
        "opt = optax.adam(learning_rate=0.001)\n",
        "state = train_state.TrainState.create(apply_fn=model_apply_batch, params=params, tx=opt)\n",
        "\n",
        "for epoch in range(1000):\n",
        "  batch = get_batch()\n",
        "  loss, grads = grad_fn(state.params, state, batch)\n",
        "  print(loss) if epoch%100==0 else None\n",
        "  state = state.apply_gradients(grads=grads)"
      ],
      "metadata": {
        "colab": {
          "base_uri": "https://localhost:8080/"
        },
        "id": "gtzCS8NzMJx9",
        "outputId": "6fa82f39-e7cc-4ca8-f01b-f003db3599d3"
      },
      "execution_count": 22,
      "outputs": [
        {
          "output_type": "stream",
          "name": "stdout",
          "text": [
            "4.1769814\n",
            "4.093553\n",
            "4.0517178\n",
            "3.9815784\n",
            "3.955411\n",
            "3.8293285\n",
            "3.7160275\n",
            "3.7963347\n",
            "3.7700095\n",
            "3.5433385\n"
          ]
        }
      ]
    },
    {
      "cell_type": "markdown",
      "source": [
        "# Implement code for generating tokens"
      ],
      "metadata": {
        "id": "Bze9wctCbxls"
      }
    },
    {
      "cell_type": "code",
      "source": [
        "input_token = \"n\"\n",
        "encode(input_token, stoi)\n"
      ],
      "metadata": {
        "colab": {
          "base_uri": "https://localhost:8080/"
        },
        "id": "h2BUBirGMWo6",
        "outputId": "25082c39-04a5-4a8b-a78f-a05972b20afe"
      },
      "execution_count": 23,
      "outputs": [
        {
          "output_type": "execute_result",
          "data": {
            "text/plain": [
              "[52]"
            ]
          },
          "metadata": {},
          "execution_count": 23
        }
      ]
    },
    {
      "cell_type": "code",
      "source": [
        "input_token = jnp.array([[52]], dtype=jnp.int32)\n",
        "input_token.shape"
      ],
      "metadata": {
        "colab": {
          "base_uri": "https://localhost:8080/"
        },
        "id": "8p4A99r1NKx-",
        "outputId": "f856a1d6-a039-4d38-b57f-85eec140b839"
      },
      "execution_count": 24,
      "outputs": [
        {
          "output_type": "execute_result",
          "data": {
            "text/plain": [
              "(1, 1)"
            ]
          },
          "metadata": {},
          "execution_count": 24
        }
      ]
    },
    {
      "cell_type": "code",
      "source": [
        "next_token_logit = state.apply_fn({\"params\": state.params}, input_token)"
      ],
      "metadata": {
        "id": "cJwJPnIlNSEP"
      },
      "execution_count": 25,
      "outputs": []
    },
    {
      "cell_type": "code",
      "source": [
        "next_token_logit"
      ],
      "metadata": {
        "colab": {
          "base_uri": "https://localhost:8080/"
        },
        "id": "Df1oFKh9N4oj",
        "outputId": "be44059b-730c-47c0-e7d3-db552caac11f"
      },
      "execution_count": 26,
      "outputs": [
        {
          "output_type": "execute_result",
          "data": {
            "text/plain": [
              "Array([[[-0.03682718,  0.3873823 , -0.6297037 , -0.49402413,\n",
              "         -0.5302313 , -0.06883954,  0.02130109, -0.38699383,\n",
              "          0.05293135, -0.67822653,  0.04108687, -0.17033677,\n",
              "         -0.21989107, -0.664077  , -0.5178356 , -0.8944765 ,\n",
              "         -0.47879392, -0.6437434 , -0.8325122 , -0.8247406 ,\n",
              "         -0.7639986 , -0.6349938 , -0.58913904, -0.71123016,\n",
              "         -0.6316706 , -0.8322299 , -0.61255544, -0.8065904 ,\n",
              "         -0.6916736 , -0.7578409 , -0.77268964, -0.66586775,\n",
              "         -0.48679668, -0.6974697 , -0.5410919 , -0.86016047,\n",
              "         -0.7141595 , -0.87438166, -0.67868704,  0.03718114,\n",
              "         -0.9563432 , -0.07171286,  0.3103663 ,  0.27640587,\n",
              "         -0.15164396,  0.25430372, -0.8608676 , -0.11117503,\n",
              "         -0.5252868 , -0.07216536,  0.02316949, -0.9069602 ,\n",
              "         -0.26114473,  0.19493026, -0.9803428 , -0.70663923,\n",
              "         -0.25509965,  0.25409326,  0.1060916 , -0.11378517,\n",
              "         -0.35723025, -0.7799293 , -0.53064156, -0.42475328,\n",
              "         -0.66108644]]], dtype=float32)"
            ]
          },
          "metadata": {},
          "execution_count": 26
        }
      ]
    },
    {
      "cell_type": "code",
      "source": [
        "init_key = jrand.PRNGKey(99)\n",
        "key, split_key = jrand.split(init_key)"
      ],
      "metadata": {
        "id": "OiIl31K0cQVj"
      },
      "execution_count": 27,
      "outputs": []
    },
    {
      "cell_type": "code",
      "source": [
        "next_to_next_token = jrand.categorical(split_key, next_token_logit)\n",
        "next_to_next_token"
      ],
      "metadata": {
        "colab": {
          "base_uri": "https://localhost:8080/"
        },
        "id": "hMY9sAsCczWf",
        "outputId": "f086ec67-ae30-4767-b2c0-8c03f44a3a69"
      },
      "execution_count": 28,
      "outputs": [
        {
          "output_type": "execute_result",
          "data": {
            "text/plain": [
              "Array([[25]], dtype=int32)"
            ]
          },
          "metadata": {},
          "execution_count": 28
        }
      ]
    },
    {
      "cell_type": "code",
      "source": [
        "decode(next_to_next_token.tolist()[0], itos)"
      ],
      "metadata": {
        "colab": {
          "base_uri": "https://localhost:8080/",
          "height": 36
        },
        "id": "7gpbNLGCc8k-",
        "outputId": "6b582117-689a-49a2-cd96-32eb07e3abab"
      },
      "execution_count": 29,
      "outputs": [
        {
          "output_type": "execute_result",
          "data": {
            "text/plain": [
              "'M'"
            ],
            "application/vnd.google.colaboratory.intrinsic+json": {
              "type": "string"
            }
          },
          "metadata": {},
          "execution_count": 29
        }
      ]
    },
    {
      "cell_type": "code",
      "source": [
        "next_to_next_to_next_logit = state.apply_fn({\"params\": state.params}, next_to_next_token)"
      ],
      "metadata": {
        "id": "9yoh9KIXdby-"
      },
      "execution_count": 30,
      "outputs": []
    },
    {
      "cell_type": "code",
      "source": [
        "key, split_key = jrand.split(key)"
      ],
      "metadata": {
        "id": "eT4SCAXidmBi"
      },
      "execution_count": 31,
      "outputs": []
    },
    {
      "cell_type": "code",
      "source": [
        "next_to_next_to_next_token = jrand.categorical(split_key, next_token_logit)\n",
        "\n",
        "next_to_next_to_next_token"
      ],
      "metadata": {
        "colab": {
          "base_uri": "https://localhost:8080/"
        },
        "id": "JE6B49q2dkNm",
        "outputId": "0b19283b-eb0d-4112-9606-1fd0e6aeca8f"
      },
      "execution_count": 32,
      "outputs": [
        {
          "output_type": "execute_result",
          "data": {
            "text/plain": [
              "Array([[59]], dtype=int32)"
            ]
          },
          "metadata": {},
          "execution_count": 32
        }
      ]
    },
    {
      "cell_type": "code",
      "source": [
        "decode(next_to_next_to_next_token.tolist()[0], itos)"
      ],
      "metadata": {
        "colab": {
          "base_uri": "https://localhost:8080/",
          "height": 36
        },
        "id": "qGbhB8K7d2B0",
        "outputId": "3e4fb05e-4ddb-48c1-9ba6-80906a8a2871"
      },
      "execution_count": 33,
      "outputs": [
        {
          "output_type": "execute_result",
          "data": {
            "text/plain": [
              "'u'"
            ],
            "application/vnd.google.colaboratory.intrinsic+json": {
              "type": "string"
            }
          },
          "metadata": {},
          "execution_count": 33
        }
      ]
    },
    {
      "cell_type": "code",
      "source": [
        "# Putting together the generate code\n",
        "\n",
        "input_token = jnp.array([[52]], dtype=jnp.int32)\n",
        "key = jrand.PRNGKey(99)\n",
        "\n",
        "result = \"\"\n",
        "for i in range(100):\n",
        "  key, split_key = jrand.split(key)\n",
        "  next_token_logit = state.apply_fn({\"params\": state.params}, input_token)\n",
        "  next_token = jrand.categorical(split_key, next_token_logit)\n",
        "  next_token_decode = decode(next_token.tolist()[0], itos)\n",
        "  result = result + next_token_decode\n",
        "\n",
        "print(result)\n",
        "\n"
      ],
      "metadata": {
        "colab": {
          "base_uri": "https://localhost:8080/"
        },
        "id": "keaylzQod6rh",
        "outputId": "492ceda6-0f4f-49cd-93ea-5399971acb5d"
      },
      "execution_count": 34,
      "outputs": [
        {
          "output_type": "stream",
          "name": "stdout",
          "text": [
            "MuTqF\n",
            "d$oMJ\n",
            " CiSOzjIftBqertiG,3gdghx,,.V,d .zbfa'$fXoeyu'l!m:oaBBQRcrEttkQm3u-r.v3LgdMVfxsx-;ga!kcPW\n"
          ]
        }
      ]
    },
    {
      "cell_type": "markdown",
      "source": [
        "# Mathematical trick in attention"
      ],
      "metadata": {
        "id": "G78p73EKNOJp"
      }
    },
    {
      "cell_type": "markdown",
      "source": [
        "## doing bag of words\n",
        "basically, in B, T, C\n",
        "at t-th token in a row of batch, just sum all the values upto t."
      ],
      "metadata": {
        "id": "vWZlcN7aNQ6f"
      }
    },
    {
      "cell_type": "code",
      "source": [
        "# Generate T, C and write code which works for T, C.\n",
        "# Then, vmap it for batch\n",
        "\n",
        "# Using tokens = 4\n",
        "# Using each token with channel = 2 to make it easy to visualize\n",
        "T, C = 4, 2\n",
        "\n",
        "key, split_key = jrand.split(jrand.PRNGKey(99))\n",
        "\n",
        "x = jrand.normal(split_key, (T, C))\n",
        "x"
      ],
      "metadata": {
        "colab": {
          "base_uri": "https://localhost:8080/"
        },
        "id": "4x3NkSoBNsTg",
        "outputId": "081e1c98-7909-46da-db25-322d8eaed07c"
      },
      "execution_count": 35,
      "outputs": [
        {
          "output_type": "execute_result",
          "data": {
            "text/plain": [
              "Array([[ 0.2628779 , -0.1837252 ],\n",
              "       [ 0.38331428, -0.16180514],\n",
              "       [ 1.4986674 ,  1.10728   ],\n",
              "       [ 1.1535788 ,  0.9676542 ]], dtype=float32)"
            ]
          },
          "metadata": {},
          "execution_count": 35
        }
      ]
    },
    {
      "cell_type": "markdown",
      "source": [
        "### version 1: using for loop"
      ],
      "metadata": {
        "id": "ZFlsH67YZqQj"
      }
    },
    {
      "cell_type": "code",
      "source": [
        "def bow_attention(x: jnp.array, T: int, C: int):\n",
        "  \"\"\"Operates on a single row within batchs\n",
        "\n",
        "    It calculates bow attention by summing all\n",
        "    token channels prev + current token channels.\n",
        "  \"\"\"\n",
        "  xbow = jnp.zeros(shape=(T, C))\n",
        "  for token in range(T):\n",
        "    xprev = x[:token]\n",
        "    xcurrent = x[token:token+1]\n",
        "\n",
        "    current_bow = jnp.mean(jnp.concatenate([xprev, xcurrent], axis=0), axis=0)\n",
        "    xbow = xbow.at[token].set(current_bow)\n",
        "  return xbow"
      ],
      "metadata": {
        "id": "jtZjg_WyS3pD"
      },
      "execution_count": 36,
      "outputs": []
    },
    {
      "cell_type": "code",
      "source": [
        "bow_attention(x, T, C)"
      ],
      "metadata": {
        "colab": {
          "base_uri": "https://localhost:8080/"
        },
        "id": "EwDgkObLJh5X",
        "outputId": "df7a8e77-786d-4532-bc81-29f91c9f9655"
      },
      "execution_count": 37,
      "outputs": [
        {
          "output_type": "execute_result",
          "data": {
            "text/plain": [
              "Array([[ 0.2628779 , -0.1837252 ],\n",
              "       [ 0.3230961 , -0.17276517],\n",
              "       [ 0.7149532 ,  0.25391656],\n",
              "       [ 0.8246096 ,  0.432351  ]], dtype=float32)"
            ]
          },
          "metadata": {},
          "execution_count": 37
        }
      ]
    },
    {
      "cell_type": "code",
      "source": [
        "# Test bow_attention using non-random tensor.\n",
        "test_numbers = jnp.arange(1, 5).reshape(-1, 1)\n",
        "test_arr = jnp.tile(test_numbers, (1, C))\n",
        "bow_attention(test_arr, T, C)"
      ],
      "metadata": {
        "id": "aDTyU_cJCQaW",
        "colab": {
          "base_uri": "https://localhost:8080/"
        },
        "outputId": "541a14d7-9a03-43d0-ebc9-d52f02d5fb4d"
      },
      "execution_count": 38,
      "outputs": [
        {
          "output_type": "execute_result",
          "data": {
            "text/plain": [
              "Array([[1. , 1. ],\n",
              "       [1.5, 1.5],\n",
              "       [2. , 2. ],\n",
              "       [2.5, 2.5]], dtype=float32)"
            ]
          },
          "metadata": {},
          "execution_count": 38
        }
      ]
    },
    {
      "cell_type": "markdown",
      "source": [
        "### version 2: Starting to write it using matmul"
      ],
      "metadata": {
        "id": "iCEfpKc4Juqy"
      }
    },
    {
      "cell_type": "code",
      "source": [
        "x"
      ],
      "metadata": {
        "colab": {
          "base_uri": "https://localhost:8080/"
        },
        "id": "aDJaLAS9JyAy",
        "outputId": "18d360eb-a8f3-4957-c9a9-65d90c23ae7e"
      },
      "execution_count": 39,
      "outputs": [
        {
          "output_type": "execute_result",
          "data": {
            "text/plain": [
              "Array([[ 0.2628779 , -0.1837252 ],\n",
              "       [ 0.38331428, -0.16180514],\n",
              "       [ 1.4986674 ,  1.10728   ],\n",
              "       [ 1.1535788 ,  0.9676542 ]], dtype=float32)"
            ]
          },
          "metadata": {},
          "execution_count": 39
        }
      ]
    },
    {
      "cell_type": "code",
      "source": [
        "wei = jnp.array([[1.0, 0., 0., 0.],\n",
        " [0.5, 0.5, 0., 0.],\n",
        " [0.333, 0.333, 0.333, 0.],\n",
        " [0.25, 0.25, 0.25, 0.25]])"
      ],
      "metadata": {
        "id": "KseF9l2cJ550"
      },
      "execution_count": 40,
      "outputs": []
    },
    {
      "cell_type": "code",
      "source": [
        "tril = jnp.tril(jnp.ones(shape=(T, T)))\n",
        "tril"
      ],
      "metadata": {
        "colab": {
          "base_uri": "https://localhost:8080/"
        },
        "id": "0HBRJlxnQ9Wu",
        "outputId": "0d7e0335-cf60-4a36-d75c-ac13fde1a823"
      },
      "execution_count": 41,
      "outputs": [
        {
          "output_type": "execute_result",
          "data": {
            "text/plain": [
              "Array([[1., 0., 0., 0.],\n",
              "       [1., 1., 0., 0.],\n",
              "       [1., 1., 1., 0.],\n",
              "       [1., 1., 1., 1.]], dtype=float32)"
            ]
          },
          "metadata": {},
          "execution_count": 41
        }
      ]
    },
    {
      "cell_type": "code",
      "source": [
        "jnp.sum(tril, axis=1, keepdims=True)"
      ],
      "metadata": {
        "colab": {
          "base_uri": "https://localhost:8080/"
        },
        "id": "SbHxqFspWcN0",
        "outputId": "ba917560-3cb6-4b9d-a2ba-d028deee8d67"
      },
      "execution_count": 42,
      "outputs": [
        {
          "output_type": "execute_result",
          "data": {
            "text/plain": [
              "Array([[1.],\n",
              "       [2.],\n",
              "       [3.],\n",
              "       [4.]], dtype=float32)"
            ]
          },
          "metadata": {},
          "execution_count": 42
        }
      ]
    },
    {
      "cell_type": "code",
      "source": [
        "def get_wei(T: int):\n",
        "  tril = jnp.tril(jnp.ones(shape=(T, T)))\n",
        "  return tril/jnp.sum(tril, axis=1, keepdims=True)"
      ],
      "metadata": {
        "id": "naS4RF-FWfEL"
      },
      "execution_count": 43,
      "outputs": []
    },
    {
      "cell_type": "code",
      "source": [
        "get_wei(T)"
      ],
      "metadata": {
        "colab": {
          "base_uri": "https://localhost:8080/"
        },
        "id": "W-cr82EcWq5P",
        "outputId": "fbc5b934-fc74-4fcb-c116-428780fec29e"
      },
      "execution_count": 44,
      "outputs": [
        {
          "output_type": "execute_result",
          "data": {
            "text/plain": [
              "Array([[1.        , 0.        , 0.        , 0.        ],\n",
              "       [0.5       , 0.5       , 0.        , 0.        ],\n",
              "       [0.33333334, 0.33333334, 0.33333334, 0.        ],\n",
              "       [0.25      , 0.25      , 0.25      , 0.25      ]], dtype=float32)"
            ]
          },
          "metadata": {},
          "execution_count": 44
        }
      ]
    },
    {
      "cell_type": "code",
      "source": [
        "# Putting together the bow attention calculation using matmul\n",
        "def bow_attention_matmul(x: jnp.array, T: int, C: int):\n",
        "  tril = jnp.tril(jnp.ones(shape=(T, T)))\n",
        "  wei = tril/jnp.sum(tril, axis=1, keepdims=True)\n",
        "\n",
        "  return jnp.dot(wei, x)\n"
      ],
      "metadata": {
        "id": "D2za5ZmdE9fu"
      },
      "execution_count": 45,
      "outputs": []
    },
    {
      "cell_type": "code",
      "source": [
        "bow_attention_matmul(x, T, C)"
      ],
      "metadata": {
        "colab": {
          "base_uri": "https://localhost:8080/"
        },
        "id": "0P96Sm6qXHfi",
        "outputId": "8e6b02e9-dab3-43a3-d4ea-714c84cc5682"
      },
      "execution_count": 46,
      "outputs": [
        {
          "output_type": "execute_result",
          "data": {
            "text/plain": [
              "Array([[ 0.2628779 , -0.1837252 ],\n",
              "       [ 0.3230961 , -0.17276517],\n",
              "       [ 0.7149532 ,  0.25391656],\n",
              "       [ 0.8246096 ,  0.432351  ]], dtype=float32)"
            ]
          },
          "metadata": {},
          "execution_count": 46
        }
      ]
    },
    {
      "cell_type": "markdown",
      "source": [
        "### version 3: use softmax to generate wei matrix\n",
        "so that it can be learnable?"
      ],
      "metadata": {
        "id": "odn4VPr3cdaP"
      }
    },
    {
      "cell_type": "code",
      "source": [
        "tril = jnp.tril(jnp.ones(shape=(T, T)))\n",
        "tril"
      ],
      "metadata": {
        "colab": {
          "base_uri": "https://localhost:8080/"
        },
        "id": "wFNaw1Ufcmk-",
        "outputId": "bece5a30-e912-49fe-d181-5d8ca15e7821"
      },
      "execution_count": 47,
      "outputs": [
        {
          "output_type": "execute_result",
          "data": {
            "text/plain": [
              "Array([[1., 0., 0., 0.],\n",
              "       [1., 1., 0., 0.],\n",
              "       [1., 1., 1., 0.],\n",
              "       [1., 1., 1., 1.]], dtype=float32)"
            ]
          },
          "metadata": {},
          "execution_count": 47
        }
      ]
    },
    {
      "cell_type": "code",
      "source": [
        "# you start wei as all zeros\n",
        "wei = jnp.zeros(shape=(T, T))\n",
        "wei"
      ],
      "metadata": {
        "colab": {
          "base_uri": "https://localhost:8080/"
        },
        "id": "-5e1e7Bn0WhD",
        "outputId": "d793f846-8ac4-458a-ba8e-b8793840af78"
      },
      "execution_count": 48,
      "outputs": [
        {
          "output_type": "execute_result",
          "data": {
            "text/plain": [
              "Array([[0., 0., 0., 0.],\n",
              "       [0., 0., 0., 0.],\n",
              "       [0., 0., 0., 0.],\n",
              "       [0., 0., 0., 0.]], dtype=float32)"
            ]
          },
          "metadata": {},
          "execution_count": 48
        }
      ]
    },
    {
      "cell_type": "code",
      "source": [
        "# but now, we modify wei such that whenever tril==0, we put -inf into wei\n",
        "wei = jnp.where(tril==0, -jnp.inf, wei)\n",
        "wei"
      ],
      "metadata": {
        "colab": {
          "base_uri": "https://localhost:8080/"
        },
        "id": "HgL4FNfI0cFk",
        "outputId": "c5596f83-7aca-4e2d-c9e7-37967a633850"
      },
      "execution_count": 49,
      "outputs": [
        {
          "output_type": "execute_result",
          "data": {
            "text/plain": [
              "Array([[  0., -inf, -inf, -inf],\n",
              "       [  0.,   0., -inf, -inf],\n",
              "       [  0.,   0.,   0., -inf],\n",
              "       [  0.,   0.,   0.,   0.]], dtype=float32)"
            ]
          },
          "metadata": {},
          "execution_count": 49
        }
      ]
    },
    {
      "cell_type": "code",
      "source": [
        "# next we take softmax along row, that is dim==-1\n",
        "wei = nn.softmax(wei, axis=-1)\n",
        "wei"
      ],
      "metadata": {
        "colab": {
          "base_uri": "https://localhost:8080/"
        },
        "id": "pMzvM4Q50loZ",
        "outputId": "e48ae937-b46d-4313-cce9-9916f64d0498"
      },
      "execution_count": 50,
      "outputs": [
        {
          "output_type": "execute_result",
          "data": {
            "text/plain": [
              "Array([[1.        , 0.        , 0.        , 0.        ],\n",
              "       [0.5       , 0.5       , 0.        , 0.        ],\n",
              "       [0.33333334, 0.33333334, 0.33333334, 0.        ],\n",
              "       [0.25      , 0.25      , 0.25      , 0.25      ]], dtype=float32)"
            ]
          },
          "metadata": {},
          "execution_count": 50
        }
      ]
    },
    {
      "cell_type": "code",
      "source": [
        "def calc_attention(x: jnp.array, T:int, C:int):\n",
        "  \"\"\"Calculates attention for a row of tokens.\"\"\"\n",
        "  tril = jnp.tril(jnp.ones(shape=(T, T)))\n",
        "  wei = jnp.zeros(shape=(T, T))\n",
        "  wei = jnp.where(tril==0, -jnp.inf, wei)\n",
        "  wei = nn.softmax(wei, axis=-1)\n",
        "\n",
        "  return jnp.dot(wei, x)"
      ],
      "metadata": {
        "id": "NtMC5WcrdE7m"
      },
      "execution_count": 51,
      "outputs": []
    },
    {
      "cell_type": "code",
      "source": [
        "calc_attention(x, T, C)"
      ],
      "metadata": {
        "colab": {
          "base_uri": "https://localhost:8080/"
        },
        "id": "G5XZ1TjsdpSH",
        "outputId": "b798c242-c7e1-4c7a-da51-469880624a1c"
      },
      "execution_count": 52,
      "outputs": [
        {
          "output_type": "execute_result",
          "data": {
            "text/plain": [
              "Array([[ 0.2628779 , -0.1837252 ],\n",
              "       [ 0.3230961 , -0.17276517],\n",
              "       [ 0.7149532 ,  0.25391656],\n",
              "       [ 0.8246096 ,  0.432351  ]], dtype=float32)"
            ]
          },
          "metadata": {},
          "execution_count": 52
        }
      ]
    },
    {
      "cell_type": "code",
      "source": [
        "calc_attention(test_arr, T, C)"
      ],
      "metadata": {
        "colab": {
          "base_uri": "https://localhost:8080/"
        },
        "id": "rpe729Ygd2V6",
        "outputId": "018509d8-75ca-4af2-d0f9-00e65f6a64ef"
      },
      "execution_count": 53,
      "outputs": [
        {
          "output_type": "execute_result",
          "data": {
            "text/plain": [
              "Array([[1. , 1. ],\n",
              "       [1.5, 1.5],\n",
              "       [2. , 2. ],\n",
              "       [2.5, 2.5]], dtype=float32)"
            ]
          },
          "metadata": {},
          "execution_count": 53
        }
      ]
    },
    {
      "cell_type": "code",
      "source": [
        "calc_attention_batch = jax.vmap(calc_attention, in_axes=(0, None, None), out_axes=(0))"
      ],
      "metadata": {
        "id": "BQ_Sy-FEeHpx"
      },
      "execution_count": 54,
      "outputs": []
    },
    {
      "cell_type": "code",
      "source": [
        "T, C = 8, 65\n",
        "test_numbers = jnp.arange(1, T+1).reshape(-1, 1)\n",
        "test_arr = jnp.tile(test_numbers, (1, C))\n",
        "\n",
        "# add batch dimension to test_arr\n",
        "test_arr_batch = test_arr[None, :]"
      ],
      "metadata": {
        "id": "ZpQKVgZwebqK"
      },
      "execution_count": 55,
      "outputs": []
    },
    {
      "cell_type": "code",
      "source": [
        "# Test calc_attention_batch using get_batch\n",
        "calc_attention_batch(test_arr_batch, T, C)"
      ],
      "metadata": {
        "colab": {
          "base_uri": "https://localhost:8080/"
        },
        "id": "fsnmMhRmePJR",
        "outputId": "c016e7a7-c7ba-4c99-e8b1-b4f754fcb97f"
      },
      "execution_count": 56,
      "outputs": [
        {
          "output_type": "execute_result",
          "data": {
            "text/plain": [
              "Array([[[1.       , 1.       , 1.       , 1.       , 1.       ,\n",
              "         1.       , 1.       , 1.       , 1.       , 1.       ,\n",
              "         1.       , 1.       , 1.       , 1.       , 1.       ,\n",
              "         1.       , 1.       , 1.       , 1.       , 1.       ,\n",
              "         1.       , 1.       , 1.       , 1.       , 1.       ,\n",
              "         1.       , 1.       , 1.       , 1.       , 1.       ,\n",
              "         1.       , 1.       , 1.       , 1.       , 1.       ,\n",
              "         1.       , 1.       , 1.       , 1.       , 1.       ,\n",
              "         1.       , 1.       , 1.       , 1.       , 1.       ,\n",
              "         1.       , 1.       , 1.       , 1.       , 1.       ,\n",
              "         1.       , 1.       , 1.       , 1.       , 1.       ,\n",
              "         1.       , 1.       , 1.       , 1.       , 1.       ,\n",
              "         1.       , 1.       , 1.       , 1.       , 1.       ],\n",
              "        [1.5      , 1.5      , 1.5      , 1.5      , 1.5      ,\n",
              "         1.5      , 1.5      , 1.5      , 1.5      , 1.5      ,\n",
              "         1.5      , 1.5      , 1.5      , 1.5      , 1.5      ,\n",
              "         1.5      , 1.5      , 1.5      , 1.5      , 1.5      ,\n",
              "         1.5      , 1.5      , 1.5      , 1.5      , 1.5      ,\n",
              "         1.5      , 1.5      , 1.5      , 1.5      , 1.5      ,\n",
              "         1.5      , 1.5      , 1.5      , 1.5      , 1.5      ,\n",
              "         1.5      , 1.5      , 1.5      , 1.5      , 1.5      ,\n",
              "         1.5      , 1.5      , 1.5      , 1.5      , 1.5      ,\n",
              "         1.5      , 1.5      , 1.5      , 1.5      , 1.5      ,\n",
              "         1.5      , 1.5      , 1.5      , 1.5      , 1.5      ,\n",
              "         1.5      , 1.5      , 1.5      , 1.5      , 1.5      ,\n",
              "         1.5      , 1.5      , 1.5      , 1.5      , 1.5      ],\n",
              "        [2.       , 2.       , 2.       , 2.       , 2.       ,\n",
              "         2.       , 2.       , 2.       , 2.       , 2.       ,\n",
              "         2.       , 2.       , 2.       , 2.       , 2.       ,\n",
              "         2.       , 2.       , 2.       , 2.       , 2.       ,\n",
              "         2.       , 2.       , 2.       , 2.       , 2.       ,\n",
              "         2.       , 2.       , 2.       , 2.       , 2.       ,\n",
              "         2.       , 2.       , 2.       , 2.       , 2.       ,\n",
              "         2.       , 2.       , 2.       , 2.       , 2.       ,\n",
              "         2.       , 2.       , 2.       , 2.       , 2.       ,\n",
              "         2.       , 2.       , 2.       , 2.       , 2.       ,\n",
              "         2.       , 2.       , 2.       , 2.       , 2.       ,\n",
              "         2.       , 2.       , 2.       , 2.       , 2.       ,\n",
              "         2.       , 2.       , 2.       , 2.       , 2.       ],\n",
              "        [2.5      , 2.5      , 2.5      , 2.5      , 2.5      ,\n",
              "         2.5      , 2.5      , 2.5      , 2.5      , 2.5      ,\n",
              "         2.5      , 2.5      , 2.5      , 2.5      , 2.5      ,\n",
              "         2.5      , 2.5      , 2.5      , 2.5      , 2.5      ,\n",
              "         2.5      , 2.5      , 2.5      , 2.5      , 2.5      ,\n",
              "         2.5      , 2.5      , 2.5      , 2.5      , 2.5      ,\n",
              "         2.5      , 2.5      , 2.5      , 2.5      , 2.5      ,\n",
              "         2.5      , 2.5      , 2.5      , 2.5      , 2.5      ,\n",
              "         2.5      , 2.5      , 2.5      , 2.5      , 2.5      ,\n",
              "         2.5      , 2.5      , 2.5      , 2.5      , 2.5      ,\n",
              "         2.5      , 2.5      , 2.5      , 2.5      , 2.5      ,\n",
              "         2.5      , 2.5      , 2.5      , 2.5      , 2.5      ,\n",
              "         2.5      , 2.5      , 2.5      , 2.5      , 2.5      ],\n",
              "        [3.       , 3.       , 3.       , 3.       , 3.       ,\n",
              "         3.       , 3.       , 3.       , 3.       , 3.       ,\n",
              "         3.       , 3.       , 3.       , 3.       , 3.       ,\n",
              "         3.       , 3.       , 3.       , 3.       , 3.       ,\n",
              "         3.       , 3.       , 3.       , 3.       , 3.       ,\n",
              "         3.       , 3.       , 3.       , 3.       , 3.       ,\n",
              "         3.       , 3.       , 3.       , 3.       , 3.       ,\n",
              "         3.       , 3.       , 3.       , 3.       , 3.       ,\n",
              "         3.       , 3.       , 3.       , 3.       , 3.       ,\n",
              "         3.       , 3.       , 3.       , 3.       , 3.       ,\n",
              "         3.       , 3.       , 3.       , 3.       , 3.       ,\n",
              "         3.       , 3.       , 3.       , 3.       , 3.       ,\n",
              "         3.       , 3.       , 3.       , 3.       , 3.       ],\n",
              "        [3.5      , 3.5      , 3.5      , 3.5      , 3.5      ,\n",
              "         3.5      , 3.5      , 3.5      , 3.5      , 3.5      ,\n",
              "         3.5      , 3.5      , 3.5      , 3.5      , 3.5      ,\n",
              "         3.5      , 3.5      , 3.5      , 3.5      , 3.5      ,\n",
              "         3.5      , 3.5      , 3.5      , 3.5      , 3.5      ,\n",
              "         3.5      , 3.5      , 3.5      , 3.5      , 3.5      ,\n",
              "         3.5      , 3.5      , 3.5      , 3.5      , 3.5      ,\n",
              "         3.5      , 3.5      , 3.5      , 3.5      , 3.5      ,\n",
              "         3.5      , 3.5      , 3.5      , 3.5      , 3.5      ,\n",
              "         3.5      , 3.5      , 3.5      , 3.5      , 3.5      ,\n",
              "         3.5      , 3.5      , 3.5      , 3.5      , 3.5      ,\n",
              "         3.5      , 3.5      , 3.5      , 3.5      , 3.5      ,\n",
              "         3.5      , 3.5      , 3.5      , 3.5      , 3.5      ],\n",
              "        [4.0000005, 4.0000005, 4.0000005, 4.0000005, 4.0000005,\n",
              "         4.0000005, 4.0000005, 4.0000005, 4.0000005, 4.0000005,\n",
              "         4.0000005, 4.0000005, 4.0000005, 4.0000005, 4.0000005,\n",
              "         4.0000005, 4.0000005, 4.0000005, 4.0000005, 4.0000005,\n",
              "         4.0000005, 4.0000005, 4.0000005, 4.0000005, 4.0000005,\n",
              "         4.0000005, 4.0000005, 4.0000005, 4.0000005, 4.0000005,\n",
              "         4.0000005, 4.0000005, 4.0000005, 4.0000005, 4.0000005,\n",
              "         4.0000005, 4.0000005, 4.0000005, 4.0000005, 4.0000005,\n",
              "         4.0000005, 4.0000005, 4.0000005, 4.0000005, 4.0000005,\n",
              "         4.0000005, 4.0000005, 4.0000005, 4.0000005, 4.0000005,\n",
              "         4.0000005, 4.0000005, 4.0000005, 4.0000005, 4.0000005,\n",
              "         4.0000005, 4.0000005, 4.0000005, 4.0000005, 4.0000005,\n",
              "         4.0000005, 4.0000005, 4.0000005, 4.0000005, 4.0000005],\n",
              "        [4.5      , 4.5      , 4.5      , 4.5      , 4.5      ,\n",
              "         4.5      , 4.5      , 4.5      , 4.5      , 4.5      ,\n",
              "         4.5      , 4.5      , 4.5      , 4.5      , 4.5      ,\n",
              "         4.5      , 4.5      , 4.5      , 4.5      , 4.5      ,\n",
              "         4.5      , 4.5      , 4.5      , 4.5      , 4.5      ,\n",
              "         4.5      , 4.5      , 4.5      , 4.5      , 4.5      ,\n",
              "         4.5      , 4.5      , 4.5      , 4.5      , 4.5      ,\n",
              "         4.5      , 4.5      , 4.5      , 4.5      , 4.5      ,\n",
              "         4.5      , 4.5      , 4.5      , 4.5      , 4.5      ,\n",
              "         4.5      , 4.5      , 4.5      , 4.5      , 4.5      ,\n",
              "         4.5      , 4.5      , 4.5      , 4.5      , 4.5      ,\n",
              "         4.5      , 4.5      , 4.5      , 4.5      , 4.5      ,\n",
              "         4.5      , 4.5      , 4.5      , 4.5      , 4.5      ]]],      dtype=float32)"
            ]
          },
          "metadata": {},
          "execution_count": 56
        }
      ]
    },
    {
      "cell_type": "markdown",
      "source": [
        "# Putting together new Bigram model"
      ],
      "metadata": {
        "id": "jegiwSi3fsMY"
      }
    },
    {
      "cell_type": "code",
      "source": [
        "class BigramLangModel(nn.Module):\n",
        "  \"\"\"Reads one char and predicits the next char.\"\"\"\n",
        "  vocab_size: int # number of vocabulary (number of rows of embedding table)\n",
        "  n_embed: int # embedding dim after lookup\n",
        "\n",
        "  def setup(self):\n",
        "    super().setup()\n",
        "    # number of channels you want to use for store info for each token.\n",
        "    self.C = self.vocab_size\n",
        "\n",
        "    self.token_embedding_table = nn.Embed(num_embeddings=self.vocab_size, features=self.n_embed)\n",
        "\n",
        "    self.lang_model_head = nn.Dense(features=self.C)\n",
        "\n",
        "  def __call__(self, block_of_tokens: jnp.array):\n",
        "    \"\"\"Accepts a block of tokens.\"\"\"\n",
        "\n",
        "    # generate em for each token. output: (T, n_embed)\n",
        "    token_embs = self.token_embedding_table(block_of_tokens)\n",
        "\n",
        "    # generate logits for each token. output: (T, channels for info -- C)\n",
        "    token_logits = self.lang_model_head(token_embs)"
      ],
      "metadata": {
        "id": "PieI67T3gHcK"
      },
      "execution_count": 57,
      "outputs": []
    },
    {
      "cell_type": "markdown",
      "source": [
        "## Add positional embeddings to the above."
      ],
      "metadata": {
        "id": "xgPfy8ogiHyN"
      }
    },
    {
      "cell_type": "code",
      "source": [
        "block_of_tokens_example = jnp.ones(shape=(1, 8))\n",
        "block_of_tokens_example, block_of_tokens_example.shape, block_of_tokens_example.shape[1]"
      ],
      "metadata": {
        "colab": {
          "base_uri": "https://localhost:8080/"
        },
        "id": "vZYnHm6djluj",
        "outputId": "131b844c-a85e-4dd3-b516-0019c8b85b27"
      },
      "execution_count": 58,
      "outputs": [
        {
          "output_type": "execute_result",
          "data": {
            "text/plain": [
              "(Array([[1., 1., 1., 1., 1., 1., 1., 1.]], dtype=float32), (1, 8), 8)"
            ]
          },
          "metadata": {},
          "execution_count": 58
        }
      ]
    },
    {
      "cell_type": "code",
      "source": [
        "num_pos = block_of_tokens_example.shape[1]\n",
        "num_pos"
      ],
      "metadata": {
        "colab": {
          "base_uri": "https://localhost:8080/"
        },
        "id": "388ZajvbkPwp",
        "outputId": "72985b57-2b36-40a1-e25a-f74152805767"
      },
      "execution_count": 59,
      "outputs": [
        {
          "output_type": "execute_result",
          "data": {
            "text/plain": [
              "8"
            ]
          },
          "metadata": {},
          "execution_count": 59
        }
      ]
    },
    {
      "cell_type": "code",
      "source": [
        "jnp.arange(0, num_pos)"
      ],
      "metadata": {
        "colab": {
          "base_uri": "https://localhost:8080/"
        },
        "id": "MCYxlaI0kReC",
        "outputId": "f3137dd2-73cf-48ba-d868-3fc58beef728"
      },
      "execution_count": 60,
      "outputs": [
        {
          "output_type": "execute_result",
          "data": {
            "text/plain": [
              "Array([0, 1, 2, 3, 4, 5, 6, 7], dtype=int32)"
            ]
          },
          "metadata": {},
          "execution_count": 60
        }
      ]
    },
    {
      "cell_type": "code",
      "source": [
        "class LanguageModel(nn.Module):\n",
        "  \"\"\"Reads one char and predicits the next char.\"\"\"\n",
        "  vocab_size: int # number of vocabulary (number of rows of embedding table)\n",
        "  n_embed: int # embedding dim after lookup\n",
        "\n",
        "  block_size: int # T, i.e., number of tokens attention block is looking at once\n",
        "\n",
        "  def setup(self):\n",
        "    super().setup()\n",
        "    # number of channels you want to use for store info for each token.\n",
        "    self.C = self.vocab_size\n",
        "\n",
        "    self.token_embedding_table = nn.Embed(num_embeddings=self.vocab_size, features=self.n_embed)\n",
        "\n",
        "    self.pos_embedding_table = nn.Embed(num_embeddings=self.block_size, features=self.n_embed)\n",
        "\n",
        "    self.lang_model_head = nn.Dense(features=self.C)\n",
        "\n",
        "  def __call__(self, block_of_tokens: jnp.array):\n",
        "    \"\"\"Accepts a block of tokens, like [0, 1, 2, 3, 4, 5, 6, 7].\"\"\"\n",
        "\n",
        "    # generate em for each token. output: (T, n_embed)\n",
        "    token_embs = self.token_embedding_table(block_of_tokens)\n",
        "\n",
        "    # generate position embs for each token.\n",
        "    ## get token positions.\n",
        "    num_pos = block_of_tokens.shape[0]\n",
        "    positions = jnp.arange(0, num_pos)\n",
        "    pos_embs = self.pos_embedding_table(positions)\n",
        "\n",
        "    # generate actual input to attention, x, which is sum of token_embs + pos_embs\n",
        "    x = token_embs + pos_embs\n",
        "\n",
        "    # generate logits for each token. output: (T, channels for info -- C)\n",
        "    token_logits = self.lang_model_head(x)\n"
      ],
      "metadata": {
        "id": "wd0Z83BuiLQI"
      },
      "execution_count": 61,
      "outputs": []
    },
    {
      "cell_type": "markdown",
      "source": [
        "## Coding single head attention."
      ],
      "metadata": {
        "id": "YwcW1HNy2BI5"
      }
    },
    {
      "cell_type": "code",
      "source": [
        "# (copy-pasting from top)\n",
        "# Here, wei has uniform attention scores to previous tokens.\n",
        "# That is token in Tth position, is assuming that\n",
        "# each previous token has same amount of info.\n",
        "\n",
        "# But we want each Tth token to learn what to pay attention to.\n",
        "\n",
        "# So, we have each token emit \"keys\" -- info I have\n",
        "# Each token will emit \"query\" -- what I'm looking for\n",
        "# wei becomes the dot prodct of \"keys\" and \"query\" -- higher the dot product higher the match between\n",
        "# what I'm look for and what some previous token has.\n",
        "def calc_attention(x: jnp.array, T:int, C:int):\n",
        "  \"\"\"Calculates attention for a row of tokens.\"\"\"\n",
        "  tril = jnp.tril(jnp.ones(shape=(T, T)))\n",
        "  wei = jnp.zeros(shape=(T, T))\n",
        "  wei = jnp.where(tril==0, -jnp.inf, wei)\n",
        "  wei = nn.softmax(wei, axis=-1)\n",
        "\n",
        "  return jnp.dot(wei, x)"
      ],
      "metadata": {
        "id": "wC4gleJIy8Qo"
      },
      "execution_count": 62,
      "outputs": []
    },
    {
      "cell_type": "code",
      "source": [
        "token_info_size = 16 # head_size, each token produces vector of this size for key, query\n",
        "\n",
        "# key, query will take vector of size C.\n",
        "# i.e., channels containing info of token and will output token_info_size\n",
        "key_layer = nn.Dense(token_info_size, use_bias=False)\n",
        "\n",
        "query_layer = nn.Dense(token_info_size, use_bias=False)"
      ],
      "metadata": {
        "id": "FHOVay-Y2Mss"
      },
      "execution_count": 63,
      "outputs": []
    },
    {
      "cell_type": "code",
      "source": [
        "# (tokens, channel info for each)\n",
        "# (T, C)\n",
        "\n",
        "# for easy visualization, T=4, C=2\n",
        "T=4; C=2\n",
        "x = jrand.normal(jrand.PRNGKey(999), shape=(T, C))\n",
        "x"
      ],
      "metadata": {
        "colab": {
          "base_uri": "https://localhost:8080/"
        },
        "id": "yFKElCQe3kvE",
        "outputId": "c9a38264-01c4-4e8b-e5f2-0195ffdaace1"
      },
      "execution_count": 64,
      "outputs": [
        {
          "output_type": "execute_result",
          "data": {
            "text/plain": [
              "Array([[ 0.27297866, -0.6993713 ],\n",
              "       [ 0.428855  , -1.5621939 ],\n",
              "       [-0.05503325,  0.18392533],\n",
              "       [-0.18410844,  0.53945136]], dtype=float32)"
            ]
          },
          "metadata": {},
          "execution_count": 64
        }
      ]
    },
    {
      "cell_type": "code",
      "source": [
        "prng = jrand.PRNGKey(9999)\n",
        "key, split_key = jrand.split(prng)"
      ],
      "metadata": {
        "id": "4uGkOUsJ4df3"
      },
      "execution_count": 65,
      "outputs": []
    },
    {
      "cell_type": "code",
      "source": [
        "# keys emitted by each token.\n",
        "kparams = key_layer.init(split_key, x)[\"params\"]\n",
        "keys = key_layer.apply({\"params\": kparams}, x)\n",
        "\n",
        "# queries emitted by each token\n",
        "# NOTE: each token parallely and indpendently emits its \"keys\" and \"queries\"\n",
        "qparams = query_layer.init(split_key, x)[\"params\"]\n",
        "queries = query_layer.apply({\"params\": qparams}, x)\n",
        "\n",
        "keys.shape, queries.shape # each are (T, 16)"
      ],
      "metadata": {
        "colab": {
          "base_uri": "https://localhost:8080/"
        },
        "id": "5Ku4_M434A7P",
        "outputId": "1135f744-9ded-46a7-fe5d-952fc7ad428e"
      },
      "execution_count": 66,
      "outputs": [
        {
          "output_type": "execute_result",
          "data": {
            "text/plain": [
              "((4, 16), (4, 16))"
            ]
          },
          "metadata": {},
          "execution_count": 66
        }
      ]
    },
    {
      "cell_type": "code",
      "source": [
        "# NOW, wei becomes this dot product between keys and querys\n",
        "wei = jnp.dot(queries, keys.T)\n",
        "wei"
      ],
      "metadata": {
        "colab": {
          "base_uri": "https://localhost:8080/"
        },
        "id": "kafXGmJ948bX",
        "outputId": "bb425346-8a29-44df-82c2-db0d8b23112e"
      },
      "execution_count": 67,
      "outputs": [
        {
          "output_type": "execute_result",
          "data": {
            "text/plain": [
              "Array([[ 6.0750933, 12.761856 , -1.5228109, -4.5677843],\n",
              "       [12.761856 , 27.052605 , -3.2215443, -9.631147 ],\n",
              "       [-1.5228109, -3.2215443,  0.3838081,  1.1482861],\n",
              "       [-4.5677843, -9.631147 ,  1.1482861,  3.4396741]], dtype=float32)"
            ]
          },
          "metadata": {},
          "execution_count": 67
        }
      ]
    },
    {
      "cell_type": "code",
      "source": [
        "  tril = jnp.tril(jnp.ones(shape=(T, T)))\n",
        "\n",
        "  # Don't initialize wei as zeros\n",
        "  # wei = jnp.zeros(shape=(T, T))\n",
        "  wei = jnp.where(tril==0, -jnp.inf, wei)\n",
        "  wei = nn.softmax(wei, axis=-1)\n",
        "  wei"
      ],
      "metadata": {
        "colab": {
          "base_uri": "https://localhost:8080/"
        },
        "id": "aCMiX_qF1K3L",
        "outputId": "5b9c16af-322e-4392-b696-57924ec902e9"
      },
      "execution_count": 68,
      "outputs": [
        {
          "output_type": "execute_result",
          "data": {
            "text/plain": [
              "Array([[1.0000000e+00, 0.0000000e+00, 0.0000000e+00, 0.0000000e+00],\n",
              "       [6.2173666e-07, 9.9999940e-01, 0.0000000e+00, 0.0000000e+00],\n",
              "       [1.2637095e-01, 2.3115154e-02, 8.5051394e-01, 0.0000000e+00],\n",
              "       [3.0229829e-04, 1.9118115e-06, 9.1810778e-02, 9.0788496e-01]],      dtype=float32)"
            ]
          },
          "metadata": {},
          "execution_count": 68
        }
      ]
    },
    {
      "cell_type": "code",
      "source": [
        "# each token also produces \"value\", which is what we would multiply with wei.\n",
        "# so, wei is attention score.\n",
        "# whenever the attention score is high, we want to take its value."
      ],
      "metadata": {
        "id": "VCpDFskA6PFT"
      },
      "execution_count": 69,
      "outputs": []
    },
    {
      "cell_type": "markdown",
      "source": [
        "### Combing things from above and adding value layer as well."
      ],
      "metadata": {
        "id": "XNYPY8vr6pQ6"
      }
    },
    {
      "cell_type": "code",
      "source": [
        "# (tokens, channel info for each)\n",
        "# (T, C)\n",
        "\n",
        "# for easy visualization, T=4, C=2\n",
        "T=4; C=2\n",
        "x = jrand.normal(jrand.PRNGKey(999), shape=(T, C))\n",
        "\n",
        "key, split_key = jrand.split(jrand.PRNGKey(9999))\n",
        "\n",
        "token_info_size = 16 # head_size\n",
        "\n",
        "key_layer = nn.Dense(token_info_size, use_bias=False)\n",
        "query_layer = nn.Dense(token_info_size, use_bias=False)\n",
        "value_layer = nn.Dense(token_info_size, use_bias=False)\n",
        "\n",
        "\n",
        "keys = key_layer.apply(key_layer.init(split_key, x), x) # (T, token_info_size)\n",
        "queries = query_layer.apply(query_layer.init(split_key, x), x)\n",
        "values = value_layer.apply(value_layer.init(split_key, x), x) # (T, token_info_size)\n",
        "\n",
        "tril = jnp.tril(jnp.ones(shape=(T, T)))\n",
        "\n",
        "wei = jnp.dot(queries, keys.T) # (T, T)\n",
        "wei = jnp.where(tril==0, -jnp.inf, wei)\n",
        "wei = nn.softmax(wei, axis=-1)\n",
        "\n",
        "\n",
        "out = jnp.dot(wei, values) # (T, T) * (T, token_info_size)\n",
        "\n",
        "# shape should be (T, token_info_size)\n",
        "# i.e., (4, 16)\n",
        "out.shape"
      ],
      "metadata": {
        "colab": {
          "base_uri": "https://localhost:8080/"
        },
        "id": "_3j_56B_6tms",
        "outputId": "d510ff90-e08c-4331-b824-15b6ce1ac70b"
      },
      "execution_count": 70,
      "outputs": [
        {
          "output_type": "execute_result",
          "data": {
            "text/plain": [
              "(4, 16)"
            ]
          },
          "metadata": {},
          "execution_count": 70
        }
      ]
    },
    {
      "cell_type": "markdown",
      "source": [
        "## self-attention vs cross-attention: https://youtu.be/kCc8FmEb1nY?t=4542"
      ],
      "metadata": {
        "id": "SdFA175m9cOy"
      }
    },
    {
      "cell_type": "markdown",
      "source": [
        "### Scaled attention -- dividing wei*value by squared root of head_size https://youtu.be/kCc8FmEb1nY?t=4638"
      ],
      "metadata": {
        "id": "Xx8fa3aC-CLN"
      }
    },
    {
      "cell_type": "code",
      "source": [
        "wei = jnp.dot(queries, keys.T) * C**0.5 # (T, T)\n",
        "wei = jnp.where(tril==0, -jnp.inf, wei)\n",
        "wei = nn.softmax(wei, axis=-1)\n",
        "\n",
        "\n",
        "out = jnp.dot(wei, values) # (T, T) * (T, token_info_size)\n",
        "out"
      ],
      "metadata": {
        "colab": {
          "base_uri": "https://localhost:8080/"
        },
        "id": "IAsVpe_RFfkJ",
        "outputId": "b9e8b7b5-d8cc-42c7-9616-b7dd20ac3f25"
      },
      "execution_count": 71,
      "outputs": [
        {
          "output_type": "execute_result",
          "data": {
            "text/plain": [
              "Array([[ 0.15091053,  1.1747676 , -0.2754388 ,  0.6276668 , -0.6659185 ,\n",
              "        -0.75210524,  0.15832554,  0.6172914 ,  0.5173192 , -1.0826657 ,\n",
              "         0.4595548 ,  0.38114175,  0.36432883, -0.12410479, -0.28500274,\n",
              "         0.8726827 ],\n",
              "       [ 0.15494809,  2.420155  , -0.7504658 ,  1.4276459 , -1.2494795 ,\n",
              "        -1.4867611 ,  0.18499118,  1.4277841 ,  1.0585895 , -2.3402715 ,\n",
              "         0.8965928 ,  0.6221145 ,  1.0077578 , -0.24458581, -0.6518733 ,\n",
              "         1.8538882 ],\n",
              "       [-0.0108901 , -0.18261386,  0.05756753, -0.10841541,  0.09365091,\n",
              "         0.11186212, -0.01323292, -0.10853641, -0.07983959,  0.1771509 ,\n",
              "        -0.06739506, -0.04610366, -0.07736284,  0.01839836,  0.04952013,\n",
              "        -0.14017412],\n",
              "       [-0.08724618, -0.85421604,  0.2266734 , -0.47580495,  0.46656573,\n",
              "         0.5378475 , -0.09476726, -0.47136265, -0.37513095,  0.8030861 ,\n",
              "        -0.32692865, -0.2536266 , -0.30200323,  0.08864281,  0.21657023,\n",
              "        -0.642643  ]], dtype=float32)"
            ]
          },
          "metadata": {},
          "execution_count": 71
        }
      ]
    },
    {
      "cell_type": "markdown",
      "source": [
        "# Implement self-attention head.\n",
        "(copy-pasting from above code mostly into Flax module.)"
      ],
      "metadata": {
        "id": "8DrZZTi7zZm2"
      }
    },
    {
      "cell_type": "code",
      "source": [
        "class Head(nn.Module):\n",
        "  token_info_size: int # head_size; how much (emb dim) info each token emits for keys, queries, values.\n",
        "\n",
        "  T: int # block size; number of tokens in a block\n",
        "  C: int # channel info size: size of info channel of each token.\n",
        "\n",
        "\n",
        "  def setup(self):\n",
        "    super().setup()\n",
        "\n",
        "    # key, query will take vector of size C.\n",
        "    # i.e., channels containing info of token and will output token_info_size\n",
        "    self.key_layer = nn.Dense(self.token_info_size, use_bias=False)\n",
        "    self.query_layer = nn.Dense(self.token_info_size, use_bias=False)\n",
        "    self.value_layer = nn.Dense(self.token_info_size, use_bias=False)\n",
        "\n",
        "\n",
        "  def __call__(self, block_of_tokens_with_info_channels: jnp.array):\n",
        "    \"\"\"Accepts a block of tokens with info channels, like (8, 65).\"\"\"\n",
        "\n",
        "    # TODO(ntnsonti): Double check; but tril should not be learnable according cGPT.\n",
        "    tril = jnp.tril(jnp.ones(shape=(self.T, self.T)))\n",
        "\n",
        "    keys = self.key_layer(block_of_tokens_with_info_channels) # (T, token_info_size)\n",
        "    queries = self.query_layer(block_of_tokens_with_info_channels)\n",
        "    values = self.value_layer(block_of_tokens_with_info_channels)\n",
        "\n",
        "    # compute attention score.\n",
        "    wei = jnp.dot(queries, keys.T) * C**0.5 # (T, T)\n",
        "    wei = jnp.where(tril==0, -jnp.inf, wei)\n",
        "    wei = nn.softmax(wei, axis=-1)\n",
        "\n",
        "\n",
        "    out = jnp.dot(wei, values) # (T, T) * (T, token_info_size))\n",
        "    return out # (T, token_info_size)\n"
      ],
      "metadata": {
        "id": "eYy0Xn9F-ipr"
      },
      "execution_count": 72,
      "outputs": []
    },
    {
      "cell_type": "markdown",
      "source": [
        "https://youtu.be/kCc8FmEb1nY?t=4819"
      ],
      "metadata": {
        "id": "hER4RpvY5lnm"
      }
    },
    {
      "cell_type": "code",
      "source": [
        "class LanguageModel(nn.Module):\n",
        "  \"\"\"Reads one char and predicits the next char.\"\"\"\n",
        "  vocab_size: int # number of vocabulary (number of rows of embedding table)\n",
        "  n_embed: int # embedding dim after lookup\n",
        "\n",
        "  T: int # block size, i.e., number of tokens attention block is looking at once\n",
        "\n",
        "  def setup(self):\n",
        "    super().setup()\n",
        "    # number of channels you want to use for store info for each token.\n",
        "    self.C = self.vocab_size\n",
        "\n",
        "    self.token_embedding_table = nn.Embed(num_embeddings=self.vocab_size, features=self.n_embed)\n",
        "\n",
        "    self.pos_embedding_table = nn.Embed(num_embeddings=self.T, features=self.n_embed)\n",
        "\n",
        "    self.self_attention_head = Head(token_info_size=self.n_embed, T=self.T, C=self.C)\n",
        "\n",
        "    self.lang_model_head = nn.Dense(features=self.C)\n",
        "\n",
        "  def __call__(self, block_of_tokens: jnp.array):\n",
        "    \"\"\"Accepts a block of tokens, like [0, 1, 2, 3, 4, 5, 6, 7].\"\"\"\n",
        "\n",
        "    # generate em for each token. output: (T, n_embed)\n",
        "    token_embs = self.token_embedding_table(block_of_tokens)\n",
        "\n",
        "    # generate position embs for each token.\n",
        "    ## get token positions.\n",
        "    num_pos = block_of_tokens.shape[0]\n",
        "    positions = jnp.arange(0, num_pos)\n",
        "    pos_embs = self.pos_embedding_table(positions)\n",
        "\n",
        "    # generate actual input to attention, x, which is sum of token_embs + pos_embs\n",
        "    x = token_embs + pos_embs\n",
        "\n",
        "    # feed x into self-attention head.\n",
        "    x = self.self_attention_head(x)\n",
        "\n",
        "    # generate logits for each token. output: (T, channels for info -- C)\n",
        "    token_logits = self.lang_model_head(x)\n",
        "\n",
        "    return token_logits\n"
      ],
      "metadata": {
        "id": "zV5KQ3OLGO_N"
      },
      "execution_count": 73,
      "outputs": []
    },
    {
      "cell_type": "markdown",
      "source": [
        "## Traing the network."
      ],
      "metadata": {
        "id": "GBsD7xpOHMPb"
      }
    },
    {
      "cell_type": "code",
      "source": [
        "BLOCK_SIZE"
      ],
      "metadata": {
        "colab": {
          "base_uri": "https://localhost:8080/"
        },
        "id": "kgoUZysXICvH",
        "outputId": "b6d090b9-8b40-4115-cb96-7d3aa9b68d33"
      },
      "execution_count": 74,
      "outputs": [
        {
          "output_type": "execute_result",
          "data": {
            "text/plain": [
              "8"
            ]
          },
          "metadata": {},
          "execution_count": 74
        }
      ]
    },
    {
      "cell_type": "code",
      "source": [
        "T = 8"
      ],
      "metadata": {
        "id": "12OMA67VIFlh"
      },
      "execution_count": 75,
      "outputs": []
    },
    {
      "cell_type": "code",
      "source": [
        "model = LanguageModel(vocab_size=65, n_embed=32, T=BLOCK_SIZE)\n",
        "\n",
        "# Now, our language model needs to accept a block of tokens, not one-char at a time.\n",
        "# We'll then make it accept a batch of blocks of tokens using vmap.\n",
        "sample_block_of_tokens = jnp.ones(shape=(T), dtype=jnp.int32)\n",
        "output, params = model.init_with_output(jrand.PRNGKey(99), sample_block_of_tokens)\n",
        "params = params[\"params\"]\n",
        "\n",
        "model_apply_batch = jax.vmap(model.apply, in_axes=(None, 0), out_axes=(0))\n",
        "\n",
        "def forward_pass(params, state, batch):\n",
        "  inputs, targets = batch\n",
        "  logits = state.apply_fn({\"params\": params}, inputs)\n",
        "  loss = optax.softmax_cross_entropy_with_integer_labels(logits, targets)\n",
        "  loss = loss.mean()\n",
        "  return loss\n",
        "\n",
        "grad_fn = jax.value_and_grad(forward_pass, argnums=(0))  # differentiate wrt 0th pos argument.\n",
        "\n",
        "opt = optax.adam(learning_rate=0.001)\n",
        "state = train_state.TrainState.create(apply_fn=model_apply_batch, params=params, tx=opt)\n",
        "\n",
        "for epoch in range(1000):\n",
        "  batch = get_batch()\n",
        "  loss, grads = grad_fn(state.params, state, batch)\n",
        "  print(loss) if epoch%100==0 else None\n",
        "  state = state.apply_gradients(grads=grads)"
      ],
      "metadata": {
        "colab": {
          "base_uri": "https://localhost:8080/"
        },
        "id": "xLPSyus-HWKi",
        "outputId": "314e909d-1d57-402a-9e73-5712a3fa2ef5"
      },
      "execution_count": 76,
      "outputs": [
        {
          "output_type": "stream",
          "name": "stdout",
          "text": [
            "4.204059\n",
            "3.9591136\n",
            "3.033705\n",
            "2.8353043\n",
            "3.6666312\n",
            "2.9169798\n",
            "2.6496902\n",
            "2.8693814\n",
            "2.4801302\n",
            "2.4153466\n"
          ]
        }
      ]
    },
    {
      "cell_type": "markdown",
      "source": [
        "# Multi-head attention https://youtu.be/kCc8FmEb1nY?t=4925"
      ],
      "metadata": {
        "id": "BN7SglxvNUUY"
      }
    },
    {
      "cell_type": "code",
      "source": [
        "# (copy-pasting single head attention from above)\n",
        "class Head(nn.Module):\n",
        "  token_info_size: int # head_size; how much (emb dim) info each token emits for keys, queries, values.\n",
        "\n",
        "  T: int # block size; number of tokens in a block\n",
        "  C: int # channel info size: size of info channel of each token.\n",
        "\n",
        "\n",
        "  def setup(self):\n",
        "    super().setup()\n",
        "\n",
        "    # key, query will take vector of size C.\n",
        "    # i.e., channels containing info of token and will output token_info_size\n",
        "    self.key_layer = nn.Dense(self.token_info_size, use_bias=False)\n",
        "    self.query_layer = nn.Dense(self.token_info_size, use_bias=False)\n",
        "    self.value_layer = nn.Dense(self.token_info_size, use_bias=False)\n",
        "\n",
        "\n",
        "  def __call__(self, block_of_tokens_with_info_channels: jnp.array):\n",
        "    \"\"\"Accepts a block of tokens with info channels, like (8, 65).\"\"\"\n",
        "\n",
        "    # TODO(ntnsonti): Double check; but tril should not be learnable according cGPT.\n",
        "    tril = jnp.tril(jnp.ones(shape=(self.T, self.T)))\n",
        "\n",
        "    keys = self.key_layer(block_of_tokens_with_info_channels) # (T, token_info_size)\n",
        "    queries = self.query_layer(block_of_tokens_with_info_channels)\n",
        "    values = self.value_layer(block_of_tokens_with_info_channels)\n",
        "\n",
        "    # compute attention score.\n",
        "    wei = jnp.dot(queries, keys.T) * C**0.5 # (T, T)\n",
        "    wei = jnp.where(tril==0, -jnp.inf, wei)\n",
        "    wei = nn.softmax(wei, axis=-1)\n",
        "\n",
        "\n",
        "    out = jnp.dot(wei, values) # (T, T) * (T, token_info_size))\n",
        "    return out # (T, token_info_size)\n"
      ],
      "metadata": {
        "id": "cza12RTpN-ua"
      },
      "execution_count": 77,
      "outputs": []
    },
    {
      "cell_type": "code",
      "source": [
        "# You just run multiple attention heads in parallel and concatenate their output along channel dimension, i.e., dim==-1"
      ],
      "metadata": {
        "id": "KiT6OH_WOBNf"
      },
      "execution_count": 78,
      "outputs": []
    },
    {
      "cell_type": "code",
      "source": [
        "class MultiHeadAttention(nn.Module):\n",
        "  num_heads: int\n",
        "  token_info_size: int\n",
        "\n",
        "  T: int\n",
        "  C: int\n",
        "\n",
        "  def setup(self):\n",
        "    super().setup()\n",
        "\n",
        "    self.heads = [Head(token_info_size=self.token_info_size, T=self.T, C=self.C) for _ in range(self.num_heads)]\n",
        "\n",
        "  def __call__(self, block_of_tokens_with_info_channels: jnp.array):\n",
        "    out_from_each_head = jnp.array([h(block_of_tokens_with_info_channels) for h in self.heads])\n",
        "    return jnp.concatenate(out_from_each_head, axis=-1)\n",
        "\n"
      ],
      "metadata": {
        "id": "FZCNtnFANWV_"
      },
      "execution_count": 80,
      "outputs": []
    },
    {
      "cell_type": "code",
      "source": [
        "class LanguageModel(nn.Module):\n",
        "  \"\"\"Reads one char and predicits the next char.\"\"\"\n",
        "  vocab_size: int # number of vocabulary (number of rows of embedding table)\n",
        "  n_embed: int # embedding dim after lookup\n",
        "\n",
        "  T: int # block size, i.e., number of tokens attention block is looking at once\n",
        "\n",
        "  def setup(self):\n",
        "    super().setup()\n",
        "    # number of channels you want to use for store info for each token.\n",
        "    self.C = self.vocab_size\n",
        "\n",
        "    self.token_embedding_table = nn.Embed(num_embeddings=self.vocab_size, features=self.n_embed)\n",
        "\n",
        "    self.pos_embedding_table = nn.Embed(num_embeddings=self.T, features=self.n_embed)\n",
        "\n",
        "    # *** new ***\n",
        "    # Since, there are 4 heads, each head only needs to output token_info of size 8.\n",
        "    # Concantenate token_info from all 4 heards, gives us 32\n",
        "    self.self_attention_heads = MultiHeadAttention(num_heads=4, token_info_size=int(self.n_embed/4), T=self.T, C=self.C)\n",
        "\n",
        "    self.lang_model_head = nn.Dense(features=self.C)\n",
        "\n",
        "  def __call__(self, block_of_tokens: jnp.array):\n",
        "    \"\"\"Accepts a block of tokens, like [0, 1, 2, 3, 4, 5, 6, 7].\"\"\"\n",
        "\n",
        "    # generate em for each token. output: (T, n_embed)\n",
        "    token_embs = self.token_embedding_table(block_of_tokens)\n",
        "\n",
        "    # generate position embs for each token.\n",
        "    ## get token positions.\n",
        "    num_pos = block_of_tokens.shape[0]\n",
        "    positions = jnp.arange(0, num_pos)\n",
        "    pos_embs = self.pos_embedding_table(positions)\n",
        "\n",
        "    # generate actual input to attention, x, which is sum of token_embs + pos_embs\n",
        "    x = token_embs + pos_embs\n",
        "\n",
        "    # feed x into self-attention head.\n",
        "    x = self.self_attention_heads(x)\n",
        "\n",
        "    # generate logits for each token. output: (T, channels for info -- C)\n",
        "    token_logits = self.lang_model_head(x)\n",
        "\n",
        "    return token_logits\n"
      ],
      "metadata": {
        "id": "8og78QLYPPNF"
      },
      "execution_count": 81,
      "outputs": []
    },
    {
      "cell_type": "code",
      "source": [
        "model = LanguageModel(vocab_size=65, n_embed=32, T=BLOCK_SIZE)\n",
        "\n",
        "# Now, our language model needs to accept a block of tokens, not one-char at a time.\n",
        "# We'll then make it accept a batch of blocks of tokens using vmap.\n",
        "sample_block_of_tokens = jnp.ones(shape=(T), dtype=jnp.int32)\n",
        "output, params = model.init_with_output(jrand.PRNGKey(99), sample_block_of_tokens)\n",
        "params = params[\"params\"]\n",
        "\n",
        "# model_apply_batch = jax.vmap(model.apply, in_axes=(None, 0), out_axes=(0))\n",
        "\n",
        "# *** new ***: Fuck, jax.jit makes it so much faster even on GPU.\n",
        "model_apply_batch = jax.jit(jax.vmap(model.apply, in_axes=(None, 0), out_axes=(0)))\n",
        "\n",
        "def forward_pass(params, state, batch):\n",
        "  inputs, targets = batch\n",
        "  logits = state.apply_fn({\"params\": params}, inputs)\n",
        "  loss = optax.softmax_cross_entropy_with_integer_labels(logits, targets)\n",
        "  loss = loss.mean()\n",
        "  return loss\n",
        "\n",
        "grad_fn = jax.value_and_grad(forward_pass, argnums=(0))  # differentiate wrt 0th pos argument.\n",
        "\n",
        "opt = optax.adam(learning_rate=0.001)\n",
        "state = train_state.TrainState.create(apply_fn=model_apply_batch, params=params, tx=opt)\n",
        "\n",
        "for epoch in range(1000):\n",
        "  batch = get_batch()\n",
        "  loss, grads = grad_fn(state.params, state, batch)\n",
        "  print(loss) if epoch%100==0 else None\n",
        "  state = state.apply_gradients(grads=grads)"
      ],
      "metadata": {
        "colab": {
          "base_uri": "https://localhost:8080/"
        },
        "id": "u3i62quMPv4d",
        "outputId": "f625c1b2-5711-495d-ad04-1150d015ae87"
      },
      "execution_count": 82,
      "outputs": [
        {
          "output_type": "stream",
          "name": "stdout",
          "text": [
            "4.16981\n",
            "3.848041\n",
            "3.2327182\n",
            "2.9303553\n",
            "3.073019\n",
            "2.7059855\n",
            "2.8082283\n",
            "2.8490913\n",
            "2.7219572\n",
            "2.7902007\n"
          ]
        }
      ]
    },
    {
      "cell_type": "markdown",
      "source": [
        "# NanoGPT"
      ],
      "metadata": {
        "id": "-_JsJ5hoKQ-w"
      }
    },
    {
      "cell_type": "code",
      "source": [
        "class FeedForward(nn.Module):\n",
        "  output_size: int\n",
        "\n",
        "  def setup(self):\n",
        "    super().setup()\n",
        "    # **new**: attention paper uses 4 times token_info_size when doing linear transformation.\n",
        "    # and then projects it back to token_info_size in linear transformation layer.\n",
        "    self.ffwd = nn.Dense(features=4 * self.output_size)\n",
        "\n",
        "    # **new**: projection layer, which goes back into residual pathway.\n",
        "    self.projection = nn.Dense(self.output_size)\n",
        "\n",
        "  def __call__(self, x):\n",
        "    x = nn.relu(self.ffwd(x))\n",
        "    x = self.projection(x)\n",
        "    return x"
      ],
      "metadata": {
        "id": "M5XnQBReV27M"
      },
      "execution_count": 118,
      "outputs": []
    },
    {
      "cell_type": "code",
      "source": [
        "# (copy-pasting single head attention from above)\n",
        "class Head(nn.Module):\n",
        "  token_info_size: int # head_size; how much (emb dim) info each token emits for keys, queries, values.\n",
        "  T: int # block size; number of tokens in a block\n",
        "\n",
        "  def setup(self):\n",
        "    super().setup()\n",
        "    # key, query will take vector of size C.\n",
        "    # i.e., channels containing info of token and will output token_info_size\n",
        "    self.key_layer = nn.Dense(self.token_info_size, use_bias=False)\n",
        "    self.query_layer = nn.Dense(self.token_info_size, use_bias=False)\n",
        "    self.value_layer = nn.Dense(self.token_info_size, use_bias=False)\n",
        "\n",
        "\n",
        "  def __call__(self, block_of_tokens_with_info_channels: jnp.array):\n",
        "    \"\"\"Accepts a block of tokens with info channels, like (8, 65).\"\"\"\n",
        "\n",
        "    # TODO(ntnsonti): Double check; but tril should not be learnable according cGPT.\n",
        "    tril = jnp.tril(jnp.ones(shape=(self.T, self.T)))\n",
        "\n",
        "    keys = self.key_layer(block_of_tokens_with_info_channels) # (T, token_info_size)\n",
        "    queries = self.query_layer(block_of_tokens_with_info_channels)\n",
        "    values = self.value_layer(block_of_tokens_with_info_channels)\n",
        "\n",
        "    # chanel info size\n",
        "    C = int(block_of_tokens_with_info_channels.shape[-1])\n",
        "    print(\"[ntn99] channel_info_size: \", C)\n",
        "\n",
        "    # compute attention score.\n",
        "    wei = jnp.dot(queries, keys.T) * C**0.5 # (T, T)\n",
        "    wei = jnp.where(tril==0, -jnp.inf, wei)\n",
        "    wei = nn.softmax(wei, axis=-1)\n",
        "\n",
        "\n",
        "    out = jnp.dot(wei, values) # (T, T) * (T, token_info_size))\n",
        "    return out # (T, token_info_size)\n"
      ],
      "metadata": {
        "id": "gDjiKK7qQh7E"
      },
      "execution_count": 119,
      "outputs": []
    },
    {
      "cell_type": "code",
      "source": [
        "class MultiHeadAttention(nn.Module):\n",
        "  num_heads: int\n",
        "  final_token_info_size: int # After concatenating from all heads, how much info (values -- emb size) you have on each token.\n",
        "  T: int\n",
        "\n",
        "  def setup(self):\n",
        "    super().setup()\n",
        "    self.token_info_size_per_head = int(self.final_token_info_size/self.num_heads)\n",
        "    self.heads = [\n",
        "        Head(token_info_size=self.token_info_size_per_head, T=self.T) for _ in range(self.num_heads)\n",
        "    ]\n",
        "\n",
        "    self.projection = nn.Dense(features=self.final_token_info_size)\n",
        "\n",
        "  def __call__(self, block_of_tokens_with_info_channels: jnp.array):\n",
        "    out_from_each_head = jnp.array([h(block_of_tokens_with_info_channels) for h in self.heads])\n",
        "\n",
        "    # You just run multiple attention heads in parallel and concatenate\n",
        "    # their output along channel dimension, i.e., dim==-1\n",
        "    out_from_all_heads = jnp.concatenate(out_from_each_head, axis=-1)\n",
        "    print(\"[ntn99] out_from_all_heads concatenated shape: \", out_from_all_heads.shape)\n",
        "\n",
        "    return self.projection(out_from_all_heads)"
      ],
      "metadata": {
        "id": "k8SK5oL4Qh7P"
      },
      "execution_count": 120,
      "outputs": []
    },
    {
      "cell_type": "code",
      "source": [
        "class Block(nn.Module):\n",
        "  num_heads: int\n",
        "  final_token_info_size: int\n",
        "  T: int\n",
        "\n",
        "  def setup(self):\n",
        "    super().setup()\n",
        "\n",
        "    # communication.\n",
        "    self.self_attention_heads = MultiHeadAttention(num_heads=self.num_heads,\n",
        "                                                   final_token_info_size=self.final_token_info_size,\n",
        "                                                   T=self.T)\n",
        "\n",
        "    # computation.\n",
        "    self.computation_layer = FeedForward(output_size=self.final_token_info_size)\n",
        "\n",
        "    self.ln1 = nn.LayerNorm()\n",
        "    self.ln2 = nn.LayerNorm()\n",
        "\n",
        "  def __call__(self, x):\n",
        "    x = x + self.self_attention_heads(self.ln1(x))\n",
        "    print(\"[ntn99] input size after attention_head: \", x.shape)\n",
        "\n",
        "    x = x + self.computation_layer(self.ln2(x))\n",
        "    print(\"[ntn99] input size after computation (end of block): \", x.shape)\n",
        "    return x"
      ],
      "metadata": {
        "id": "-uqusnxtXfEE"
      },
      "execution_count": 121,
      "outputs": []
    },
    {
      "cell_type": "code",
      "source": [
        "class LanguageModel(nn.Module):\n",
        "  \"\"\"Reads one char and predicits the next char.\"\"\"\n",
        "  vocab_size: int # number of vocabulary (number of rows of embedding table)\n",
        "  n_embed: int # embedding dim after lookup\n",
        "  T: int # block size, i.e., number of tokens attention block is looking at once\n",
        "\n",
        "  def setup(self):\n",
        "    super().setup()\n",
        "    # number of channels you want to use for store info for each token.\n",
        "    self.C = self.vocab_size\n",
        "\n",
        "    self.token_embedding_table = nn.Embed(num_embeddings=self.vocab_size, features=self.n_embed)\n",
        "\n",
        "    self.pos_embedding_table = nn.Embed(num_embeddings=self.T, features=self.n_embed)\n",
        "\n",
        "    # *** new ***\n",
        "    # Since, there are 4 heads, each head only needs to output token_info of size 8.\n",
        "    # Concantenate token_info from all 4 heards, gives us 32\n",
        "    # self.self_attention_heads = MultiHeadAttention(num_heads=4, final_token_info_size=self.n_embed, T=self.T)\n",
        "    self.blocks = nn.Sequential([\n",
        "        Block(num_heads=4, final_token_info_size=self.n_embed, T=self.T),\n",
        "        Block(num_heads=4, final_token_info_size=self.n_embed, T=self.T),\n",
        "        Block(num_heads=4, final_token_info_size=self.n_embed, T=self.T),\n",
        "        Block(num_heads=4, final_token_info_size=self.n_embed, T=self.T),\n",
        "        nn.LayerNorm(), # TODO: I think my reduction_axis should be 0.\n",
        "    ])\n",
        "\n",
        "    self.lang_model_head = nn.Dense(features=self.C)\n",
        "\n",
        "  def __call__(self, block_of_tokens: jnp.array):\n",
        "    \"\"\"Accepts a block of tokens, like [0, 1, 2, 3, 4, 5, 6, 7].\"\"\"\n",
        "\n",
        "    # generate em for each token. output: (T, n_embed)\n",
        "    token_embs = self.token_embedding_table(block_of_tokens)\n",
        "\n",
        "    # generate position embs for each token.\n",
        "    ## get token positions.\n",
        "    num_pos = block_of_tokens.shape[0]\n",
        "    positions = jnp.arange(0, num_pos)\n",
        "    pos_embs = self.pos_embedding_table(positions)\n",
        "\n",
        "    # generate actual input to attention, x, which is sum of token_embs + pos_embs\n",
        "    x = token_embs + pos_embs\n",
        "\n",
        "    # feed x into self-attention head.\n",
        "    # x = self.self_attention_heads(x)\n",
        "    x = self.blocks(x)\n",
        "\n",
        "    # generate logits for each token. output: (T, channels for info -- C)\n",
        "    token_logits = self.lang_model_head(x)\n",
        "\n",
        "    return token_logits\n"
      ],
      "metadata": {
        "id": "PmX47dBOQh7P"
      },
      "execution_count": 130,
      "outputs": []
    },
    {
      "cell_type": "code",
      "source": [
        "model = LanguageModel(vocab_size=65, n_embed=32, T=BLOCK_SIZE)\n",
        "\n",
        "# Now, our language model needs to accept a block of tokens, not one-char at a time.\n",
        "# We'll then make it accept a batch of blocks of tokens using vmap.\n",
        "sample_block_of_tokens = jnp.ones(shape=(T), dtype=jnp.int32)\n",
        "output, params = model.init_with_output(jrand.PRNGKey(99), sample_block_of_tokens)\n",
        "params = params[\"params\"]\n",
        "\n",
        "# model_apply_batch = jax.vmap(model.apply, in_axes=(None, 0), out_axes=(0))\n",
        "\n",
        "# *** new ***: Fuck, jax.jit makes it so much faster even on GPU.\n",
        "model_apply_batch = jax.jit(jax.vmap(model.apply, in_axes=(None, 0), out_axes=(0)))\n",
        "\n",
        "def forward_pass(params, state, batch):\n",
        "  inputs, targets = batch\n",
        "  logits = state.apply_fn({\"params\": params}, inputs)\n",
        "  loss = optax.softmax_cross_entropy_with_integer_labels(logits, targets)\n",
        "  loss = loss.mean()\n",
        "  return loss\n",
        "\n",
        "grad_fn = jax.value_and_grad(forward_pass, argnums=(0))  # differentiate wrt 0th pos argument.\n",
        "\n",
        "opt = optax.adam(learning_rate=0.001)\n",
        "state = train_state.TrainState.create(apply_fn=model_apply_batch, params=params, tx=opt)\n",
        "\n",
        "for epoch in range(1000):\n",
        "  batch = get_batch()\n",
        "  loss, grads = grad_fn(state.params, state, batch)\n",
        "  print(loss) if epoch%100==0 else None\n",
        "  state = state.apply_gradients(grads=grads)"
      ],
      "metadata": {
        "colab": {
          "base_uri": "https://localhost:8080/"
        },
        "outputId": "d6d17e5d-6641-421c-dd6b-7152547ba523",
        "id": "5Bt4gmGPQh7P"
      },
      "execution_count": null,
      "outputs": [
        {
          "output_type": "stream",
          "name": "stdout",
          "text": [
            "[ntn99] channel_info_size:  32\n",
            "[ntn99] channel_info_size:  32\n",
            "[ntn99] channel_info_size:  32\n",
            "[ntn99] channel_info_size:  32\n",
            "[ntn99] out_from_all_heads concatenated shape:  (8, 32)\n",
            "[ntn99] input size after attention_head:  (8, 32)\n",
            "[ntn99] input size after computation (end of block):  (8, 32)\n",
            "[ntn99] channel_info_size:  32\n",
            "[ntn99] channel_info_size:  32\n",
            "[ntn99] channel_info_size:  32\n",
            "[ntn99] channel_info_size:  32\n",
            "[ntn99] out_from_all_heads concatenated shape:  (8, 32)\n",
            "[ntn99] input size after attention_head:  (8, 32)\n",
            "[ntn99] input size after computation (end of block):  (8, 32)\n",
            "[ntn99] channel_info_size:  32\n",
            "[ntn99] channel_info_size:  32\n",
            "[ntn99] channel_info_size:  32\n",
            "[ntn99] channel_info_size:  32\n",
            "[ntn99] out_from_all_heads concatenated shape:  (8, 32)\n",
            "[ntn99] input size after attention_head:  (8, 32)\n",
            "[ntn99] input size after computation (end of block):  (8, 32)\n",
            "[ntn99] channel_info_size:  32\n",
            "[ntn99] channel_info_size:  32\n",
            "[ntn99] channel_info_size:  32\n",
            "[ntn99] channel_info_size:  32\n",
            "[ntn99] out_from_all_heads concatenated shape:  (8, 32)\n",
            "[ntn99] input size after attention_head:  (8, 32)\n",
            "[ntn99] input size after computation (end of block):  (8, 32)\n",
            "[ntn99] channel_info_size:  32\n",
            "[ntn99] channel_info_size:  32\n",
            "[ntn99] channel_info_size:  32\n",
            "[ntn99] channel_info_size:  32\n",
            "[ntn99] out_from_all_heads concatenated shape:  (8, 32)\n",
            "[ntn99] input size after attention_head:  (8, 32)\n",
            "[ntn99] input size after computation (end of block):  (8, 32)\n",
            "[ntn99] channel_info_size:  32\n",
            "[ntn99] channel_info_size:  32\n",
            "[ntn99] channel_info_size:  32\n",
            "[ntn99] channel_info_size:  32\n",
            "[ntn99] out_from_all_heads concatenated shape:  (8, 32)\n",
            "[ntn99] input size after attention_head:  (8, 32)\n",
            "[ntn99] input size after computation (end of block):  (8, 32)\n",
            "[ntn99] channel_info_size:  32\n",
            "[ntn99] channel_info_size:  32\n",
            "[ntn99] channel_info_size:  32\n",
            "[ntn99] channel_info_size:  32\n",
            "[ntn99] out_from_all_heads concatenated shape:  (8, 32)\n",
            "[ntn99] input size after attention_head:  (8, 32)\n",
            "[ntn99] input size after computation (end of block):  (8, 32)\n",
            "[ntn99] channel_info_size:  32\n",
            "[ntn99] channel_info_size:  32\n",
            "[ntn99] channel_info_size:  32\n",
            "[ntn99] channel_info_size:  32\n",
            "[ntn99] out_from_all_heads concatenated shape:  (8, 32)\n",
            "[ntn99] input size after attention_head:  (8, 32)\n",
            "[ntn99] input size after computation (end of block):  (8, 32)\n",
            "4.6113214\n",
            "3.1610365\n",
            "3.1268237\n",
            "3.3073378\n",
            "2.637525\n",
            "3.8197784\n",
            "3.3699846\n",
            "2.891018\n"
          ]
        }
      ]
    }
  ]
}