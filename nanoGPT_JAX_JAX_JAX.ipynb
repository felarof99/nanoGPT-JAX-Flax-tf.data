{
  "nbformat": 4,
  "nbformat_minor": 0,
  "metadata": {
    "colab": {
      "provenance": []
    },
    "kernelspec": {
      "name": "python3",
      "display_name": "Python 3"
    },
    "language_info": {
      "name": "python"
    }
  },
  "cells": [
    {
      "cell_type": "markdown",
      "source": [
        "<h1>Install dependencies for CPU</h1>"
      ],
      "metadata": {
        "id": "16WhNG98gurS"
      }
    },
    {
      "cell_type": "code",
      "execution_count": 153,
      "metadata": {
        "id": "6427RRkAbysU",
        "colab": {
          "base_uri": "https://localhost:8080/",
          "height": 297
        },
        "outputId": "b55ccf80-d698-4f7c-89e1-9c8957c84994"
      },
      "outputs": [
        {
          "output_type": "display_data",
          "data": {
            "text/plain": [
              "<IPython.core.display.HTML object>"
            ],
            "text/html": [
              "<style>\n",
              "    h1 { font-size: 30px; } /* Custom size for H1 */\n",
              "    h2 { font-size: 24px; } /* Custom size for H2 */\n",
              "    h3 { font-size: 18px; } /* Custom size for H3 */\n",
              "    /* Add more as needed */\n",
              "  </style>"
            ]
          },
          "metadata": {}
        },
        {
          "output_type": "display_data",
          "data": {
            "text/plain": [
              "<IPython.core.display.HTML object>"
            ],
            "text/html": [
              "<style>\n",
              "    h1 { font-size: 40px; } /* Custom size for H1 */\n",
              "    h2 { font-size: 24px; } /* Custom size for H2 */\n",
              "    h3 { font-size: 18px; } /* Custom size for H3 */\n",
              "    /* Add more as needed */\n",
              "  </style>"
            ]
          },
          "metadata": {}
        },
        {
          "output_type": "display_data",
          "data": {
            "text/plain": [
              "<IPython.core.display.HTML object>"
            ],
            "text/html": [
              "<style>\n",
              "    h1 { font-size: 40px; } /* Custom size for H1 */\n",
              "    h2 { font-size: 24px; } /* Custom size for H2 */\n",
              "    h3 { font-size: 18px; } /* Custom size for H3 */\n",
              "    /* Add more as needed */\n",
              "  </style>"
            ]
          },
          "metadata": {}
        },
        {
          "output_type": "display_data",
          "data": {
            "text/plain": [
              "<IPython.core.display.HTML object>"
            ],
            "text/html": [
              "<style>\n",
              "    h1 { font-size: 60px; } /* Custom size for H1 */\n",
              "    h2 { font-size: 24px; } /* Custom size for H2 */\n",
              "    h3 { font-size: 18px; } /* Custom size for H3 */\n",
              "    /* Add more as needed */\n",
              "  </style>"
            ]
          },
          "metadata": {}
        },
        {
          "output_type": "stream",
          "name": "stdout",
          "text": [
            "--2024-02-03 19:25:10--  https://raw.githubusercontent.com/karpathy/char-rnn/master/data/tinyshakespeare/input.txt\n",
            "Resolving raw.githubusercontent.com (raw.githubusercontent.com)... 185.199.108.133, 185.199.111.133, 185.199.109.133, ...\n",
            "Connecting to raw.githubusercontent.com (raw.githubusercontent.com)|185.199.108.133|:443... connected.\n",
            "HTTP request sent, awaiting response... 200 OK\n",
            "Length: 1115394 (1.1M) [text/plain]\n",
            "Saving to: ‘input.txt.4’\n",
            "\n",
            "\rinput.txt.4           0%[                    ]       0  --.-KB/s               \rinput.txt.4         100%[===================>]   1.06M  --.-KB/s    in 0.03s   \n",
            "\n",
            "2024-02-03 19:25:10 (30.5 MB/s) - ‘input.txt.4’ saved [1115394/1115394]\n",
            "\n",
            "\u001b[33mWARNING: Running pip as the 'root' user can result in broken permissions and conflicting behaviour with the system package manager. It is recommended to use a virtual environment instead: https://pip.pypa.io/warnings/venv\u001b[0m\u001b[33m\n",
            "\u001b[0m\u001b[33mWARNING: Running pip as the 'root' user can result in broken permissions and conflicting behaviour with the system package manager. It is recommended to use a virtual environment instead: https://pip.pypa.io/warnings/venv\u001b[0m\u001b[33m\n",
            "\u001b[0m\u001b[33mWARNING: Running pip as the 'root' user can result in broken permissions and conflicting behaviour with the system package manager. It is recommended to use a virtual environment instead: https://pip.pypa.io/warnings/venv\u001b[0m\u001b[33m\n",
            "\u001b[0m\u001b[33mWARNING: Running pip as the 'root' user can result in broken permissions and conflicting behaviour with the system package manager. It is recommended to use a virtual environment instead: https://pip.pypa.io/warnings/venv\u001b[0m\u001b[33m\n",
            "\u001b[0m"
          ]
        }
      ],
      "source": [
        "# We always start with a dataset to train on. Let's download the tiny shakespeare dataset\n",
        "!wget https://raw.githubusercontent.com/karpathy/char-rnn/master/data/tinyshakespeare/input.txt\n",
        "\n",
        "!pip install -q --upgrade pip # To support manylinux2010 wheels.\n",
        "!pip install -q --upgrade jax jaxlib # CPU-only\n",
        "!pip install -q --upgrade jaxtyping\n",
        "!pip install -q --upgrade flax"
      ]
    },
    {
      "cell_type": "code",
      "source": [
        "from typing import List, Dict, Mapping, Tuple\n",
        "\n",
        "import jax\n",
        "import jax.numpy as jnp\n",
        "import jax.random as jrand\n",
        "import jaxtyping\n",
        "import flax.linen as nn\n",
        "from flax.training import train_state  # Useful dataclass to keep train state\n",
        "import optax\n",
        "import tensorflow as tf\n",
        "import pdb\n",
        "\n",
        "def println(*args):\n",
        "  for arg in args:\n",
        "    print(arg)\n"
      ],
      "metadata": {
        "id": "OZqEXlfmfuwo",
        "colab": {
          "base_uri": "https://localhost:8080/",
          "height": 17
        },
        "outputId": "5792c1c3-3f93-4650-e469-1399d74e047d"
      },
      "execution_count": 154,
      "outputs": [
        {
          "output_type": "display_data",
          "data": {
            "text/plain": [
              "<IPython.core.display.HTML object>"
            ],
            "text/html": [
              "<style>\n",
              "    h1 { font-size: 30px; } /* Custom size for H1 */\n",
              "    h2 { font-size: 24px; } /* Custom size for H2 */\n",
              "    h3 { font-size: 18px; } /* Custom size for H3 */\n",
              "    /* Add more as needed */\n",
              "  </style>"
            ]
          },
          "metadata": {}
        },
        {
          "output_type": "display_data",
          "data": {
            "text/plain": [
              "<IPython.core.display.HTML object>"
            ],
            "text/html": [
              "<style>\n",
              "    h1 { font-size: 40px; } /* Custom size for H1 */\n",
              "    h2 { font-size: 24px; } /* Custom size for H2 */\n",
              "    h3 { font-size: 18px; } /* Custom size for H3 */\n",
              "    /* Add more as needed */\n",
              "  </style>"
            ]
          },
          "metadata": {}
        },
        {
          "output_type": "display_data",
          "data": {
            "text/plain": [
              "<IPython.core.display.HTML object>"
            ],
            "text/html": [
              "<style>\n",
              "    h1 { font-size: 40px; } /* Custom size for H1 */\n",
              "    h2 { font-size: 24px; } /* Custom size for H2 */\n",
              "    h3 { font-size: 18px; } /* Custom size for H3 */\n",
              "    /* Add more as needed */\n",
              "  </style>"
            ]
          },
          "metadata": {}
        },
        {
          "output_type": "display_data",
          "data": {
            "text/plain": [
              "<IPython.core.display.HTML object>"
            ],
            "text/html": [
              "<style>\n",
              "    h1 { font-size: 60px; } /* Custom size for H1 */\n",
              "    h2 { font-size: 24px; } /* Custom size for H2 */\n",
              "    h3 { font-size: 18px; } /* Custom size for H3 */\n",
              "    /* Add more as needed */\n",
              "  </style>"
            ]
          },
          "metadata": {}
        }
      ]
    },
    {
      "cell_type": "markdown",
      "source": [
        "# Dataset pipeline"
      ],
      "metadata": {
        "id": "TeccUW1zg-V-"
      }
    },
    {
      "cell_type": "code",
      "source": [
        "with open('input.txt', 'r', encoding='utf-8') as f:\n",
        "    text = f.read()\n",
        "\n",
        "# Create chars vocubulary using all the unique characters in the text.\n",
        "chars = sorted(list(set(text)))\n",
        "VOCAB_SIZE = len(chars)\n",
        "\n",
        "# Create mapping from characters to integers.\n",
        "stoi = {ch: i for i, ch in enumerate(chars)}\n",
        "\n",
        "# Create reverse mapping from integers to characters.\n",
        "itos = {i: ch for i, ch in enumerate(chars)}\n",
        "\n",
        "# Create encode, decode function.\n",
        "def encode(s: str, stoi: Mapping[str, int]) -> List[int]:\n",
        "  return [stoi[c] for c in s]\n",
        "\n",
        "def decode(tokens: List[int], itos: Mapping[int, str]) -> str:\n",
        "  return ''.join([itos[i] for i in tokens])\n",
        "\n",
        "println(encode(\"hii there\", stoi), decode(encode(\"hii there\", stoi), itos))\n",
        "\n",
        "# Let's now split up the data into train and validation sets.\n",
        "data = jnp.array(encode(text, stoi), dtype=jnp.int64)\n",
        "n = int(0.9*len(data))\n",
        "train_data = data[:n]\n",
        "val_data = data[n:]\n",
        "\n",
        "# Below would result in a minibatch size of 32.\n",
        "BATCH_SIZE = 4 # how many independent sequences will we process in parallel?\n",
        "BLOCK_SIZE = 8 # what is the maximum context length for predictions?\n",
        "\n",
        "train_dataset = (tf.data.Dataset.from_tensor_slices(train_data)\n",
        "                .batch(BLOCK_SIZE+1)\n",
        "                .map(lambda input: (input[:BLOCK_SIZE], input[1:BLOCK_SIZE+1]),\n",
        "                     num_parallel_calls=tf.data.AUTOTUNE)\n",
        "                .batch(BATCH_SIZE)\n",
        "                .repeat()\n",
        "                .as_numpy_iterator())\n",
        "val_dataset = (tf.data.Dataset.from_tensor_slices(val_data)\n",
        "                .batch(BLOCK_SIZE+1)\n",
        "                .map(lambda input: (input[:BLOCK_SIZE], input[1:BLOCK_SIZE+1]),\n",
        "                     num_parallel_calls=tf.data.AUTOTUNE)\n",
        "                .batch(BATCH_SIZE)\n",
        "                .repeat()\n",
        "                .as_numpy_iterator())\n",
        "\n",
        "def get_batch(training: bool = True):\n",
        "  if not training:\n",
        "    val_batch = next(val_dataset)\n",
        "    return jnp.array(val_batch)\n",
        "\n",
        "  train_batch = next(train_dataset)\n",
        "  return jnp.array(train_batch)"
      ],
      "metadata": {
        "colab": {
          "base_uri": "https://localhost:8080/",
          "height": 106
        },
        "id": "jYycQ8ocg2sy",
        "outputId": "7fbe67ab-74f4-4a75-caef-51b92b994a74"
      },
      "execution_count": 155,
      "outputs": [
        {
          "output_type": "display_data",
          "data": {
            "text/plain": [
              "<IPython.core.display.HTML object>"
            ],
            "text/html": [
              "<style>\n",
              "    h1 { font-size: 30px; } /* Custom size for H1 */\n",
              "    h2 { font-size: 24px; } /* Custom size for H2 */\n",
              "    h3 { font-size: 18px; } /* Custom size for H3 */\n",
              "    /* Add more as needed */\n",
              "  </style>"
            ]
          },
          "metadata": {}
        },
        {
          "output_type": "display_data",
          "data": {
            "text/plain": [
              "<IPython.core.display.HTML object>"
            ],
            "text/html": [
              "<style>\n",
              "    h1 { font-size: 40px; } /* Custom size for H1 */\n",
              "    h2 { font-size: 24px; } /* Custom size for H2 */\n",
              "    h3 { font-size: 18px; } /* Custom size for H3 */\n",
              "    /* Add more as needed */\n",
              "  </style>"
            ]
          },
          "metadata": {}
        },
        {
          "output_type": "display_data",
          "data": {
            "text/plain": [
              "<IPython.core.display.HTML object>"
            ],
            "text/html": [
              "<style>\n",
              "    h1 { font-size: 40px; } /* Custom size for H1 */\n",
              "    h2 { font-size: 24px; } /* Custom size for H2 */\n",
              "    h3 { font-size: 18px; } /* Custom size for H3 */\n",
              "    /* Add more as needed */\n",
              "  </style>"
            ]
          },
          "metadata": {}
        },
        {
          "output_type": "display_data",
          "data": {
            "text/plain": [
              "<IPython.core.display.HTML object>"
            ],
            "text/html": [
              "<style>\n",
              "    h1 { font-size: 60px; } /* Custom size for H1 */\n",
              "    h2 { font-size: 24px; } /* Custom size for H2 */\n",
              "    h3 { font-size: 18px; } /* Custom size for H3 */\n",
              "    /* Add more as needed */\n",
              "  </style>"
            ]
          },
          "metadata": {}
        },
        {
          "output_type": "stream",
          "name": "stdout",
          "text": [
            "[46, 47, 47, 1, 58, 46, 43, 56, 43]\n",
            "hii there\n"
          ]
        },
        {
          "output_type": "stream",
          "name": "stderr",
          "text": [
            "<ipython-input-155-560c18dc3230>:24: UserWarning: Explicitly requested dtype <class 'jax.numpy.int64'> requested in array is not available, and will be truncated to dtype int32. To enable more dtypes, set the jax_enable_x64 configuration option or the JAX_ENABLE_X64 shell environment variable. See https://github.com/google/jax#current-gotchas for more.\n",
            "  data = jnp.array(encode(text, stoi), dtype=jnp.int64)\n"
          ]
        }
      ]
    },
    {
      "cell_type": "markdown",
      "source": [
        "### Test dataset pipeline"
      ],
      "metadata": {
        "id": "sTAGaeSwXeG8"
      }
    },
    {
      "cell_type": "code",
      "source": [
        "xb, yb = get_batch()\n",
        "println(\"inputs\", xb, \"inputs shape\", xb.shape)\n",
        "println(\"targets\", yb, \"targets shape\", yb.shape)\n",
        "for b in range(BATCH_SIZE): # batch dimension\n",
        "    for t in range(BLOCK_SIZE): # time dimension\n",
        "        context = xb[b, :t+1]\n",
        "        target = yb[b,t]\n",
        "        print(f\"when input is {context.tolist()} the target: {target}\")"
      ],
      "metadata": {
        "colab": {
          "base_uri": "https://localhost:8080/",
          "height": 816
        },
        "id": "3YTqHDylg6cY",
        "outputId": "65743c9b-920f-4c65-d0d4-aa0f2ea2d02e"
      },
      "execution_count": 156,
      "outputs": [
        {
          "output_type": "display_data",
          "data": {
            "text/plain": [
              "<IPython.core.display.HTML object>"
            ],
            "text/html": [
              "<style>\n",
              "    h1 { font-size: 30px; } /* Custom size for H1 */\n",
              "    h2 { font-size: 24px; } /* Custom size for H2 */\n",
              "    h3 { font-size: 18px; } /* Custom size for H3 */\n",
              "    /* Add more as needed */\n",
              "  </style>"
            ]
          },
          "metadata": {}
        },
        {
          "output_type": "display_data",
          "data": {
            "text/plain": [
              "<IPython.core.display.HTML object>"
            ],
            "text/html": [
              "<style>\n",
              "    h1 { font-size: 40px; } /* Custom size for H1 */\n",
              "    h2 { font-size: 24px; } /* Custom size for H2 */\n",
              "    h3 { font-size: 18px; } /* Custom size for H3 */\n",
              "    /* Add more as needed */\n",
              "  </style>"
            ]
          },
          "metadata": {}
        },
        {
          "output_type": "display_data",
          "data": {
            "text/plain": [
              "<IPython.core.display.HTML object>"
            ],
            "text/html": [
              "<style>\n",
              "    h1 { font-size: 40px; } /* Custom size for H1 */\n",
              "    h2 { font-size: 24px; } /* Custom size for H2 */\n",
              "    h3 { font-size: 18px; } /* Custom size for H3 */\n",
              "    /* Add more as needed */\n",
              "  </style>"
            ]
          },
          "metadata": {}
        },
        {
          "output_type": "display_data",
          "data": {
            "text/plain": [
              "<IPython.core.display.HTML object>"
            ],
            "text/html": [
              "<style>\n",
              "    h1 { font-size: 60px; } /* Custom size for H1 */\n",
              "    h2 { font-size: 24px; } /* Custom size for H2 */\n",
              "    h3 { font-size: 18px; } /* Custom size for H3 */\n",
              "    /* Add more as needed */\n",
              "  </style>"
            ]
          },
          "metadata": {}
        },
        {
          "output_type": "stream",
          "name": "stdout",
          "text": [
            "inputs\n",
            "[[18 47 56 57 58  1 15 47]\n",
            " [47 64 43 52 10  0 14 43]\n",
            " [53 56 43  1 61 43  1 54]\n",
            " [53 41 43 43 42  1 39 52]]\n",
            "inputs shape\n",
            "(4, 8)\n",
            "targets\n",
            "[[47 56 57 58  1 15 47 58]\n",
            " [64 43 52 10  0 14 43 44]\n",
            " [56 43  1 61 43  1 54 56]\n",
            " [41 43 43 42  1 39 52 63]]\n",
            "targets shape\n",
            "(4, 8)\n",
            "when input is [18] the target: 47\n",
            "when input is [18, 47] the target: 56\n",
            "when input is [18, 47, 56] the target: 57\n",
            "when input is [18, 47, 56, 57] the target: 58\n",
            "when input is [18, 47, 56, 57, 58] the target: 1\n",
            "when input is [18, 47, 56, 57, 58, 1] the target: 15\n",
            "when input is [18, 47, 56, 57, 58, 1, 15] the target: 47\n",
            "when input is [18, 47, 56, 57, 58, 1, 15, 47] the target: 58\n",
            "when input is [47] the target: 64\n",
            "when input is [47, 64] the target: 43\n",
            "when input is [47, 64, 43] the target: 52\n",
            "when input is [47, 64, 43, 52] the target: 10\n",
            "when input is [47, 64, 43, 52, 10] the target: 0\n",
            "when input is [47, 64, 43, 52, 10, 0] the target: 14\n",
            "when input is [47, 64, 43, 52, 10, 0, 14] the target: 43\n",
            "when input is [47, 64, 43, 52, 10, 0, 14, 43] the target: 44\n",
            "when input is [53] the target: 56\n",
            "when input is [53, 56] the target: 43\n",
            "when input is [53, 56, 43] the target: 1\n",
            "when input is [53, 56, 43, 1] the target: 61\n",
            "when input is [53, 56, 43, 1, 61] the target: 43\n",
            "when input is [53, 56, 43, 1, 61, 43] the target: 1\n",
            "when input is [53, 56, 43, 1, 61, 43, 1] the target: 54\n",
            "when input is [53, 56, 43, 1, 61, 43, 1, 54] the target: 56\n",
            "when input is [53] the target: 41\n",
            "when input is [53, 41] the target: 43\n",
            "when input is [53, 41, 43] the target: 43\n",
            "when input is [53, 41, 43, 43] the target: 42\n",
            "when input is [53, 41, 43, 43, 42] the target: 1\n",
            "when input is [53, 41, 43, 43, 42, 1] the target: 39\n",
            "when input is [53, 41, 43, 43, 42, 1, 39] the target: 52\n",
            "when input is [53, 41, 43, 43, 42, 1, 39, 52] the target: 63\n"
          ]
        }
      ]
    },
    {
      "cell_type": "markdown",
      "source": [
        "# Implement Bigram Model"
      ],
      "metadata": {
        "id": "a3ozrVm0XiVN"
      }
    },
    {
      "cell_type": "code",
      "source": [
        "class BigramLangModel(nn.Module):\n",
        "  \"\"\"Reads one char and predicits the next char.\"\"\"\n",
        "  vocab_size: int\n",
        "\n",
        "  def setup(self):\n",
        "    super().setup()\n",
        "    self.token_embedding_table = nn.Embed(num_embeddings=self.vocab_size, features=self.vocab_size)\n",
        "\n",
        "  def __call__(self, inputs):\n",
        "    # Run block size inputs through embedding lookup.\n",
        "    # For each char, you get the logit predicted for that char.\n",
        "    # Then, you use the target token for that input and do a cross_entropy_loss.\n",
        "    logits = self.token_embedding_table(inputs)\n",
        "    return logits"
      ],
      "metadata": {
        "id": "2eyyiNsw_YL-",
        "colab": {
          "base_uri": "https://localhost:8080/",
          "height": 17
        },
        "outputId": "75611da1-e5f1-453d-e896-4248b5e3c738"
      },
      "execution_count": 157,
      "outputs": [
        {
          "output_type": "display_data",
          "data": {
            "text/plain": [
              "<IPython.core.display.HTML object>"
            ],
            "text/html": [
              "<style>\n",
              "    h1 { font-size: 30px; } /* Custom size for H1 */\n",
              "    h2 { font-size: 24px; } /* Custom size for H2 */\n",
              "    h3 { font-size: 18px; } /* Custom size for H3 */\n",
              "    /* Add more as needed */\n",
              "  </style>"
            ]
          },
          "metadata": {}
        },
        {
          "output_type": "display_data",
          "data": {
            "text/plain": [
              "<IPython.core.display.HTML object>"
            ],
            "text/html": [
              "<style>\n",
              "    h1 { font-size: 40px; } /* Custom size for H1 */\n",
              "    h2 { font-size: 24px; } /* Custom size for H2 */\n",
              "    h3 { font-size: 18px; } /* Custom size for H3 */\n",
              "    /* Add more as needed */\n",
              "  </style>"
            ]
          },
          "metadata": {}
        },
        {
          "output_type": "display_data",
          "data": {
            "text/plain": [
              "<IPython.core.display.HTML object>"
            ],
            "text/html": [
              "<style>\n",
              "    h1 { font-size: 40px; } /* Custom size for H1 */\n",
              "    h2 { font-size: 24px; } /* Custom size for H2 */\n",
              "    h3 { font-size: 18px; } /* Custom size for H3 */\n",
              "    /* Add more as needed */\n",
              "  </style>"
            ]
          },
          "metadata": {}
        },
        {
          "output_type": "display_data",
          "data": {
            "text/plain": [
              "<IPython.core.display.HTML object>"
            ],
            "text/html": [
              "<style>\n",
              "    h1 { font-size: 60px; } /* Custom size for H1 */\n",
              "    h2 { font-size: 24px; } /* Custom size for H2 */\n",
              "    h3 { font-size: 18px; } /* Custom size for H3 */\n",
              "    /* Add more as needed */\n",
              "  </style>"
            ]
          },
          "metadata": {}
        }
      ]
    },
    {
      "cell_type": "markdown",
      "source": [
        "## I'll make the flax model accept\n",
        "`[block size worth tokens, token]`\n",
        "\n",
        "## I'll then use vmap to make the model accept batches of data.\n",
        "`[batch dim, block size worth of tokens, token]`"
      ],
      "metadata": {
        "id": "bLZdjG6cVxij"
      }
    },
    {
      "cell_type": "code",
      "source": [
        "sample_input_row = jnp.ones(shape=[1, 1], dtype=jnp.int32)\n",
        "sample_input_row"
      ],
      "metadata": {
        "colab": {
          "base_uri": "https://localhost:8080/",
          "height": 34
        },
        "id": "FkxBwwipK6Yc",
        "outputId": "53b80882-a187-411e-d9f7-f0a42758eaaa"
      },
      "execution_count": 158,
      "outputs": [
        {
          "output_type": "display_data",
          "data": {
            "text/plain": [
              "<IPython.core.display.HTML object>"
            ],
            "text/html": [
              "<style>\n",
              "    h1 { font-size: 30px; } /* Custom size for H1 */\n",
              "    h2 { font-size: 24px; } /* Custom size for H2 */\n",
              "    h3 { font-size: 18px; } /* Custom size for H3 */\n",
              "    /* Add more as needed */\n",
              "  </style>"
            ]
          },
          "metadata": {}
        },
        {
          "output_type": "display_data",
          "data": {
            "text/plain": [
              "<IPython.core.display.HTML object>"
            ],
            "text/html": [
              "<style>\n",
              "    h1 { font-size: 40px; } /* Custom size for H1 */\n",
              "    h2 { font-size: 24px; } /* Custom size for H2 */\n",
              "    h3 { font-size: 18px; } /* Custom size for H3 */\n",
              "    /* Add more as needed */\n",
              "  </style>"
            ]
          },
          "metadata": {}
        },
        {
          "output_type": "display_data",
          "data": {
            "text/plain": [
              "<IPython.core.display.HTML object>"
            ],
            "text/html": [
              "<style>\n",
              "    h1 { font-size: 40px; } /* Custom size for H1 */\n",
              "    h2 { font-size: 24px; } /* Custom size for H2 */\n",
              "    h3 { font-size: 18px; } /* Custom size for H3 */\n",
              "    /* Add more as needed */\n",
              "  </style>"
            ]
          },
          "metadata": {}
        },
        {
          "output_type": "display_data",
          "data": {
            "text/plain": [
              "<IPython.core.display.HTML object>"
            ],
            "text/html": [
              "<style>\n",
              "    h1 { font-size: 60px; } /* Custom size for H1 */\n",
              "    h2 { font-size: 24px; } /* Custom size for H2 */\n",
              "    h3 { font-size: 18px; } /* Custom size for H3 */\n",
              "    /* Add more as needed */\n",
              "  </style>"
            ]
          },
          "metadata": {}
        },
        {
          "output_type": "execute_result",
          "data": {
            "text/plain": [
              "Array([[1]], dtype=int32)"
            ]
          },
          "metadata": {},
          "execution_count": 158
        }
      ]
    },
    {
      "cell_type": "code",
      "source": [
        "model = BigramLangModel(vocab_size=65)\n",
        "output, params = model.init_with_output(jrand.PRNGKey(99), sample_input_row)\n",
        "params = params[\"params\"]"
      ],
      "metadata": {
        "id": "dtb3A3KFCgF8",
        "outputId": "90f74454-6fdf-4a34-aca8-4746a0dd3a7a",
        "colab": {
          "base_uri": "https://localhost:8080/",
          "height": 17
        }
      },
      "execution_count": 159,
      "outputs": [
        {
          "output_type": "display_data",
          "data": {
            "text/plain": [
              "<IPython.core.display.HTML object>"
            ],
            "text/html": [
              "<style>\n",
              "    h1 { font-size: 30px; } /* Custom size for H1 */\n",
              "    h2 { font-size: 24px; } /* Custom size for H2 */\n",
              "    h3 { font-size: 18px; } /* Custom size for H3 */\n",
              "    /* Add more as needed */\n",
              "  </style>"
            ]
          },
          "metadata": {}
        },
        {
          "output_type": "display_data",
          "data": {
            "text/plain": [
              "<IPython.core.display.HTML object>"
            ],
            "text/html": [
              "<style>\n",
              "    h1 { font-size: 40px; } /* Custom size for H1 */\n",
              "    h2 { font-size: 24px; } /* Custom size for H2 */\n",
              "    h3 { font-size: 18px; } /* Custom size for H3 */\n",
              "    /* Add more as needed */\n",
              "  </style>"
            ]
          },
          "metadata": {}
        },
        {
          "output_type": "display_data",
          "data": {
            "text/plain": [
              "<IPython.core.display.HTML object>"
            ],
            "text/html": [
              "<style>\n",
              "    h1 { font-size: 40px; } /* Custom size for H1 */\n",
              "    h2 { font-size: 24px; } /* Custom size for H2 */\n",
              "    h3 { font-size: 18px; } /* Custom size for H3 */\n",
              "    /* Add more as needed */\n",
              "  </style>"
            ]
          },
          "metadata": {}
        },
        {
          "output_type": "display_data",
          "data": {
            "text/plain": [
              "<IPython.core.display.HTML object>"
            ],
            "text/html": [
              "<style>\n",
              "    h1 { font-size: 60px; } /* Custom size for H1 */\n",
              "    h2 { font-size: 24px; } /* Custom size for H2 */\n",
              "    h3 { font-size: 18px; } /* Custom size for H3 */\n",
              "    /* Add more as needed */\n",
              "  </style>"
            ]
          },
          "metadata": {}
        }
      ]
    },
    {
      "cell_type": "markdown",
      "source": [
        "## Make the model accepts batch of data\n",
        "`[batch, block of tokens, token_ids]`\n",
        "\n",
        "## To make it accept a batch, you need to use vmap."
      ],
      "metadata": {
        "id": "n0GfZYSQRE93"
      }
    },
    {
      "cell_type": "code",
      "source": [
        "model_apply_batch = jax.vmap(model.apply, in_axes=(None, 0), out_axes=(0))"
      ],
      "metadata": {
        "colab": {
          "base_uri": "https://localhost:8080/",
          "height": 17
        },
        "id": "nu8eFbAURSOy",
        "outputId": "13a891d8-c89f-4bdd-8231-4b2dfac206f5"
      },
      "execution_count": 160,
      "outputs": [
        {
          "output_type": "display_data",
          "data": {
            "text/plain": [
              "<IPython.core.display.HTML object>"
            ],
            "text/html": [
              "<style>\n",
              "    h1 { font-size: 30px; } /* Custom size for H1 */\n",
              "    h2 { font-size: 24px; } /* Custom size for H2 */\n",
              "    h3 { font-size: 18px; } /* Custom size for H3 */\n",
              "    /* Add more as needed */\n",
              "  </style>"
            ]
          },
          "metadata": {}
        },
        {
          "output_type": "display_data",
          "data": {
            "text/plain": [
              "<IPython.core.display.HTML object>"
            ],
            "text/html": [
              "<style>\n",
              "    h1 { font-size: 40px; } /* Custom size for H1 */\n",
              "    h2 { font-size: 24px; } /* Custom size for H2 */\n",
              "    h3 { font-size: 18px; } /* Custom size for H3 */\n",
              "    /* Add more as needed */\n",
              "  </style>"
            ]
          },
          "metadata": {}
        },
        {
          "output_type": "display_data",
          "data": {
            "text/plain": [
              "<IPython.core.display.HTML object>"
            ],
            "text/html": [
              "<style>\n",
              "    h1 { font-size: 40px; } /* Custom size for H1 */\n",
              "    h2 { font-size: 24px; } /* Custom size for H2 */\n",
              "    h3 { font-size: 18px; } /* Custom size for H3 */\n",
              "    /* Add more as needed */\n",
              "  </style>"
            ]
          },
          "metadata": {}
        },
        {
          "output_type": "display_data",
          "data": {
            "text/plain": [
              "<IPython.core.display.HTML object>"
            ],
            "text/html": [
              "<style>\n",
              "    h1 { font-size: 60px; } /* Custom size for H1 */\n",
              "    h2 { font-size: 24px; } /* Custom size for H2 */\n",
              "    h3 { font-size: 18px; } /* Custom size for H3 */\n",
              "    /* Add more as needed */\n",
              "  </style>"
            ]
          },
          "metadata": {}
        }
      ]
    },
    {
      "cell_type": "code",
      "source": [
        "# model_apply_batch will accept\n",
        "# [batch, block of tokens, token ids]"
      ],
      "metadata": {
        "colab": {
          "base_uri": "https://localhost:8080/",
          "height": 17
        },
        "id": "eHo-zsVlWxNl",
        "outputId": "ff71c14a-f51b-42e6-a786-96144746125f"
      },
      "execution_count": 161,
      "outputs": [
        {
          "output_type": "display_data",
          "data": {
            "text/plain": [
              "<IPython.core.display.HTML object>"
            ],
            "text/html": [
              "<style>\n",
              "    h1 { font-size: 30px; } /* Custom size for H1 */\n",
              "    h2 { font-size: 24px; } /* Custom size for H2 */\n",
              "    h3 { font-size: 18px; } /* Custom size for H3 */\n",
              "    /* Add more as needed */\n",
              "  </style>"
            ]
          },
          "metadata": {}
        },
        {
          "output_type": "display_data",
          "data": {
            "text/plain": [
              "<IPython.core.display.HTML object>"
            ],
            "text/html": [
              "<style>\n",
              "    h1 { font-size: 40px; } /* Custom size for H1 */\n",
              "    h2 { font-size: 24px; } /* Custom size for H2 */\n",
              "    h3 { font-size: 18px; } /* Custom size for H3 */\n",
              "    /* Add more as needed */\n",
              "  </style>"
            ]
          },
          "metadata": {}
        },
        {
          "output_type": "display_data",
          "data": {
            "text/plain": [
              "<IPython.core.display.HTML object>"
            ],
            "text/html": [
              "<style>\n",
              "    h1 { font-size: 40px; } /* Custom size for H1 */\n",
              "    h2 { font-size: 24px; } /* Custom size for H2 */\n",
              "    h3 { font-size: 18px; } /* Custom size for H3 */\n",
              "    /* Add more as needed */\n",
              "  </style>"
            ]
          },
          "metadata": {}
        },
        {
          "output_type": "display_data",
          "data": {
            "text/plain": [
              "<IPython.core.display.HTML object>"
            ],
            "text/html": [
              "<style>\n",
              "    h1 { font-size: 60px; } /* Custom size for H1 */\n",
              "    h2 { font-size: 24px; } /* Custom size for H2 */\n",
              "    h3 { font-size: 18px; } /* Custom size for H3 */\n",
              "    /* Add more as needed */\n",
              "  </style>"
            ]
          },
          "metadata": {}
        }
      ]
    },
    {
      "cell_type": "markdown",
      "source": [
        "## Sample forward pass, loss and backward pass."
      ],
      "metadata": {
        "id": "BPYIijJYDSV6"
      }
    },
    {
      "cell_type": "code",
      "source": [
        "batch = get_batch()\n",
        "inputs, targets = batch\n",
        "println(\"inputs\", inputs, inputs.shape, \"targets\", targets.shape)"
      ],
      "metadata": {
        "id": "x9UFVRpPDeZI",
        "outputId": "b5c2571b-34a5-4244-bc0c-f9da8aa12d3e",
        "colab": {
          "base_uri": "https://localhost:8080/",
          "height": 156
        }
      },
      "execution_count": 162,
      "outputs": [
        {
          "output_type": "display_data",
          "data": {
            "text/plain": [
              "<IPython.core.display.HTML object>"
            ],
            "text/html": [
              "<style>\n",
              "    h1 { font-size: 30px; } /* Custom size for H1 */\n",
              "    h2 { font-size: 24px; } /* Custom size for H2 */\n",
              "    h3 { font-size: 18px; } /* Custom size for H3 */\n",
              "    /* Add more as needed */\n",
              "  </style>"
            ]
          },
          "metadata": {}
        },
        {
          "output_type": "display_data",
          "data": {
            "text/plain": [
              "<IPython.core.display.HTML object>"
            ],
            "text/html": [
              "<style>\n",
              "    h1 { font-size: 40px; } /* Custom size for H1 */\n",
              "    h2 { font-size: 24px; } /* Custom size for H2 */\n",
              "    h3 { font-size: 18px; } /* Custom size for H3 */\n",
              "    /* Add more as needed */\n",
              "  </style>"
            ]
          },
          "metadata": {}
        },
        {
          "output_type": "display_data",
          "data": {
            "text/plain": [
              "<IPython.core.display.HTML object>"
            ],
            "text/html": [
              "<style>\n",
              "    h1 { font-size: 40px; } /* Custom size for H1 */\n",
              "    h2 { font-size: 24px; } /* Custom size for H2 */\n",
              "    h3 { font-size: 18px; } /* Custom size for H3 */\n",
              "    /* Add more as needed */\n",
              "  </style>"
            ]
          },
          "metadata": {}
        },
        {
          "output_type": "display_data",
          "data": {
            "text/plain": [
              "<IPython.core.display.HTML object>"
            ],
            "text/html": [
              "<style>\n",
              "    h1 { font-size: 60px; } /* Custom size for H1 */\n",
              "    h2 { font-size: 24px; } /* Custom size for H2 */\n",
              "    h3 { font-size: 18px; } /* Custom size for H3 */\n",
              "    /* Add more as needed */\n",
              "  </style>"
            ]
          },
          "metadata": {}
        },
        {
          "output_type": "stream",
          "name": "stdout",
          "text": [
            "inputs\n",
            "[[ 1 44 59 56 58 46 43 56]\n",
            " [ 1 46 43 39 56  1 51 43]\n",
            " [57 54 43 39 49  8  0  0]\n",
            " [50 50 10  0 31 54 43 39]]\n",
            "(4, 8)\n",
            "targets\n",
            "(4, 8)\n"
          ]
        }
      ]
    },
    {
      "cell_type": "code",
      "source": [
        "output = model_apply_batch({\"params\": params}, inputs)"
      ],
      "metadata": {
        "colab": {
          "base_uri": "https://localhost:8080/",
          "height": 17
        },
        "id": "JNlkzt-IRr5O",
        "outputId": "06e10388-63b7-4c4a-8acc-8bfc4b2056f1"
      },
      "execution_count": 163,
      "outputs": [
        {
          "output_type": "display_data",
          "data": {
            "text/plain": [
              "<IPython.core.display.HTML object>"
            ],
            "text/html": [
              "<style>\n",
              "    h1 { font-size: 30px; } /* Custom size for H1 */\n",
              "    h2 { font-size: 24px; } /* Custom size for H2 */\n",
              "    h3 { font-size: 18px; } /* Custom size for H3 */\n",
              "    /* Add more as needed */\n",
              "  </style>"
            ]
          },
          "metadata": {}
        },
        {
          "output_type": "display_data",
          "data": {
            "text/plain": [
              "<IPython.core.display.HTML object>"
            ],
            "text/html": [
              "<style>\n",
              "    h1 { font-size: 40px; } /* Custom size for H1 */\n",
              "    h2 { font-size: 24px; } /* Custom size for H2 */\n",
              "    h3 { font-size: 18px; } /* Custom size for H3 */\n",
              "    /* Add more as needed */\n",
              "  </style>"
            ]
          },
          "metadata": {}
        },
        {
          "output_type": "display_data",
          "data": {
            "text/plain": [
              "<IPython.core.display.HTML object>"
            ],
            "text/html": [
              "<style>\n",
              "    h1 { font-size: 40px; } /* Custom size for H1 */\n",
              "    h2 { font-size: 24px; } /* Custom size for H2 */\n",
              "    h3 { font-size: 18px; } /* Custom size for H3 */\n",
              "    /* Add more as needed */\n",
              "  </style>"
            ]
          },
          "metadata": {}
        },
        {
          "output_type": "display_data",
          "data": {
            "text/plain": [
              "<IPython.core.display.HTML object>"
            ],
            "text/html": [
              "<style>\n",
              "    h1 { font-size: 60px; } /* Custom size for H1 */\n",
              "    h2 { font-size: 24px; } /* Custom size for H2 */\n",
              "    h3 { font-size: 18px; } /* Custom size for H3 */\n",
              "    /* Add more as needed */\n",
              "  </style>"
            ]
          },
          "metadata": {}
        }
      ]
    },
    {
      "cell_type": "code",
      "source": [
        "# output should shape [4, 8, 65]\n",
        "# batch size = 4\n",
        "# block of tokens = 8\n",
        "# token_id to embedding = 65\n",
        "\n",
        "output.shape"
      ],
      "metadata": {
        "colab": {
          "base_uri": "https://localhost:8080/",
          "height": 34
        },
        "id": "EiE6Yl0QXFml",
        "outputId": "305d8d5b-560f-49fd-dcc9-7efd3c41c9aa"
      },
      "execution_count": 164,
      "outputs": [
        {
          "output_type": "display_data",
          "data": {
            "text/plain": [
              "<IPython.core.display.HTML object>"
            ],
            "text/html": [
              "<style>\n",
              "    h1 { font-size: 30px; } /* Custom size for H1 */\n",
              "    h2 { font-size: 24px; } /* Custom size for H2 */\n",
              "    h3 { font-size: 18px; } /* Custom size for H3 */\n",
              "    /* Add more as needed */\n",
              "  </style>"
            ]
          },
          "metadata": {}
        },
        {
          "output_type": "display_data",
          "data": {
            "text/plain": [
              "<IPython.core.display.HTML object>"
            ],
            "text/html": [
              "<style>\n",
              "    h1 { font-size: 40px; } /* Custom size for H1 */\n",
              "    h2 { font-size: 24px; } /* Custom size for H2 */\n",
              "    h3 { font-size: 18px; } /* Custom size for H3 */\n",
              "    /* Add more as needed */\n",
              "  </style>"
            ]
          },
          "metadata": {}
        },
        {
          "output_type": "display_data",
          "data": {
            "text/plain": [
              "<IPython.core.display.HTML object>"
            ],
            "text/html": [
              "<style>\n",
              "    h1 { font-size: 40px; } /* Custom size for H1 */\n",
              "    h2 { font-size: 24px; } /* Custom size for H2 */\n",
              "    h3 { font-size: 18px; } /* Custom size for H3 */\n",
              "    /* Add more as needed */\n",
              "  </style>"
            ]
          },
          "metadata": {}
        },
        {
          "output_type": "display_data",
          "data": {
            "text/plain": [
              "<IPython.core.display.HTML object>"
            ],
            "text/html": [
              "<style>\n",
              "    h1 { font-size: 60px; } /* Custom size for H1 */\n",
              "    h2 { font-size: 24px; } /* Custom size for H2 */\n",
              "    h3 { font-size: 18px; } /* Custom size for H3 */\n",
              "    /* Add more as needed */\n",
              "  </style>"
            ]
          },
          "metadata": {}
        },
        {
          "output_type": "execute_result",
          "data": {
            "text/plain": [
              "(4, 8, 65)"
            ]
          },
          "metadata": {},
          "execution_count": 164
        }
      ]
    },
    {
      "cell_type": "code",
      "source": [
        "# To do backward pass, you first need to compute grads.\n",
        "# In JAX, you use jax.grad to do a function transformation on the forward\n",
        "# function to get the gradient of the original function.\n",
        "# The grad is calculate wrt to the first param in the function.\n",
        "def forward_pass(params, batch):\n",
        "  inputs, targets = batch\n",
        "  logits = model_apply_batch({\"params\": params}, inputs)\n",
        "  loss = optax.softmax_cross_entropy_with_integer_labels(logits, targets)\n",
        "  loss = loss.mean()\n",
        "  return loss"
      ],
      "metadata": {
        "id": "09vAczHeGDis",
        "colab": {
          "base_uri": "https://localhost:8080/",
          "height": 17
        },
        "outputId": "79700203-bbfe-4e50-8e81-9a0755f46a58"
      },
      "execution_count": 165,
      "outputs": [
        {
          "output_type": "display_data",
          "data": {
            "text/plain": [
              "<IPython.core.display.HTML object>"
            ],
            "text/html": [
              "<style>\n",
              "    h1 { font-size: 30px; } /* Custom size for H1 */\n",
              "    h2 { font-size: 24px; } /* Custom size for H2 */\n",
              "    h3 { font-size: 18px; } /* Custom size for H3 */\n",
              "    /* Add more as needed */\n",
              "  </style>"
            ]
          },
          "metadata": {}
        },
        {
          "output_type": "display_data",
          "data": {
            "text/plain": [
              "<IPython.core.display.HTML object>"
            ],
            "text/html": [
              "<style>\n",
              "    h1 { font-size: 40px; } /* Custom size for H1 */\n",
              "    h2 { font-size: 24px; } /* Custom size for H2 */\n",
              "    h3 { font-size: 18px; } /* Custom size for H3 */\n",
              "    /* Add more as needed */\n",
              "  </style>"
            ]
          },
          "metadata": {}
        },
        {
          "output_type": "display_data",
          "data": {
            "text/plain": [
              "<IPython.core.display.HTML object>"
            ],
            "text/html": [
              "<style>\n",
              "    h1 { font-size: 40px; } /* Custom size for H1 */\n",
              "    h2 { font-size: 24px; } /* Custom size for H2 */\n",
              "    h3 { font-size: 18px; } /* Custom size for H3 */\n",
              "    /* Add more as needed */\n",
              "  </style>"
            ]
          },
          "metadata": {}
        },
        {
          "output_type": "display_data",
          "data": {
            "text/plain": [
              "<IPython.core.display.HTML object>"
            ],
            "text/html": [
              "<style>\n",
              "    h1 { font-size: 60px; } /* Custom size for H1 */\n",
              "    h2 { font-size: 24px; } /* Custom size for H2 */\n",
              "    h3 { font-size: 18px; } /* Custom size for H3 */\n",
              "    /* Add more as needed */\n",
              "  </style>"
            ]
          },
          "metadata": {}
        }
      ]
    },
    {
      "cell_type": "code",
      "source": [
        "# Test forward pass.\n",
        "batch = get_batch()\n",
        "forward_pass(params=params, batch=batch)"
      ],
      "metadata": {
        "colab": {
          "base_uri": "https://localhost:8080/",
          "height": 34
        },
        "id": "KCh6wzoHYWDm",
        "outputId": "22cac2b8-5175-4c1e-e231-88b8c9c2d642"
      },
      "execution_count": 166,
      "outputs": [
        {
          "output_type": "display_data",
          "data": {
            "text/plain": [
              "<IPython.core.display.HTML object>"
            ],
            "text/html": [
              "<style>\n",
              "    h1 { font-size: 30px; } /* Custom size for H1 */\n",
              "    h2 { font-size: 24px; } /* Custom size for H2 */\n",
              "    h3 { font-size: 18px; } /* Custom size for H3 */\n",
              "    /* Add more as needed */\n",
              "  </style>"
            ]
          },
          "metadata": {}
        },
        {
          "output_type": "display_data",
          "data": {
            "text/plain": [
              "<IPython.core.display.HTML object>"
            ],
            "text/html": [
              "<style>\n",
              "    h1 { font-size: 40px; } /* Custom size for H1 */\n",
              "    h2 { font-size: 24px; } /* Custom size for H2 */\n",
              "    h3 { font-size: 18px; } /* Custom size for H3 */\n",
              "    /* Add more as needed */\n",
              "  </style>"
            ]
          },
          "metadata": {}
        },
        {
          "output_type": "display_data",
          "data": {
            "text/plain": [
              "<IPython.core.display.HTML object>"
            ],
            "text/html": [
              "<style>\n",
              "    h1 { font-size: 40px; } /* Custom size for H1 */\n",
              "    h2 { font-size: 24px; } /* Custom size for H2 */\n",
              "    h3 { font-size: 18px; } /* Custom size for H3 */\n",
              "    /* Add more as needed */\n",
              "  </style>"
            ]
          },
          "metadata": {}
        },
        {
          "output_type": "display_data",
          "data": {
            "text/plain": [
              "<IPython.core.display.HTML object>"
            ],
            "text/html": [
              "<style>\n",
              "    h1 { font-size: 60px; } /* Custom size for H1 */\n",
              "    h2 { font-size: 24px; } /* Custom size for H2 */\n",
              "    h3 { font-size: 18px; } /* Custom size for H3 */\n",
              "    /* Add more as needed */\n",
              "  </style>"
            ]
          },
          "metadata": {}
        },
        {
          "output_type": "execute_result",
          "data": {
            "text/plain": [
              "Array(4.188369, dtype=float32)"
            ]
          },
          "metadata": {},
          "execution_count": 166
        }
      ]
    },
    {
      "cell_type": "code",
      "source": [
        "grad_fn = jax.value_and_grad(forward_pass, argnums=(0))  # differentiate wrt 0th pos argument."
      ],
      "metadata": {
        "id": "lJnYF1OtGzPq",
        "colab": {
          "base_uri": "https://localhost:8080/",
          "height": 17
        },
        "outputId": "e2191bb0-2d05-4b9c-e156-78bacc549ce0"
      },
      "execution_count": 167,
      "outputs": [
        {
          "output_type": "display_data",
          "data": {
            "text/plain": [
              "<IPython.core.display.HTML object>"
            ],
            "text/html": [
              "<style>\n",
              "    h1 { font-size: 30px; } /* Custom size for H1 */\n",
              "    h2 { font-size: 24px; } /* Custom size for H2 */\n",
              "    h3 { font-size: 18px; } /* Custom size for H3 */\n",
              "    /* Add more as needed */\n",
              "  </style>"
            ]
          },
          "metadata": {}
        },
        {
          "output_type": "display_data",
          "data": {
            "text/plain": [
              "<IPython.core.display.HTML object>"
            ],
            "text/html": [
              "<style>\n",
              "    h1 { font-size: 40px; } /* Custom size for H1 */\n",
              "    h2 { font-size: 24px; } /* Custom size for H2 */\n",
              "    h3 { font-size: 18px; } /* Custom size for H3 */\n",
              "    /* Add more as needed */\n",
              "  </style>"
            ]
          },
          "metadata": {}
        },
        {
          "output_type": "display_data",
          "data": {
            "text/plain": [
              "<IPython.core.display.HTML object>"
            ],
            "text/html": [
              "<style>\n",
              "    h1 { font-size: 40px; } /* Custom size for H1 */\n",
              "    h2 { font-size: 24px; } /* Custom size for H2 */\n",
              "    h3 { font-size: 18px; } /* Custom size for H3 */\n",
              "    /* Add more as needed */\n",
              "  </style>"
            ]
          },
          "metadata": {}
        },
        {
          "output_type": "display_data",
          "data": {
            "text/plain": [
              "<IPython.core.display.HTML object>"
            ],
            "text/html": [
              "<style>\n",
              "    h1 { font-size: 60px; } /* Custom size for H1 */\n",
              "    h2 { font-size: 24px; } /* Custom size for H2 */\n",
              "    h3 { font-size: 18px; } /* Custom size for H3 */\n",
              "    /* Add more as needed */\n",
              "  </style>"
            ]
          },
          "metadata": {}
        }
      ]
    },
    {
      "cell_type": "code",
      "source": [
        "# Test forward pass and grads.\n",
        "# Grads would be the gradients for params.\n",
        "loss, grads = grad_fn(params, batch)\n",
        "println(\"loss\", loss, \"grads\", grads)"
      ],
      "metadata": {
        "id": "o3XKCpCJHQip",
        "outputId": "d68177b3-6440-42ca-a11d-d5ca31a860d5",
        "colab": {
          "base_uri": "https://localhost:8080/",
          "height": 295
        }
      },
      "execution_count": 168,
      "outputs": [
        {
          "output_type": "display_data",
          "data": {
            "text/plain": [
              "<IPython.core.display.HTML object>"
            ],
            "text/html": [
              "<style>\n",
              "    h1 { font-size: 30px; } /* Custom size for H1 */\n",
              "    h2 { font-size: 24px; } /* Custom size for H2 */\n",
              "    h3 { font-size: 18px; } /* Custom size for H3 */\n",
              "    /* Add more as needed */\n",
              "  </style>"
            ]
          },
          "metadata": {}
        },
        {
          "output_type": "display_data",
          "data": {
            "text/plain": [
              "<IPython.core.display.HTML object>"
            ],
            "text/html": [
              "<style>\n",
              "    h1 { font-size: 40px; } /* Custom size for H1 */\n",
              "    h2 { font-size: 24px; } /* Custom size for H2 */\n",
              "    h3 { font-size: 18px; } /* Custom size for H3 */\n",
              "    /* Add more as needed */\n",
              "  </style>"
            ]
          },
          "metadata": {}
        },
        {
          "output_type": "display_data",
          "data": {
            "text/plain": [
              "<IPython.core.display.HTML object>"
            ],
            "text/html": [
              "<style>\n",
              "    h1 { font-size: 40px; } /* Custom size for H1 */\n",
              "    h2 { font-size: 24px; } /* Custom size for H2 */\n",
              "    h3 { font-size: 18px; } /* Custom size for H3 */\n",
              "    /* Add more as needed */\n",
              "  </style>"
            ]
          },
          "metadata": {}
        },
        {
          "output_type": "display_data",
          "data": {
            "text/plain": [
              "<IPython.core.display.HTML object>"
            ],
            "text/html": [
              "<style>\n",
              "    h1 { font-size: 60px; } /* Custom size for H1 */\n",
              "    h2 { font-size: 24px; } /* Custom size for H2 */\n",
              "    h3 { font-size: 18px; } /* Custom size for H3 */\n",
              "    /* Add more as needed */\n",
              "  </style>"
            ]
          },
          "metadata": {}
        },
        {
          "output_type": "stream",
          "name": "stdout",
          "text": [
            "loss\n",
            "4.188369\n",
            "grads\n",
            "{'token_embedding_table': {'embedding': Array([[0.00103511, 0.00097044, 0.00093559, ..., 0.00089521, 0.001064  ,\n",
            "        0.00093856],\n",
            "       [0.00203619, 0.00209828, 0.00198735, ..., 0.00196691, 0.00215726,\n",
            "        0.00207174],\n",
            "       [0.        , 0.        , 0.        , ..., 0.        , 0.        ,\n",
            "        0.        ],\n",
            "       ...,\n",
            "       [0.        , 0.        , 0.        , ..., 0.        , 0.        ,\n",
            "        0.        ],\n",
            "       [0.        , 0.        , 0.        , ..., 0.        , 0.        ,\n",
            "        0.        ],\n",
            "       [0.00040068, 0.00039527, 0.00040171, ..., 0.00042136, 0.00055311,\n",
            "        0.00042526]], dtype=float32)}}\n"
          ]
        }
      ]
    },
    {
      "cell_type": "code",
      "source": [
        "# Apply grads to params to get new params.\n",
        "lr = 0.001\n",
        "println(\"params before:\", params)\n",
        "params = jax.tree_map(lambda p, g: p - lr * g, params, grads)\n",
        "println(\"params after:\", params)"
      ],
      "metadata": {
        "id": "qLHB0BpQHfI1",
        "outputId": "0c3c0a12-7af2-462a-c1eb-92a81144a343",
        "colab": {
          "base_uri": "https://localhost:8080/",
          "height": 503
        }
      },
      "execution_count": 169,
      "outputs": [
        {
          "output_type": "display_data",
          "data": {
            "text/plain": [
              "<IPython.core.display.HTML object>"
            ],
            "text/html": [
              "<style>\n",
              "    h1 { font-size: 30px; } /* Custom size for H1 */\n",
              "    h2 { font-size: 24px; } /* Custom size for H2 */\n",
              "    h3 { font-size: 18px; } /* Custom size for H3 */\n",
              "    /* Add more as needed */\n",
              "  </style>"
            ]
          },
          "metadata": {}
        },
        {
          "output_type": "display_data",
          "data": {
            "text/plain": [
              "<IPython.core.display.HTML object>"
            ],
            "text/html": [
              "<style>\n",
              "    h1 { font-size: 40px; } /* Custom size for H1 */\n",
              "    h2 { font-size: 24px; } /* Custom size for H2 */\n",
              "    h3 { font-size: 18px; } /* Custom size for H3 */\n",
              "    /* Add more as needed */\n",
              "  </style>"
            ]
          },
          "metadata": {}
        },
        {
          "output_type": "display_data",
          "data": {
            "text/plain": [
              "<IPython.core.display.HTML object>"
            ],
            "text/html": [
              "<style>\n",
              "    h1 { font-size: 40px; } /* Custom size for H1 */\n",
              "    h2 { font-size: 24px; } /* Custom size for H2 */\n",
              "    h3 { font-size: 18px; } /* Custom size for H3 */\n",
              "    /* Add more as needed */\n",
              "  </style>"
            ]
          },
          "metadata": {}
        },
        {
          "output_type": "display_data",
          "data": {
            "text/plain": [
              "<IPython.core.display.HTML object>"
            ],
            "text/html": [
              "<style>\n",
              "    h1 { font-size: 60px; } /* Custom size for H1 */\n",
              "    h2 { font-size: 24px; } /* Custom size for H2 */\n",
              "    h3 { font-size: 18px; } /* Custom size for H3 */\n",
              "    /* Add more as needed */\n",
              "  </style>"
            ]
          },
          "metadata": {}
        },
        {
          "output_type": "stream",
          "name": "stdout",
          "text": [
            "params before:\n",
            "{'token_embedding_table': {'embedding': Array([[ 0.0752212 ,  0.01071652, -0.02585994, ..., -0.06997449,\n",
            "         0.10274917, -0.0226865 ],\n",
            "       [ 0.09400459,  0.12404279,  0.06972364, ...,  0.0593865 ,\n",
            "         0.1517611 ,  0.11131446],\n",
            "       [-0.0302137 , -0.07326671, -0.2515272 , ...,  0.20769818,\n",
            "         0.01281604,  0.03134193],\n",
            "       ...,\n",
            "       [-0.1394756 , -0.00640967, -0.07666602, ..., -0.2944119 ,\n",
            "         0.11875169, -0.08573762],\n",
            "       [ 0.05703759, -0.11280773,  0.2570641 , ..., -0.02059634,\n",
            "        -0.02818088,  0.13305528],\n",
            "       [-0.12428083, -0.13785616, -0.12170235, ..., -0.07394623,\n",
            "         0.19811267, -0.06473607]], dtype=float32)}}\n",
            "params after:\n",
            "{'token_embedding_table': {'embedding': Array([[ 0.07522016,  0.01071555, -0.02586087, ..., -0.06997538,\n",
            "         0.1027481 , -0.02268744],\n",
            "       [ 0.09400256,  0.12404069,  0.06972165, ...,  0.05938453,\n",
            "         0.15175894,  0.11131239],\n",
            "       [-0.0302137 , -0.07326671, -0.2515272 , ...,  0.20769818,\n",
            "         0.01281604,  0.03134193],\n",
            "       ...,\n",
            "       [-0.1394756 , -0.00640967, -0.07666602, ..., -0.2944119 ,\n",
            "         0.11875169, -0.08573762],\n",
            "       [ 0.05703759, -0.11280773,  0.2570641 , ..., -0.02059634,\n",
            "        -0.02818088,  0.13305528],\n",
            "       [-0.12428124, -0.13785656, -0.12170275, ..., -0.07394665,\n",
            "         0.19811212, -0.06473649]], dtype=float32)}}\n"
          ]
        }
      ]
    },
    {
      "cell_type": "markdown",
      "source": [
        "# Writing train step in flax\n",
        "## copy-pasting everything at one place and running a train step."
      ],
      "metadata": {
        "id": "LKPwDOFmIaSE"
      }
    },
    {
      "cell_type": "code",
      "source": [
        "class BigramLangModel(nn.Module):\n",
        "  \"\"\"Reads one char and predicits the next char.\"\"\"\n",
        "  vocab_size: int\n",
        "\n",
        "  def setup(self):\n",
        "    super().setup()\n",
        "    self.token_embedding_table = nn.Embed(num_embeddings=self.vocab_size, features=self.vocab_size)\n",
        "\n",
        "  def __call__(self, inputs):\n",
        "    # Run block size inputs through embedding lookup.\n",
        "    # For each char, you get the logit predicted for that char.\n",
        "    # Then, you use the target token for that input and do a cross_entropy_loss.\n",
        "    logits = self.token_embedding_table(inputs)\n",
        "    return logits\n",
        "\n",
        "def forward_pass(params, state, batch):\n",
        "  inputs, targets = batch\n",
        "  logits = state.apply_fn({\"params\": params}, inputs)\n",
        "  loss = optax.softmax_cross_entropy_with_integer_labels(logits, targets)\n",
        "  loss = loss.mean()\n",
        "  return loss\n",
        "\n",
        "model = BigramLangModel(vocab_size=65)\n",
        "\n",
        "sample_input_row = jnp.ones(shape=[1, 1], dtype=jnp.int32)\n",
        "output, params = model.init_with_output(jrand.PRNGKey(99), sample_input_row)\n",
        "params = params[\"params\"]\n",
        "\n",
        "model_apply_batch = jax.vmap(model.apply, in_axes=(None, 0), out_axes=(0))\n",
        "\n",
        "grad_fn = jax.value_and_grad(forward_pass, argnums=(0))  # differentiate wrt 0th pos argument.\n",
        "\n",
        "opt = optax.adam(learning_rate=0.001)\n",
        "state = train_state.TrainState.create(apply_fn=model_apply_batch, params=params, tx=opt)\n",
        "\n",
        "for epoch in range(100):\n",
        "  batch = get_batch()\n",
        "  loss, grads = grad_fn(state.params, state, batch)\n",
        "  print(loss) if epoch%100==0 else None\n",
        "  state = state.apply_gradients(grads=grads)"
      ],
      "metadata": {
        "colab": {
          "base_uri": "https://localhost:8080/",
          "height": 34
        },
        "id": "gtzCS8NzMJx9",
        "outputId": "054c5b1f-c1cc-49a7-9ff9-c3247f5afe64"
      },
      "execution_count": 170,
      "outputs": [
        {
          "output_type": "display_data",
          "data": {
            "text/plain": [
              "<IPython.core.display.HTML object>"
            ],
            "text/html": [
              "<style>\n",
              "    h1 { font-size: 30px; } /* Custom size for H1 */\n",
              "    h2 { font-size: 24px; } /* Custom size for H2 */\n",
              "    h3 { font-size: 18px; } /* Custom size for H3 */\n",
              "    /* Add more as needed */\n",
              "  </style>"
            ]
          },
          "metadata": {}
        },
        {
          "output_type": "display_data",
          "data": {
            "text/plain": [
              "<IPython.core.display.HTML object>"
            ],
            "text/html": [
              "<style>\n",
              "    h1 { font-size: 40px; } /* Custom size for H1 */\n",
              "    h2 { font-size: 24px; } /* Custom size for H2 */\n",
              "    h3 { font-size: 18px; } /* Custom size for H3 */\n",
              "    /* Add more as needed */\n",
              "  </style>"
            ]
          },
          "metadata": {}
        },
        {
          "output_type": "display_data",
          "data": {
            "text/plain": [
              "<IPython.core.display.HTML object>"
            ],
            "text/html": [
              "<style>\n",
              "    h1 { font-size: 40px; } /* Custom size for H1 */\n",
              "    h2 { font-size: 24px; } /* Custom size for H2 */\n",
              "    h3 { font-size: 18px; } /* Custom size for H3 */\n",
              "    /* Add more as needed */\n",
              "  </style>"
            ]
          },
          "metadata": {}
        },
        {
          "output_type": "display_data",
          "data": {
            "text/plain": [
              "<IPython.core.display.HTML object>"
            ],
            "text/html": [
              "<style>\n",
              "    h1 { font-size: 60px; } /* Custom size for H1 */\n",
              "    h2 { font-size: 24px; } /* Custom size for H2 */\n",
              "    h3 { font-size: 18px; } /* Custom size for H3 */\n",
              "    /* Add more as needed */\n",
              "  </style>"
            ]
          },
          "metadata": {}
        },
        {
          "output_type": "stream",
          "name": "stdout",
          "text": [
            "4.176982\n"
          ]
        }
      ]
    },
    {
      "cell_type": "markdown",
      "source": [
        "# Implement code for generating tokens"
      ],
      "metadata": {
        "id": "Bze9wctCbxls"
      }
    },
    {
      "cell_type": "code",
      "source": [
        "input_token = \"n\"\n",
        "encode(input_token, stoi)\n"
      ],
      "metadata": {
        "colab": {
          "base_uri": "https://localhost:8080/",
          "height": 34
        },
        "id": "h2BUBirGMWo6",
        "outputId": "f8178ff9-cf9c-46c1-b850-8dfe4ef2b053"
      },
      "execution_count": 171,
      "outputs": [
        {
          "output_type": "display_data",
          "data": {
            "text/plain": [
              "<IPython.core.display.HTML object>"
            ],
            "text/html": [
              "<style>\n",
              "    h1 { font-size: 30px; } /* Custom size for H1 */\n",
              "    h2 { font-size: 24px; } /* Custom size for H2 */\n",
              "    h3 { font-size: 18px; } /* Custom size for H3 */\n",
              "    /* Add more as needed */\n",
              "  </style>"
            ]
          },
          "metadata": {}
        },
        {
          "output_type": "display_data",
          "data": {
            "text/plain": [
              "<IPython.core.display.HTML object>"
            ],
            "text/html": [
              "<style>\n",
              "    h1 { font-size: 40px; } /* Custom size for H1 */\n",
              "    h2 { font-size: 24px; } /* Custom size for H2 */\n",
              "    h3 { font-size: 18px; } /* Custom size for H3 */\n",
              "    /* Add more as needed */\n",
              "  </style>"
            ]
          },
          "metadata": {}
        },
        {
          "output_type": "display_data",
          "data": {
            "text/plain": [
              "<IPython.core.display.HTML object>"
            ],
            "text/html": [
              "<style>\n",
              "    h1 { font-size: 40px; } /* Custom size for H1 */\n",
              "    h2 { font-size: 24px; } /* Custom size for H2 */\n",
              "    h3 { font-size: 18px; } /* Custom size for H3 */\n",
              "    /* Add more as needed */\n",
              "  </style>"
            ]
          },
          "metadata": {}
        },
        {
          "output_type": "display_data",
          "data": {
            "text/plain": [
              "<IPython.core.display.HTML object>"
            ],
            "text/html": [
              "<style>\n",
              "    h1 { font-size: 60px; } /* Custom size for H1 */\n",
              "    h2 { font-size: 24px; } /* Custom size for H2 */\n",
              "    h3 { font-size: 18px; } /* Custom size for H3 */\n",
              "    /* Add more as needed */\n",
              "  </style>"
            ]
          },
          "metadata": {}
        },
        {
          "output_type": "execute_result",
          "data": {
            "text/plain": [
              "[52]"
            ]
          },
          "metadata": {},
          "execution_count": 171
        }
      ]
    },
    {
      "cell_type": "code",
      "source": [
        "input_token = jnp.array([[52]], dtype=jnp.int32)\n",
        "input_token.shape"
      ],
      "metadata": {
        "colab": {
          "base_uri": "https://localhost:8080/",
          "height": 34
        },
        "id": "8p4A99r1NKx-",
        "outputId": "a32002d0-2d43-4909-96ff-36731234690e"
      },
      "execution_count": 172,
      "outputs": [
        {
          "output_type": "display_data",
          "data": {
            "text/plain": [
              "<IPython.core.display.HTML object>"
            ],
            "text/html": [
              "<style>\n",
              "    h1 { font-size: 30px; } /* Custom size for H1 */\n",
              "    h2 { font-size: 24px; } /* Custom size for H2 */\n",
              "    h3 { font-size: 18px; } /* Custom size for H3 */\n",
              "    /* Add more as needed */\n",
              "  </style>"
            ]
          },
          "metadata": {}
        },
        {
          "output_type": "display_data",
          "data": {
            "text/plain": [
              "<IPython.core.display.HTML object>"
            ],
            "text/html": [
              "<style>\n",
              "    h1 { font-size: 40px; } /* Custom size for H1 */\n",
              "    h2 { font-size: 24px; } /* Custom size for H2 */\n",
              "    h3 { font-size: 18px; } /* Custom size for H3 */\n",
              "    /* Add more as needed */\n",
              "  </style>"
            ]
          },
          "metadata": {}
        },
        {
          "output_type": "display_data",
          "data": {
            "text/plain": [
              "<IPython.core.display.HTML object>"
            ],
            "text/html": [
              "<style>\n",
              "    h1 { font-size: 40px; } /* Custom size for H1 */\n",
              "    h2 { font-size: 24px; } /* Custom size for H2 */\n",
              "    h3 { font-size: 18px; } /* Custom size for H3 */\n",
              "    /* Add more as needed */\n",
              "  </style>"
            ]
          },
          "metadata": {}
        },
        {
          "output_type": "display_data",
          "data": {
            "text/plain": [
              "<IPython.core.display.HTML object>"
            ],
            "text/html": [
              "<style>\n",
              "    h1 { font-size: 60px; } /* Custom size for H1 */\n",
              "    h2 { font-size: 24px; } /* Custom size for H2 */\n",
              "    h3 { font-size: 18px; } /* Custom size for H3 */\n",
              "    /* Add more as needed */\n",
              "  </style>"
            ]
          },
          "metadata": {}
        },
        {
          "output_type": "execute_result",
          "data": {
            "text/plain": [
              "(1, 1)"
            ]
          },
          "metadata": {},
          "execution_count": 172
        }
      ]
    },
    {
      "cell_type": "code",
      "source": [
        "next_token_logit = state.apply_fn({\"params\": state.params}, input_token)"
      ],
      "metadata": {
        "colab": {
          "base_uri": "https://localhost:8080/",
          "height": 17
        },
        "id": "cJwJPnIlNSEP",
        "outputId": "0fe36075-5397-4f66-f0f2-cf2e3a36fa7a"
      },
      "execution_count": 173,
      "outputs": [
        {
          "output_type": "display_data",
          "data": {
            "text/plain": [
              "<IPython.core.display.HTML object>"
            ],
            "text/html": [
              "<style>\n",
              "    h1 { font-size: 30px; } /* Custom size for H1 */\n",
              "    h2 { font-size: 24px; } /* Custom size for H2 */\n",
              "    h3 { font-size: 18px; } /* Custom size for H3 */\n",
              "    /* Add more as needed */\n",
              "  </style>"
            ]
          },
          "metadata": {}
        },
        {
          "output_type": "display_data",
          "data": {
            "text/plain": [
              "<IPython.core.display.HTML object>"
            ],
            "text/html": [
              "<style>\n",
              "    h1 { font-size: 40px; } /* Custom size for H1 */\n",
              "    h2 { font-size: 24px; } /* Custom size for H2 */\n",
              "    h3 { font-size: 18px; } /* Custom size for H3 */\n",
              "    /* Add more as needed */\n",
              "  </style>"
            ]
          },
          "metadata": {}
        },
        {
          "output_type": "display_data",
          "data": {
            "text/plain": [
              "<IPython.core.display.HTML object>"
            ],
            "text/html": [
              "<style>\n",
              "    h1 { font-size: 40px; } /* Custom size for H1 */\n",
              "    h2 { font-size: 24px; } /* Custom size for H2 */\n",
              "    h3 { font-size: 18px; } /* Custom size for H3 */\n",
              "    /* Add more as needed */\n",
              "  </style>"
            ]
          },
          "metadata": {}
        },
        {
          "output_type": "display_data",
          "data": {
            "text/plain": [
              "<IPython.core.display.HTML object>"
            ],
            "text/html": [
              "<style>\n",
              "    h1 { font-size: 60px; } /* Custom size for H1 */\n",
              "    h2 { font-size: 24px; } /* Custom size for H2 */\n",
              "    h3 { font-size: 18px; } /* Custom size for H3 */\n",
              "    /* Add more as needed */\n",
              "  </style>"
            ]
          },
          "metadata": {}
        }
      ]
    },
    {
      "cell_type": "code",
      "source": [
        "next_token_logit"
      ],
      "metadata": {
        "colab": {
          "base_uri": "https://localhost:8080/",
          "height": 312
        },
        "id": "Df1oFKh9N4oj",
        "outputId": "3e59d786-ea1e-4063-8be3-6a4557464a2d"
      },
      "execution_count": 174,
      "outputs": [
        {
          "output_type": "display_data",
          "data": {
            "text/plain": [
              "<IPython.core.display.HTML object>"
            ],
            "text/html": [
              "<style>\n",
              "    h1 { font-size: 30px; } /* Custom size for H1 */\n",
              "    h2 { font-size: 24px; } /* Custom size for H2 */\n",
              "    h3 { font-size: 18px; } /* Custom size for H3 */\n",
              "    /* Add more as needed */\n",
              "  </style>"
            ]
          },
          "metadata": {}
        },
        {
          "output_type": "display_data",
          "data": {
            "text/plain": [
              "<IPython.core.display.HTML object>"
            ],
            "text/html": [
              "<style>\n",
              "    h1 { font-size: 40px; } /* Custom size for H1 */\n",
              "    h2 { font-size: 24px; } /* Custom size for H2 */\n",
              "    h3 { font-size: 18px; } /* Custom size for H3 */\n",
              "    /* Add more as needed */\n",
              "  </style>"
            ]
          },
          "metadata": {}
        },
        {
          "output_type": "display_data",
          "data": {
            "text/plain": [
              "<IPython.core.display.HTML object>"
            ],
            "text/html": [
              "<style>\n",
              "    h1 { font-size: 40px; } /* Custom size for H1 */\n",
              "    h2 { font-size: 24px; } /* Custom size for H2 */\n",
              "    h3 { font-size: 18px; } /* Custom size for H3 */\n",
              "    /* Add more as needed */\n",
              "  </style>"
            ]
          },
          "metadata": {}
        },
        {
          "output_type": "display_data",
          "data": {
            "text/plain": [
              "<IPython.core.display.HTML object>"
            ],
            "text/html": [
              "<style>\n",
              "    h1 { font-size: 60px; } /* Custom size for H1 */\n",
              "    h2 { font-size: 24px; } /* Custom size for H2 */\n",
              "    h3 { font-size: 18px; } /* Custom size for H3 */\n",
              "    /* Add more as needed */\n",
              "  </style>"
            ]
          },
          "metadata": {}
        },
        {
          "output_type": "execute_result",
          "data": {
            "text/plain": [
              "Array([[[ 0.06189872,  0.01735214, -0.08417864,  0.12620766,\n",
              "          0.09000046,  0.03210654, -0.03257618, -0.04977347,\n",
              "          0.09768771, -0.05799581,  0.08958598, -0.07670107,\n",
              "         -0.01705762, -0.04384625,  0.1023962 , -0.2742473 ,\n",
              "          0.14143778, -0.02351248, -0.21228243, -0.2045108 ,\n",
              "         -0.14376837, -0.01476282,  0.03109221, -0.09099983,\n",
              "         -0.01143971, -0.21200013,  0.00767575, -0.1863604 ,\n",
              "         -0.07144288, -0.13761045, -0.15245947, -0.04563708,\n",
              "          0.13343515, -0.07723901,  0.07913963, -0.23993085,\n",
              "         -0.09392912, -0.25415224, -0.05845626,  0.03475619,\n",
              "         -0.3361143 , -0.15314238, -0.06338291,  0.07010397,\n",
              "          0.03721069,  0.05460019, -0.24063827, -0.11247425,\n",
              "         -0.15022516, -0.04594477,  0.30860567, -0.2867309 ,\n",
              "         -0.16371915, -0.07745837, -0.360114  , -0.08640877,\n",
              "          0.11663087,  0.16073301, -0.04897991,  0.20451947,\n",
              "         -0.20557177, -0.15969904,  0.08958999, -0.3555481 ,\n",
              "         -0.04085579]]], dtype=float32)"
            ]
          },
          "metadata": {},
          "execution_count": 174
        }
      ]
    },
    {
      "cell_type": "code",
      "source": [
        "init_key = jrand.PRNGKey(99)\n",
        "key, split_key = jrand.split(init_key)"
      ],
      "metadata": {
        "colab": {
          "base_uri": "https://localhost:8080/",
          "height": 17
        },
        "id": "OiIl31K0cQVj",
        "outputId": "6d745db5-8170-4fab-cb96-ecc370b91c99"
      },
      "execution_count": 175,
      "outputs": [
        {
          "output_type": "display_data",
          "data": {
            "text/plain": [
              "<IPython.core.display.HTML object>"
            ],
            "text/html": [
              "<style>\n",
              "    h1 { font-size: 30px; } /* Custom size for H1 */\n",
              "    h2 { font-size: 24px; } /* Custom size for H2 */\n",
              "    h3 { font-size: 18px; } /* Custom size for H3 */\n",
              "    /* Add more as needed */\n",
              "  </style>"
            ]
          },
          "metadata": {}
        },
        {
          "output_type": "display_data",
          "data": {
            "text/plain": [
              "<IPython.core.display.HTML object>"
            ],
            "text/html": [
              "<style>\n",
              "    h1 { font-size: 40px; } /* Custom size for H1 */\n",
              "    h2 { font-size: 24px; } /* Custom size for H2 */\n",
              "    h3 { font-size: 18px; } /* Custom size for H3 */\n",
              "    /* Add more as needed */\n",
              "  </style>"
            ]
          },
          "metadata": {}
        },
        {
          "output_type": "display_data",
          "data": {
            "text/plain": [
              "<IPython.core.display.HTML object>"
            ],
            "text/html": [
              "<style>\n",
              "    h1 { font-size: 40px; } /* Custom size for H1 */\n",
              "    h2 { font-size: 24px; } /* Custom size for H2 */\n",
              "    h3 { font-size: 18px; } /* Custom size for H3 */\n",
              "    /* Add more as needed */\n",
              "  </style>"
            ]
          },
          "metadata": {}
        },
        {
          "output_type": "display_data",
          "data": {
            "text/plain": [
              "<IPython.core.display.HTML object>"
            ],
            "text/html": [
              "<style>\n",
              "    h1 { font-size: 60px; } /* Custom size for H1 */\n",
              "    h2 { font-size: 24px; } /* Custom size for H2 */\n",
              "    h3 { font-size: 18px; } /* Custom size for H3 */\n",
              "    /* Add more as needed */\n",
              "  </style>"
            ]
          },
          "metadata": {}
        }
      ]
    },
    {
      "cell_type": "code",
      "source": [
        "next_to_next_token = jrand.categorical(split_key, next_token_logit)\n",
        "next_to_next_token"
      ],
      "metadata": {
        "colab": {
          "base_uri": "https://localhost:8080/",
          "height": 34
        },
        "id": "hMY9sAsCczWf",
        "outputId": "42a22b3b-0a3e-4717-de27-3d0e040a8d7c"
      },
      "execution_count": 176,
      "outputs": [
        {
          "output_type": "display_data",
          "data": {
            "text/plain": [
              "<IPython.core.display.HTML object>"
            ],
            "text/html": [
              "<style>\n",
              "    h1 { font-size: 30px; } /* Custom size for H1 */\n",
              "    h2 { font-size: 24px; } /* Custom size for H2 */\n",
              "    h3 { font-size: 18px; } /* Custom size for H3 */\n",
              "    /* Add more as needed */\n",
              "  </style>"
            ]
          },
          "metadata": {}
        },
        {
          "output_type": "display_data",
          "data": {
            "text/plain": [
              "<IPython.core.display.HTML object>"
            ],
            "text/html": [
              "<style>\n",
              "    h1 { font-size: 40px; } /* Custom size for H1 */\n",
              "    h2 { font-size: 24px; } /* Custom size for H2 */\n",
              "    h3 { font-size: 18px; } /* Custom size for H3 */\n",
              "    /* Add more as needed */\n",
              "  </style>"
            ]
          },
          "metadata": {}
        },
        {
          "output_type": "display_data",
          "data": {
            "text/plain": [
              "<IPython.core.display.HTML object>"
            ],
            "text/html": [
              "<style>\n",
              "    h1 { font-size: 40px; } /* Custom size for H1 */\n",
              "    h2 { font-size: 24px; } /* Custom size for H2 */\n",
              "    h3 { font-size: 18px; } /* Custom size for H3 */\n",
              "    /* Add more as needed */\n",
              "  </style>"
            ]
          },
          "metadata": {}
        },
        {
          "output_type": "display_data",
          "data": {
            "text/plain": [
              "<IPython.core.display.HTML object>"
            ],
            "text/html": [
              "<style>\n",
              "    h1 { font-size: 60px; } /* Custom size for H1 */\n",
              "    h2 { font-size: 24px; } /* Custom size for H2 */\n",
              "    h3 { font-size: 18px; } /* Custom size for H3 */\n",
              "    /* Add more as needed */\n",
              "  </style>"
            ]
          },
          "metadata": {}
        },
        {
          "output_type": "execute_result",
          "data": {
            "text/plain": [
              "Array([[25]], dtype=int32)"
            ]
          },
          "metadata": {},
          "execution_count": 176
        }
      ]
    },
    {
      "cell_type": "code",
      "source": [
        "decode(next_to_next_token.tolist()[0], itos)"
      ],
      "metadata": {
        "colab": {
          "base_uri": "https://localhost:8080/",
          "height": 36
        },
        "id": "7gpbNLGCc8k-",
        "outputId": "b4887c6f-73e6-4cc0-ac77-0f2c2d91a0fe"
      },
      "execution_count": 177,
      "outputs": [
        {
          "output_type": "display_data",
          "data": {
            "text/plain": [
              "<IPython.core.display.HTML object>"
            ],
            "text/html": [
              "<style>\n",
              "    h1 { font-size: 30px; } /* Custom size for H1 */\n",
              "    h2 { font-size: 24px; } /* Custom size for H2 */\n",
              "    h3 { font-size: 18px; } /* Custom size for H3 */\n",
              "    /* Add more as needed */\n",
              "  </style>"
            ]
          },
          "metadata": {}
        },
        {
          "output_type": "display_data",
          "data": {
            "text/plain": [
              "<IPython.core.display.HTML object>"
            ],
            "text/html": [
              "<style>\n",
              "    h1 { font-size: 40px; } /* Custom size for H1 */\n",
              "    h2 { font-size: 24px; } /* Custom size for H2 */\n",
              "    h3 { font-size: 18px; } /* Custom size for H3 */\n",
              "    /* Add more as needed */\n",
              "  </style>"
            ]
          },
          "metadata": {}
        },
        {
          "output_type": "display_data",
          "data": {
            "text/plain": [
              "<IPython.core.display.HTML object>"
            ],
            "text/html": [
              "<style>\n",
              "    h1 { font-size: 40px; } /* Custom size for H1 */\n",
              "    h2 { font-size: 24px; } /* Custom size for H2 */\n",
              "    h3 { font-size: 18px; } /* Custom size for H3 */\n",
              "    /* Add more as needed */\n",
              "  </style>"
            ]
          },
          "metadata": {}
        },
        {
          "output_type": "display_data",
          "data": {
            "text/plain": [
              "<IPython.core.display.HTML object>"
            ],
            "text/html": [
              "<style>\n",
              "    h1 { font-size: 60px; } /* Custom size for H1 */\n",
              "    h2 { font-size: 24px; } /* Custom size for H2 */\n",
              "    h3 { font-size: 18px; } /* Custom size for H3 */\n",
              "    /* Add more as needed */\n",
              "  </style>"
            ]
          },
          "metadata": {}
        },
        {
          "output_type": "execute_result",
          "data": {
            "text/plain": [
              "'M'"
            ],
            "application/vnd.google.colaboratory.intrinsic+json": {
              "type": "string"
            }
          },
          "metadata": {},
          "execution_count": 177
        }
      ]
    },
    {
      "cell_type": "code",
      "source": [
        "next_to_next_to_next_logit = state.apply_fn({\"params\": state.params}, next_to_next_token)"
      ],
      "metadata": {
        "colab": {
          "base_uri": "https://localhost:8080/",
          "height": 17
        },
        "id": "9yoh9KIXdby-",
        "outputId": "5e61ce57-a6e8-48b4-8a0e-0f8451589bda"
      },
      "execution_count": 178,
      "outputs": [
        {
          "output_type": "display_data",
          "data": {
            "text/plain": [
              "<IPython.core.display.HTML object>"
            ],
            "text/html": [
              "<style>\n",
              "    h1 { font-size: 30px; } /* Custom size for H1 */\n",
              "    h2 { font-size: 24px; } /* Custom size for H2 */\n",
              "    h3 { font-size: 18px; } /* Custom size for H3 */\n",
              "    /* Add more as needed */\n",
              "  </style>"
            ]
          },
          "metadata": {}
        },
        {
          "output_type": "display_data",
          "data": {
            "text/plain": [
              "<IPython.core.display.HTML object>"
            ],
            "text/html": [
              "<style>\n",
              "    h1 { font-size: 40px; } /* Custom size for H1 */\n",
              "    h2 { font-size: 24px; } /* Custom size for H2 */\n",
              "    h3 { font-size: 18px; } /* Custom size for H3 */\n",
              "    /* Add more as needed */\n",
              "  </style>"
            ]
          },
          "metadata": {}
        },
        {
          "output_type": "display_data",
          "data": {
            "text/plain": [
              "<IPython.core.display.HTML object>"
            ],
            "text/html": [
              "<style>\n",
              "    h1 { font-size: 40px; } /* Custom size for H1 */\n",
              "    h2 { font-size: 24px; } /* Custom size for H2 */\n",
              "    h3 { font-size: 18px; } /* Custom size for H3 */\n",
              "    /* Add more as needed */\n",
              "  </style>"
            ]
          },
          "metadata": {}
        },
        {
          "output_type": "display_data",
          "data": {
            "text/plain": [
              "<IPython.core.display.HTML object>"
            ],
            "text/html": [
              "<style>\n",
              "    h1 { font-size: 60px; } /* Custom size for H1 */\n",
              "    h2 { font-size: 24px; } /* Custom size for H2 */\n",
              "    h3 { font-size: 18px; } /* Custom size for H3 */\n",
              "    /* Add more as needed */\n",
              "  </style>"
            ]
          },
          "metadata": {}
        }
      ]
    },
    {
      "cell_type": "code",
      "source": [
        "key, split_key = jrand.split(key)"
      ],
      "metadata": {
        "colab": {
          "base_uri": "https://localhost:8080/",
          "height": 17
        },
        "id": "eT4SCAXidmBi",
        "outputId": "b95ebfcf-0f21-4f0b-cf51-45203a162031"
      },
      "execution_count": 179,
      "outputs": [
        {
          "output_type": "display_data",
          "data": {
            "text/plain": [
              "<IPython.core.display.HTML object>"
            ],
            "text/html": [
              "<style>\n",
              "    h1 { font-size: 30px; } /* Custom size for H1 */\n",
              "    h2 { font-size: 24px; } /* Custom size for H2 */\n",
              "    h3 { font-size: 18px; } /* Custom size for H3 */\n",
              "    /* Add more as needed */\n",
              "  </style>"
            ]
          },
          "metadata": {}
        },
        {
          "output_type": "display_data",
          "data": {
            "text/plain": [
              "<IPython.core.display.HTML object>"
            ],
            "text/html": [
              "<style>\n",
              "    h1 { font-size: 40px; } /* Custom size for H1 */\n",
              "    h2 { font-size: 24px; } /* Custom size for H2 */\n",
              "    h3 { font-size: 18px; } /* Custom size for H3 */\n",
              "    /* Add more as needed */\n",
              "  </style>"
            ]
          },
          "metadata": {}
        },
        {
          "output_type": "display_data",
          "data": {
            "text/plain": [
              "<IPython.core.display.HTML object>"
            ],
            "text/html": [
              "<style>\n",
              "    h1 { font-size: 40px; } /* Custom size for H1 */\n",
              "    h2 { font-size: 24px; } /* Custom size for H2 */\n",
              "    h3 { font-size: 18px; } /* Custom size for H3 */\n",
              "    /* Add more as needed */\n",
              "  </style>"
            ]
          },
          "metadata": {}
        },
        {
          "output_type": "display_data",
          "data": {
            "text/plain": [
              "<IPython.core.display.HTML object>"
            ],
            "text/html": [
              "<style>\n",
              "    h1 { font-size: 60px; } /* Custom size for H1 */\n",
              "    h2 { font-size: 24px; } /* Custom size for H2 */\n",
              "    h3 { font-size: 18px; } /* Custom size for H3 */\n",
              "    /* Add more as needed */\n",
              "  </style>"
            ]
          },
          "metadata": {}
        }
      ]
    },
    {
      "cell_type": "code",
      "source": [
        "next_to_next_to_next_token = jrand.categorical(split_key, next_token_logit)\n",
        "\n",
        "next_to_next_to_next_token"
      ],
      "metadata": {
        "colab": {
          "base_uri": "https://localhost:8080/",
          "height": 34
        },
        "id": "JE6B49q2dkNm",
        "outputId": "baf12b6a-a6c0-4e79-cd73-875b200963f9"
      },
      "execution_count": 180,
      "outputs": [
        {
          "output_type": "display_data",
          "data": {
            "text/plain": [
              "<IPython.core.display.HTML object>"
            ],
            "text/html": [
              "<style>\n",
              "    h1 { font-size: 30px; } /* Custom size for H1 */\n",
              "    h2 { font-size: 24px; } /* Custom size for H2 */\n",
              "    h3 { font-size: 18px; } /* Custom size for H3 */\n",
              "    /* Add more as needed */\n",
              "  </style>"
            ]
          },
          "metadata": {}
        },
        {
          "output_type": "display_data",
          "data": {
            "text/plain": [
              "<IPython.core.display.HTML object>"
            ],
            "text/html": [
              "<style>\n",
              "    h1 { font-size: 40px; } /* Custom size for H1 */\n",
              "    h2 { font-size: 24px; } /* Custom size for H2 */\n",
              "    h3 { font-size: 18px; } /* Custom size for H3 */\n",
              "    /* Add more as needed */\n",
              "  </style>"
            ]
          },
          "metadata": {}
        },
        {
          "output_type": "display_data",
          "data": {
            "text/plain": [
              "<IPython.core.display.HTML object>"
            ],
            "text/html": [
              "<style>\n",
              "    h1 { font-size: 40px; } /* Custom size for H1 */\n",
              "    h2 { font-size: 24px; } /* Custom size for H2 */\n",
              "    h3 { font-size: 18px; } /* Custom size for H3 */\n",
              "    /* Add more as needed */\n",
              "  </style>"
            ]
          },
          "metadata": {}
        },
        {
          "output_type": "display_data",
          "data": {
            "text/plain": [
              "<IPython.core.display.HTML object>"
            ],
            "text/html": [
              "<style>\n",
              "    h1 { font-size: 60px; } /* Custom size for H1 */\n",
              "    h2 { font-size: 24px; } /* Custom size for H2 */\n",
              "    h3 { font-size: 18px; } /* Custom size for H3 */\n",
              "    /* Add more as needed */\n",
              "  </style>"
            ]
          },
          "metadata": {}
        },
        {
          "output_type": "execute_result",
          "data": {
            "text/plain": [
              "Array([[28]], dtype=int32)"
            ]
          },
          "metadata": {},
          "execution_count": 180
        }
      ]
    },
    {
      "cell_type": "code",
      "source": [
        "decode(next_to_next_to_next_token.tolist()[0], itos)"
      ],
      "metadata": {
        "colab": {
          "base_uri": "https://localhost:8080/",
          "height": 36
        },
        "id": "qGbhB8K7d2B0",
        "outputId": "16aab069-e3bf-43a8-a517-a81a80b3287e"
      },
      "execution_count": 181,
      "outputs": [
        {
          "output_type": "display_data",
          "data": {
            "text/plain": [
              "<IPython.core.display.HTML object>"
            ],
            "text/html": [
              "<style>\n",
              "    h1 { font-size: 30px; } /* Custom size for H1 */\n",
              "    h2 { font-size: 24px; } /* Custom size for H2 */\n",
              "    h3 { font-size: 18px; } /* Custom size for H3 */\n",
              "    /* Add more as needed */\n",
              "  </style>"
            ]
          },
          "metadata": {}
        },
        {
          "output_type": "display_data",
          "data": {
            "text/plain": [
              "<IPython.core.display.HTML object>"
            ],
            "text/html": [
              "<style>\n",
              "    h1 { font-size: 40px; } /* Custom size for H1 */\n",
              "    h2 { font-size: 24px; } /* Custom size for H2 */\n",
              "    h3 { font-size: 18px; } /* Custom size for H3 */\n",
              "    /* Add more as needed */\n",
              "  </style>"
            ]
          },
          "metadata": {}
        },
        {
          "output_type": "display_data",
          "data": {
            "text/plain": [
              "<IPython.core.display.HTML object>"
            ],
            "text/html": [
              "<style>\n",
              "    h1 { font-size: 40px; } /* Custom size for H1 */\n",
              "    h2 { font-size: 24px; } /* Custom size for H2 */\n",
              "    h3 { font-size: 18px; } /* Custom size for H3 */\n",
              "    /* Add more as needed */\n",
              "  </style>"
            ]
          },
          "metadata": {}
        },
        {
          "output_type": "display_data",
          "data": {
            "text/plain": [
              "<IPython.core.display.HTML object>"
            ],
            "text/html": [
              "<style>\n",
              "    h1 { font-size: 60px; } /* Custom size for H1 */\n",
              "    h2 { font-size: 24px; } /* Custom size for H2 */\n",
              "    h3 { font-size: 18px; } /* Custom size for H3 */\n",
              "    /* Add more as needed */\n",
              "  </style>"
            ]
          },
          "metadata": {}
        },
        {
          "output_type": "execute_result",
          "data": {
            "text/plain": [
              "'P'"
            ],
            "application/vnd.google.colaboratory.intrinsic+json": {
              "type": "string"
            }
          },
          "metadata": {},
          "execution_count": 181
        }
      ]
    },
    {
      "cell_type": "code",
      "source": [
        "# Putting together the generate code\n",
        "\n",
        "input_token = jnp.array([[52]], dtype=jnp.int32)\n",
        "key = jrand.PRNGKey(99)\n",
        "\n",
        "result = \"\"\n",
        "for i in range(100):\n",
        "  key, split_key = jrand.split(key)\n",
        "  next_token_logit = state.apply_fn({\"params\": state.params}, input_token)\n",
        "  next_token = jrand.categorical(split_key, next_token_logit)\n",
        "  next_token_decode = decode(next_token.tolist()[0], itos)\n",
        "  result = result + next_token_decode\n",
        "\n",
        "print(result)\n",
        "\n"
      ],
      "metadata": {
        "colab": {
          "base_uri": "https://localhost:8080/",
          "height": 69
        },
        "id": "keaylzQod6rh",
        "outputId": "951e3f0a-684e-476e-978e-c19f6591c99c"
      },
      "execution_count": 182,
      "outputs": [
        {
          "output_type": "display_data",
          "data": {
            "text/plain": [
              "<IPython.core.display.HTML object>"
            ],
            "text/html": [
              "<style>\n",
              "    h1 { font-size: 30px; } /* Custom size for H1 */\n",
              "    h2 { font-size: 24px; } /* Custom size for H2 */\n",
              "    h3 { font-size: 18px; } /* Custom size for H3 */\n",
              "    /* Add more as needed */\n",
              "  </style>"
            ]
          },
          "metadata": {}
        },
        {
          "output_type": "display_data",
          "data": {
            "text/plain": [
              "<IPython.core.display.HTML object>"
            ],
            "text/html": [
              "<style>\n",
              "    h1 { font-size: 40px; } /* Custom size for H1 */\n",
              "    h2 { font-size: 24px; } /* Custom size for H2 */\n",
              "    h3 { font-size: 18px; } /* Custom size for H3 */\n",
              "    /* Add more as needed */\n",
              "  </style>"
            ]
          },
          "metadata": {}
        },
        {
          "output_type": "display_data",
          "data": {
            "text/plain": [
              "<IPython.core.display.HTML object>"
            ],
            "text/html": [
              "<style>\n",
              "    h1 { font-size: 40px; } /* Custom size for H1 */\n",
              "    h2 { font-size: 24px; } /* Custom size for H2 */\n",
              "    h3 { font-size: 18px; } /* Custom size for H3 */\n",
              "    /* Add more as needed */\n",
              "  </style>"
            ]
          },
          "metadata": {}
        },
        {
          "output_type": "display_data",
          "data": {
            "text/plain": [
              "<IPython.core.display.HTML object>"
            ],
            "text/html": [
              "<style>\n",
              "    h1 { font-size: 60px; } /* Custom size for H1 */\n",
              "    h2 { font-size: 24px; } /* Custom size for H2 */\n",
              "    h3 { font-size: 18px; } /* Custom size for H3 */\n",
              "    /* Add more as needed */\n",
              "  </style>"
            ]
          },
          "metadata": {}
        },
        {
          "output_type": "stream",
          "name": "stdout",
          "text": [
            "MPTqF\n",
            "d$xMJ\n",
            " CuSOzjIfBBqerZiG,3gCbhxh,.V,Lu.zbKa'$fXAeZuDl!m:UaBBQRcrE$tkQm3u&K.v3LJfMVfxsx-;xa!kNPW\n"
          ]
        }
      ]
    },
    {
      "cell_type": "markdown",
      "source": [
        "# Mathematical trick in attention"
      ],
      "metadata": {
        "id": "G78p73EKNOJp"
      }
    },
    {
      "cell_type": "markdown",
      "source": [
        "## doing bag of words\n",
        "basically, in B, T, C\n",
        "at t-th token in a row of batch, just sum all the values upto t."
      ],
      "metadata": {
        "id": "vWZlcN7aNQ6f"
      }
    },
    {
      "cell_type": "code",
      "source": [
        "# Generate T, C and write code which works for T, C.\n",
        "# Then, vmap it for batch\n",
        "\n",
        "# Using tokens = 4\n",
        "# Using each token with channel = 2 to make it easy to visualize\n",
        "T, C = 4, 2\n",
        "\n",
        "key, split_key = jrand.split(jrand.PRNGKey(99))\n",
        "\n",
        "x = jrand.normal(split_key, (T, C))\n",
        "x"
      ],
      "metadata": {
        "colab": {
          "base_uri": "https://localhost:8080/",
          "height": 86
        },
        "id": "4x3NkSoBNsTg",
        "outputId": "be91dec3-4591-417c-d306-3b2fa39ebb47"
      },
      "execution_count": 183,
      "outputs": [
        {
          "output_type": "display_data",
          "data": {
            "text/plain": [
              "<IPython.core.display.HTML object>"
            ],
            "text/html": [
              "<style>\n",
              "    h1 { font-size: 30px; } /* Custom size for H1 */\n",
              "    h2 { font-size: 24px; } /* Custom size for H2 */\n",
              "    h3 { font-size: 18px; } /* Custom size for H3 */\n",
              "    /* Add more as needed */\n",
              "  </style>"
            ]
          },
          "metadata": {}
        },
        {
          "output_type": "display_data",
          "data": {
            "text/plain": [
              "<IPython.core.display.HTML object>"
            ],
            "text/html": [
              "<style>\n",
              "    h1 { font-size: 40px; } /* Custom size for H1 */\n",
              "    h2 { font-size: 24px; } /* Custom size for H2 */\n",
              "    h3 { font-size: 18px; } /* Custom size for H3 */\n",
              "    /* Add more as needed */\n",
              "  </style>"
            ]
          },
          "metadata": {}
        },
        {
          "output_type": "display_data",
          "data": {
            "text/plain": [
              "<IPython.core.display.HTML object>"
            ],
            "text/html": [
              "<style>\n",
              "    h1 { font-size: 40px; } /* Custom size for H1 */\n",
              "    h2 { font-size: 24px; } /* Custom size for H2 */\n",
              "    h3 { font-size: 18px; } /* Custom size for H3 */\n",
              "    /* Add more as needed */\n",
              "  </style>"
            ]
          },
          "metadata": {}
        },
        {
          "output_type": "display_data",
          "data": {
            "text/plain": [
              "<IPython.core.display.HTML object>"
            ],
            "text/html": [
              "<style>\n",
              "    h1 { font-size: 60px; } /* Custom size for H1 */\n",
              "    h2 { font-size: 24px; } /* Custom size for H2 */\n",
              "    h3 { font-size: 18px; } /* Custom size for H3 */\n",
              "    /* Add more as needed */\n",
              "  </style>"
            ]
          },
          "metadata": {}
        },
        {
          "output_type": "execute_result",
          "data": {
            "text/plain": [
              "Array([[ 0.2628779 , -0.1837252 ],\n",
              "       [ 0.38331428, -0.16180514],\n",
              "       [ 1.4986674 ,  1.10728   ],\n",
              "       [ 1.1535788 ,  0.9676541 ]], dtype=float32)"
            ]
          },
          "metadata": {},
          "execution_count": 183
        }
      ]
    },
    {
      "cell_type": "markdown",
      "source": [
        "### version 1: using for loop"
      ],
      "metadata": {
        "id": "ZFlsH67YZqQj"
      }
    },
    {
      "cell_type": "code",
      "source": [
        "def bow_attention(x: jnp.array, T: int, C: int):\n",
        "  \"\"\"Operates on a single row within batchs\n",
        "\n",
        "    It calculates bow attention by summing all\n",
        "    token channels prev + current token channels.\n",
        "  \"\"\"\n",
        "  xbow = jnp.zeros(shape=(T, C))\n",
        "  for token in range(T):\n",
        "    xprev = x[:token]\n",
        "    xcurrent = x[token:token+1]\n",
        "\n",
        "    current_bow = jnp.mean(jnp.concatenate([xprev, xcurrent], axis=0), axis=0)\n",
        "    xbow = xbow.at[token].set(current_bow)\n",
        "  return xbow"
      ],
      "metadata": {
        "id": "jtZjg_WyS3pD",
        "colab": {
          "base_uri": "https://localhost:8080/",
          "height": 17
        },
        "outputId": "3e2f01ec-426f-4436-a056-5e6832ee6755"
      },
      "execution_count": 184,
      "outputs": [
        {
          "output_type": "display_data",
          "data": {
            "text/plain": [
              "<IPython.core.display.HTML object>"
            ],
            "text/html": [
              "<style>\n",
              "    h1 { font-size: 30px; } /* Custom size for H1 */\n",
              "    h2 { font-size: 24px; } /* Custom size for H2 */\n",
              "    h3 { font-size: 18px; } /* Custom size for H3 */\n",
              "    /* Add more as needed */\n",
              "  </style>"
            ]
          },
          "metadata": {}
        },
        {
          "output_type": "display_data",
          "data": {
            "text/plain": [
              "<IPython.core.display.HTML object>"
            ],
            "text/html": [
              "<style>\n",
              "    h1 { font-size: 40px; } /* Custom size for H1 */\n",
              "    h2 { font-size: 24px; } /* Custom size for H2 */\n",
              "    h3 { font-size: 18px; } /* Custom size for H3 */\n",
              "    /* Add more as needed */\n",
              "  </style>"
            ]
          },
          "metadata": {}
        },
        {
          "output_type": "display_data",
          "data": {
            "text/plain": [
              "<IPython.core.display.HTML object>"
            ],
            "text/html": [
              "<style>\n",
              "    h1 { font-size: 40px; } /* Custom size for H1 */\n",
              "    h2 { font-size: 24px; } /* Custom size for H2 */\n",
              "    h3 { font-size: 18px; } /* Custom size for H3 */\n",
              "    /* Add more as needed */\n",
              "  </style>"
            ]
          },
          "metadata": {}
        },
        {
          "output_type": "display_data",
          "data": {
            "text/plain": [
              "<IPython.core.display.HTML object>"
            ],
            "text/html": [
              "<style>\n",
              "    h1 { font-size: 60px; } /* Custom size for H1 */\n",
              "    h2 { font-size: 24px; } /* Custom size for H2 */\n",
              "    h3 { font-size: 18px; } /* Custom size for H3 */\n",
              "    /* Add more as needed */\n",
              "  </style>"
            ]
          },
          "metadata": {}
        }
      ]
    },
    {
      "cell_type": "code",
      "source": [
        "bow_attention(x, T, C)"
      ],
      "metadata": {
        "colab": {
          "base_uri": "https://localhost:8080/",
          "height": 86
        },
        "id": "EwDgkObLJh5X",
        "outputId": "1afad189-14d7-497a-f174-3a3da41a03e6"
      },
      "execution_count": 185,
      "outputs": [
        {
          "output_type": "display_data",
          "data": {
            "text/plain": [
              "<IPython.core.display.HTML object>"
            ],
            "text/html": [
              "<style>\n",
              "    h1 { font-size: 30px; } /* Custom size for H1 */\n",
              "    h2 { font-size: 24px; } /* Custom size for H2 */\n",
              "    h3 { font-size: 18px; } /* Custom size for H3 */\n",
              "    /* Add more as needed */\n",
              "  </style>"
            ]
          },
          "metadata": {}
        },
        {
          "output_type": "display_data",
          "data": {
            "text/plain": [
              "<IPython.core.display.HTML object>"
            ],
            "text/html": [
              "<style>\n",
              "    h1 { font-size: 40px; } /* Custom size for H1 */\n",
              "    h2 { font-size: 24px; } /* Custom size for H2 */\n",
              "    h3 { font-size: 18px; } /* Custom size for H3 */\n",
              "    /* Add more as needed */\n",
              "  </style>"
            ]
          },
          "metadata": {}
        },
        {
          "output_type": "display_data",
          "data": {
            "text/plain": [
              "<IPython.core.display.HTML object>"
            ],
            "text/html": [
              "<style>\n",
              "    h1 { font-size: 40px; } /* Custom size for H1 */\n",
              "    h2 { font-size: 24px; } /* Custom size for H2 */\n",
              "    h3 { font-size: 18px; } /* Custom size for H3 */\n",
              "    /* Add more as needed */\n",
              "  </style>"
            ]
          },
          "metadata": {}
        },
        {
          "output_type": "display_data",
          "data": {
            "text/plain": [
              "<IPython.core.display.HTML object>"
            ],
            "text/html": [
              "<style>\n",
              "    h1 { font-size: 60px; } /* Custom size for H1 */\n",
              "    h2 { font-size: 24px; } /* Custom size for H2 */\n",
              "    h3 { font-size: 18px; } /* Custom size for H3 */\n",
              "    /* Add more as needed */\n",
              "  </style>"
            ]
          },
          "metadata": {}
        },
        {
          "output_type": "execute_result",
          "data": {
            "text/plain": [
              "Array([[ 0.2628779 , -0.1837252 ],\n",
              "       [ 0.3230961 , -0.17276517],\n",
              "       [ 0.7149532 ,  0.25391656],\n",
              "       [ 0.8246096 ,  0.43235093]], dtype=float32)"
            ]
          },
          "metadata": {},
          "execution_count": 185
        }
      ]
    },
    {
      "cell_type": "code",
      "source": [
        "# Test bow_attention using non-random tensor.\n",
        "test_numbers = jnp.arange(1, 5).reshape(-1, 1)\n",
        "test_arr = jnp.tile(test_numbers, (1, C))\n",
        "bow_attention(test_arr, T, C)"
      ],
      "metadata": {
        "id": "aDTyU_cJCQaW",
        "colab": {
          "base_uri": "https://localhost:8080/",
          "height": 86
        },
        "outputId": "afbaa13d-2b31-4575-c2fe-fed412149b72"
      },
      "execution_count": 206,
      "outputs": [
        {
          "output_type": "display_data",
          "data": {
            "text/plain": [
              "<IPython.core.display.HTML object>"
            ],
            "text/html": [
              "<style>\n",
              "    h1 { font-size: 30px; } /* Custom size for H1 */\n",
              "    h2 { font-size: 24px; } /* Custom size for H2 */\n",
              "    h3 { font-size: 18px; } /* Custom size for H3 */\n",
              "    /* Add more as needed */\n",
              "  </style>"
            ]
          },
          "metadata": {}
        },
        {
          "output_type": "display_data",
          "data": {
            "text/plain": [
              "<IPython.core.display.HTML object>"
            ],
            "text/html": [
              "<style>\n",
              "    h1 { font-size: 40px; } /* Custom size for H1 */\n",
              "    h2 { font-size: 24px; } /* Custom size for H2 */\n",
              "    h3 { font-size: 18px; } /* Custom size for H3 */\n",
              "    /* Add more as needed */\n",
              "  </style>"
            ]
          },
          "metadata": {}
        },
        {
          "output_type": "display_data",
          "data": {
            "text/plain": [
              "<IPython.core.display.HTML object>"
            ],
            "text/html": [
              "<style>\n",
              "    h1 { font-size: 40px; } /* Custom size for H1 */\n",
              "    h2 { font-size: 24px; } /* Custom size for H2 */\n",
              "    h3 { font-size: 18px; } /* Custom size for H3 */\n",
              "    /* Add more as needed */\n",
              "  </style>"
            ]
          },
          "metadata": {}
        },
        {
          "output_type": "display_data",
          "data": {
            "text/plain": [
              "<IPython.core.display.HTML object>"
            ],
            "text/html": [
              "<style>\n",
              "    h1 { font-size: 60px; } /* Custom size for H1 */\n",
              "    h2 { font-size: 24px; } /* Custom size for H2 */\n",
              "    h3 { font-size: 18px; } /* Custom size for H3 */\n",
              "    /* Add more as needed */\n",
              "  </style>"
            ]
          },
          "metadata": {}
        },
        {
          "output_type": "execute_result",
          "data": {
            "text/plain": [
              "Array([[1. , 1. ],\n",
              "       [1.5, 1.5],\n",
              "       [2. , 2. ],\n",
              "       [2.5, 2.5]], dtype=float32)"
            ]
          },
          "metadata": {},
          "execution_count": 206
        }
      ]
    },
    {
      "cell_type": "markdown",
      "source": [
        "### version 2: Starting to write it using matmul"
      ],
      "metadata": {
        "id": "iCEfpKc4Juqy"
      }
    },
    {
      "cell_type": "code",
      "source": [
        "x"
      ],
      "metadata": {
        "colab": {
          "base_uri": "https://localhost:8080/",
          "height": 86
        },
        "id": "aDJaLAS9JyAy",
        "outputId": "0644d201-52a3-40b1-a3c0-539b20c7c1f3"
      },
      "execution_count": 187,
      "outputs": [
        {
          "output_type": "display_data",
          "data": {
            "text/plain": [
              "<IPython.core.display.HTML object>"
            ],
            "text/html": [
              "<style>\n",
              "    h1 { font-size: 30px; } /* Custom size for H1 */\n",
              "    h2 { font-size: 24px; } /* Custom size for H2 */\n",
              "    h3 { font-size: 18px; } /* Custom size for H3 */\n",
              "    /* Add more as needed */\n",
              "  </style>"
            ]
          },
          "metadata": {}
        },
        {
          "output_type": "display_data",
          "data": {
            "text/plain": [
              "<IPython.core.display.HTML object>"
            ],
            "text/html": [
              "<style>\n",
              "    h1 { font-size: 40px; } /* Custom size for H1 */\n",
              "    h2 { font-size: 24px; } /* Custom size for H2 */\n",
              "    h3 { font-size: 18px; } /* Custom size for H3 */\n",
              "    /* Add more as needed */\n",
              "  </style>"
            ]
          },
          "metadata": {}
        },
        {
          "output_type": "display_data",
          "data": {
            "text/plain": [
              "<IPython.core.display.HTML object>"
            ],
            "text/html": [
              "<style>\n",
              "    h1 { font-size: 40px; } /* Custom size for H1 */\n",
              "    h2 { font-size: 24px; } /* Custom size for H2 */\n",
              "    h3 { font-size: 18px; } /* Custom size for H3 */\n",
              "    /* Add more as needed */\n",
              "  </style>"
            ]
          },
          "metadata": {}
        },
        {
          "output_type": "display_data",
          "data": {
            "text/plain": [
              "<IPython.core.display.HTML object>"
            ],
            "text/html": [
              "<style>\n",
              "    h1 { font-size: 60px; } /* Custom size for H1 */\n",
              "    h2 { font-size: 24px; } /* Custom size for H2 */\n",
              "    h3 { font-size: 18px; } /* Custom size for H3 */\n",
              "    /* Add more as needed */\n",
              "  </style>"
            ]
          },
          "metadata": {}
        },
        {
          "output_type": "execute_result",
          "data": {
            "text/plain": [
              "Array([[ 0.2628779 , -0.1837252 ],\n",
              "       [ 0.38331428, -0.16180514],\n",
              "       [ 1.4986674 ,  1.10728   ],\n",
              "       [ 1.1535788 ,  0.9676541 ]], dtype=float32)"
            ]
          },
          "metadata": {},
          "execution_count": 187
        }
      ]
    },
    {
      "cell_type": "code",
      "source": [
        "wei = jnp.array([[1.0, 0., 0., 0.],\n",
        " [0.5, 0.5, 0., 0.],\n",
        " [0.333, 0.333, 0.333, 0.],\n",
        " [0.25, 0.25, 0.25, 0.25]])"
      ],
      "metadata": {
        "colab": {
          "base_uri": "https://localhost:8080/",
          "height": 17
        },
        "id": "KseF9l2cJ550",
        "outputId": "95bb8e84-0c18-4e91-c7ef-cd1973a8bbc6"
      },
      "execution_count": 188,
      "outputs": [
        {
          "output_type": "display_data",
          "data": {
            "text/plain": [
              "<IPython.core.display.HTML object>"
            ],
            "text/html": [
              "<style>\n",
              "    h1 { font-size: 30px; } /* Custom size for H1 */\n",
              "    h2 { font-size: 24px; } /* Custom size for H2 */\n",
              "    h3 { font-size: 18px; } /* Custom size for H3 */\n",
              "    /* Add more as needed */\n",
              "  </style>"
            ]
          },
          "metadata": {}
        },
        {
          "output_type": "display_data",
          "data": {
            "text/plain": [
              "<IPython.core.display.HTML object>"
            ],
            "text/html": [
              "<style>\n",
              "    h1 { font-size: 40px; } /* Custom size for H1 */\n",
              "    h2 { font-size: 24px; } /* Custom size for H2 */\n",
              "    h3 { font-size: 18px; } /* Custom size for H3 */\n",
              "    /* Add more as needed */\n",
              "  </style>"
            ]
          },
          "metadata": {}
        },
        {
          "output_type": "display_data",
          "data": {
            "text/plain": [
              "<IPython.core.display.HTML object>"
            ],
            "text/html": [
              "<style>\n",
              "    h1 { font-size: 40px; } /* Custom size for H1 */\n",
              "    h2 { font-size: 24px; } /* Custom size for H2 */\n",
              "    h3 { font-size: 18px; } /* Custom size for H3 */\n",
              "    /* Add more as needed */\n",
              "  </style>"
            ]
          },
          "metadata": {}
        },
        {
          "output_type": "display_data",
          "data": {
            "text/plain": [
              "<IPython.core.display.HTML object>"
            ],
            "text/html": [
              "<style>\n",
              "    h1 { font-size: 60px; } /* Custom size for H1 */\n",
              "    h2 { font-size: 24px; } /* Custom size for H2 */\n",
              "    h3 { font-size: 18px; } /* Custom size for H3 */\n",
              "    /* Add more as needed */\n",
              "  </style>"
            ]
          },
          "metadata": {}
        }
      ]
    },
    {
      "cell_type": "code",
      "source": [
        "tril = jnp.tril(jnp.ones(shape=(T, T)))\n",
        "tril"
      ],
      "metadata": {
        "colab": {
          "base_uri": "https://localhost:8080/",
          "height": 86
        },
        "id": "0HBRJlxnQ9Wu",
        "outputId": "3aaeee09-810a-4055-b4e9-f43934966380"
      },
      "execution_count": 189,
      "outputs": [
        {
          "output_type": "display_data",
          "data": {
            "text/plain": [
              "<IPython.core.display.HTML object>"
            ],
            "text/html": [
              "<style>\n",
              "    h1 { font-size: 30px; } /* Custom size for H1 */\n",
              "    h2 { font-size: 24px; } /* Custom size for H2 */\n",
              "    h3 { font-size: 18px; } /* Custom size for H3 */\n",
              "    /* Add more as needed */\n",
              "  </style>"
            ]
          },
          "metadata": {}
        },
        {
          "output_type": "display_data",
          "data": {
            "text/plain": [
              "<IPython.core.display.HTML object>"
            ],
            "text/html": [
              "<style>\n",
              "    h1 { font-size: 40px; } /* Custom size for H1 */\n",
              "    h2 { font-size: 24px; } /* Custom size for H2 */\n",
              "    h3 { font-size: 18px; } /* Custom size for H3 */\n",
              "    /* Add more as needed */\n",
              "  </style>"
            ]
          },
          "metadata": {}
        },
        {
          "output_type": "display_data",
          "data": {
            "text/plain": [
              "<IPython.core.display.HTML object>"
            ],
            "text/html": [
              "<style>\n",
              "    h1 { font-size: 40px; } /* Custom size for H1 */\n",
              "    h2 { font-size: 24px; } /* Custom size for H2 */\n",
              "    h3 { font-size: 18px; } /* Custom size for H3 */\n",
              "    /* Add more as needed */\n",
              "  </style>"
            ]
          },
          "metadata": {}
        },
        {
          "output_type": "display_data",
          "data": {
            "text/plain": [
              "<IPython.core.display.HTML object>"
            ],
            "text/html": [
              "<style>\n",
              "    h1 { font-size: 60px; } /* Custom size for H1 */\n",
              "    h2 { font-size: 24px; } /* Custom size for H2 */\n",
              "    h3 { font-size: 18px; } /* Custom size for H3 */\n",
              "    /* Add more as needed */\n",
              "  </style>"
            ]
          },
          "metadata": {}
        },
        {
          "output_type": "execute_result",
          "data": {
            "text/plain": [
              "Array([[1., 0., 0., 0.],\n",
              "       [1., 1., 0., 0.],\n",
              "       [1., 1., 1., 0.],\n",
              "       [1., 1., 1., 1.]], dtype=float32)"
            ]
          },
          "metadata": {},
          "execution_count": 189
        }
      ]
    },
    {
      "cell_type": "code",
      "source": [
        "jnp.sum(tril, axis=1, keepdims=True)"
      ],
      "metadata": {
        "colab": {
          "base_uri": "https://localhost:8080/",
          "height": 86
        },
        "id": "SbHxqFspWcN0",
        "outputId": "d9525f96-0328-43c6-97d2-c636e6620fc8"
      },
      "execution_count": 190,
      "outputs": [
        {
          "output_type": "display_data",
          "data": {
            "text/plain": [
              "<IPython.core.display.HTML object>"
            ],
            "text/html": [
              "<style>\n",
              "    h1 { font-size: 30px; } /* Custom size for H1 */\n",
              "    h2 { font-size: 24px; } /* Custom size for H2 */\n",
              "    h3 { font-size: 18px; } /* Custom size for H3 */\n",
              "    /* Add more as needed */\n",
              "  </style>"
            ]
          },
          "metadata": {}
        },
        {
          "output_type": "display_data",
          "data": {
            "text/plain": [
              "<IPython.core.display.HTML object>"
            ],
            "text/html": [
              "<style>\n",
              "    h1 { font-size: 40px; } /* Custom size for H1 */\n",
              "    h2 { font-size: 24px; } /* Custom size for H2 */\n",
              "    h3 { font-size: 18px; } /* Custom size for H3 */\n",
              "    /* Add more as needed */\n",
              "  </style>"
            ]
          },
          "metadata": {}
        },
        {
          "output_type": "display_data",
          "data": {
            "text/plain": [
              "<IPython.core.display.HTML object>"
            ],
            "text/html": [
              "<style>\n",
              "    h1 { font-size: 40px; } /* Custom size for H1 */\n",
              "    h2 { font-size: 24px; } /* Custom size for H2 */\n",
              "    h3 { font-size: 18px; } /* Custom size for H3 */\n",
              "    /* Add more as needed */\n",
              "  </style>"
            ]
          },
          "metadata": {}
        },
        {
          "output_type": "display_data",
          "data": {
            "text/plain": [
              "<IPython.core.display.HTML object>"
            ],
            "text/html": [
              "<style>\n",
              "    h1 { font-size: 60px; } /* Custom size for H1 */\n",
              "    h2 { font-size: 24px; } /* Custom size for H2 */\n",
              "    h3 { font-size: 18px; } /* Custom size for H3 */\n",
              "    /* Add more as needed */\n",
              "  </style>"
            ]
          },
          "metadata": {}
        },
        {
          "output_type": "execute_result",
          "data": {
            "text/plain": [
              "Array([[1.],\n",
              "       [2.],\n",
              "       [3.],\n",
              "       [4.]], dtype=float32)"
            ]
          },
          "metadata": {},
          "execution_count": 190
        }
      ]
    },
    {
      "cell_type": "code",
      "source": [
        "def get_wei(T: int):\n",
        "  tril = jnp.tril(jnp.ones(shape=(T, T)))\n",
        "  return tril/jnp.sum(tril, axis=1, keepdims=True)"
      ],
      "metadata": {
        "colab": {
          "base_uri": "https://localhost:8080/",
          "height": 17
        },
        "id": "naS4RF-FWfEL",
        "outputId": "2f6e3d0f-e59c-4bed-c867-3ecd9dddaef0"
      },
      "execution_count": 191,
      "outputs": [
        {
          "output_type": "display_data",
          "data": {
            "text/plain": [
              "<IPython.core.display.HTML object>"
            ],
            "text/html": [
              "<style>\n",
              "    h1 { font-size: 30px; } /* Custom size for H1 */\n",
              "    h2 { font-size: 24px; } /* Custom size for H2 */\n",
              "    h3 { font-size: 18px; } /* Custom size for H3 */\n",
              "    /* Add more as needed */\n",
              "  </style>"
            ]
          },
          "metadata": {}
        },
        {
          "output_type": "display_data",
          "data": {
            "text/plain": [
              "<IPython.core.display.HTML object>"
            ],
            "text/html": [
              "<style>\n",
              "    h1 { font-size: 40px; } /* Custom size for H1 */\n",
              "    h2 { font-size: 24px; } /* Custom size for H2 */\n",
              "    h3 { font-size: 18px; } /* Custom size for H3 */\n",
              "    /* Add more as needed */\n",
              "  </style>"
            ]
          },
          "metadata": {}
        },
        {
          "output_type": "display_data",
          "data": {
            "text/plain": [
              "<IPython.core.display.HTML object>"
            ],
            "text/html": [
              "<style>\n",
              "    h1 { font-size: 40px; } /* Custom size for H1 */\n",
              "    h2 { font-size: 24px; } /* Custom size for H2 */\n",
              "    h3 { font-size: 18px; } /* Custom size for H3 */\n",
              "    /* Add more as needed */\n",
              "  </style>"
            ]
          },
          "metadata": {}
        },
        {
          "output_type": "display_data",
          "data": {
            "text/plain": [
              "<IPython.core.display.HTML object>"
            ],
            "text/html": [
              "<style>\n",
              "    h1 { font-size: 60px; } /* Custom size for H1 */\n",
              "    h2 { font-size: 24px; } /* Custom size for H2 */\n",
              "    h3 { font-size: 18px; } /* Custom size for H3 */\n",
              "    /* Add more as needed */\n",
              "  </style>"
            ]
          },
          "metadata": {}
        }
      ]
    },
    {
      "cell_type": "code",
      "source": [
        "get_wei(T)"
      ],
      "metadata": {
        "colab": {
          "base_uri": "https://localhost:8080/",
          "height": 86
        },
        "id": "W-cr82EcWq5P",
        "outputId": "ee288577-51fb-402d-d77e-04416a4e56df"
      },
      "execution_count": 192,
      "outputs": [
        {
          "output_type": "display_data",
          "data": {
            "text/plain": [
              "<IPython.core.display.HTML object>"
            ],
            "text/html": [
              "<style>\n",
              "    h1 { font-size: 30px; } /* Custom size for H1 */\n",
              "    h2 { font-size: 24px; } /* Custom size for H2 */\n",
              "    h3 { font-size: 18px; } /* Custom size for H3 */\n",
              "    /* Add more as needed */\n",
              "  </style>"
            ]
          },
          "metadata": {}
        },
        {
          "output_type": "display_data",
          "data": {
            "text/plain": [
              "<IPython.core.display.HTML object>"
            ],
            "text/html": [
              "<style>\n",
              "    h1 { font-size: 40px; } /* Custom size for H1 */\n",
              "    h2 { font-size: 24px; } /* Custom size for H2 */\n",
              "    h3 { font-size: 18px; } /* Custom size for H3 */\n",
              "    /* Add more as needed */\n",
              "  </style>"
            ]
          },
          "metadata": {}
        },
        {
          "output_type": "display_data",
          "data": {
            "text/plain": [
              "<IPython.core.display.HTML object>"
            ],
            "text/html": [
              "<style>\n",
              "    h1 { font-size: 40px; } /* Custom size for H1 */\n",
              "    h2 { font-size: 24px; } /* Custom size for H2 */\n",
              "    h3 { font-size: 18px; } /* Custom size for H3 */\n",
              "    /* Add more as needed */\n",
              "  </style>"
            ]
          },
          "metadata": {}
        },
        {
          "output_type": "display_data",
          "data": {
            "text/plain": [
              "<IPython.core.display.HTML object>"
            ],
            "text/html": [
              "<style>\n",
              "    h1 { font-size: 60px; } /* Custom size for H1 */\n",
              "    h2 { font-size: 24px; } /* Custom size for H2 */\n",
              "    h3 { font-size: 18px; } /* Custom size for H3 */\n",
              "    /* Add more as needed */\n",
              "  </style>"
            ]
          },
          "metadata": {}
        },
        {
          "output_type": "execute_result",
          "data": {
            "text/plain": [
              "Array([[1.        , 0.        , 0.        , 0.        ],\n",
              "       [0.5       , 0.5       , 0.        , 0.        ],\n",
              "       [0.33333334, 0.33333334, 0.33333334, 0.        ],\n",
              "       [0.25      , 0.25      , 0.25      , 0.25      ]], dtype=float32)"
            ]
          },
          "metadata": {},
          "execution_count": 192
        }
      ]
    },
    {
      "cell_type": "code",
      "source": [
        "# Putting together the bow attention calculation using matmul\n",
        "def bow_attention_matmul(x: jnp.array, T: int, C: int):\n",
        "  tril = jnp.tril(jnp.ones(shape=(T, T)))\n",
        "  wei = tril/jnp.sum(tril, axis=1, keepdims=True)\n",
        "\n",
        "  return jnp.dot(wei, x)\n"
      ],
      "metadata": {
        "colab": {
          "base_uri": "https://localhost:8080/",
          "height": 17
        },
        "id": "D2za5ZmdE9fu",
        "outputId": "485bf76e-9489-4ec3-89ac-74d9c01b6300"
      },
      "execution_count": 193,
      "outputs": [
        {
          "output_type": "display_data",
          "data": {
            "text/plain": [
              "<IPython.core.display.HTML object>"
            ],
            "text/html": [
              "<style>\n",
              "    h1 { font-size: 30px; } /* Custom size for H1 */\n",
              "    h2 { font-size: 24px; } /* Custom size for H2 */\n",
              "    h3 { font-size: 18px; } /* Custom size for H3 */\n",
              "    /* Add more as needed */\n",
              "  </style>"
            ]
          },
          "metadata": {}
        },
        {
          "output_type": "display_data",
          "data": {
            "text/plain": [
              "<IPython.core.display.HTML object>"
            ],
            "text/html": [
              "<style>\n",
              "    h1 { font-size: 40px; } /* Custom size for H1 */\n",
              "    h2 { font-size: 24px; } /* Custom size for H2 */\n",
              "    h3 { font-size: 18px; } /* Custom size for H3 */\n",
              "    /* Add more as needed */\n",
              "  </style>"
            ]
          },
          "metadata": {}
        },
        {
          "output_type": "display_data",
          "data": {
            "text/plain": [
              "<IPython.core.display.HTML object>"
            ],
            "text/html": [
              "<style>\n",
              "    h1 { font-size: 40px; } /* Custom size for H1 */\n",
              "    h2 { font-size: 24px; } /* Custom size for H2 */\n",
              "    h3 { font-size: 18px; } /* Custom size for H3 */\n",
              "    /* Add more as needed */\n",
              "  </style>"
            ]
          },
          "metadata": {}
        },
        {
          "output_type": "display_data",
          "data": {
            "text/plain": [
              "<IPython.core.display.HTML object>"
            ],
            "text/html": [
              "<style>\n",
              "    h1 { font-size: 60px; } /* Custom size for H1 */\n",
              "    h2 { font-size: 24px; } /* Custom size for H2 */\n",
              "    h3 { font-size: 18px; } /* Custom size for H3 */\n",
              "    /* Add more as needed */\n",
              "  </style>"
            ]
          },
          "metadata": {}
        }
      ]
    },
    {
      "cell_type": "code",
      "source": [
        "bow_attention_matmul(x, T, C)"
      ],
      "metadata": {
        "colab": {
          "base_uri": "https://localhost:8080/"
        },
        "id": "0P96Sm6qXHfi",
        "outputId": "c922c8bb-b73f-47cd-add3-0a3ed0a16028"
      },
      "execution_count": 134,
      "outputs": [
        {
          "output_type": "execute_result",
          "data": {
            "text/plain": [
              "Array([[ 0.2628779 , -0.1837252 ],\n",
              "       [ 0.3230961 , -0.17276517],\n",
              "       [ 0.7149532 ,  0.25391656],\n",
              "       [ 0.8246096 ,  0.43235093]], dtype=float32)"
            ]
          },
          "metadata": {},
          "execution_count": 134
        }
      ]
    },
    {
      "cell_type": "markdown",
      "source": [
        "### version 3: use softmax to generate wei matrix\n",
        "so that it can be learnable?"
      ],
      "metadata": {
        "id": "odn4VPr3cdaP"
      }
    },
    {
      "cell_type": "code",
      "source": [
        "tril = jnp.tril(jnp.ones(shape=(T, T)))\n",
        "tril"
      ],
      "metadata": {
        "colab": {
          "base_uri": "https://localhost:8080/",
          "height": 86
        },
        "id": "wFNaw1Ufcmk-",
        "outputId": "badd15bb-359f-4e09-d344-9e11f9655641"
      },
      "execution_count": 197,
      "outputs": [
        {
          "output_type": "display_data",
          "data": {
            "text/plain": [
              "<IPython.core.display.HTML object>"
            ],
            "text/html": [
              "<style>\n",
              "    h1 { font-size: 30px; } /* Custom size for H1 */\n",
              "    h2 { font-size: 24px; } /* Custom size for H2 */\n",
              "    h3 { font-size: 18px; } /* Custom size for H3 */\n",
              "    /* Add more as needed */\n",
              "  </style>"
            ]
          },
          "metadata": {}
        },
        {
          "output_type": "display_data",
          "data": {
            "text/plain": [
              "<IPython.core.display.HTML object>"
            ],
            "text/html": [
              "<style>\n",
              "    h1 { font-size: 40px; } /* Custom size for H1 */\n",
              "    h2 { font-size: 24px; } /* Custom size for H2 */\n",
              "    h3 { font-size: 18px; } /* Custom size for H3 */\n",
              "    /* Add more as needed */\n",
              "  </style>"
            ]
          },
          "metadata": {}
        },
        {
          "output_type": "display_data",
          "data": {
            "text/plain": [
              "<IPython.core.display.HTML object>"
            ],
            "text/html": [
              "<style>\n",
              "    h1 { font-size: 40px; } /* Custom size for H1 */\n",
              "    h2 { font-size: 24px; } /* Custom size for H2 */\n",
              "    h3 { font-size: 18px; } /* Custom size for H3 */\n",
              "    /* Add more as needed */\n",
              "  </style>"
            ]
          },
          "metadata": {}
        },
        {
          "output_type": "display_data",
          "data": {
            "text/plain": [
              "<IPython.core.display.HTML object>"
            ],
            "text/html": [
              "<style>\n",
              "    h1 { font-size: 60px; } /* Custom size for H1 */\n",
              "    h2 { font-size: 24px; } /* Custom size for H2 */\n",
              "    h3 { font-size: 18px; } /* Custom size for H3 */\n",
              "    /* Add more as needed */\n",
              "  </style>"
            ]
          },
          "metadata": {}
        },
        {
          "output_type": "execute_result",
          "data": {
            "text/plain": [
              "Array([[1., 0., 0., 0.],\n",
              "       [1., 1., 0., 0.],\n",
              "       [1., 1., 1., 0.],\n",
              "       [1., 1., 1., 1.]], dtype=float32)"
            ]
          },
          "metadata": {},
          "execution_count": 197
        }
      ]
    },
    {
      "cell_type": "code",
      "source": [
        "tril2 = jnp.where(tril==0, -jnp.inf, tril)\n",
        "tril2"
      ],
      "metadata": {
        "colab": {
          "base_uri": "https://localhost:8080/",
          "height": 86
        },
        "id": "SYUrDscEcueh",
        "outputId": "a0d4bf90-be6e-4ffe-9386-7eabc4674f3d"
      },
      "execution_count": 200,
      "outputs": [
        {
          "output_type": "display_data",
          "data": {
            "text/plain": [
              "<IPython.core.display.HTML object>"
            ],
            "text/html": [
              "<style>\n",
              "    h1 { font-size: 30px; } /* Custom size for H1 */\n",
              "    h2 { font-size: 24px; } /* Custom size for H2 */\n",
              "    h3 { font-size: 18px; } /* Custom size for H3 */\n",
              "    /* Add more as needed */\n",
              "  </style>"
            ]
          },
          "metadata": {}
        },
        {
          "output_type": "display_data",
          "data": {
            "text/plain": [
              "<IPython.core.display.HTML object>"
            ],
            "text/html": [
              "<style>\n",
              "    h1 { font-size: 40px; } /* Custom size for H1 */\n",
              "    h2 { font-size: 24px; } /* Custom size for H2 */\n",
              "    h3 { font-size: 18px; } /* Custom size for H3 */\n",
              "    /* Add more as needed */\n",
              "  </style>"
            ]
          },
          "metadata": {}
        },
        {
          "output_type": "display_data",
          "data": {
            "text/plain": [
              "<IPython.core.display.HTML object>"
            ],
            "text/html": [
              "<style>\n",
              "    h1 { font-size: 40px; } /* Custom size for H1 */\n",
              "    h2 { font-size: 24px; } /* Custom size for H2 */\n",
              "    h3 { font-size: 18px; } /* Custom size for H3 */\n",
              "    /* Add more as needed */\n",
              "  </style>"
            ]
          },
          "metadata": {}
        },
        {
          "output_type": "display_data",
          "data": {
            "text/plain": [
              "<IPython.core.display.HTML object>"
            ],
            "text/html": [
              "<style>\n",
              "    h1 { font-size: 60px; } /* Custom size for H1 */\n",
              "    h2 { font-size: 24px; } /* Custom size for H2 */\n",
              "    h3 { font-size: 18px; } /* Custom size for H3 */\n",
              "    /* Add more as needed */\n",
              "  </style>"
            ]
          },
          "metadata": {}
        },
        {
          "output_type": "execute_result",
          "data": {
            "text/plain": [
              "Array([[  1., -inf, -inf, -inf],\n",
              "       [  1.,   1., -inf, -inf],\n",
              "       [  1.,   1.,   1., -inf],\n",
              "       [  1.,   1.,   1.,   1.]], dtype=float32)"
            ]
          },
          "metadata": {},
          "execution_count": 200
        }
      ]
    },
    {
      "cell_type": "code",
      "source": [
        "nn.softmax(tril2)"
      ],
      "metadata": {
        "colab": {
          "base_uri": "https://localhost:8080/",
          "height": 86
        },
        "id": "MvuCE4RRc957",
        "outputId": "2219affc-0b73-4171-b7cb-74bc743f9b19"
      },
      "execution_count": 201,
      "outputs": [
        {
          "output_type": "display_data",
          "data": {
            "text/plain": [
              "<IPython.core.display.HTML object>"
            ],
            "text/html": [
              "<style>\n",
              "    h1 { font-size: 30px; } /* Custom size for H1 */\n",
              "    h2 { font-size: 24px; } /* Custom size for H2 */\n",
              "    h3 { font-size: 18px; } /* Custom size for H3 */\n",
              "    /* Add more as needed */\n",
              "  </style>"
            ]
          },
          "metadata": {}
        },
        {
          "output_type": "display_data",
          "data": {
            "text/plain": [
              "<IPython.core.display.HTML object>"
            ],
            "text/html": [
              "<style>\n",
              "    h1 { font-size: 40px; } /* Custom size for H1 */\n",
              "    h2 { font-size: 24px; } /* Custom size for H2 */\n",
              "    h3 { font-size: 18px; } /* Custom size for H3 */\n",
              "    /* Add more as needed */\n",
              "  </style>"
            ]
          },
          "metadata": {}
        },
        {
          "output_type": "display_data",
          "data": {
            "text/plain": [
              "<IPython.core.display.HTML object>"
            ],
            "text/html": [
              "<style>\n",
              "    h1 { font-size: 40px; } /* Custom size for H1 */\n",
              "    h2 { font-size: 24px; } /* Custom size for H2 */\n",
              "    h3 { font-size: 18px; } /* Custom size for H3 */\n",
              "    /* Add more as needed */\n",
              "  </style>"
            ]
          },
          "metadata": {}
        },
        {
          "output_type": "display_data",
          "data": {
            "text/plain": [
              "<IPython.core.display.HTML object>"
            ],
            "text/html": [
              "<style>\n",
              "    h1 { font-size: 60px; } /* Custom size for H1 */\n",
              "    h2 { font-size: 24px; } /* Custom size for H2 */\n",
              "    h3 { font-size: 18px; } /* Custom size for H3 */\n",
              "    /* Add more as needed */\n",
              "  </style>"
            ]
          },
          "metadata": {}
        },
        {
          "output_type": "execute_result",
          "data": {
            "text/plain": [
              "Array([[1.        , 0.        , 0.        , 0.        ],\n",
              "       [0.5       , 0.5       , 0.        , 0.        ],\n",
              "       [0.33333334, 0.33333334, 0.33333334, 0.        ],\n",
              "       [0.25      , 0.25      , 0.25      , 0.25      ]], dtype=float32)"
            ]
          },
          "metadata": {},
          "execution_count": 201
        }
      ]
    },
    {
      "cell_type": "code",
      "source": [
        "def calc_attention(x: jnp.array, T:int, C:int):\n",
        "  \"\"\"Calculates attention for a row of tokens.\"\"\"\n",
        "  tril = jnp.tril(jnp.ones(shape=(T, T)))\n",
        "  tril = jnp.where(tril==0, -jnp.inf, tril)\n",
        "  wei = nn.softmax(tril)\n",
        "\n",
        "  return jnp.dot(wei, x)"
      ],
      "metadata": {
        "colab": {
          "base_uri": "https://localhost:8080/",
          "height": 17
        },
        "id": "NtMC5WcrdE7m",
        "outputId": "d0467efb-163c-44ac-bcfb-d022a635d4f8"
      },
      "execution_count": 204,
      "outputs": [
        {
          "output_type": "display_data",
          "data": {
            "text/plain": [
              "<IPython.core.display.HTML object>"
            ],
            "text/html": [
              "<style>\n",
              "    h1 { font-size: 30px; } /* Custom size for H1 */\n",
              "    h2 { font-size: 24px; } /* Custom size for H2 */\n",
              "    h3 { font-size: 18px; } /* Custom size for H3 */\n",
              "    /* Add more as needed */\n",
              "  </style>"
            ]
          },
          "metadata": {}
        },
        {
          "output_type": "display_data",
          "data": {
            "text/plain": [
              "<IPython.core.display.HTML object>"
            ],
            "text/html": [
              "<style>\n",
              "    h1 { font-size: 40px; } /* Custom size for H1 */\n",
              "    h2 { font-size: 24px; } /* Custom size for H2 */\n",
              "    h3 { font-size: 18px; } /* Custom size for H3 */\n",
              "    /* Add more as needed */\n",
              "  </style>"
            ]
          },
          "metadata": {}
        },
        {
          "output_type": "display_data",
          "data": {
            "text/plain": [
              "<IPython.core.display.HTML object>"
            ],
            "text/html": [
              "<style>\n",
              "    h1 { font-size: 40px; } /* Custom size for H1 */\n",
              "    h2 { font-size: 24px; } /* Custom size for H2 */\n",
              "    h3 { font-size: 18px; } /* Custom size for H3 */\n",
              "    /* Add more as needed */\n",
              "  </style>"
            ]
          },
          "metadata": {}
        },
        {
          "output_type": "display_data",
          "data": {
            "text/plain": [
              "<IPython.core.display.HTML object>"
            ],
            "text/html": [
              "<style>\n",
              "    h1 { font-size: 60px; } /* Custom size for H1 */\n",
              "    h2 { font-size: 24px; } /* Custom size for H2 */\n",
              "    h3 { font-size: 18px; } /* Custom size for H3 */\n",
              "    /* Add more as needed */\n",
              "  </style>"
            ]
          },
          "metadata": {}
        }
      ]
    },
    {
      "cell_type": "code",
      "source": [
        "calc_attention(x, T, C)"
      ],
      "metadata": {
        "colab": {
          "base_uri": "https://localhost:8080/",
          "height": 86
        },
        "id": "G5XZ1TjsdpSH",
        "outputId": "bd9ffcfb-cfaf-4487-b72c-e7232d556066"
      },
      "execution_count": 205,
      "outputs": [
        {
          "output_type": "display_data",
          "data": {
            "text/plain": [
              "<IPython.core.display.HTML object>"
            ],
            "text/html": [
              "<style>\n",
              "    h1 { font-size: 30px; } /* Custom size for H1 */\n",
              "    h2 { font-size: 24px; } /* Custom size for H2 */\n",
              "    h3 { font-size: 18px; } /* Custom size for H3 */\n",
              "    /* Add more as needed */\n",
              "  </style>"
            ]
          },
          "metadata": {}
        },
        {
          "output_type": "display_data",
          "data": {
            "text/plain": [
              "<IPython.core.display.HTML object>"
            ],
            "text/html": [
              "<style>\n",
              "    h1 { font-size: 40px; } /* Custom size for H1 */\n",
              "    h2 { font-size: 24px; } /* Custom size for H2 */\n",
              "    h3 { font-size: 18px; } /* Custom size for H3 */\n",
              "    /* Add more as needed */\n",
              "  </style>"
            ]
          },
          "metadata": {}
        },
        {
          "output_type": "display_data",
          "data": {
            "text/plain": [
              "<IPython.core.display.HTML object>"
            ],
            "text/html": [
              "<style>\n",
              "    h1 { font-size: 40px; } /* Custom size for H1 */\n",
              "    h2 { font-size: 24px; } /* Custom size for H2 */\n",
              "    h3 { font-size: 18px; } /* Custom size for H3 */\n",
              "    /* Add more as needed */\n",
              "  </style>"
            ]
          },
          "metadata": {}
        },
        {
          "output_type": "display_data",
          "data": {
            "text/plain": [
              "<IPython.core.display.HTML object>"
            ],
            "text/html": [
              "<style>\n",
              "    h1 { font-size: 60px; } /* Custom size for H1 */\n",
              "    h2 { font-size: 24px; } /* Custom size for H2 */\n",
              "    h3 { font-size: 18px; } /* Custom size for H3 */\n",
              "    /* Add more as needed */\n",
              "  </style>"
            ]
          },
          "metadata": {}
        },
        {
          "output_type": "execute_result",
          "data": {
            "text/plain": [
              "Array([[ 0.2628779 , -0.1837252 ],\n",
              "       [ 0.3230961 , -0.17276517],\n",
              "       [ 0.7149532 ,  0.25391656],\n",
              "       [ 0.8246096 ,  0.43235093]], dtype=float32)"
            ]
          },
          "metadata": {},
          "execution_count": 205
        }
      ]
    },
    {
      "cell_type": "code",
      "source": [
        "test_arr"
      ],
      "metadata": {
        "colab": {
          "base_uri": "https://localhost:8080/",
          "height": 86
        },
        "id": "J131vv3edzzc",
        "outputId": "985ef80d-ebfe-4e79-8284-24a33fbee3b2"
      },
      "execution_count": 208,
      "outputs": [
        {
          "output_type": "display_data",
          "data": {
            "text/plain": [
              "<IPython.core.display.HTML object>"
            ],
            "text/html": [
              "<style>\n",
              "    h1 { font-size: 30px; } /* Custom size for H1 */\n",
              "    h2 { font-size: 24px; } /* Custom size for H2 */\n",
              "    h3 { font-size: 18px; } /* Custom size for H3 */\n",
              "    /* Add more as needed */\n",
              "  </style>"
            ]
          },
          "metadata": {}
        },
        {
          "output_type": "display_data",
          "data": {
            "text/plain": [
              "<IPython.core.display.HTML object>"
            ],
            "text/html": [
              "<style>\n",
              "    h1 { font-size: 40px; } /* Custom size for H1 */\n",
              "    h2 { font-size: 24px; } /* Custom size for H2 */\n",
              "    h3 { font-size: 18px; } /* Custom size for H3 */\n",
              "    /* Add more as needed */\n",
              "  </style>"
            ]
          },
          "metadata": {}
        },
        {
          "output_type": "display_data",
          "data": {
            "text/plain": [
              "<IPython.core.display.HTML object>"
            ],
            "text/html": [
              "<style>\n",
              "    h1 { font-size: 40px; } /* Custom size for H1 */\n",
              "    h2 { font-size: 24px; } /* Custom size for H2 */\n",
              "    h3 { font-size: 18px; } /* Custom size for H3 */\n",
              "    /* Add more as needed */\n",
              "  </style>"
            ]
          },
          "metadata": {}
        },
        {
          "output_type": "display_data",
          "data": {
            "text/plain": [
              "<IPython.core.display.HTML object>"
            ],
            "text/html": [
              "<style>\n",
              "    h1 { font-size: 60px; } /* Custom size for H1 */\n",
              "    h2 { font-size: 24px; } /* Custom size for H2 */\n",
              "    h3 { font-size: 18px; } /* Custom size for H3 */\n",
              "    /* Add more as needed */\n",
              "  </style>"
            ]
          },
          "metadata": {}
        },
        {
          "output_type": "execute_result",
          "data": {
            "text/plain": [
              "Array([[1, 1],\n",
              "       [2, 2],\n",
              "       [3, 3],\n",
              "       [4, 4]], dtype=int32)"
            ]
          },
          "metadata": {},
          "execution_count": 208
        }
      ]
    },
    {
      "cell_type": "code",
      "source": [
        "calc_attention(test_arr, T, C)"
      ],
      "metadata": {
        "colab": {
          "base_uri": "https://localhost:8080/",
          "height": 86
        },
        "id": "rpe729Ygd2V6",
        "outputId": "2ce4a7c1-df14-4bc2-bfb7-cb1c3feeaa45"
      },
      "execution_count": 209,
      "outputs": [
        {
          "output_type": "display_data",
          "data": {
            "text/plain": [
              "<IPython.core.display.HTML object>"
            ],
            "text/html": [
              "<style>\n",
              "    h1 { font-size: 30px; } /* Custom size for H1 */\n",
              "    h2 { font-size: 24px; } /* Custom size for H2 */\n",
              "    h3 { font-size: 18px; } /* Custom size for H3 */\n",
              "    /* Add more as needed */\n",
              "  </style>"
            ]
          },
          "metadata": {}
        },
        {
          "output_type": "display_data",
          "data": {
            "text/plain": [
              "<IPython.core.display.HTML object>"
            ],
            "text/html": [
              "<style>\n",
              "    h1 { font-size: 40px; } /* Custom size for H1 */\n",
              "    h2 { font-size: 24px; } /* Custom size for H2 */\n",
              "    h3 { font-size: 18px; } /* Custom size for H3 */\n",
              "    /* Add more as needed */\n",
              "  </style>"
            ]
          },
          "metadata": {}
        },
        {
          "output_type": "display_data",
          "data": {
            "text/plain": [
              "<IPython.core.display.HTML object>"
            ],
            "text/html": [
              "<style>\n",
              "    h1 { font-size: 40px; } /* Custom size for H1 */\n",
              "    h2 { font-size: 24px; } /* Custom size for H2 */\n",
              "    h3 { font-size: 18px; } /* Custom size for H3 */\n",
              "    /* Add more as needed */\n",
              "  </style>"
            ]
          },
          "metadata": {}
        },
        {
          "output_type": "display_data",
          "data": {
            "text/plain": [
              "<IPython.core.display.HTML object>"
            ],
            "text/html": [
              "<style>\n",
              "    h1 { font-size: 60px; } /* Custom size for H1 */\n",
              "    h2 { font-size: 24px; } /* Custom size for H2 */\n",
              "    h3 { font-size: 18px; } /* Custom size for H3 */\n",
              "    /* Add more as needed */\n",
              "  </style>"
            ]
          },
          "metadata": {}
        },
        {
          "output_type": "execute_result",
          "data": {
            "text/plain": [
              "Array([[1. , 1. ],\n",
              "       [1.5, 1.5],\n",
              "       [2. , 2. ],\n",
              "       [2.5, 2.5]], dtype=float32)"
            ]
          },
          "metadata": {},
          "execution_count": 209
        }
      ]
    },
    {
      "cell_type": "code",
      "source": [
        "calc_attention_batch = jax.vmap(calc_attention, in_axes=(0, None, None), out_axes=(0))"
      ],
      "metadata": {
        "colab": {
          "base_uri": "https://localhost:8080/",
          "height": 17
        },
        "id": "BQ_Sy-FEeHpx",
        "outputId": "a4162f77-c1de-4498-e2c5-4b0af9150ded"
      },
      "execution_count": 210,
      "outputs": [
        {
          "output_type": "display_data",
          "data": {
            "text/plain": [
              "<IPython.core.display.HTML object>"
            ],
            "text/html": [
              "<style>\n",
              "    h1 { font-size: 30px; } /* Custom size for H1 */\n",
              "    h2 { font-size: 24px; } /* Custom size for H2 */\n",
              "    h3 { font-size: 18px; } /* Custom size for H3 */\n",
              "    /* Add more as needed */\n",
              "  </style>"
            ]
          },
          "metadata": {}
        },
        {
          "output_type": "display_data",
          "data": {
            "text/plain": [
              "<IPython.core.display.HTML object>"
            ],
            "text/html": [
              "<style>\n",
              "    h1 { font-size: 40px; } /* Custom size for H1 */\n",
              "    h2 { font-size: 24px; } /* Custom size for H2 */\n",
              "    h3 { font-size: 18px; } /* Custom size for H3 */\n",
              "    /* Add more as needed */\n",
              "  </style>"
            ]
          },
          "metadata": {}
        },
        {
          "output_type": "display_data",
          "data": {
            "text/plain": [
              "<IPython.core.display.HTML object>"
            ],
            "text/html": [
              "<style>\n",
              "    h1 { font-size: 40px; } /* Custom size for H1 */\n",
              "    h2 { font-size: 24px; } /* Custom size for H2 */\n",
              "    h3 { font-size: 18px; } /* Custom size for H3 */\n",
              "    /* Add more as needed */\n",
              "  </style>"
            ]
          },
          "metadata": {}
        },
        {
          "output_type": "display_data",
          "data": {
            "text/plain": [
              "<IPython.core.display.HTML object>"
            ],
            "text/html": [
              "<style>\n",
              "    h1 { font-size: 60px; } /* Custom size for H1 */\n",
              "    h2 { font-size: 24px; } /* Custom size for H2 */\n",
              "    h3 { font-size: 18px; } /* Custom size for H3 */\n",
              "    /* Add more as needed */\n",
              "  </style>"
            ]
          },
          "metadata": {}
        }
      ]
    },
    {
      "cell_type": "code",
      "source": [
        "T, C = 8, 65\n",
        "test_numbers = jnp.arange(1, T+1).reshape(-1, 1)\n",
        "test_arr = jnp.tile(test_numbers, (1, C))\n",
        "\n",
        "# add batch dimension to test_arr\n",
        "test_arr_batch = test_arr[None, :]"
      ],
      "metadata": {
        "colab": {
          "base_uri": "https://localhost:8080/",
          "height": 17
        },
        "id": "ZpQKVgZwebqK",
        "outputId": "6fb26ecc-0d8c-4fae-8d52-87c1db1e2e65"
      },
      "execution_count": 224,
      "outputs": [
        {
          "output_type": "display_data",
          "data": {
            "text/plain": [
              "<IPython.core.display.HTML object>"
            ],
            "text/html": [
              "<style>\n",
              "    h1 { font-size: 30px; } /* Custom size for H1 */\n",
              "    h2 { font-size: 24px; } /* Custom size for H2 */\n",
              "    h3 { font-size: 18px; } /* Custom size for H3 */\n",
              "    /* Add more as needed */\n",
              "  </style>"
            ]
          },
          "metadata": {}
        },
        {
          "output_type": "display_data",
          "data": {
            "text/plain": [
              "<IPython.core.display.HTML object>"
            ],
            "text/html": [
              "<style>\n",
              "    h1 { font-size: 40px; } /* Custom size for H1 */\n",
              "    h2 { font-size: 24px; } /* Custom size for H2 */\n",
              "    h3 { font-size: 18px; } /* Custom size for H3 */\n",
              "    /* Add more as needed */\n",
              "  </style>"
            ]
          },
          "metadata": {}
        },
        {
          "output_type": "display_data",
          "data": {
            "text/plain": [
              "<IPython.core.display.HTML object>"
            ],
            "text/html": [
              "<style>\n",
              "    h1 { font-size: 40px; } /* Custom size for H1 */\n",
              "    h2 { font-size: 24px; } /* Custom size for H2 */\n",
              "    h3 { font-size: 18px; } /* Custom size for H3 */\n",
              "    /* Add more as needed */\n",
              "  </style>"
            ]
          },
          "metadata": {}
        },
        {
          "output_type": "display_data",
          "data": {
            "text/plain": [
              "<IPython.core.display.HTML object>"
            ],
            "text/html": [
              "<style>\n",
              "    h1 { font-size: 60px; } /* Custom size for H1 */\n",
              "    h2 { font-size: 24px; } /* Custom size for H2 */\n",
              "    h3 { font-size: 18px; } /* Custom size for H3 */\n",
              "    /* Add more as needed */\n",
              "  </style>"
            ]
          },
          "metadata": {}
        }
      ]
    },
    {
      "cell_type": "code",
      "source": [
        "# Test calc_attention_batch using get_batch\n",
        "calc_attention_batch(test_arr_batch, T, C)"
      ],
      "metadata": {
        "colab": {
          "base_uri": "https://localhost:8080/",
          "height": 850
        },
        "id": "fsnmMhRmePJR",
        "outputId": "13477503-c4cb-493c-ad0a-df9b3780eca5"
      },
      "execution_count": 225,
      "outputs": [
        {
          "output_type": "display_data",
          "data": {
            "text/plain": [
              "<IPython.core.display.HTML object>"
            ],
            "text/html": [
              "<style>\n",
              "    h1 { font-size: 30px; } /* Custom size for H1 */\n",
              "    h2 { font-size: 24px; } /* Custom size for H2 */\n",
              "    h3 { font-size: 18px; } /* Custom size for H3 */\n",
              "    /* Add more as needed */\n",
              "  </style>"
            ]
          },
          "metadata": {}
        },
        {
          "output_type": "display_data",
          "data": {
            "text/plain": [
              "<IPython.core.display.HTML object>"
            ],
            "text/html": [
              "<style>\n",
              "    h1 { font-size: 40px; } /* Custom size for H1 */\n",
              "    h2 { font-size: 24px; } /* Custom size for H2 */\n",
              "    h3 { font-size: 18px; } /* Custom size for H3 */\n",
              "    /* Add more as needed */\n",
              "  </style>"
            ]
          },
          "metadata": {}
        },
        {
          "output_type": "display_data",
          "data": {
            "text/plain": [
              "<IPython.core.display.HTML object>"
            ],
            "text/html": [
              "<style>\n",
              "    h1 { font-size: 40px; } /* Custom size for H1 */\n",
              "    h2 { font-size: 24px; } /* Custom size for H2 */\n",
              "    h3 { font-size: 18px; } /* Custom size for H3 */\n",
              "    /* Add more as needed */\n",
              "  </style>"
            ]
          },
          "metadata": {}
        },
        {
          "output_type": "display_data",
          "data": {
            "text/plain": [
              "<IPython.core.display.HTML object>"
            ],
            "text/html": [
              "<style>\n",
              "    h1 { font-size: 60px; } /* Custom size for H1 */\n",
              "    h2 { font-size: 24px; } /* Custom size for H2 */\n",
              "    h3 { font-size: 18px; } /* Custom size for H3 */\n",
              "    /* Add more as needed */\n",
              "  </style>"
            ]
          },
          "metadata": {}
        },
        {
          "output_type": "execute_result",
          "data": {
            "text/plain": [
              "Array([[[1. , 1. , 1. , 1. , 1. , 1. , 1. , 1. , 1. , 1. , 1. , 1. ,\n",
              "         1. , 1. , 1. , 1. , 1. , 1. , 1. , 1. , 1. , 1. , 1. , 1. ,\n",
              "         1. , 1. , 1. , 1. , 1. , 1. , 1. , 1. , 1. , 1. , 1. , 1. ,\n",
              "         1. , 1. , 1. , 1. , 1. , 1. , 1. , 1. , 1. , 1. , 1. , 1. ,\n",
              "         1. , 1. , 1. , 1. , 1. , 1. , 1. , 1. , 1. , 1. , 1. , 1. ,\n",
              "         1. , 1. , 1. , 1. , 1. ],\n",
              "        [1.5, 1.5, 1.5, 1.5, 1.5, 1.5, 1.5, 1.5, 1.5, 1.5, 1.5, 1.5,\n",
              "         1.5, 1.5, 1.5, 1.5, 1.5, 1.5, 1.5, 1.5, 1.5, 1.5, 1.5, 1.5,\n",
              "         1.5, 1.5, 1.5, 1.5, 1.5, 1.5, 1.5, 1.5, 1.5, 1.5, 1.5, 1.5,\n",
              "         1.5, 1.5, 1.5, 1.5, 1.5, 1.5, 1.5, 1.5, 1.5, 1.5, 1.5, 1.5,\n",
              "         1.5, 1.5, 1.5, 1.5, 1.5, 1.5, 1.5, 1.5, 1.5, 1.5, 1.5, 1.5,\n",
              "         1.5, 1.5, 1.5, 1.5, 1.5],\n",
              "        [2. , 2. , 2. , 2. , 2. , 2. , 2. , 2. , 2. , 2. , 2. , 2. ,\n",
              "         2. , 2. , 2. , 2. , 2. , 2. , 2. , 2. , 2. , 2. , 2. , 2. ,\n",
              "         2. , 2. , 2. , 2. , 2. , 2. , 2. , 2. , 2. , 2. , 2. , 2. ,\n",
              "         2. , 2. , 2. , 2. , 2. , 2. , 2. , 2. , 2. , 2. , 2. , 2. ,\n",
              "         2. , 2. , 2. , 2. , 2. , 2. , 2. , 2. , 2. , 2. , 2. , 2. ,\n",
              "         2. , 2. , 2. , 2. , 2. ],\n",
              "        [2.5, 2.5, 2.5, 2.5, 2.5, 2.5, 2.5, 2.5, 2.5, 2.5, 2.5, 2.5,\n",
              "         2.5, 2.5, 2.5, 2.5, 2.5, 2.5, 2.5, 2.5, 2.5, 2.5, 2.5, 2.5,\n",
              "         2.5, 2.5, 2.5, 2.5, 2.5, 2.5, 2.5, 2.5, 2.5, 2.5, 2.5, 2.5,\n",
              "         2.5, 2.5, 2.5, 2.5, 2.5, 2.5, 2.5, 2.5, 2.5, 2.5, 2.5, 2.5,\n",
              "         2.5, 2.5, 2.5, 2.5, 2.5, 2.5, 2.5, 2.5, 2.5, 2.5, 2.5, 2.5,\n",
              "         2.5, 2.5, 2.5, 2.5, 2.5],\n",
              "        [3. , 3. , 3. , 3. , 3. , 3. , 3. , 3. , 3. , 3. , 3. , 3. ,\n",
              "         3. , 3. , 3. , 3. , 3. , 3. , 3. , 3. , 3. , 3. , 3. , 3. ,\n",
              "         3. , 3. , 3. , 3. , 3. , 3. , 3. , 3. , 3. , 3. , 3. , 3. ,\n",
              "         3. , 3. , 3. , 3. , 3. , 3. , 3. , 3. , 3. , 3. , 3. , 3. ,\n",
              "         3. , 3. , 3. , 3. , 3. , 3. , 3. , 3. , 3. , 3. , 3. , 3. ,\n",
              "         3. , 3. , 3. , 3. , 3. ],\n",
              "        [3.5, 3.5, 3.5, 3.5, 3.5, 3.5, 3.5, 3.5, 3.5, 3.5, 3.5, 3.5,\n",
              "         3.5, 3.5, 3.5, 3.5, 3.5, 3.5, 3.5, 3.5, 3.5, 3.5, 3.5, 3.5,\n",
              "         3.5, 3.5, 3.5, 3.5, 3.5, 3.5, 3.5, 3.5, 3.5, 3.5, 3.5, 3.5,\n",
              "         3.5, 3.5, 3.5, 3.5, 3.5, 3.5, 3.5, 3.5, 3.5, 3.5, 3.5, 3.5,\n",
              "         3.5, 3.5, 3.5, 3.5, 3.5, 3.5, 3.5, 3.5, 3.5, 3.5, 3.5, 3.5,\n",
              "         3.5, 3.5, 3.5, 3.5, 3.5],\n",
              "        [4. , 4. , 4. , 4. , 4. , 4. , 4. , 4. , 4. , 4. , 4. , 4. ,\n",
              "         4. , 4. , 4. , 4. , 4. , 4. , 4. , 4. , 4. , 4. , 4. , 4. ,\n",
              "         4. , 4. , 4. , 4. , 4. , 4. , 4. , 4. , 4. , 4. , 4. , 4. ,\n",
              "         4. , 4. , 4. , 4. , 4. , 4. , 4. , 4. , 4. , 4. , 4. , 4. ,\n",
              "         4. , 4. , 4. , 4. , 4. , 4. , 4. , 4. , 4. , 4. , 4. , 4. ,\n",
              "         4. , 4. , 4. , 4. , 4. ],\n",
              "        [4.5, 4.5, 4.5, 4.5, 4.5, 4.5, 4.5, 4.5, 4.5, 4.5, 4.5, 4.5,\n",
              "         4.5, 4.5, 4.5, 4.5, 4.5, 4.5, 4.5, 4.5, 4.5, 4.5, 4.5, 4.5,\n",
              "         4.5, 4.5, 4.5, 4.5, 4.5, 4.5, 4.5, 4.5, 4.5, 4.5, 4.5, 4.5,\n",
              "         4.5, 4.5, 4.5, 4.5, 4.5, 4.5, 4.5, 4.5, 4.5, 4.5, 4.5, 4.5,\n",
              "         4.5, 4.5, 4.5, 4.5, 4.5, 4.5, 4.5, 4.5, 4.5, 4.5, 4.5, 4.5,\n",
              "         4.5, 4.5, 4.5, 4.5, 4.5]]], dtype=float32)"
            ]
          },
          "metadata": {},
          "execution_count": 225
        }
      ]
    },
    {
      "cell_type": "markdown",
      "source": [
        "# Putting together new Bigram model"
      ],
      "metadata": {
        "id": "jegiwSi3fsMY"
      }
    },
    {
      "cell_type": "code",
      "source": [
        "class BigramLangModel(nn.Module):\n",
        "  \"\"\"Reads one char and predicits the next char.\"\"\"\n",
        "  vocab_size: int # number of vocabulary (number of rows of embedding table)\n",
        "  n_embed: int # embedding dim after lookup\n",
        "\n",
        "  def setup(self):\n",
        "    super().setup()\n",
        "    # number of channels you want to use for store info for each token.\n",
        "    self.C = self.vocab_size\n",
        "\n",
        "    self.token_embedding_table = nn.Embed(num_embeddings=self.vocab_size, features=self.n_embed)\n",
        "\n",
        "    self.lang_model_head = nn.Dense(features=self.C)\n",
        "\n",
        "  def __call__(self, block_of_tokens: jnp.array):\n",
        "    \"\"\"Accepts a block of tokens.\"\"\"\n",
        "\n",
        "    # generate em for each token. output: (T, n_embed)\n",
        "    token_embs = self.token_embedding_table(block_of_tokens)\n",
        "\n",
        "    # generate logits for each token. output: (T, channels for info -- C)\n",
        "    token_logits = self.lang_model_head(token_embs)"
      ],
      "metadata": {
        "id": "PieI67T3gHcK"
      },
      "execution_count": null,
      "outputs": []
    },
    {
      "cell_type": "markdown",
      "source": [
        "## Add positional embeddings to the above."
      ],
      "metadata": {
        "id": "xgPfy8ogiHyN"
      }
    },
    {
      "cell_type": "code",
      "source": [
        "block_of_tokens_example = jnp.ones(shape=(1, 8))\n",
        "block_of_tokens_example, block_of_tokens_example.shape, block_of_tokens_example.shape[1]"
      ],
      "metadata": {
        "id": "vZYnHm6djluj",
        "outputId": "13a0d4a2-ad0e-44d3-dde8-a3829b04a253",
        "colab": {
          "base_uri": "https://localhost:8080/",
          "height": 34
        }
      },
      "execution_count": 234,
      "outputs": [
        {
          "output_type": "display_data",
          "data": {
            "text/plain": [
              "<IPython.core.display.HTML object>"
            ],
            "text/html": [
              "<style>\n",
              "    h1 { font-size: 30px; } /* Custom size for H1 */\n",
              "    h2 { font-size: 24px; } /* Custom size for H2 */\n",
              "    h3 { font-size: 18px; } /* Custom size for H3 */\n",
              "    /* Add more as needed */\n",
              "  </style>"
            ]
          },
          "metadata": {}
        },
        {
          "output_type": "display_data",
          "data": {
            "text/plain": [
              "<IPython.core.display.HTML object>"
            ],
            "text/html": [
              "<style>\n",
              "    h1 { font-size: 40px; } /* Custom size for H1 */\n",
              "    h2 { font-size: 24px; } /* Custom size for H2 */\n",
              "    h3 { font-size: 18px; } /* Custom size for H3 */\n",
              "    /* Add more as needed */\n",
              "  </style>"
            ]
          },
          "metadata": {}
        },
        {
          "output_type": "display_data",
          "data": {
            "text/plain": [
              "<IPython.core.display.HTML object>"
            ],
            "text/html": [
              "<style>\n",
              "    h1 { font-size: 40px; } /* Custom size for H1 */\n",
              "    h2 { font-size: 24px; } /* Custom size for H2 */\n",
              "    h3 { font-size: 18px; } /* Custom size for H3 */\n",
              "    /* Add more as needed */\n",
              "  </style>"
            ]
          },
          "metadata": {}
        },
        {
          "output_type": "display_data",
          "data": {
            "text/plain": [
              "<IPython.core.display.HTML object>"
            ],
            "text/html": [
              "<style>\n",
              "    h1 { font-size: 60px; } /* Custom size for H1 */\n",
              "    h2 { font-size: 24px; } /* Custom size for H2 */\n",
              "    h3 { font-size: 18px; } /* Custom size for H3 */\n",
              "    /* Add more as needed */\n",
              "  </style>"
            ]
          },
          "metadata": {}
        },
        {
          "output_type": "execute_result",
          "data": {
            "text/plain": [
              "(Array([[1., 1., 1., 1., 1., 1., 1., 1.]], dtype=float32), (1, 8), 8)"
            ]
          },
          "metadata": {},
          "execution_count": 234
        }
      ]
    },
    {
      "cell_type": "code",
      "source": [
        "num_pos = block_of_tokens_example.shape[1]\n",
        "num_pos"
      ],
      "metadata": {
        "id": "388ZajvbkPwp",
        "outputId": "e642a927-9ea4-4f54-dd07-bbd20313330c",
        "colab": {
          "base_uri": "https://localhost:8080/",
          "height": 34
        }
      },
      "execution_count": 236,
      "outputs": [
        {
          "output_type": "display_data",
          "data": {
            "text/plain": [
              "<IPython.core.display.HTML object>"
            ],
            "text/html": [
              "<style>\n",
              "    h1 { font-size: 30px; } /* Custom size for H1 */\n",
              "    h2 { font-size: 24px; } /* Custom size for H2 */\n",
              "    h3 { font-size: 18px; } /* Custom size for H3 */\n",
              "    /* Add more as needed */\n",
              "  </style>"
            ]
          },
          "metadata": {}
        },
        {
          "output_type": "display_data",
          "data": {
            "text/plain": [
              "<IPython.core.display.HTML object>"
            ],
            "text/html": [
              "<style>\n",
              "    h1 { font-size: 40px; } /* Custom size for H1 */\n",
              "    h2 { font-size: 24px; } /* Custom size for H2 */\n",
              "    h3 { font-size: 18px; } /* Custom size for H3 */\n",
              "    /* Add more as needed */\n",
              "  </style>"
            ]
          },
          "metadata": {}
        },
        {
          "output_type": "display_data",
          "data": {
            "text/plain": [
              "<IPython.core.display.HTML object>"
            ],
            "text/html": [
              "<style>\n",
              "    h1 { font-size: 40px; } /* Custom size for H1 */\n",
              "    h2 { font-size: 24px; } /* Custom size for H2 */\n",
              "    h3 { font-size: 18px; } /* Custom size for H3 */\n",
              "    /* Add more as needed */\n",
              "  </style>"
            ]
          },
          "metadata": {}
        },
        {
          "output_type": "display_data",
          "data": {
            "text/plain": [
              "<IPython.core.display.HTML object>"
            ],
            "text/html": [
              "<style>\n",
              "    h1 { font-size: 60px; } /* Custom size for H1 */\n",
              "    h2 { font-size: 24px; } /* Custom size for H2 */\n",
              "    h3 { font-size: 18px; } /* Custom size for H3 */\n",
              "    /* Add more as needed */\n",
              "  </style>"
            ]
          },
          "metadata": {}
        },
        {
          "output_type": "execute_result",
          "data": {
            "text/plain": [
              "8"
            ]
          },
          "metadata": {},
          "execution_count": 236
        }
      ]
    },
    {
      "cell_type": "code",
      "source": [
        "jnp.arange(0, num_pos)"
      ],
      "metadata": {
        "id": "MCYxlaI0kReC",
        "outputId": "9e3e5548-d14c-4414-f3c1-c79de4b323b9",
        "colab": {
          "base_uri": "https://localhost:8080/",
          "height": 34
        }
      },
      "execution_count": 242,
      "outputs": [
        {
          "output_type": "display_data",
          "data": {
            "text/plain": [
              "<IPython.core.display.HTML object>"
            ],
            "text/html": [
              "<style>\n",
              "    h1 { font-size: 30px; } /* Custom size for H1 */\n",
              "    h2 { font-size: 24px; } /* Custom size for H2 */\n",
              "    h3 { font-size: 18px; } /* Custom size for H3 */\n",
              "    /* Add more as needed */\n",
              "  </style>"
            ]
          },
          "metadata": {}
        },
        {
          "output_type": "display_data",
          "data": {
            "text/plain": [
              "<IPython.core.display.HTML object>"
            ],
            "text/html": [
              "<style>\n",
              "    h1 { font-size: 40px; } /* Custom size for H1 */\n",
              "    h2 { font-size: 24px; } /* Custom size for H2 */\n",
              "    h3 { font-size: 18px; } /* Custom size for H3 */\n",
              "    /* Add more as needed */\n",
              "  </style>"
            ]
          },
          "metadata": {}
        },
        {
          "output_type": "display_data",
          "data": {
            "text/plain": [
              "<IPython.core.display.HTML object>"
            ],
            "text/html": [
              "<style>\n",
              "    h1 { font-size: 40px; } /* Custom size for H1 */\n",
              "    h2 { font-size: 24px; } /* Custom size for H2 */\n",
              "    h3 { font-size: 18px; } /* Custom size for H3 */\n",
              "    /* Add more as needed */\n",
              "  </style>"
            ]
          },
          "metadata": {}
        },
        {
          "output_type": "display_data",
          "data": {
            "text/plain": [
              "<IPython.core.display.HTML object>"
            ],
            "text/html": [
              "<style>\n",
              "    h1 { font-size: 60px; } /* Custom size for H1 */\n",
              "    h2 { font-size: 24px; } /* Custom size for H2 */\n",
              "    h3 { font-size: 18px; } /* Custom size for H3 */\n",
              "    /* Add more as needed */\n",
              "  </style>"
            ]
          },
          "metadata": {}
        },
        {
          "output_type": "execute_result",
          "data": {
            "text/plain": [
              "Array([0, 1, 2, 3, 4, 5, 6, 7], dtype=int32)"
            ]
          },
          "metadata": {},
          "execution_count": 242
        }
      ]
    },
    {
      "cell_type": "code",
      "source": [
        "class LanguageModel(nn.Module):\n",
        "  \"\"\"Reads one char and predicits the next char.\"\"\"\n",
        "  vocab_size: int # number of vocabulary (number of rows of embedding table)\n",
        "  n_embed: int # embedding dim after lookup\n",
        "\n",
        "  block_size: int # T, i.e., number of tokens attention block is looking at once\n",
        "\n",
        "  def setup(self):\n",
        "    super().setup()\n",
        "    # number of channels you want to use for store info for each token.\n",
        "    self.C = self.vocab_size\n",
        "\n",
        "    self.token_embedding_table = nn.Embed(num_embeddings=self.vocab_size, features=self.n_embed)\n",
        "\n",
        "    self.pos_embedding_table = nn.Embed(num_embeddings=self.block_size, features=self.n_embed)\n",
        "\n",
        "    self.lang_model_head = nn.Dense(features=self.C)\n",
        "\n",
        "  def __call__(self, block_of_tokens: jnp.array):\n",
        "    \"\"\"Accepts a block of tokens, like (1, 8).\"\"\"\n",
        "\n",
        "    # generate em for each token. output: (T, n_embed)\n",
        "    token_embs = self.token_embedding_table(block_of_tokens)\n",
        "\n",
        "    # generate position embs for each token.\n",
        "    ## get token positions.\n",
        "    num_pos = block_of_tokens.shape[1]\n",
        "    positions = jnp.arange(0, num_pos)\n",
        "    pos_embs = self.pos_embedding_table(positions)\n",
        "\n",
        "    # generate actual input to attention, x, which is sum of token_embs + pos_embs\n",
        "    x = token_embs + pos_embs\n",
        "\n",
        "    # generate logits for each token. output: (T, channels for info -- C)\n",
        "    token_logits = self.lang_model_head(x)\n"
      ],
      "metadata": {
        "id": "wd0Z83BuiLQI",
        "outputId": "b93981f1-10bf-4dd8-9826-d70649764e3f",
        "colab": {
          "base_uri": "https://localhost:8080/",
          "height": 17
        }
      },
      "execution_count": 251,
      "outputs": [
        {
          "output_type": "display_data",
          "data": {
            "text/plain": [
              "<IPython.core.display.HTML object>"
            ],
            "text/html": [
              "<style>\n",
              "    h1 { font-size: 30px; } /* Custom size for H1 */\n",
              "    h2 { font-size: 24px; } /* Custom size for H2 */\n",
              "    h3 { font-size: 18px; } /* Custom size for H3 */\n",
              "    /* Add more as needed */\n",
              "  </style>"
            ]
          },
          "metadata": {}
        },
        {
          "output_type": "display_data",
          "data": {
            "text/plain": [
              "<IPython.core.display.HTML object>"
            ],
            "text/html": [
              "<style>\n",
              "    h1 { font-size: 40px; } /* Custom size for H1 */\n",
              "    h2 { font-size: 24px; } /* Custom size for H2 */\n",
              "    h3 { font-size: 18px; } /* Custom size for H3 */\n",
              "    /* Add more as needed */\n",
              "  </style>"
            ]
          },
          "metadata": {}
        },
        {
          "output_type": "display_data",
          "data": {
            "text/plain": [
              "<IPython.core.display.HTML object>"
            ],
            "text/html": [
              "<style>\n",
              "    h1 { font-size: 40px; } /* Custom size for H1 */\n",
              "    h2 { font-size: 24px; } /* Custom size for H2 */\n",
              "    h3 { font-size: 18px; } /* Custom size for H3 */\n",
              "    /* Add more as needed */\n",
              "  </style>"
            ]
          },
          "metadata": {}
        },
        {
          "output_type": "display_data",
          "data": {
            "text/plain": [
              "<IPython.core.display.HTML object>"
            ],
            "text/html": [
              "<style>\n",
              "    h1 { font-size: 60px; } /* Custom size for H1 */\n",
              "    h2 { font-size: 24px; } /* Custom size for H2 */\n",
              "    h3 { font-size: 18px; } /* Custom size for H3 */\n",
              "    /* Add more as needed */\n",
              "  </style>"
            ]
          },
          "metadata": {}
        }
      ]
    },
    {
      "cell_type": "markdown",
      "source": [
        "## NanoGPT"
      ],
      "metadata": {
        "id": "-_JsJ5hoKQ-w"
      }
    },
    {
      "cell_type": "code",
      "source": [
        "from dataclasses import dataclass\n",
        "from functools import partial\n",
        "import pickle\n",
        "\n",
        "import jax\n",
        "import jax.numpy as jnp\n",
        "\n",
        "import flax.linen as nn\n",
        "from flax.training import train_state\n",
        "from flax import serialization\n",
        "\n",
        "import optax\n",
        "\n",
        "\n",
        "@dataclass\n",
        "class Config():\n",
        "    seed = 42\n",
        "    num_iterations = 20000\n",
        "    batch_size = 512\n",
        "    block_size = 64\n",
        "    learning_rate = 1e-4\n",
        "    embed_size = 256\n",
        "    num_heads = 8\n",
        "    head_size = 32\n",
        "    num_layers = 6\n",
        "    dropout = 0.2\n",
        "\n",
        "config = Config()\n",
        "\n",
        "with open(\"input.txt\", \"r\", encoding=\"utf-8\") as f:\n",
        "    text = f.read()\n",
        "\n",
        "chars = sorted(list(set(text)))\n",
        "vocab_size = len(chars)\n",
        "\n",
        "# create a mapping from characters to integers\n",
        "stoi = {ch:i for i,ch in enumerate(chars)}\n",
        "itos = {i:ch for i,ch in enumerate(chars)}\n",
        "encode = lambda s: [stoi[c] for c in s] # encoder: take a string, output a list of integers\n",
        "decode = lambda l: \"\".join([itos[i] for i in l]) # decoder: take a list of integers, output a string\n",
        "\n",
        "# Let's now split up the data into train and validation sets\n",
        "data = jnp.array(encode(text))\n",
        "n = int(0.9*len(data)) # first 90% will be train, rest val\n",
        "train_data = data[:n]\n",
        "eval_data = data[n:]\n",
        "\n",
        "dynamic_slice_vmap = jax.vmap(jax.lax.dynamic_slice, in_axes=(None, 0, None))\n",
        "\n",
        "@jax.jit\n",
        "def get_batch(random_key, data):\n",
        "    # generate a small batch of data of inputs x and targets y\n",
        "    ix = jax.random.randint(random_key, shape=(config.batch_size, 1), minval=0, maxval=len(data)-config.block_size)\n",
        "    x = dynamic_slice_vmap(data, ix, (config.block_size,))\n",
        "    y = dynamic_slice_vmap(data, ix+1, (config.block_size,))\n",
        "    return x, y"
      ],
      "metadata": {
        "id": "GXp557EPKSwd",
        "colab": {
          "base_uri": "https://localhost:8080/",
          "height": 245
        },
        "outputId": "be6910d3-c513-4b6b-e9f7-08dc881f3bc8"
      },
      "execution_count": 3,
      "outputs": [
        {
          "output_type": "error",
          "ename": "FileNotFoundError",
          "evalue": "[Errno 2] No such file or directory: 'input.txt'",
          "traceback": [
            "\u001b[0;31m---------------------------------------------------------------------------\u001b[0m",
            "\u001b[0;31mFileNotFoundError\u001b[0m                         Traceback (most recent call last)",
            "\u001b[0;32m<ipython-input-3-0c1a92bcba1e>\u001b[0m in \u001b[0;36m<cell line: 30>\u001b[0;34m()\u001b[0m\n\u001b[1;32m     28\u001b[0m \u001b[0mconfig\u001b[0m \u001b[0;34m=\u001b[0m \u001b[0mConfig\u001b[0m\u001b[0;34m(\u001b[0m\u001b[0;34m)\u001b[0m\u001b[0;34m\u001b[0m\u001b[0;34m\u001b[0m\u001b[0m\n\u001b[1;32m     29\u001b[0m \u001b[0;34m\u001b[0m\u001b[0m\n\u001b[0;32m---> 30\u001b[0;31m \u001b[0;32mwith\u001b[0m \u001b[0mopen\u001b[0m\u001b[0;34m(\u001b[0m\u001b[0;34m\"input.txt\"\u001b[0m\u001b[0;34m,\u001b[0m \u001b[0;34m\"r\"\u001b[0m\u001b[0;34m,\u001b[0m \u001b[0mencoding\u001b[0m\u001b[0;34m=\u001b[0m\u001b[0;34m\"utf-8\"\u001b[0m\u001b[0;34m)\u001b[0m \u001b[0;32mas\u001b[0m \u001b[0mf\u001b[0m\u001b[0;34m:\u001b[0m\u001b[0;34m\u001b[0m\u001b[0;34m\u001b[0m\u001b[0m\n\u001b[0m\u001b[1;32m     31\u001b[0m     \u001b[0mtext\u001b[0m \u001b[0;34m=\u001b[0m \u001b[0mf\u001b[0m\u001b[0;34m.\u001b[0m\u001b[0mread\u001b[0m\u001b[0;34m(\u001b[0m\u001b[0;34m)\u001b[0m\u001b[0;34m\u001b[0m\u001b[0;34m\u001b[0m\u001b[0m\n\u001b[1;32m     32\u001b[0m \u001b[0;34m\u001b[0m\u001b[0m\n",
            "\u001b[0;31mFileNotFoundError\u001b[0m: [Errno 2] No such file or directory: 'input.txt'"
          ]
        }
      ]
    },
    {
      "cell_type": "code",
      "source": [
        "class LayerNorm(nn.Module):\n",
        "    epsilon: float = 1e-6\n",
        "    reduction_axes = -1\n",
        "\n",
        "    @nn.compact\n",
        "    def __call__(self, x):\n",
        "        \"\"\"Applies layer normalization on the input.\"\"\"\n",
        "        # compute statistics\n",
        "        mean2 = jnp.mean(jax.lax.square(x), self.reduction_axes, keepdims=True)\n",
        "        mean = jnp.mean(x, self.reduction_axes, keepdims=True)\n",
        "        var = jnp.maximum(0., mean2 - jax.lax.square(mean))\n",
        "\n",
        "        # compute normalized inputs\n",
        "        x_norm = (x - mean) * jax.lax.rsqrt(var + self.epsilon)\n",
        "        return x_norm * self.param(\"scale\", nn.initializers.ones, x.shape[-1]) + self.param(\"bias\", nn.initializers.zeros, x.shape[-1])"
      ],
      "metadata": {
        "id": "54ZaAxlQJ__q"
      },
      "execution_count": null,
      "outputs": []
    },
    {
      "cell_type": "code",
      "source": [
        "class Attention(nn.Module):\n",
        "    head_size: int\n",
        "\n",
        "    @nn.compact\n",
        "    def __call__(self, x, training: bool):\n",
        "        key = nn.Dense(self.head_size, use_bias=False)(x)\n",
        "        query = nn.Dense(self.head_size, use_bias=False)(x)\n",
        "        value = nn.Dense(self.head_size, use_bias=False)(x)\n",
        "\n",
        "        tril = jnp.tril(jnp.ones((x.shape[-2], x.shape[-2])))\n",
        "        attention_weights = nn.softmax(jnp.where(tril == 0, -jnp.inf, query @ jnp.transpose(key, axes=(0, 2, 1))), axis=-1)\n",
        "        attention_weights = nn.Dropout(config.dropout)(attention_weights, deterministic=not training)\n",
        "        return attention_weights @ value\n",
        "\n",
        "class MultiHeadAttention(nn.Module):\n",
        "    num_heads: int\n",
        "    head_size: int\n",
        "\n",
        "    @nn.compact\n",
        "    def __call__(self, x, training: bool):\n",
        "        x = jnp.concatenate([Attention(self.head_size)(x, training) for _ in range(self.num_heads)], axis=-1)\n",
        "        return nn.Dropout(config.dropout)(nn.Dense(self.num_heads*self.head_size)(x), deterministic=not training)\n",
        "\n",
        "class FeedFoward(nn.Module):\n",
        "\n",
        "    @nn.compact\n",
        "    def __call__(self, x, training: bool):\n",
        "        return nn.Dropout(config.dropout)(nn.Dense(config.embed_size)(nn.relu(nn.Dense(4*config.embed_size)(x))), deterministic=not training)\n",
        "\n",
        "class Block(nn.Module):\n",
        "    num_heads: int\n",
        "    head_size: int\n",
        "\n",
        "    @nn.compact\n",
        "    def __call__(self, x, training: bool):\n",
        "        x = x + MultiHeadAttention(self.num_heads, self.head_size)(LayerNorm()(x), training)\n",
        "        return x + FeedFoward()(LayerNorm()(x), training)"
      ],
      "metadata": {
        "id": "u18njNd2J0Us"
      },
      "execution_count": null,
      "outputs": []
    },
    {
      "cell_type": "code",
      "source": [
        "class Model(nn.Module):\n",
        "    num_layers: int\n",
        "    num_heads: int\n",
        "    head_size: int\n",
        "\n",
        "    @nn.compact\n",
        "    def __call__(self, x, training: bool):\n",
        "        B, T = x.shape\n",
        "        x = nn.Embed(num_embeddings=vocab_size, features=config.embed_size)(x) + \\\n",
        "            nn.Embed(num_embeddings=config.block_size, features=config.embed_size)(jnp.arange(T))\n",
        "        for _ in range(self.num_layers):\n",
        "            x = Block(self.num_heads, self.head_size)(x, training)\n",
        "        x = nn.LayerNorm()(x)\n",
        "        return nn.Dense(vocab_size)(x)\n",
        "\n",
        "    def generate(self, random_key, params, context, length=50):\n",
        "        for _ in range(length):\n",
        "            logits = self.apply(params, context[:, -config.block_size:], training=False)\n",
        "            random_key, random_subkey = jax.random.split(random_key)\n",
        "            new_token = jax.random.categorical(random_subkey, logits[:, -1, :], axis=-1, shape=(1, 1))\n",
        "            context = jnp.concatenate([context, new_token], axis=1)\n",
        "        return context\n",
        "\n",
        "    @partial(jax.jit, static_argnames=(\"self\", \"length\"))\n",
        "    def generate_jit(self, random_key, params, length):\n",
        "        def scan_generate(carry, x):\n",
        "            key, context = carry\n",
        "            logits = self.apply(params, context, training=False)\n",
        "            random_key, random_subkey = jax.random.split(key)\n",
        "            new_token = jax.random.categorical(random_subkey, logits[:, -1, :], axis=-1, shape=(1, 1))\n",
        "            context = jnp.concatenate([context[:, 1:], new_token], axis=1)\n",
        "            return (random_key, context), new_token\n",
        "\n",
        "        _, new_tokens = jax.lax.scan(\n",
        "            scan_generate,\n",
        "            (random_key, jnp.zeros((1, config.block_size), dtype=jnp.int32)),\n",
        "            (),\n",
        "            length=length,\n",
        "        )\n",
        "        return new_tokens"
      ],
      "metadata": {
        "id": "TrHBW_n2KDrD"
      },
      "execution_count": null,
      "outputs": []
    },
    {
      "cell_type": "code",
      "source": [
        "class TrainState(train_state.TrainState):\n",
        "  key: jax.random.KeyArray\n",
        "\n",
        "def create_train_state(random_key, config):\n",
        "    model = Model(num_layers=config.num_layers, num_heads=config.num_heads, head_size=config.head_size)\n",
        "    params = model.init(random_key, jnp.ones((config.batch_size, config.block_size), dtype=jnp.int32), training=False)\n",
        "    tx = optax.adamw(config.learning_rate)\n",
        "    return TrainState.create(\n",
        "        apply_fn=model.apply, params=params, key=random_key, tx=tx)\n",
        "\n",
        "@jax.jit\n",
        "def train_step(state, x, y, dropout_key):\n",
        "    dropout_key = jax.random.fold_in(key=dropout_key, data=state.step)\n",
        "    def loss_fn(params):\n",
        "        logits = state.apply_fn(params, x, training=True, rngs={'dropout': dropout_key})\n",
        "        one_hot_encoded_labels = jax.nn.one_hot(y, num_classes=vocab_size)\n",
        "        return optax.softmax_cross_entropy(\n",
        "            logits=logits, labels=one_hot_encoded_labels\n",
        "        ).mean()\n",
        "\n",
        "    loss, grads = jax.value_and_grad(loss_fn)(state.params)\n",
        "    state = state.apply_gradients(grads=grads)\n",
        "\n",
        "    return state, loss\n",
        "\n",
        "@jax.jit\n",
        "def eval_step(state, x, y):\n",
        "    logits = state.apply_fn(state.params, x, training=False)\n",
        "    one_hot_encoded_labels = jax.nn.one_hot(y, num_classes=vocab_size)\n",
        "    return optax.softmax_cross_entropy(\n",
        "        logits=logits, labels=one_hot_encoded_labels\n",
        "    ).mean()\n",
        "\n",
        "random_key = jax.random.PRNGKey(config.seed)\n",
        "random_key, random_subkey = jax.random.split(random_key)\n",
        "\n",
        "state = create_train_state(random_subkey, config)\n",
        "for i in range(config.num_iterations):\n",
        "    random_key, random_subkey = jax.random.split(random_key)\n",
        "    state, loss = train_step(state, *get_batch(random_subkey, train_data), random_subkey)\n",
        "\n",
        "    if i % 100 == 0:\n",
        "        random_key, random_subkey = jax.random.split(random_key)\n",
        "        print(f\"Step: {i}\\t train loss: {loss}\\t eval loss: {eval_step(state, *get_batch(random_subkey, eval_data))}\")\n",
        "\n",
        "params_state_dict = serialization.to_state_dict(state.params)\n",
        "with open(\"./outputs/params.pickle\", \"wb\") as params_file:\n",
        "    pickle.dump(params_state_dict, params_file)"
      ],
      "metadata": {
        "id": "RAj1yJO3KH10"
      },
      "execution_count": null,
      "outputs": []
    },
    {
      "cell_type": "code",
      "source": [],
      "metadata": {
        "id": "-SALJTbceZkI"
      },
      "execution_count": null,
      "outputs": []
    }
  ]
}