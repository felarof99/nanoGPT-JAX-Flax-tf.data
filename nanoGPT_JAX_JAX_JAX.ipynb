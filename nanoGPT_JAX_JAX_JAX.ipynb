{
  "nbformat": 4,
  "nbformat_minor": 0,
  "metadata": {
    "colab": {
      "provenance": [],
      "gpuType": "T4"
    },
    "kernelspec": {
      "name": "python3",
      "display_name": "Python 3"
    },
    "language_info": {
      "name": "python"
    },
    "accelerator": "GPU"
  },
  "cells": [
    {
      "cell_type": "markdown",
      "source": [
        "<h1>Install dependencies for CPU</h1>"
      ],
      "metadata": {
        "id": "16WhNG98gurS"
      }
    },
    {
      "cell_type": "code",
      "execution_count": 24,
      "metadata": {
        "id": "6427RRkAbysU",
        "colab": {
          "base_uri": "https://localhost:8080/"
        },
        "outputId": "38c360cd-84c8-40d2-99a2-4a71f482cfc9"
      },
      "outputs": [
        {
          "output_type": "stream",
          "name": "stdout",
          "text": [
            "--2024-02-03 22:55:38--  https://raw.githubusercontent.com/karpathy/char-rnn/master/data/tinyshakespeare/input.txt\n",
            "Resolving raw.githubusercontent.com (raw.githubusercontent.com)... 185.199.108.133, 185.199.109.133, 185.199.110.133, ...\n",
            "Connecting to raw.githubusercontent.com (raw.githubusercontent.com)|185.199.108.133|:443... connected.\n",
            "HTTP request sent, awaiting response... 200 OK\n",
            "Length: 1115394 (1.1M) [text/plain]\n",
            "Saving to: ‘input.txt.3’\n",
            "\n",
            "\rinput.txt.3           0%[                    ]       0  --.-KB/s               \rinput.txt.3         100%[===================>]   1.06M  --.-KB/s    in 0.03s   \n",
            "\n",
            "2024-02-03 22:55:38 (33.6 MB/s) - ‘input.txt.3’ saved [1115394/1115394]\n",
            "\n"
          ]
        }
      ],
      "source": [
        "# We always start with a dataset to train on. Let's download the tiny shakespeare dataset\n",
        "!wget https://raw.githubusercontent.com/karpathy/char-rnn/master/data/tinyshakespeare/input.txt"
      ]
    },
    {
      "cell_type": "code",
      "source": [
        "# !pip install -q --upgrade pip # To support manylinux2010 wheels.\n",
        "# !pip install -q --upgrade jax jaxlib # CPU-only\n",
        "# !pip install -q --upgrade jaxtyping\n",
        "# !pip install -q --upgrade flax"
      ],
      "metadata": {
        "id": "5qQHP7SGLTlT"
      },
      "execution_count": 25,
      "outputs": []
    },
    {
      "cell_type": "code",
      "source": [
        "from typing import List, Dict, Mapping, Tuple\n",
        "\n",
        "import jax\n",
        "import jax.numpy as jnp\n",
        "import jax.random as jrand\n",
        "import jaxtyping\n",
        "import flax.linen as nn\n",
        "from flax.training import train_state  # Useful dataclass to keep train state\n",
        "import optax\n",
        "import tensorflow as tf\n",
        "import pdb\n",
        "\n",
        "def println(*args):\n",
        "  for arg in args:\n",
        "    print(arg)\n"
      ],
      "metadata": {
        "id": "OZqEXlfmfuwo"
      },
      "execution_count": 26,
      "outputs": []
    },
    {
      "cell_type": "markdown",
      "source": [
        "# Dataset pipeline"
      ],
      "metadata": {
        "id": "TeccUW1zg-V-"
      }
    },
    {
      "cell_type": "code",
      "source": [
        "with open('input.txt', 'r', encoding='utf-8') as f:\n",
        "    text = f.read()\n",
        "\n",
        "# Create chars vocubulary using all the unique characters in the text.\n",
        "chars = sorted(list(set(text)))\n",
        "VOCAB_SIZE = len(chars)\n",
        "\n",
        "# Create mapping from characters to integers.\n",
        "stoi = {ch: i for i, ch in enumerate(chars)}\n",
        "\n",
        "# Create reverse mapping from integers to characters.\n",
        "itos = {i: ch for i, ch in enumerate(chars)}\n",
        "\n",
        "# Create encode, decode function.\n",
        "def encode(s: str, stoi: Mapping[str, int]) -> List[int]:\n",
        "  return [stoi[c] for c in s]\n",
        "\n",
        "def decode(tokens: List[int], itos: Mapping[int, str]) -> str:\n",
        "  return ''.join([itos[i] for i in tokens])\n",
        "\n",
        "println(encode(\"hii there\", stoi), decode(encode(\"hii there\", stoi), itos))\n",
        "\n",
        "# Let's now split up the data into train and validation sets.\n",
        "data = jnp.array(encode(text, stoi), dtype=jnp.int64)\n",
        "n = int(0.9*len(data))\n",
        "train_data = data[:n]\n",
        "val_data = data[n:]\n",
        "\n",
        "# Below would result in a minibatch size of 32.\n",
        "BATCH_SIZE = 4 # how many independent sequences will we process in parallel?\n",
        "BLOCK_SIZE = 8 # what is the maximum context length for predictions?\n",
        "\n",
        "train_dataset = (tf.data.Dataset.from_tensor_slices(train_data)\n",
        "                .batch(BLOCK_SIZE+1)\n",
        "                .map(lambda input: (input[:BLOCK_SIZE], input[1:BLOCK_SIZE+1]),\n",
        "                     num_parallel_calls=tf.data.AUTOTUNE)\n",
        "                .batch(BATCH_SIZE)\n",
        "                .repeat()\n",
        "                .as_numpy_iterator())\n",
        "val_dataset = (tf.data.Dataset.from_tensor_slices(val_data)\n",
        "                .batch(BLOCK_SIZE+1)\n",
        "                .map(lambda input: (input[:BLOCK_SIZE], input[1:BLOCK_SIZE+1]),\n",
        "                     num_parallel_calls=tf.data.AUTOTUNE)\n",
        "                .batch(BATCH_SIZE)\n",
        "                .repeat()\n",
        "                .as_numpy_iterator())\n",
        "\n",
        "def get_batch(training: bool = True):\n",
        "  if not training:\n",
        "    val_batch = next(val_dataset)\n",
        "    return jnp.array(val_batch)\n",
        "\n",
        "  train_batch = next(train_dataset)\n",
        "  return jnp.array(train_batch)"
      ],
      "metadata": {
        "colab": {
          "base_uri": "https://localhost:8080/"
        },
        "id": "jYycQ8ocg2sy",
        "outputId": "d97bf1c8-8a86-4269-e61e-cc07800b135e"
      },
      "execution_count": 27,
      "outputs": [
        {
          "output_type": "stream",
          "name": "stdout",
          "text": [
            "[46, 47, 47, 1, 58, 46, 43, 56, 43]\n",
            "hii there\n"
          ]
        },
        {
          "output_type": "stream",
          "name": "stderr",
          "text": [
            "<ipython-input-27-560c18dc3230>:24: UserWarning: Explicitly requested dtype <class 'jax.numpy.int64'> requested in array is not available, and will be truncated to dtype int32. To enable more dtypes, set the jax_enable_x64 configuration option or the JAX_ENABLE_X64 shell environment variable. See https://github.com/google/jax#current-gotchas for more.\n",
            "  data = jnp.array(encode(text, stoi), dtype=jnp.int64)\n"
          ]
        }
      ]
    },
    {
      "cell_type": "markdown",
      "source": [
        "### Test dataset pipeline"
      ],
      "metadata": {
        "id": "sTAGaeSwXeG8"
      }
    },
    {
      "cell_type": "code",
      "source": [
        "xb, yb = get_batch()\n",
        "println(\"inputs\", xb, \"inputs shape\", xb.shape)\n",
        "println(\"targets\", yb, \"targets shape\", yb.shape)\n",
        "for b in range(BATCH_SIZE): # batch dimension\n",
        "    for t in range(BLOCK_SIZE): # time dimension\n",
        "        context = xb[b, :t+1]\n",
        "        target = yb[b,t]\n",
        "        print(f\"when input is {context.tolist()} the target: {target}\")"
      ],
      "metadata": {
        "colab": {
          "base_uri": "https://localhost:8080/"
        },
        "id": "3YTqHDylg6cY",
        "outputId": "971020a2-5d89-4a2e-c18f-b38076f359cf"
      },
      "execution_count": 28,
      "outputs": [
        {
          "output_type": "stream",
          "name": "stdout",
          "text": [
            "inputs\n",
            "[[18 47 56 57 58  1 15 47]\n",
            " [47 64 43 52 10  0 14 43]\n",
            " [53 56 43  1 61 43  1 54]\n",
            " [53 41 43 43 42  1 39 52]]\n",
            "inputs shape\n",
            "(4, 8)\n",
            "targets\n",
            "[[47 56 57 58  1 15 47 58]\n",
            " [64 43 52 10  0 14 43 44]\n",
            " [56 43  1 61 43  1 54 56]\n",
            " [41 43 43 42  1 39 52 63]]\n",
            "targets shape\n",
            "(4, 8)\n",
            "when input is [18] the target: 47\n",
            "when input is [18, 47] the target: 56\n",
            "when input is [18, 47, 56] the target: 57\n",
            "when input is [18, 47, 56, 57] the target: 58\n",
            "when input is [18, 47, 56, 57, 58] the target: 1\n",
            "when input is [18, 47, 56, 57, 58, 1] the target: 15\n",
            "when input is [18, 47, 56, 57, 58, 1, 15] the target: 47\n",
            "when input is [18, 47, 56, 57, 58, 1, 15, 47] the target: 58\n",
            "when input is [47] the target: 64\n",
            "when input is [47, 64] the target: 43\n",
            "when input is [47, 64, 43] the target: 52\n",
            "when input is [47, 64, 43, 52] the target: 10\n",
            "when input is [47, 64, 43, 52, 10] the target: 0\n",
            "when input is [47, 64, 43, 52, 10, 0] the target: 14\n",
            "when input is [47, 64, 43, 52, 10, 0, 14] the target: 43\n",
            "when input is [47, 64, 43, 52, 10, 0, 14, 43] the target: 44\n",
            "when input is [53] the target: 56\n",
            "when input is [53, 56] the target: 43\n",
            "when input is [53, 56, 43] the target: 1\n",
            "when input is [53, 56, 43, 1] the target: 61\n",
            "when input is [53, 56, 43, 1, 61] the target: 43\n",
            "when input is [53, 56, 43, 1, 61, 43] the target: 1\n",
            "when input is [53, 56, 43, 1, 61, 43, 1] the target: 54\n",
            "when input is [53, 56, 43, 1, 61, 43, 1, 54] the target: 56\n",
            "when input is [53] the target: 41\n",
            "when input is [53, 41] the target: 43\n",
            "when input is [53, 41, 43] the target: 43\n",
            "when input is [53, 41, 43, 43] the target: 42\n",
            "when input is [53, 41, 43, 43, 42] the target: 1\n",
            "when input is [53, 41, 43, 43, 42, 1] the target: 39\n",
            "when input is [53, 41, 43, 43, 42, 1, 39] the target: 52\n",
            "when input is [53, 41, 43, 43, 42, 1, 39, 52] the target: 63\n"
          ]
        }
      ]
    },
    {
      "cell_type": "markdown",
      "source": [
        "# Implement Bigram Model"
      ],
      "metadata": {
        "id": "a3ozrVm0XiVN"
      }
    },
    {
      "cell_type": "code",
      "source": [
        "class BigramLangModel(nn.Module):\n",
        "  \"\"\"Reads one char and predicits the next char.\"\"\"\n",
        "  vocab_size: int\n",
        "\n",
        "  def setup(self):\n",
        "    super().setup()\n",
        "    self.token_embedding_table = nn.Embed(num_embeddings=self.vocab_size, features=self.vocab_size)\n",
        "\n",
        "  def __call__(self, inputs):\n",
        "    # Run block size inputs through embedding lookup.\n",
        "    # For each char, you get the logit predicted for that char.\n",
        "    # Then, you use the target token for that input and do a cross_entropy_loss.\n",
        "    logits = self.token_embedding_table(inputs)\n",
        "    return logits"
      ],
      "metadata": {
        "id": "2eyyiNsw_YL-"
      },
      "execution_count": 29,
      "outputs": []
    },
    {
      "cell_type": "markdown",
      "source": [
        "## I'll make the flax model accept\n",
        "`[block size worth tokens, token]`\n",
        "\n",
        "## I'll then use vmap to make the model accept batches of data.\n",
        "`[batch dim, block size worth of tokens, token]`"
      ],
      "metadata": {
        "id": "bLZdjG6cVxij"
      }
    },
    {
      "cell_type": "code",
      "source": [
        "sample_input_row = jnp.ones(shape=[1, 1], dtype=jnp.int32)\n",
        "sample_input_row"
      ],
      "metadata": {
        "colab": {
          "base_uri": "https://localhost:8080/"
        },
        "id": "FkxBwwipK6Yc",
        "outputId": "88c7a4c2-5c4f-4364-f087-2409919b07f1"
      },
      "execution_count": 30,
      "outputs": [
        {
          "output_type": "execute_result",
          "data": {
            "text/plain": [
              "Array([[1]], dtype=int32)"
            ]
          },
          "metadata": {},
          "execution_count": 30
        }
      ]
    },
    {
      "cell_type": "code",
      "source": [
        "model = BigramLangModel(vocab_size=65)\n",
        "output, params = model.init_with_output(jrand.PRNGKey(99), sample_input_row)\n",
        "params = params[\"params\"]"
      ],
      "metadata": {
        "id": "dtb3A3KFCgF8"
      },
      "execution_count": 31,
      "outputs": []
    },
    {
      "cell_type": "markdown",
      "source": [
        "## Make the model accepts batch of data\n",
        "`[batch, block of tokens, token_ids]`\n",
        "\n",
        "## To make it accept a batch, you need to use vmap."
      ],
      "metadata": {
        "id": "n0GfZYSQRE93"
      }
    },
    {
      "cell_type": "code",
      "source": [
        "model_apply_batch = jax.vmap(model.apply, in_axes=(None, 0), out_axes=(0))"
      ],
      "metadata": {
        "id": "nu8eFbAURSOy"
      },
      "execution_count": 32,
      "outputs": []
    },
    {
      "cell_type": "code",
      "source": [
        "# model_apply_batch will accept\n",
        "# [batch, block of tokens, token ids]"
      ],
      "metadata": {
        "id": "eHo-zsVlWxNl"
      },
      "execution_count": 33,
      "outputs": []
    },
    {
      "cell_type": "markdown",
      "source": [
        "## Sample forward pass, loss and backward pass."
      ],
      "metadata": {
        "id": "BPYIijJYDSV6"
      }
    },
    {
      "cell_type": "code",
      "source": [
        "batch = get_batch()\n",
        "inputs, targets = batch\n",
        "println(\"inputs\", inputs, inputs.shape, \"targets\", targets.shape)"
      ],
      "metadata": {
        "id": "x9UFVRpPDeZI",
        "outputId": "209ab6f9-8019-4396-ba36-cb80fa27f060",
        "colab": {
          "base_uri": "https://localhost:8080/"
        }
      },
      "execution_count": 34,
      "outputs": [
        {
          "output_type": "stream",
          "name": "stdout",
          "text": [
            "inputs\n",
            "[[ 1 44 59 56 58 46 43 56]\n",
            " [ 1 46 43 39 56  1 51 43]\n",
            " [57 54 43 39 49  8  0  0]\n",
            " [50 50 10  0 31 54 43 39]]\n",
            "(4, 8)\n",
            "targets\n",
            "(4, 8)\n"
          ]
        }
      ]
    },
    {
      "cell_type": "code",
      "source": [
        "output = model_apply_batch({\"params\": params}, inputs)"
      ],
      "metadata": {
        "id": "JNlkzt-IRr5O"
      },
      "execution_count": 35,
      "outputs": []
    },
    {
      "cell_type": "code",
      "source": [
        "# output should shape [4, 8, 65]\n",
        "# batch size = 4\n",
        "# block of tokens = 8\n",
        "# token_id to embedding = 65\n",
        "\n",
        "output.shape"
      ],
      "metadata": {
        "colab": {
          "base_uri": "https://localhost:8080/"
        },
        "id": "EiE6Yl0QXFml",
        "outputId": "c726525a-9b97-4295-f7bd-b658c137e347"
      },
      "execution_count": 36,
      "outputs": [
        {
          "output_type": "execute_result",
          "data": {
            "text/plain": [
              "(4, 8, 65)"
            ]
          },
          "metadata": {},
          "execution_count": 36
        }
      ]
    },
    {
      "cell_type": "code",
      "source": [
        "# To do backward pass, you first need to compute grads.\n",
        "# In JAX, you use jax.grad to do a function transformation on the forward\n",
        "# function to get the gradient of the original function.\n",
        "# The grad is calculate wrt to the first param in the function.\n",
        "def forward_pass(params, batch):\n",
        "  inputs, targets = batch\n",
        "  logits = model_apply_batch({\"params\": params}, inputs)\n",
        "  loss = optax.softmax_cross_entropy_with_integer_labels(logits, targets)\n",
        "  loss = loss.mean()\n",
        "  return loss"
      ],
      "metadata": {
        "id": "09vAczHeGDis"
      },
      "execution_count": 37,
      "outputs": []
    },
    {
      "cell_type": "code",
      "source": [
        "# Test forward pass.\n",
        "batch = get_batch()\n",
        "forward_pass(params=params, batch=batch)"
      ],
      "metadata": {
        "colab": {
          "base_uri": "https://localhost:8080/"
        },
        "id": "KCh6wzoHYWDm",
        "outputId": "c0d9bf90-e287-4ea2-c4b3-0c46cf07acf3"
      },
      "execution_count": 38,
      "outputs": [
        {
          "output_type": "execute_result",
          "data": {
            "text/plain": [
              "Array(4.188369, dtype=float32)"
            ]
          },
          "metadata": {},
          "execution_count": 38
        }
      ]
    },
    {
      "cell_type": "code",
      "source": [
        "grad_fn = jax.value_and_grad(forward_pass, argnums=(0))  # differentiate wrt 0th pos argument."
      ],
      "metadata": {
        "id": "lJnYF1OtGzPq"
      },
      "execution_count": 39,
      "outputs": []
    },
    {
      "cell_type": "code",
      "source": [
        "# Test forward pass and grads.\n",
        "# Grads would be the gradients for params.\n",
        "loss, grads = grad_fn(params, batch)\n",
        "println(\"loss\", loss, \"grads\", grads)"
      ],
      "metadata": {
        "id": "o3XKCpCJHQip",
        "outputId": "c463df03-7cef-414d-c0bc-2db2ff667fc0",
        "colab": {
          "base_uri": "https://localhost:8080/"
        }
      },
      "execution_count": 40,
      "outputs": [
        {
          "output_type": "stream",
          "name": "stdout",
          "text": [
            "loss\n",
            "4.188369\n",
            "grads\n",
            "{'token_embedding_table': {'embedding': Array([[0.00103511, 0.00097044, 0.00093559, ..., 0.00089521, 0.001064  ,\n",
            "        0.00093856],\n",
            "       [0.00203619, 0.00209828, 0.00198735, ..., 0.00196691, 0.00215726,\n",
            "        0.00207174],\n",
            "       [0.        , 0.        , 0.        , ..., 0.        , 0.        ,\n",
            "        0.        ],\n",
            "       ...,\n",
            "       [0.        , 0.        , 0.        , ..., 0.        , 0.        ,\n",
            "        0.        ],\n",
            "       [0.        , 0.        , 0.        , ..., 0.        , 0.        ,\n",
            "        0.        ],\n",
            "       [0.00040068, 0.00039527, 0.00040171, ..., 0.00042136, 0.00055311,\n",
            "        0.00042526]], dtype=float32)}}\n"
          ]
        }
      ]
    },
    {
      "cell_type": "code",
      "source": [
        "# Apply grads to params to get new params.\n",
        "lr = 0.001\n",
        "println(\"params before:\", params)\n",
        "params = jax.tree_map(lambda p, g: p - lr * g, params, grads)\n",
        "println(\"params after:\", params)"
      ],
      "metadata": {
        "id": "qLHB0BpQHfI1",
        "outputId": "3d7265c6-b487-4d2b-fd8a-e4f59f88477f",
        "colab": {
          "base_uri": "https://localhost:8080/"
        }
      },
      "execution_count": 41,
      "outputs": [
        {
          "output_type": "stream",
          "name": "stdout",
          "text": [
            "params before:\n",
            "{'token_embedding_table': {'embedding': Array([[ 0.0752212 ,  0.01071652, -0.02585994, ..., -0.06997449,\n",
            "         0.10274917, -0.0226865 ],\n",
            "       [ 0.09400459,  0.12404279,  0.06972364, ...,  0.0593865 ,\n",
            "         0.1517611 ,  0.11131445],\n",
            "       [-0.0302137 , -0.07326671, -0.2515272 , ...,  0.20769818,\n",
            "         0.01281604,  0.03134193],\n",
            "       ...,\n",
            "       [-0.1394756 , -0.00640967, -0.07666602, ..., -0.2944119 ,\n",
            "         0.1187517 , -0.08573762],\n",
            "       [ 0.05703759, -0.11280773,  0.2570641 , ..., -0.02059634,\n",
            "        -0.02818088,  0.13305528],\n",
            "       [-0.12428083, -0.13785616, -0.12170236, ..., -0.07394623,\n",
            "         0.19811267, -0.06473607]], dtype=float32)}}\n",
            "params after:\n",
            "{'token_embedding_table': {'embedding': Array([[ 0.07522016,  0.01071555, -0.02586087, ..., -0.06997538,\n",
            "         0.1027481 , -0.02268744],\n",
            "       [ 0.09400256,  0.12404069,  0.06972165, ...,  0.05938453,\n",
            "         0.15175894,  0.11131237],\n",
            "       [-0.0302137 , -0.07326671, -0.2515272 , ...,  0.20769818,\n",
            "         0.01281604,  0.03134193],\n",
            "       ...,\n",
            "       [-0.1394756 , -0.00640967, -0.07666602, ..., -0.2944119 ,\n",
            "         0.1187517 , -0.08573762],\n",
            "       [ 0.05703759, -0.11280773,  0.2570641 , ..., -0.02059634,\n",
            "        -0.02818088,  0.13305528],\n",
            "       [-0.12428124, -0.13785656, -0.12170276, ..., -0.07394665,\n",
            "         0.19811212, -0.06473649]], dtype=float32)}}\n"
          ]
        }
      ]
    },
    {
      "cell_type": "markdown",
      "source": [
        "# Writing train step in flax\n",
        "## copy-pasting everything at one place and running a train step."
      ],
      "metadata": {
        "id": "LKPwDOFmIaSE"
      }
    },
    {
      "cell_type": "code",
      "source": [
        "class BigramLangModel(nn.Module):\n",
        "  \"\"\"Reads one char and predicits the next char.\"\"\"\n",
        "  vocab_size: int\n",
        "\n",
        "  def setup(self):\n",
        "    super().setup()\n",
        "    self.token_embedding_table = nn.Embed(num_embeddings=self.vocab_size, features=self.vocab_size)\n",
        "\n",
        "  def __call__(self, inputs):\n",
        "    # Run block size inputs through embedding lookup.\n",
        "    # For each char, you get the logit predicted for that char.\n",
        "    # Then, you use the target token for that input and do a cross_entropy_loss.\n",
        "    logits = self.token_embedding_table(inputs)\n",
        "    return logits\n",
        "\n",
        "model = BigramLangModel(vocab_size=65)\n",
        "\n",
        "sample_input_row = jnp.ones(shape=[1, 1], dtype=jnp.int32)\n",
        "output, params = model.init_with_output(jrand.PRNGKey(99), sample_input_row)\n",
        "params = params[\"params\"]\n",
        "\n",
        "model_apply_batch = jax.vmap(model.apply, in_axes=(None, 0), out_axes=(0))\n",
        "\n",
        "def forward_pass(params, state, batch):\n",
        "  inputs, targets = batch\n",
        "  logits = state.apply_fn({\"params\": params}, inputs)\n",
        "  loss = optax.softmax_cross_entropy_with_integer_labels(logits, targets)\n",
        "  loss = loss.mean()\n",
        "  return loss\n",
        "\n",
        "grad_fn = jax.value_and_grad(forward_pass, argnums=(0))  # differentiate wrt 0th pos argument.\n",
        "\n",
        "opt = optax.adam(learning_rate=0.001)\n",
        "state = train_state.TrainState.create(apply_fn=model_apply_batch, params=params, tx=opt)\n",
        "\n",
        "for epoch in range(1000):\n",
        "  batch = get_batch()\n",
        "  loss, grads = grad_fn(state.params, state, batch)\n",
        "  print(loss) if epoch%100==0 else None\n",
        "  state = state.apply_gradients(grads=grads)"
      ],
      "metadata": {
        "colab": {
          "base_uri": "https://localhost:8080/"
        },
        "id": "gtzCS8NzMJx9",
        "outputId": "5ec77896-adf0-4afc-f5f4-033467057717"
      },
      "execution_count": 42,
      "outputs": [
        {
          "output_type": "stream",
          "name": "stdout",
          "text": [
            "4.1769814\n",
            "4.093553\n",
            "4.0517178\n",
            "3.9815784\n",
            "3.955411\n",
            "3.8293285\n",
            "3.7160275\n",
            "3.7963347\n",
            "3.7700095\n",
            "3.5433385\n"
          ]
        }
      ]
    },
    {
      "cell_type": "markdown",
      "source": [
        "# Implement code for generating tokens"
      ],
      "metadata": {
        "id": "Bze9wctCbxls"
      }
    },
    {
      "cell_type": "code",
      "source": [
        "input_token = \"n\"\n",
        "encode(input_token, stoi)\n"
      ],
      "metadata": {
        "colab": {
          "base_uri": "https://localhost:8080/"
        },
        "id": "h2BUBirGMWo6",
        "outputId": "91f3a1c0-9e35-4e05-b37f-dcf7fb0b8bb2"
      },
      "execution_count": 43,
      "outputs": [
        {
          "output_type": "execute_result",
          "data": {
            "text/plain": [
              "[52]"
            ]
          },
          "metadata": {},
          "execution_count": 43
        }
      ]
    },
    {
      "cell_type": "code",
      "source": [
        "input_token = jnp.array([[52]], dtype=jnp.int32)\n",
        "input_token.shape"
      ],
      "metadata": {
        "colab": {
          "base_uri": "https://localhost:8080/"
        },
        "id": "8p4A99r1NKx-",
        "outputId": "1b15f08e-5be5-44ad-df8a-6dc819e6b77c"
      },
      "execution_count": 44,
      "outputs": [
        {
          "output_type": "execute_result",
          "data": {
            "text/plain": [
              "(1, 1)"
            ]
          },
          "metadata": {},
          "execution_count": 44
        }
      ]
    },
    {
      "cell_type": "code",
      "source": [
        "next_token_logit = state.apply_fn({\"params\": state.params}, input_token)"
      ],
      "metadata": {
        "id": "cJwJPnIlNSEP"
      },
      "execution_count": 45,
      "outputs": []
    },
    {
      "cell_type": "code",
      "source": [
        "next_token_logit"
      ],
      "metadata": {
        "colab": {
          "base_uri": "https://localhost:8080/"
        },
        "id": "Df1oFKh9N4oj",
        "outputId": "1fd7cc21-e7d3-4317-c6f0-9eb89c852069"
      },
      "execution_count": 46,
      "outputs": [
        {
          "output_type": "execute_result",
          "data": {
            "text/plain": [
              "Array([[[-0.03682718,  0.38738227, -0.6297037 , -0.4940241 ,\n",
              "         -0.5302313 , -0.06883954,  0.02130109, -0.38699383,\n",
              "          0.05293135, -0.67822653,  0.04108687, -0.17033677,\n",
              "         -0.21989109, -0.6640769 , -0.5178356 , -0.8944765 ,\n",
              "         -0.47879392, -0.64374334, -0.83251226, -0.8247406 ,\n",
              "         -0.7639986 , -0.6349938 , -0.58913904, -0.71123016,\n",
              "         -0.6316706 , -0.8322299 , -0.61255544, -0.8065904 ,\n",
              "         -0.6916736 , -0.7578409 , -0.77268964, -0.66586775,\n",
              "         -0.48679668, -0.6974697 , -0.5410919 , -0.86016047,\n",
              "         -0.7141595 , -0.87438166, -0.67868704,  0.03718114,\n",
              "         -0.9563431 , -0.07171286,  0.3103663 ,  0.27640587,\n",
              "         -0.15164396,  0.25430372, -0.8608676 , -0.11117504,\n",
              "         -0.5252868 , -0.07216536,  0.02316949, -0.9069602 ,\n",
              "         -0.26114473,  0.19493027, -0.98034286, -0.70663923,\n",
              "         -0.25509965,  0.25409326,  0.1060916 , -0.11378516,\n",
              "         -0.35723025, -0.7799293 , -0.53064156, -0.42475328,\n",
              "         -0.6610865 ]]], dtype=float32)"
            ]
          },
          "metadata": {},
          "execution_count": 46
        }
      ]
    },
    {
      "cell_type": "code",
      "source": [
        "init_key = jrand.PRNGKey(99)\n",
        "key, split_key = jrand.split(init_key)"
      ],
      "metadata": {
        "id": "OiIl31K0cQVj"
      },
      "execution_count": 47,
      "outputs": []
    },
    {
      "cell_type": "code",
      "source": [
        "next_to_next_token = jrand.categorical(split_key, next_token_logit)\n",
        "next_to_next_token"
      ],
      "metadata": {
        "colab": {
          "base_uri": "https://localhost:8080/"
        },
        "id": "hMY9sAsCczWf",
        "outputId": "b418abce-b3ca-41d3-a489-88d72f221476"
      },
      "execution_count": 48,
      "outputs": [
        {
          "output_type": "execute_result",
          "data": {
            "text/plain": [
              "Array([[25]], dtype=int32)"
            ]
          },
          "metadata": {},
          "execution_count": 48
        }
      ]
    },
    {
      "cell_type": "code",
      "source": [
        "decode(next_to_next_token.tolist()[0], itos)"
      ],
      "metadata": {
        "colab": {
          "base_uri": "https://localhost:8080/",
          "height": 36
        },
        "id": "7gpbNLGCc8k-",
        "outputId": "c18de537-e010-4362-f1b6-93fbd943c0a7"
      },
      "execution_count": 49,
      "outputs": [
        {
          "output_type": "execute_result",
          "data": {
            "text/plain": [
              "'M'"
            ],
            "application/vnd.google.colaboratory.intrinsic+json": {
              "type": "string"
            }
          },
          "metadata": {},
          "execution_count": 49
        }
      ]
    },
    {
      "cell_type": "code",
      "source": [
        "next_to_next_to_next_logit = state.apply_fn({\"params\": state.params}, next_to_next_token)"
      ],
      "metadata": {
        "id": "9yoh9KIXdby-"
      },
      "execution_count": 50,
      "outputs": []
    },
    {
      "cell_type": "code",
      "source": [
        "key, split_key = jrand.split(key)"
      ],
      "metadata": {
        "id": "eT4SCAXidmBi"
      },
      "execution_count": 51,
      "outputs": []
    },
    {
      "cell_type": "code",
      "source": [
        "next_to_next_to_next_token = jrand.categorical(split_key, next_token_logit)\n",
        "\n",
        "next_to_next_to_next_token"
      ],
      "metadata": {
        "colab": {
          "base_uri": "https://localhost:8080/"
        },
        "id": "JE6B49q2dkNm",
        "outputId": "45468ee1-b106-4e98-8d4a-b3754b633040"
      },
      "execution_count": 52,
      "outputs": [
        {
          "output_type": "execute_result",
          "data": {
            "text/plain": [
              "Array([[59]], dtype=int32)"
            ]
          },
          "metadata": {},
          "execution_count": 52
        }
      ]
    },
    {
      "cell_type": "code",
      "source": [
        "decode(next_to_next_to_next_token.tolist()[0], itos)"
      ],
      "metadata": {
        "colab": {
          "base_uri": "https://localhost:8080/",
          "height": 36
        },
        "id": "qGbhB8K7d2B0",
        "outputId": "29ca992c-8e84-40d6-c7a6-ca4bc93b540d"
      },
      "execution_count": 53,
      "outputs": [
        {
          "output_type": "execute_result",
          "data": {
            "text/plain": [
              "'u'"
            ],
            "application/vnd.google.colaboratory.intrinsic+json": {
              "type": "string"
            }
          },
          "metadata": {},
          "execution_count": 53
        }
      ]
    },
    {
      "cell_type": "code",
      "source": [
        "# Putting together the generate code\n",
        "\n",
        "input_token = jnp.array([[52]], dtype=jnp.int32)\n",
        "key = jrand.PRNGKey(99)\n",
        "\n",
        "result = \"\"\n",
        "for i in range(100):\n",
        "  key, split_key = jrand.split(key)\n",
        "  next_token_logit = state.apply_fn({\"params\": state.params}, input_token)\n",
        "  next_token = jrand.categorical(split_key, next_token_logit)\n",
        "  next_token_decode = decode(next_token.tolist()[0], itos)\n",
        "  result = result + next_token_decode\n",
        "\n",
        "print(result)\n",
        "\n"
      ],
      "metadata": {
        "colab": {
          "base_uri": "https://localhost:8080/"
        },
        "id": "keaylzQod6rh",
        "outputId": "09be69db-34dd-48ba-f3e9-952edacad802"
      },
      "execution_count": 54,
      "outputs": [
        {
          "output_type": "stream",
          "name": "stdout",
          "text": [
            "MuTqF\n",
            "d$oMJ\n",
            " CiSOzjIftBqertiG,3gdghx,,.V,d .zbfa'$fXoeyu'l!m:oaBBQRcrEttkQm3u-r.v3LgdMVfxsx-;ga!kcPW\n"
          ]
        }
      ]
    },
    {
      "cell_type": "markdown",
      "source": [
        "# Mathematical trick in attention"
      ],
      "metadata": {
        "id": "G78p73EKNOJp"
      }
    },
    {
      "cell_type": "markdown",
      "source": [
        "## doing bag of words\n",
        "basically, in B, T, C\n",
        "at t-th token in a row of batch, just sum all the values upto t."
      ],
      "metadata": {
        "id": "vWZlcN7aNQ6f"
      }
    },
    {
      "cell_type": "code",
      "source": [
        "# Generate T, C and write code which works for T, C.\n",
        "# Then, vmap it for batch\n",
        "\n",
        "# Using tokens = 4\n",
        "# Using each token with channel = 2 to make it easy to visualize\n",
        "T, C = 4, 2\n",
        "\n",
        "key, split_key = jrand.split(jrand.PRNGKey(99))\n",
        "\n",
        "x = jrand.normal(split_key, (T, C))\n",
        "x"
      ],
      "metadata": {
        "colab": {
          "base_uri": "https://localhost:8080/"
        },
        "id": "4x3NkSoBNsTg",
        "outputId": "0df3effa-b7bb-4f62-f266-6f8fef3fe6bf"
      },
      "execution_count": 55,
      "outputs": [
        {
          "output_type": "execute_result",
          "data": {
            "text/plain": [
              "Array([[ 0.2628779 , -0.1837252 ],\n",
              "       [ 0.38331428, -0.16180514],\n",
              "       [ 1.4986674 ,  1.10728   ],\n",
              "       [ 1.1535788 ,  0.9676542 ]], dtype=float32)"
            ]
          },
          "metadata": {},
          "execution_count": 55
        }
      ]
    },
    {
      "cell_type": "markdown",
      "source": [
        "### version 1: using for loop"
      ],
      "metadata": {
        "id": "ZFlsH67YZqQj"
      }
    },
    {
      "cell_type": "code",
      "source": [
        "def bow_attention(x: jnp.array, T: int, C: int):\n",
        "  \"\"\"Operates on a single row within batchs\n",
        "\n",
        "    It calculates bow attention by summing all\n",
        "    token channels prev + current token channels.\n",
        "  \"\"\"\n",
        "  xbow = jnp.zeros(shape=(T, C))\n",
        "  for token in range(T):\n",
        "    xprev = x[:token]\n",
        "    xcurrent = x[token:token+1]\n",
        "\n",
        "    current_bow = jnp.mean(jnp.concatenate([xprev, xcurrent], axis=0), axis=0)\n",
        "    xbow = xbow.at[token].set(current_bow)\n",
        "  return xbow"
      ],
      "metadata": {
        "id": "jtZjg_WyS3pD"
      },
      "execution_count": 56,
      "outputs": []
    },
    {
      "cell_type": "code",
      "source": [
        "bow_attention(x, T, C)"
      ],
      "metadata": {
        "colab": {
          "base_uri": "https://localhost:8080/"
        },
        "id": "EwDgkObLJh5X",
        "outputId": "f1ef64ea-6a0e-43b2-8338-4a0dddbd4328"
      },
      "execution_count": 57,
      "outputs": [
        {
          "output_type": "execute_result",
          "data": {
            "text/plain": [
              "Array([[ 0.2628779 , -0.1837252 ],\n",
              "       [ 0.3230961 , -0.17276517],\n",
              "       [ 0.7149532 ,  0.25391656],\n",
              "       [ 0.8246096 ,  0.432351  ]], dtype=float32)"
            ]
          },
          "metadata": {},
          "execution_count": 57
        }
      ]
    },
    {
      "cell_type": "code",
      "source": [
        "# Test bow_attention using non-random tensor.\n",
        "test_numbers = jnp.arange(1, 5).reshape(-1, 1)\n",
        "test_arr = jnp.tile(test_numbers, (1, C))\n",
        "bow_attention(test_arr, T, C)"
      ],
      "metadata": {
        "id": "aDTyU_cJCQaW",
        "colab": {
          "base_uri": "https://localhost:8080/"
        },
        "outputId": "b46c10e3-6575-420f-dd87-ddd372e30df6"
      },
      "execution_count": 58,
      "outputs": [
        {
          "output_type": "execute_result",
          "data": {
            "text/plain": [
              "Array([[1. , 1. ],\n",
              "       [1.5, 1.5],\n",
              "       [2. , 2. ],\n",
              "       [2.5, 2.5]], dtype=float32)"
            ]
          },
          "metadata": {},
          "execution_count": 58
        }
      ]
    },
    {
      "cell_type": "markdown",
      "source": [
        "### version 2: Starting to write it using matmul"
      ],
      "metadata": {
        "id": "iCEfpKc4Juqy"
      }
    },
    {
      "cell_type": "code",
      "source": [
        "x"
      ],
      "metadata": {
        "colab": {
          "base_uri": "https://localhost:8080/"
        },
        "id": "aDJaLAS9JyAy",
        "outputId": "e0196750-b70e-4679-85fb-f8398e13aa01"
      },
      "execution_count": 59,
      "outputs": [
        {
          "output_type": "execute_result",
          "data": {
            "text/plain": [
              "Array([[ 0.2628779 , -0.1837252 ],\n",
              "       [ 0.38331428, -0.16180514],\n",
              "       [ 1.4986674 ,  1.10728   ],\n",
              "       [ 1.1535788 ,  0.9676542 ]], dtype=float32)"
            ]
          },
          "metadata": {},
          "execution_count": 59
        }
      ]
    },
    {
      "cell_type": "code",
      "source": [
        "wei = jnp.array([[1.0, 0., 0., 0.],\n",
        " [0.5, 0.5, 0., 0.],\n",
        " [0.333, 0.333, 0.333, 0.],\n",
        " [0.25, 0.25, 0.25, 0.25]])"
      ],
      "metadata": {
        "id": "KseF9l2cJ550"
      },
      "execution_count": 60,
      "outputs": []
    },
    {
      "cell_type": "code",
      "source": [
        "tril = jnp.tril(jnp.ones(shape=(T, T)))\n",
        "tril"
      ],
      "metadata": {
        "colab": {
          "base_uri": "https://localhost:8080/"
        },
        "id": "0HBRJlxnQ9Wu",
        "outputId": "af2f9ca2-af2c-4704-9459-63420971b01c"
      },
      "execution_count": 61,
      "outputs": [
        {
          "output_type": "execute_result",
          "data": {
            "text/plain": [
              "Array([[1., 0., 0., 0.],\n",
              "       [1., 1., 0., 0.],\n",
              "       [1., 1., 1., 0.],\n",
              "       [1., 1., 1., 1.]], dtype=float32)"
            ]
          },
          "metadata": {},
          "execution_count": 61
        }
      ]
    },
    {
      "cell_type": "code",
      "source": [
        "jnp.sum(tril, axis=1, keepdims=True)"
      ],
      "metadata": {
        "colab": {
          "base_uri": "https://localhost:8080/"
        },
        "id": "SbHxqFspWcN0",
        "outputId": "1bb6ef2a-1d65-486a-e49f-0a5c21c9d8de"
      },
      "execution_count": 62,
      "outputs": [
        {
          "output_type": "execute_result",
          "data": {
            "text/plain": [
              "Array([[1.],\n",
              "       [2.],\n",
              "       [3.],\n",
              "       [4.]], dtype=float32)"
            ]
          },
          "metadata": {},
          "execution_count": 62
        }
      ]
    },
    {
      "cell_type": "code",
      "source": [
        "def get_wei(T: int):\n",
        "  tril = jnp.tril(jnp.ones(shape=(T, T)))\n",
        "  return tril/jnp.sum(tril, axis=1, keepdims=True)"
      ],
      "metadata": {
        "id": "naS4RF-FWfEL"
      },
      "execution_count": 63,
      "outputs": []
    },
    {
      "cell_type": "code",
      "source": [
        "get_wei(T)"
      ],
      "metadata": {
        "colab": {
          "base_uri": "https://localhost:8080/"
        },
        "id": "W-cr82EcWq5P",
        "outputId": "45531aae-0f51-4976-c9c8-f93cc758fef0"
      },
      "execution_count": 64,
      "outputs": [
        {
          "output_type": "execute_result",
          "data": {
            "text/plain": [
              "Array([[1.        , 0.        , 0.        , 0.        ],\n",
              "       [0.5       , 0.5       , 0.        , 0.        ],\n",
              "       [0.33333334, 0.33333334, 0.33333334, 0.        ],\n",
              "       [0.25      , 0.25      , 0.25      , 0.25      ]], dtype=float32)"
            ]
          },
          "metadata": {},
          "execution_count": 64
        }
      ]
    },
    {
      "cell_type": "code",
      "source": [
        "# Putting together the bow attention calculation using matmul\n",
        "def bow_attention_matmul(x: jnp.array, T: int, C: int):\n",
        "  tril = jnp.tril(jnp.ones(shape=(T, T)))\n",
        "  wei = tril/jnp.sum(tril, axis=1, keepdims=True)\n",
        "\n",
        "  return jnp.dot(wei, x)\n"
      ],
      "metadata": {
        "id": "D2za5ZmdE9fu"
      },
      "execution_count": 65,
      "outputs": []
    },
    {
      "cell_type": "code",
      "source": [
        "bow_attention_matmul(x, T, C)"
      ],
      "metadata": {
        "colab": {
          "base_uri": "https://localhost:8080/"
        },
        "id": "0P96Sm6qXHfi",
        "outputId": "64c551ba-e57f-4ae3-8a7e-68e38a086d2b"
      },
      "execution_count": 66,
      "outputs": [
        {
          "output_type": "execute_result",
          "data": {
            "text/plain": [
              "Array([[ 0.2628779 , -0.1837252 ],\n",
              "       [ 0.3230961 , -0.17276517],\n",
              "       [ 0.7149532 ,  0.25391656],\n",
              "       [ 0.8246096 ,  0.432351  ]], dtype=float32)"
            ]
          },
          "metadata": {},
          "execution_count": 66
        }
      ]
    },
    {
      "cell_type": "markdown",
      "source": [
        "### version 3: use softmax to generate wei matrix\n",
        "so that it can be learnable?"
      ],
      "metadata": {
        "id": "odn4VPr3cdaP"
      }
    },
    {
      "cell_type": "code",
      "source": [
        "tril = jnp.tril(jnp.ones(shape=(T, T)))\n",
        "tril"
      ],
      "metadata": {
        "colab": {
          "base_uri": "https://localhost:8080/"
        },
        "id": "wFNaw1Ufcmk-",
        "outputId": "7cd6ac15-155c-4f1c-b7d0-ca2478fa3e09"
      },
      "execution_count": 67,
      "outputs": [
        {
          "output_type": "execute_result",
          "data": {
            "text/plain": [
              "Array([[1., 0., 0., 0.],\n",
              "       [1., 1., 0., 0.],\n",
              "       [1., 1., 1., 0.],\n",
              "       [1., 1., 1., 1.]], dtype=float32)"
            ]
          },
          "metadata": {},
          "execution_count": 67
        }
      ]
    },
    {
      "cell_type": "code",
      "source": [
        "# you start wei as all zeros\n",
        "wei = jnp.zeros(shape=(T, T))\n",
        "wei"
      ],
      "metadata": {
        "colab": {
          "base_uri": "https://localhost:8080/"
        },
        "id": "-5e1e7Bn0WhD",
        "outputId": "aca49615-f834-4bdd-a8a6-4aea8728c68d"
      },
      "execution_count": 68,
      "outputs": [
        {
          "output_type": "execute_result",
          "data": {
            "text/plain": [
              "Array([[0., 0., 0., 0.],\n",
              "       [0., 0., 0., 0.],\n",
              "       [0., 0., 0., 0.],\n",
              "       [0., 0., 0., 0.]], dtype=float32)"
            ]
          },
          "metadata": {},
          "execution_count": 68
        }
      ]
    },
    {
      "cell_type": "code",
      "source": [
        "# but now, we modify wei such that whenever tril==0, we put -inf into wei\n",
        "wei = jnp.where(tril==0, -jnp.inf, wei)\n",
        "wei"
      ],
      "metadata": {
        "colab": {
          "base_uri": "https://localhost:8080/"
        },
        "id": "HgL4FNfI0cFk",
        "outputId": "ff16eae3-d0fa-4b5e-c13e-ed9f4a48d9f3"
      },
      "execution_count": 69,
      "outputs": [
        {
          "output_type": "execute_result",
          "data": {
            "text/plain": [
              "Array([[  0., -inf, -inf, -inf],\n",
              "       [  0.,   0., -inf, -inf],\n",
              "       [  0.,   0.,   0., -inf],\n",
              "       [  0.,   0.,   0.,   0.]], dtype=float32)"
            ]
          },
          "metadata": {},
          "execution_count": 69
        }
      ]
    },
    {
      "cell_type": "code",
      "source": [
        "# next we take softmax along row, that is dim==-1\n",
        "wei = nn.softmax(wei, axis=-1)\n",
        "wei"
      ],
      "metadata": {
        "colab": {
          "base_uri": "https://localhost:8080/"
        },
        "id": "pMzvM4Q50loZ",
        "outputId": "a509ba56-d7ee-4cb1-ce05-abbf30742d52"
      },
      "execution_count": 70,
      "outputs": [
        {
          "output_type": "execute_result",
          "data": {
            "text/plain": [
              "Array([[1.        , 0.        , 0.        , 0.        ],\n",
              "       [0.5       , 0.5       , 0.        , 0.        ],\n",
              "       [0.33333334, 0.33333334, 0.33333334, 0.        ],\n",
              "       [0.25      , 0.25      , 0.25      , 0.25      ]], dtype=float32)"
            ]
          },
          "metadata": {},
          "execution_count": 70
        }
      ]
    },
    {
      "cell_type": "code",
      "source": [
        "def calc_attention(x: jnp.array, T:int, C:int):\n",
        "  \"\"\"Calculates attention for a row of tokens.\"\"\"\n",
        "  tril = jnp.tril(jnp.ones(shape=(T, T)))\n",
        "  wei = jnp.zeros(shape=(T, T))\n",
        "  wei = jnp.where(tril==0, -jnp.inf, wei)\n",
        "  wei = nn.softmax(wei, axis=-1)\n",
        "\n",
        "  return jnp.dot(wei, x)"
      ],
      "metadata": {
        "id": "NtMC5WcrdE7m"
      },
      "execution_count": 71,
      "outputs": []
    },
    {
      "cell_type": "code",
      "source": [
        "calc_attention(x, T, C)"
      ],
      "metadata": {
        "colab": {
          "base_uri": "https://localhost:8080/"
        },
        "id": "G5XZ1TjsdpSH",
        "outputId": "088f65e9-5b84-4b43-9f69-17efb9552a0c"
      },
      "execution_count": 72,
      "outputs": [
        {
          "output_type": "execute_result",
          "data": {
            "text/plain": [
              "Array([[ 0.2628779 , -0.1837252 ],\n",
              "       [ 0.3230961 , -0.17276517],\n",
              "       [ 0.7149532 ,  0.25391656],\n",
              "       [ 0.8246096 ,  0.432351  ]], dtype=float32)"
            ]
          },
          "metadata": {},
          "execution_count": 72
        }
      ]
    },
    {
      "cell_type": "code",
      "source": [
        "calc_attention(test_arr, T, C)"
      ],
      "metadata": {
        "colab": {
          "base_uri": "https://localhost:8080/"
        },
        "id": "rpe729Ygd2V6",
        "outputId": "60dd0e08-0795-4e04-ddf7-d0bc7443fb5e"
      },
      "execution_count": 73,
      "outputs": [
        {
          "output_type": "execute_result",
          "data": {
            "text/plain": [
              "Array([[1. , 1. ],\n",
              "       [1.5, 1.5],\n",
              "       [2. , 2. ],\n",
              "       [2.5, 2.5]], dtype=float32)"
            ]
          },
          "metadata": {},
          "execution_count": 73
        }
      ]
    },
    {
      "cell_type": "code",
      "source": [
        "calc_attention_batch = jax.vmap(calc_attention, in_axes=(0, None, None), out_axes=(0))"
      ],
      "metadata": {
        "id": "BQ_Sy-FEeHpx"
      },
      "execution_count": 74,
      "outputs": []
    },
    {
      "cell_type": "code",
      "source": [
        "T, C = 8, 65\n",
        "test_numbers = jnp.arange(1, T+1).reshape(-1, 1)\n",
        "test_arr = jnp.tile(test_numbers, (1, C))\n",
        "\n",
        "# add batch dimension to test_arr\n",
        "test_arr_batch = test_arr[None, :]"
      ],
      "metadata": {
        "id": "ZpQKVgZwebqK"
      },
      "execution_count": 75,
      "outputs": []
    },
    {
      "cell_type": "code",
      "source": [
        "# Test calc_attention_batch using get_batch\n",
        "calc_attention_batch(test_arr_batch, T, C)"
      ],
      "metadata": {
        "colab": {
          "base_uri": "https://localhost:8080/"
        },
        "id": "fsnmMhRmePJR",
        "outputId": "5e2e56c0-654c-4806-f8ea-e6488d80083d"
      },
      "execution_count": 76,
      "outputs": [
        {
          "output_type": "execute_result",
          "data": {
            "text/plain": [
              "Array([[[1.       , 1.       , 1.       , 1.       , 1.       ,\n",
              "         1.       , 1.       , 1.       , 1.       , 1.       ,\n",
              "         1.       , 1.       , 1.       , 1.       , 1.       ,\n",
              "         1.       , 1.       , 1.       , 1.       , 1.       ,\n",
              "         1.       , 1.       , 1.       , 1.       , 1.       ,\n",
              "         1.       , 1.       , 1.       , 1.       , 1.       ,\n",
              "         1.       , 1.       , 1.       , 1.       , 1.       ,\n",
              "         1.       , 1.       , 1.       , 1.       , 1.       ,\n",
              "         1.       , 1.       , 1.       , 1.       , 1.       ,\n",
              "         1.       , 1.       , 1.       , 1.       , 1.       ,\n",
              "         1.       , 1.       , 1.       , 1.       , 1.       ,\n",
              "         1.       , 1.       , 1.       , 1.       , 1.       ,\n",
              "         1.       , 1.       , 1.       , 1.       , 1.       ],\n",
              "        [1.5      , 1.5      , 1.5      , 1.5      , 1.5      ,\n",
              "         1.5      , 1.5      , 1.5      , 1.5      , 1.5      ,\n",
              "         1.5      , 1.5      , 1.5      , 1.5      , 1.5      ,\n",
              "         1.5      , 1.5      , 1.5      , 1.5      , 1.5      ,\n",
              "         1.5      , 1.5      , 1.5      , 1.5      , 1.5      ,\n",
              "         1.5      , 1.5      , 1.5      , 1.5      , 1.5      ,\n",
              "         1.5      , 1.5      , 1.5      , 1.5      , 1.5      ,\n",
              "         1.5      , 1.5      , 1.5      , 1.5      , 1.5      ,\n",
              "         1.5      , 1.5      , 1.5      , 1.5      , 1.5      ,\n",
              "         1.5      , 1.5      , 1.5      , 1.5      , 1.5      ,\n",
              "         1.5      , 1.5      , 1.5      , 1.5      , 1.5      ,\n",
              "         1.5      , 1.5      , 1.5      , 1.5      , 1.5      ,\n",
              "         1.5      , 1.5      , 1.5      , 1.5      , 1.5      ],\n",
              "        [2.       , 2.       , 2.       , 2.       , 2.       ,\n",
              "         2.       , 2.       , 2.       , 2.       , 2.       ,\n",
              "         2.       , 2.       , 2.       , 2.       , 2.       ,\n",
              "         2.       , 2.       , 2.       , 2.       , 2.       ,\n",
              "         2.       , 2.       , 2.       , 2.       , 2.       ,\n",
              "         2.       , 2.       , 2.       , 2.       , 2.       ,\n",
              "         2.       , 2.       , 2.       , 2.       , 2.       ,\n",
              "         2.       , 2.       , 2.       , 2.       , 2.       ,\n",
              "         2.       , 2.       , 2.       , 2.       , 2.       ,\n",
              "         2.       , 2.       , 2.       , 2.       , 2.       ,\n",
              "         2.       , 2.       , 2.       , 2.       , 2.       ,\n",
              "         2.       , 2.       , 2.       , 2.       , 2.       ,\n",
              "         2.       , 2.       , 2.       , 2.       , 2.       ],\n",
              "        [2.5      , 2.5      , 2.5      , 2.5      , 2.5      ,\n",
              "         2.5      , 2.5      , 2.5      , 2.5      , 2.5      ,\n",
              "         2.5      , 2.5      , 2.5      , 2.5      , 2.5      ,\n",
              "         2.5      , 2.5      , 2.5      , 2.5      , 2.5      ,\n",
              "         2.5      , 2.5      , 2.5      , 2.5      , 2.5      ,\n",
              "         2.5      , 2.5      , 2.5      , 2.5      , 2.5      ,\n",
              "         2.5      , 2.5      , 2.5      , 2.5      , 2.5      ,\n",
              "         2.5      , 2.5      , 2.5      , 2.5      , 2.5      ,\n",
              "         2.5      , 2.5      , 2.5      , 2.5      , 2.5      ,\n",
              "         2.5      , 2.5      , 2.5      , 2.5      , 2.5      ,\n",
              "         2.5      , 2.5      , 2.5      , 2.5      , 2.5      ,\n",
              "         2.5      , 2.5      , 2.5      , 2.5      , 2.5      ,\n",
              "         2.5      , 2.5      , 2.5      , 2.5      , 2.5      ],\n",
              "        [3.       , 3.       , 3.       , 3.       , 3.       ,\n",
              "         3.       , 3.       , 3.       , 3.       , 3.       ,\n",
              "         3.       , 3.       , 3.       , 3.       , 3.       ,\n",
              "         3.       , 3.       , 3.       , 3.       , 3.       ,\n",
              "         3.       , 3.       , 3.       , 3.       , 3.       ,\n",
              "         3.       , 3.       , 3.       , 3.       , 3.       ,\n",
              "         3.       , 3.       , 3.       , 3.       , 3.       ,\n",
              "         3.       , 3.       , 3.       , 3.       , 3.       ,\n",
              "         3.       , 3.       , 3.       , 3.       , 3.       ,\n",
              "         3.       , 3.       , 3.       , 3.       , 3.       ,\n",
              "         3.       , 3.       , 3.       , 3.       , 3.       ,\n",
              "         3.       , 3.       , 3.       , 3.       , 3.       ,\n",
              "         3.       , 3.       , 3.       , 3.       , 3.       ],\n",
              "        [3.5      , 3.5      , 3.5      , 3.5      , 3.5      ,\n",
              "         3.5      , 3.5      , 3.5      , 3.5      , 3.5      ,\n",
              "         3.5      , 3.5      , 3.5      , 3.5      , 3.5      ,\n",
              "         3.5      , 3.5      , 3.5      , 3.5      , 3.5      ,\n",
              "         3.5      , 3.5      , 3.5      , 3.5      , 3.5      ,\n",
              "         3.5      , 3.5      , 3.5      , 3.5      , 3.5      ,\n",
              "         3.5      , 3.5      , 3.5      , 3.5      , 3.5      ,\n",
              "         3.5      , 3.5      , 3.5      , 3.5      , 3.5      ,\n",
              "         3.5      , 3.5      , 3.5      , 3.5      , 3.5      ,\n",
              "         3.5      , 3.5      , 3.5      , 3.5      , 3.5      ,\n",
              "         3.5      , 3.5      , 3.5      , 3.5      , 3.5      ,\n",
              "         3.5      , 3.5      , 3.5      , 3.5      , 3.5      ,\n",
              "         3.5      , 3.5      , 3.5      , 3.5      , 3.5      ],\n",
              "        [4.0000005, 4.0000005, 4.0000005, 4.0000005, 4.0000005,\n",
              "         4.0000005, 4.0000005, 4.0000005, 4.0000005, 4.0000005,\n",
              "         4.0000005, 4.0000005, 4.0000005, 4.0000005, 4.0000005,\n",
              "         4.0000005, 4.0000005, 4.0000005, 4.0000005, 4.0000005,\n",
              "         4.0000005, 4.0000005, 4.0000005, 4.0000005, 4.0000005,\n",
              "         4.0000005, 4.0000005, 4.0000005, 4.0000005, 4.0000005,\n",
              "         4.0000005, 4.0000005, 4.0000005, 4.0000005, 4.0000005,\n",
              "         4.0000005, 4.0000005, 4.0000005, 4.0000005, 4.0000005,\n",
              "         4.0000005, 4.0000005, 4.0000005, 4.0000005, 4.0000005,\n",
              "         4.0000005, 4.0000005, 4.0000005, 4.0000005, 4.0000005,\n",
              "         4.0000005, 4.0000005, 4.0000005, 4.0000005, 4.0000005,\n",
              "         4.0000005, 4.0000005, 4.0000005, 4.0000005, 4.0000005,\n",
              "         4.0000005, 4.0000005, 4.0000005, 4.0000005, 4.0000005],\n",
              "        [4.5      , 4.5      , 4.5      , 4.5      , 4.5      ,\n",
              "         4.5      , 4.5      , 4.5      , 4.5      , 4.5      ,\n",
              "         4.5      , 4.5      , 4.5      , 4.5      , 4.5      ,\n",
              "         4.5      , 4.5      , 4.5      , 4.5      , 4.5      ,\n",
              "         4.5      , 4.5      , 4.5      , 4.5      , 4.5      ,\n",
              "         4.5      , 4.5      , 4.5      , 4.5      , 4.5      ,\n",
              "         4.5      , 4.5      , 4.5      , 4.5      , 4.5      ,\n",
              "         4.5      , 4.5      , 4.5      , 4.5      , 4.5      ,\n",
              "         4.5      , 4.5      , 4.5      , 4.5      , 4.5      ,\n",
              "         4.5      , 4.5      , 4.5      , 4.5      , 4.5      ,\n",
              "         4.5      , 4.5      , 4.5      , 4.5      , 4.5      ,\n",
              "         4.5      , 4.5      , 4.5      , 4.5      , 4.5      ,\n",
              "         4.5      , 4.5      , 4.5      , 4.5      , 4.5      ]]],      dtype=float32)"
            ]
          },
          "metadata": {},
          "execution_count": 76
        }
      ]
    },
    {
      "cell_type": "markdown",
      "source": [
        "# Putting together new Bigram model"
      ],
      "metadata": {
        "id": "jegiwSi3fsMY"
      }
    },
    {
      "cell_type": "code",
      "source": [
        "class BigramLangModel(nn.Module):\n",
        "  \"\"\"Reads one char and predicits the next char.\"\"\"\n",
        "  vocab_size: int # number of vocabulary (number of rows of embedding table)\n",
        "  n_embed: int # embedding dim after lookup\n",
        "\n",
        "  def setup(self):\n",
        "    super().setup()\n",
        "    # number of channels you want to use for store info for each token.\n",
        "    self.C = self.vocab_size\n",
        "\n",
        "    self.token_embedding_table = nn.Embed(num_embeddings=self.vocab_size, features=self.n_embed)\n",
        "\n",
        "    self.lang_model_head = nn.Dense(features=self.C)\n",
        "\n",
        "  def __call__(self, block_of_tokens: jnp.array):\n",
        "    \"\"\"Accepts a block of tokens.\"\"\"\n",
        "\n",
        "    # generate em for each token. output: (T, n_embed)\n",
        "    token_embs = self.token_embedding_table(block_of_tokens)\n",
        "\n",
        "    # generate logits for each token. output: (T, channels for info -- C)\n",
        "    token_logits = self.lang_model_head(token_embs)"
      ],
      "metadata": {
        "id": "PieI67T3gHcK"
      },
      "execution_count": 77,
      "outputs": []
    },
    {
      "cell_type": "markdown",
      "source": [
        "## Add positional embeddings to the above."
      ],
      "metadata": {
        "id": "xgPfy8ogiHyN"
      }
    },
    {
      "cell_type": "code",
      "source": [
        "block_of_tokens_example = jnp.ones(shape=(1, 8))\n",
        "block_of_tokens_example, block_of_tokens_example.shape, block_of_tokens_example.shape[1]"
      ],
      "metadata": {
        "colab": {
          "base_uri": "https://localhost:8080/"
        },
        "id": "vZYnHm6djluj",
        "outputId": "7ea22320-2b4b-4fc6-90b7-34b6ed478102"
      },
      "execution_count": 78,
      "outputs": [
        {
          "output_type": "execute_result",
          "data": {
            "text/plain": [
              "(Array([[1., 1., 1., 1., 1., 1., 1., 1.]], dtype=float32), (1, 8), 8)"
            ]
          },
          "metadata": {},
          "execution_count": 78
        }
      ]
    },
    {
      "cell_type": "code",
      "source": [
        "num_pos = block_of_tokens_example.shape[1]\n",
        "num_pos"
      ],
      "metadata": {
        "colab": {
          "base_uri": "https://localhost:8080/"
        },
        "id": "388ZajvbkPwp",
        "outputId": "27f5003a-926a-4130-b843-9be2f8e10ca7"
      },
      "execution_count": 79,
      "outputs": [
        {
          "output_type": "execute_result",
          "data": {
            "text/plain": [
              "8"
            ]
          },
          "metadata": {},
          "execution_count": 79
        }
      ]
    },
    {
      "cell_type": "code",
      "source": [
        "jnp.arange(0, num_pos)"
      ],
      "metadata": {
        "colab": {
          "base_uri": "https://localhost:8080/"
        },
        "id": "MCYxlaI0kReC",
        "outputId": "17a7bdfc-7045-4a49-adf8-dc89fbe626a9"
      },
      "execution_count": 80,
      "outputs": [
        {
          "output_type": "execute_result",
          "data": {
            "text/plain": [
              "Array([0, 1, 2, 3, 4, 5, 6, 7], dtype=int32)"
            ]
          },
          "metadata": {},
          "execution_count": 80
        }
      ]
    },
    {
      "cell_type": "code",
      "source": [
        "class LanguageModel(nn.Module):\n",
        "  \"\"\"Reads one char and predicits the next char.\"\"\"\n",
        "  vocab_size: int # number of vocabulary (number of rows of embedding table)\n",
        "  n_embed: int # embedding dim after lookup\n",
        "\n",
        "  block_size: int # T, i.e., number of tokens attention block is looking at once\n",
        "\n",
        "  def setup(self):\n",
        "    super().setup()\n",
        "    # number of channels you want to use for store info for each token.\n",
        "    self.C = self.vocab_size\n",
        "\n",
        "    self.token_embedding_table = nn.Embed(num_embeddings=self.vocab_size, features=self.n_embed)\n",
        "\n",
        "    self.pos_embedding_table = nn.Embed(num_embeddings=self.block_size, features=self.n_embed)\n",
        "\n",
        "    self.lang_model_head = nn.Dense(features=self.C)\n",
        "\n",
        "  def __call__(self, block_of_tokens: jnp.array):\n",
        "    \"\"\"Accepts a block of tokens, like [0, 1, 2, 3, 4, 5, 6, 7].\"\"\"\n",
        "\n",
        "    # generate em for each token. output: (T, n_embed)\n",
        "    token_embs = self.token_embedding_table(block_of_tokens)\n",
        "\n",
        "    # generate position embs for each token.\n",
        "    ## get token positions.\n",
        "    num_pos = block_of_tokens.shape[0]\n",
        "    positions = jnp.arange(0, num_pos)\n",
        "    pos_embs = self.pos_embedding_table(positions)\n",
        "\n",
        "    # generate actual input to attention, x, which is sum of token_embs + pos_embs\n",
        "    x = token_embs + pos_embs\n",
        "\n",
        "    # generate logits for each token. output: (T, channels for info -- C)\n",
        "    token_logits = self.lang_model_head(x)\n"
      ],
      "metadata": {
        "id": "wd0Z83BuiLQI"
      },
      "execution_count": 81,
      "outputs": []
    },
    {
      "cell_type": "markdown",
      "source": [
        "## Coding single head attention."
      ],
      "metadata": {
        "id": "YwcW1HNy2BI5"
      }
    },
    {
      "cell_type": "code",
      "source": [
        "# (copy-pasting from top)\n",
        "# Here, wei has uniform attention scores to previous tokens.\n",
        "# That is token in Tth position, is assuming that\n",
        "# each previous token has same amount of info.\n",
        "\n",
        "# But we want each Tth token to learn what to pay attention to.\n",
        "\n",
        "# So, we have each token emit \"keys\" -- info I have\n",
        "# Each token will emit \"query\" -- what I'm looking for\n",
        "# wei becomes the dot prodct of \"keys\" and \"query\" -- higher the dot product higher the match between\n",
        "# what I'm look for and what some previous token has.\n",
        "def calc_attention(x: jnp.array, T:int, C:int):\n",
        "  \"\"\"Calculates attention for a row of tokens.\"\"\"\n",
        "  tril = jnp.tril(jnp.ones(shape=(T, T)))\n",
        "  wei = jnp.zeros(shape=(T, T))\n",
        "  wei = jnp.where(tril==0, -jnp.inf, wei)\n",
        "  wei = nn.softmax(wei, axis=-1)\n",
        "\n",
        "  return jnp.dot(wei, x)"
      ],
      "metadata": {
        "id": "wC4gleJIy8Qo"
      },
      "execution_count": 82,
      "outputs": []
    },
    {
      "cell_type": "code",
      "source": [
        "token_info_size = 16 # head_size, each token produces vector of this size for key, query\n",
        "\n",
        "# key, query will take vector of size C.\n",
        "# i.e., channels containing info of token and will output token_info_size\n",
        "key_layer = nn.Dense(token_info_size, use_bias=False)\n",
        "\n",
        "query_layer = nn.Dense(token_info_size, use_bias=False)"
      ],
      "metadata": {
        "id": "FHOVay-Y2Mss"
      },
      "execution_count": 83,
      "outputs": []
    },
    {
      "cell_type": "code",
      "source": [
        "# (tokens, channel info for each)\n",
        "# (T, C)\n",
        "\n",
        "# for easy visualization, T=4, C=2\n",
        "T=4; C=2\n",
        "x = jrand.normal(jrand.PRNGKey(999), shape=(T, C))\n",
        "x"
      ],
      "metadata": {
        "colab": {
          "base_uri": "https://localhost:8080/"
        },
        "id": "yFKElCQe3kvE",
        "outputId": "557962fd-92c0-4257-abc8-13401451b297"
      },
      "execution_count": 84,
      "outputs": [
        {
          "output_type": "execute_result",
          "data": {
            "text/plain": [
              "Array([[ 0.27297866, -0.6993713 ],\n",
              "       [ 0.428855  , -1.5621939 ],\n",
              "       [-0.05503325,  0.18392533],\n",
              "       [-0.18410844,  0.53945136]], dtype=float32)"
            ]
          },
          "metadata": {},
          "execution_count": 84
        }
      ]
    },
    {
      "cell_type": "code",
      "source": [
        "prng = jrand.PRNGKey(9999)\n",
        "key, split_key = jrand.split(prng)"
      ],
      "metadata": {
        "id": "4uGkOUsJ4df3"
      },
      "execution_count": 85,
      "outputs": []
    },
    {
      "cell_type": "code",
      "source": [
        "# keys emitted by each token.\n",
        "kparams = key_layer.init(split_key, x)[\"params\"]\n",
        "keys = key_layer.apply({\"params\": kparams}, x)\n",
        "\n",
        "# queries emitted by each token\n",
        "# NOTE: each token parallely and indpendently emits its \"keys\" and \"queries\"\n",
        "qparams = query_layer.init(split_key, x)[\"params\"]\n",
        "queries = query_layer.apply({\"params\": qparams}, x)\n",
        "\n",
        "keys.shape, queries.shape # each are (T, 16)"
      ],
      "metadata": {
        "colab": {
          "base_uri": "https://localhost:8080/"
        },
        "id": "5Ku4_M434A7P",
        "outputId": "c801490f-6fd8-4de6-fac3-01b9d8c3fce4"
      },
      "execution_count": 86,
      "outputs": [
        {
          "output_type": "execute_result",
          "data": {
            "text/plain": [
              "((4, 16), (4, 16))"
            ]
          },
          "metadata": {},
          "execution_count": 86
        }
      ]
    },
    {
      "cell_type": "code",
      "source": [
        "# NOW, wei becomes this dot product between keys and querys\n",
        "wei = jnp.dot(queries, keys.T)\n",
        "wei"
      ],
      "metadata": {
        "colab": {
          "base_uri": "https://localhost:8080/"
        },
        "id": "kafXGmJ948bX",
        "outputId": "108dd724-a893-4421-ab69-52c372694af1"
      },
      "execution_count": 87,
      "outputs": [
        {
          "output_type": "execute_result",
          "data": {
            "text/plain": [
              "Array([[ 6.0750933, 12.761856 , -1.5228109, -4.5677843],\n",
              "       [12.761856 , 27.052605 , -3.221544 , -9.631147 ],\n",
              "       [-1.5228109, -3.221544 ,  0.3838081,  1.1482861],\n",
              "       [-4.5677843, -9.631147 ,  1.1482861,  3.4396741]], dtype=float32)"
            ]
          },
          "metadata": {},
          "execution_count": 87
        }
      ]
    },
    {
      "cell_type": "code",
      "source": [
        "  tril = jnp.tril(jnp.ones(shape=(T, T)))\n",
        "\n",
        "  # Don't initialize wei as zeros\n",
        "  # wei = jnp.zeros(shape=(T, T))\n",
        "  wei = jnp.where(tril==0, -jnp.inf, wei)\n",
        "  wei = nn.softmax(wei, axis=-1)\n",
        "  wei"
      ],
      "metadata": {
        "colab": {
          "base_uri": "https://localhost:8080/"
        },
        "id": "aCMiX_qF1K3L",
        "outputId": "d29e42c8-1705-464b-b48e-69c79984625c"
      },
      "execution_count": 88,
      "outputs": [
        {
          "output_type": "execute_result",
          "data": {
            "text/plain": [
              "Array([[1.0000000e+00, 0.0000000e+00, 0.0000000e+00, 0.0000000e+00],\n",
              "       [6.2173666e-07, 9.9999940e-01, 0.0000000e+00, 0.0000000e+00],\n",
              "       [1.2637094e-01, 2.3115156e-02, 8.5051382e-01, 0.0000000e+00],\n",
              "       [3.0229829e-04, 1.9118115e-06, 9.1810778e-02, 9.0788496e-01]],      dtype=float32)"
            ]
          },
          "metadata": {},
          "execution_count": 88
        }
      ]
    },
    {
      "cell_type": "code",
      "source": [
        "# each token also produces \"value\", which is what we would multiply with wei.\n",
        "# so, wei is attention score.\n",
        "# whenever the attention score is high, we want to take its value."
      ],
      "metadata": {
        "id": "VCpDFskA6PFT"
      },
      "execution_count": 89,
      "outputs": []
    },
    {
      "cell_type": "markdown",
      "source": [
        "### Combing things from above and adding value layer as well."
      ],
      "metadata": {
        "id": "XNYPY8vr6pQ6"
      }
    },
    {
      "cell_type": "code",
      "source": [
        "# (tokens, channel info for each)\n",
        "# (T, C)\n",
        "\n",
        "# for easy visualization, T=4, C=2\n",
        "T=4; C=2\n",
        "x = jrand.normal(jrand.PRNGKey(999), shape=(T, C))\n",
        "\n",
        "key, split_key = jrand.split(jrand.PRNGKey(9999))\n",
        "\n",
        "token_info_size = 16 # head_size\n",
        "\n",
        "key_layer = nn.Dense(token_info_size, use_bias=False)\n",
        "query_layer = nn.Dense(token_info_size, use_bias=False)\n",
        "value_layer = nn.Dense(token_info_size, use_bias=False)\n",
        "\n",
        "\n",
        "keys = key_layer.apply(key_layer.init(split_key, x), x) # (T, token_info_size)\n",
        "queries = query_layer.apply(query_layer.init(split_key, x), x)\n",
        "values = value_layer.apply(value_layer.init(split_key, x), x) # (T, token_info_size)\n",
        "\n",
        "tril = jnp.tril(jnp.ones(shape=(T, T)))\n",
        "\n",
        "wei = jnp.dot(queries, keys.T) # (T, T)\n",
        "wei = jnp.where(tril==0, -jnp.inf, wei)\n",
        "wei = nn.softmax(wei, axis=-1)\n",
        "\n",
        "\n",
        "out = jnp.dot(wei, values) # (T, T) * (T, token_info_size)\n",
        "\n",
        "# shape should be (T, token_info_size)\n",
        "# i.e., (4, 16)\n",
        "out.shape"
      ],
      "metadata": {
        "colab": {
          "base_uri": "https://localhost:8080/"
        },
        "id": "_3j_56B_6tms",
        "outputId": "4236c8f1-8ba3-46ef-eeda-aba47a8d7c2e"
      },
      "execution_count": 90,
      "outputs": [
        {
          "output_type": "execute_result",
          "data": {
            "text/plain": [
              "(4, 16)"
            ]
          },
          "metadata": {},
          "execution_count": 90
        }
      ]
    },
    {
      "cell_type": "markdown",
      "source": [
        "## self-attention vs cross-attention: https://youtu.be/kCc8FmEb1nY?t=4542"
      ],
      "metadata": {
        "id": "SdFA175m9cOy"
      }
    },
    {
      "cell_type": "markdown",
      "source": [
        "### Scaled attention -- dividing wei*value by squared root of head_size https://youtu.be/kCc8FmEb1nY?t=4638"
      ],
      "metadata": {
        "id": "Xx8fa3aC-CLN"
      }
    },
    {
      "cell_type": "code",
      "source": [
        "wei = jnp.dot(queries, keys.T) * C**0.5 # (T, T)\n",
        "wei = jnp.where(tril==0, -jnp.inf, wei)\n",
        "wei = nn.softmax(wei, axis=-1)\n",
        "\n",
        "\n",
        "out = jnp.dot(wei, values) # (T, T) * (T, token_info_size)\n",
        "out"
      ],
      "metadata": {
        "colab": {
          "base_uri": "https://localhost:8080/"
        },
        "id": "IAsVpe_RFfkJ",
        "outputId": "5ccbe326-fb7a-4a6c-a93e-563afd0ecac3"
      },
      "execution_count": 91,
      "outputs": [
        {
          "output_type": "execute_result",
          "data": {
            "text/plain": [
              "Array([[ 0.15091053,  1.1747676 , -0.27543876,  0.6276668 , -0.6659185 ,\n",
              "        -0.7521053 ,  0.15832554,  0.61729145,  0.5173192 , -1.0826657 ,\n",
              "         0.4595548 ,  0.38114175,  0.36432883, -0.12410479, -0.28500274,\n",
              "         0.8726827 ],\n",
              "       [ 0.15494807,  2.420155  , -0.75046575,  1.4276459 , -1.2494795 ,\n",
              "        -1.4867611 ,  0.18499118,  1.4277841 ,  1.0585895 , -2.3402715 ,\n",
              "         0.8965928 ,  0.6221145 ,  1.0077578 , -0.24458581, -0.6518733 ,\n",
              "         1.8538882 ],\n",
              "       [-0.0108901 , -0.18261386,  0.05756752, -0.1084154 ,  0.09365092,\n",
              "         0.11186212, -0.01323292, -0.10853641, -0.07983959,  0.1771509 ,\n",
              "        -0.06739505, -0.04610366, -0.07736284,  0.01839836,  0.04952013,\n",
              "        -0.14017412],\n",
              "       [-0.08724618, -0.85421604,  0.22667341, -0.47580495,  0.46656573,\n",
              "         0.5378475 , -0.09476726, -0.47136265, -0.37513095,  0.8030861 ,\n",
              "        -0.32692865, -0.2536266 , -0.30200323,  0.08864281,  0.21657023,\n",
              "        -0.642643  ]], dtype=float32)"
            ]
          },
          "metadata": {},
          "execution_count": 91
        }
      ]
    },
    {
      "cell_type": "markdown",
      "source": [
        "# Implement self-attention head.\n",
        "(copy-pasting from above code mostly into Flax module.)"
      ],
      "metadata": {
        "id": "8DrZZTi7zZm2"
      }
    },
    {
      "cell_type": "code",
      "source": [
        "class Head(nn.Module):\n",
        "  token_info_size: int # head_size; how much (emb dim) info each token emits for keys, queries, values.\n",
        "\n",
        "  T: int # block size; number of tokens in a block\n",
        "  C: int # channel info size: size of info channel of each token.\n",
        "\n",
        "\n",
        "  def setup(self):\n",
        "    super().setup()\n",
        "\n",
        "    # key, query will take vector of size C.\n",
        "    # i.e., channels containing info of token and will output token_info_size\n",
        "    self.key_layer = nn.Dense(self.token_info_size, use_bias=False)\n",
        "    self.query_layer = nn.Dense(self.token_info_size, use_bias=False)\n",
        "    self.value_layer = nn.Dense(self.token_info_size, use_bias=False)\n",
        "\n",
        "\n",
        "  def __call__(self, block_of_tokens_with_info_channels: jnp.array):\n",
        "    \"\"\"Accepts a block of tokens with info channels, like (8, 65).\"\"\"\n",
        "\n",
        "    # TODO(ntnsonti): Double check; but tril should not be learnable according cGPT.\n",
        "    tril = jnp.tril(jnp.ones(shape=(self.T, self.T)))\n",
        "\n",
        "    keys = self.key_layer(block_of_tokens_with_info_channels) # (T, token_info_size)\n",
        "    queries = self.query_layer(block_of_tokens_with_info_channels)\n",
        "    values = self.value_layer(block_of_tokens_with_info_channels)\n",
        "\n",
        "    # compute attention score.\n",
        "    wei = jnp.dot(queries, keys.T) * C**0.5 # (T, T)\n",
        "    wei = jnp.where(tril==0, -jnp.inf, wei)\n",
        "    wei = nn.softmax(wei, axis=-1)\n",
        "\n",
        "\n",
        "    out = jnp.dot(wei, values) # (T, T) * (T, token_info_size))\n",
        "    return out # (T, token_info_size)\n",
        ""
      ],
      "metadata": {
        "id": "eYy0Xn9F-ipr"
      },
      "execution_count": 92,
      "outputs": []
    },
    {
      "cell_type": "markdown",
      "source": [
        "https://youtu.be/kCc8FmEb1nY?t=4819"
      ],
      "metadata": {
        "id": "hER4RpvY5lnm"
      }
    },
    {
      "cell_type": "code",
      "source": [
        "class LanguageModel(nn.Module):\n",
        "  \"\"\"Reads one char and predicits the next char.\"\"\"\n",
        "  vocab_size: int # number of vocabulary (number of rows of embedding table)\n",
        "  n_embed: int # embedding dim after lookup\n",
        "\n",
        "  T: int # block size, i.e., number of tokens attention block is looking at once\n",
        "\n",
        "  def setup(self):\n",
        "    super().setup()\n",
        "    # number of channels you want to use for store info for each token.\n",
        "    self.C = self.vocab_size\n",
        "\n",
        "    self.token_embedding_table = nn.Embed(num_embeddings=self.vocab_size, features=self.n_embed)\n",
        "\n",
        "    self.pos_embedding_table = nn.Embed(num_embeddings=self.T, features=self.n_embed)\n",
        "\n",
        "    self.self_attention_head = Head(token_info_size=self.n_embed, T=self.T, C=self.C)\n",
        "\n",
        "    self.lang_model_head = nn.Dense(features=self.C)\n",
        "\n",
        "  def __call__(self, block_of_tokens: jnp.array):\n",
        "    \"\"\"Accepts a block of tokens, like [0, 1, 2, 3, 4, 5, 6, 7].\"\"\"\n",
        "\n",
        "    # generate em for each token. output: (T, n_embed)\n",
        "    token_embs = self.token_embedding_table(block_of_tokens)\n",
        "\n",
        "    # generate position embs for each token.\n",
        "    ## get token positions.\n",
        "    num_pos = block_of_tokens.shape[0]\n",
        "    positions = jnp.arange(0, num_pos)\n",
        "    pos_embs = self.pos_embedding_table(positions)\n",
        "\n",
        "    # generate actual input to attention, x, which is sum of token_embs + pos_embs\n",
        "    x = token_embs + pos_embs\n",
        "\n",
        "    # feed x into self-attention head.\n",
        "    x = self.self_attention_head(x)\n",
        "\n",
        "    # generate logits for each token. output: (T, channels for info -- C)\n",
        "    token_logits = self.lang_model_head(x)\n",
        "\n",
        "    return token_logits\n"
      ],
      "metadata": {
        "id": "zV5KQ3OLGO_N"
      },
      "execution_count": 93,
      "outputs": []
    },
    {
      "cell_type": "markdown",
      "source": [
        "## Traing the network."
      ],
      "metadata": {
        "id": "GBsD7xpOHMPb"
      }
    },
    {
      "cell_type": "code",
      "source": [
        "BLOCK_SIZE"
      ],
      "metadata": {
        "colab": {
          "base_uri": "https://localhost:8080/"
        },
        "id": "kgoUZysXICvH",
        "outputId": "6c61542a-93b2-499c-ff1f-0f38dfb5c6f8"
      },
      "execution_count": 94,
      "outputs": [
        {
          "output_type": "execute_result",
          "data": {
            "text/plain": [
              "8"
            ]
          },
          "metadata": {},
          "execution_count": 94
        }
      ]
    },
    {
      "cell_type": "code",
      "source": [
        "T = 8"
      ],
      "metadata": {
        "id": "12OMA67VIFlh"
      },
      "execution_count": 95,
      "outputs": []
    },
    {
      "cell_type": "code",
      "source": [
        "model = LanguageModel(vocab_size=65, n_embed=32, T=BLOCK_SIZE)\n",
        "\n",
        "# Now, our language model needs to accept a block of tokens, not one-char at a time.\n",
        "# We'll then make it accept a batch of blocks of tokens using vmap.\n",
        "sample_block_of_tokens = jnp.ones(shape=(T), dtype=jnp.int32)\n",
        "output, params = model.init_with_output(jrand.PRNGKey(99), sample_block_of_tokens)\n",
        "params = params[\"params\"]\n",
        "\n",
        "model_apply_batch = jax.vmap(model.apply, in_axes=(None, 0), out_axes=(0))\n",
        "\n",
        "def forward_pass(params, state, batch):\n",
        "  inputs, targets = batch\n",
        "  logits = state.apply_fn({\"params\": params}, inputs)\n",
        "  loss = optax.softmax_cross_entropy_with_integer_labels(logits, targets)\n",
        "  loss = loss.mean()\n",
        "  return loss\n",
        "\n",
        "grad_fn = jax.value_and_grad(forward_pass, argnums=(0))  # differentiate wrt 0th pos argument.\n",
        "\n",
        "opt = optax.adam(learning_rate=0.001)\n",
        "state = train_state.TrainState.create(apply_fn=model_apply_batch, params=params, tx=opt)\n",
        "\n",
        "for epoch in range(1000):\n",
        "  batch = get_batch()\n",
        "  loss, grads = grad_fn(state.params, state, batch)\n",
        "  print(loss) if epoch%100==0 else None\n",
        "  state = state.apply_gradients(grads=grads)"
      ],
      "metadata": {
        "colab": {
          "base_uri": "https://localhost:8080/",
          "height": 191
        },
        "id": "xLPSyus-HWKi",
        "outputId": "72d7a73c-2bee-4363-d97f-e048bc911fc8"
      },
      "execution_count": 341,
      "outputs": [
        {
          "output_type": "display_data",
          "data": {
            "text/plain": [
              "<IPython.core.display.HTML object>"
            ],
            "text/html": [
              "<style>\n",
              "    h1 { font-size: 30px; } /* Custom size for H1 */\n",
              "    h2 { font-size: 24px; } /* Custom size for H2 */\n",
              "    h3 { font-size: 18px; } /* Custom size for H3 */\n",
              "    /* Add more as needed */\n",
              "  </style>"
            ]
          },
          "metadata": {}
        },
        {
          "output_type": "display_data",
          "data": {
            "text/plain": [
              "<IPython.core.display.HTML object>"
            ],
            "text/html": [
              "<style>\n",
              "    h1 { font-size: 40px; } /* Custom size for H1 */\n",
              "    h2 { font-size: 24px; } /* Custom size for H2 */\n",
              "    h3 { font-size: 18px; } /* Custom size for H3 */\n",
              "    /* Add more as needed */\n",
              "  </style>"
            ]
          },
          "metadata": {}
        },
        {
          "output_type": "display_data",
          "data": {
            "text/plain": [
              "<IPython.core.display.HTML object>"
            ],
            "text/html": [
              "<style>\n",
              "    h1 { font-size: 40px; } /* Custom size for H1 */\n",
              "    h2 { font-size: 24px; } /* Custom size for H2 */\n",
              "    h3 { font-size: 18px; } /* Custom size for H3 */\n",
              "    /* Add more as needed */\n",
              "  </style>"
            ]
          },
          "metadata": {}
        },
        {
          "output_type": "display_data",
          "data": {
            "text/plain": [
              "<IPython.core.display.HTML object>"
            ],
            "text/html": [
              "<style>\n",
              "    h1 { font-size: 60px; } /* Custom size for H1 */\n",
              "    h2 { font-size: 24px; } /* Custom size for H2 */\n",
              "    h3 { font-size: 18px; } /* Custom size for H3 */\n",
              "    /* Add more as needed */\n",
              "  </style>"
            ]
          },
          "metadata": {}
        },
        {
          "output_type": "stream",
          "name": "stdout",
          "text": [
            "4.1696367\n",
            "3.4718578\n",
            "3.3918285\n",
            "2.907994\n",
            "3.101877\n",
            "2.7360342\n",
            "2.9926176\n",
            "2.8234916\n",
            "2.7058547\n",
            "2.5178351\n"
          ]
        }
      ]
    },
    {
      "cell_type": "markdown",
      "source": [
        "## NanoGPT"
      ],
      "metadata": {
        "id": "-_JsJ5hoKQ-w"
      }
    },
    {
      "cell_type": "code",
      "source": [
        "from dataclasses import dataclass\n",
        "from functools import partial\n",
        "import pickle\n",
        "\n",
        "import jax\n",
        "import jax.numpy as jnp\n",
        "\n",
        "import flax.linen as nn\n",
        "from flax.training import train_state\n",
        "from flax import serialization\n",
        "\n",
        "import optax\n",
        "\n",
        "\n",
        "@dataclass\n",
        "class Config():\n",
        "    seed = 42\n",
        "    num_iterations = 20000\n",
        "    batch_size = 512\n",
        "    block_size = 64\n",
        "    learning_rate = 1e-4\n",
        "    embed_size = 256\n",
        "    num_heads = 8\n",
        "    head_size = 32\n",
        "    num_layers = 6\n",
        "    dropout = 0.2\n",
        "\n",
        "config = Config()\n",
        "\n",
        "with open(\"input.txt\", \"r\", encoding=\"utf-8\") as f:\n",
        "    text = f.read()\n",
        "\n",
        "chars = sorted(list(set(text)))\n",
        "vocab_size = len(chars)\n",
        "\n",
        "# create a mapping from characters to integers\n",
        "stoi = {ch:i for i,ch in enumerate(chars)}\n",
        "itos = {i:ch for i,ch in enumerate(chars)}\n",
        "encode = lambda s: [stoi[c] for c in s] # encoder: take a string, output a list of integers\n",
        "decode = lambda l: \"\".join([itos[i] for i in l]) # decoder: take a list of integers, output a string\n",
        "\n",
        "# Let's now split up the data into train and validation sets\n",
        "data = jnp.array(encode(text))\n",
        "n = int(0.9*len(data)) # first 90% will be train, rest val\n",
        "train_data = data[:n]\n",
        "eval_data = data[n:]\n",
        "\n",
        "dynamic_slice_vmap = jax.vmap(jax.lax.dynamic_slice, in_axes=(None, 0, None))\n",
        "\n",
        "@jax.jit\n",
        "def get_batch(random_key, data):\n",
        "    # generate a small batch of data of inputs x and targets y\n",
        "    ix = jax.random.randint(random_key, shape=(config.batch_size, 1), minval=0, maxval=len(data)-config.block_size)\n",
        "    x = dynamic_slice_vmap(data, ix, (config.block_size,))\n",
        "    y = dynamic_slice_vmap(data, ix+1, (config.block_size,))\n",
        "    return x, y"
      ],
      "metadata": {
        "id": "GXp557EPKSwd",
        "colab": {
          "base_uri": "https://localhost:8080/",
          "height": 245
        },
        "outputId": "be6910d3-c513-4b6b-e9f7-08dc881f3bc8"
      },
      "execution_count": 3,
      "outputs": [
        {
          "output_type": "error",
          "ename": "FileNotFoundError",
          "evalue": "[Errno 2] No such file or directory: 'input.txt'",
          "traceback": [
            "\u001b[0;31m---------------------------------------------------------------------------\u001b[0m",
            "\u001b[0;31mFileNotFoundError\u001b[0m                         Traceback (most recent call last)",
            "\u001b[0;32m<ipython-input-3-0c1a92bcba1e>\u001b[0m in \u001b[0;36m<cell line: 30>\u001b[0;34m()\u001b[0m\n\u001b[1;32m     28\u001b[0m \u001b[0mconfig\u001b[0m \u001b[0;34m=\u001b[0m \u001b[0mConfig\u001b[0m\u001b[0;34m(\u001b[0m\u001b[0;34m)\u001b[0m\u001b[0;34m\u001b[0m\u001b[0;34m\u001b[0m\u001b[0m\n\u001b[1;32m     29\u001b[0m \u001b[0;34m\u001b[0m\u001b[0m\n\u001b[0;32m---> 30\u001b[0;31m \u001b[0;32mwith\u001b[0m \u001b[0mopen\u001b[0m\u001b[0;34m(\u001b[0m\u001b[0;34m\"input.txt\"\u001b[0m\u001b[0;34m,\u001b[0m \u001b[0;34m\"r\"\u001b[0m\u001b[0;34m,\u001b[0m \u001b[0mencoding\u001b[0m\u001b[0;34m=\u001b[0m\u001b[0;34m\"utf-8\"\u001b[0m\u001b[0;34m)\u001b[0m \u001b[0;32mas\u001b[0m \u001b[0mf\u001b[0m\u001b[0;34m:\u001b[0m\u001b[0;34m\u001b[0m\u001b[0;34m\u001b[0m\u001b[0m\n\u001b[0m\u001b[1;32m     31\u001b[0m     \u001b[0mtext\u001b[0m \u001b[0;34m=\u001b[0m \u001b[0mf\u001b[0m\u001b[0;34m.\u001b[0m\u001b[0mread\u001b[0m\u001b[0;34m(\u001b[0m\u001b[0;34m)\u001b[0m\u001b[0;34m\u001b[0m\u001b[0;34m\u001b[0m\u001b[0m\n\u001b[1;32m     32\u001b[0m \u001b[0;34m\u001b[0m\u001b[0m\n",
            "\u001b[0;31mFileNotFoundError\u001b[0m: [Errno 2] No such file or directory: 'input.txt'"
          ]
        }
      ]
    },
    {
      "cell_type": "code",
      "source": [
        "class LayerNorm(nn.Module):\n",
        "    epsilon: float = 1e-6\n",
        "    reduction_axes = -1\n",
        "\n",
        "    @nn.compact\n",
        "    def __call__(self, x):\n",
        "        \"\"\"Applies layer normalization on the input.\"\"\"\n",
        "        # compute statistics\n",
        "        mean2 = jnp.mean(jax.lax.square(x), self.reduction_axes, keepdims=True)\n",
        "        mean = jnp.mean(x, self.reduction_axes, keepdims=True)\n",
        "        var = jnp.maximum(0., mean2 - jax.lax.square(mean))\n",
        "\n",
        "        # compute normalized inputs\n",
        "        x_norm = (x - mean) * jax.lax.rsqrt(var + self.epsilon)\n",
        "        return x_norm * self.param(\"scale\", nn.initializers.ones, x.shape[-1]) + self.param(\"bias\", nn.initializers.zeros, x.shape[-1])"
      ],
      "metadata": {
        "id": "54ZaAxlQJ__q"
      },
      "execution_count": null,
      "outputs": []
    },
    {
      "cell_type": "code",
      "source": [
        "class Attention(nn.Module):\n",
        "    head_size: int\n",
        "\n",
        "    @nn.compact\n",
        "    def __call__(self, x, training: bool):\n",
        "        key = nn.Dense(self.head_size, use_bias=False)(x)\n",
        "        query = nn.Dense(self.head_size, use_bias=False)(x)\n",
        "        value = nn.Dense(self.head_size, use_bias=False)(x)\n",
        "\n",
        "        tril = jnp.tril(jnp.ones((x.shape[-2], x.shape[-2])))\n",
        "        attention_weights = nn.softmax(jnp.where(tril == 0, -jnp.inf, query @ jnp.transpose(key, axes=(0, 2, 1))), axis=-1)\n",
        "        attention_weights = nn.Dropout(config.dropout)(attention_weights, deterministic=not training)\n",
        "        return attention_weights @ value\n",
        "\n",
        "class MultiHeadAttention(nn.Module):\n",
        "    num_heads: int\n",
        "    head_size: int\n",
        "\n",
        "    @nn.compact\n",
        "    def __call__(self, x, training: bool):\n",
        "        x = jnp.concatenate([Attention(self.head_size)(x, training) for _ in range(self.num_heads)], axis=-1)\n",
        "        return nn.Dropout(config.dropout)(nn.Dense(self.num_heads*self.head_size)(x), deterministic=not training)\n",
        "\n",
        "class FeedFoward(nn.Module):\n",
        "\n",
        "    @nn.compact\n",
        "    def __call__(self, x, training: bool):\n",
        "        return nn.Dropout(config.dropout)(nn.Dense(config.embed_size)(nn.relu(nn.Dense(4*config.embed_size)(x))), deterministic=not training)\n",
        "\n",
        "class Block(nn.Module):\n",
        "    num_heads: int\n",
        "    head_size: int\n",
        "\n",
        "    @nn.compact\n",
        "    def __call__(self, x, training: bool):\n",
        "        x = x + MultiHeadAttention(self.num_heads, self.head_size)(LayerNorm()(x), training)\n",
        "        return x + FeedFoward()(LayerNorm()(x), training)"
      ],
      "metadata": {
        "id": "u18njNd2J0Us"
      },
      "execution_count": null,
      "outputs": []
    },
    {
      "cell_type": "code",
      "source": [
        "class Model(nn.Module):\n",
        "    num_layers: int\n",
        "    num_heads: int\n",
        "    head_size: int\n",
        "\n",
        "    @nn.compact\n",
        "    def __call__(self, x, training: bool):\n",
        "        B, T = x.shape\n",
        "        x = nn.Embed(num_embeddings=vocab_size, features=config.embed_size)(x) + \\\n",
        "            nn.Embed(num_embeddings=config.block_size, features=config.embed_size)(jnp.arange(T))\n",
        "        for _ in range(self.num_layers):\n",
        "            x = Block(self.num_heads, self.head_size)(x, training)\n",
        "        x = nn.LayerNorm()(x)\n",
        "        return nn.Dense(vocab_size)(x)\n",
        "\n",
        "    def generate(self, random_key, params, context, length=50):\n",
        "        for _ in range(length):\n",
        "            logits = self.apply(params, context[:, -config.block_size:], training=False)\n",
        "            random_key, random_subkey = jax.random.split(random_key)\n",
        "            new_token = jax.random.categorical(random_subkey, logits[:, -1, :], axis=-1, shape=(1, 1))\n",
        "            context = jnp.concatenate([context, new_token], axis=1)\n",
        "        return context\n",
        "\n",
        "    @partial(jax.jit, static_argnames=(\"self\", \"length\"))\n",
        "    def generate_jit(self, random_key, params, length):\n",
        "        def scan_generate(carry, x):\n",
        "            key, context = carry\n",
        "            logits = self.apply(params, context, training=False)\n",
        "            random_key, random_subkey = jax.random.split(key)\n",
        "            new_token = jax.random.categorical(random_subkey, logits[:, -1, :], axis=-1, shape=(1, 1))\n",
        "            context = jnp.concatenate([context[:, 1:], new_token], axis=1)\n",
        "            return (random_key, context), new_token\n",
        "\n",
        "        _, new_tokens = jax.lax.scan(\n",
        "            scan_generate,\n",
        "            (random_key, jnp.zeros((1, config.block_size), dtype=jnp.int32)),\n",
        "            (),\n",
        "            length=length,\n",
        "        )\n",
        "        return new_tokens"
      ],
      "metadata": {
        "id": "TrHBW_n2KDrD"
      },
      "execution_count": null,
      "outputs": []
    },
    {
      "cell_type": "code",
      "source": [
        "class TrainState(train_state.TrainState):\n",
        "  key: jax.random.KeyArray\n",
        "\n",
        "def create_train_state(random_key, config):\n",
        "    model = Model(num_layers=config.num_layers, num_heads=config.num_heads, head_size=config.head_size)\n",
        "    params = model.init(random_key, jnp.ones((config.batch_size, config.block_size), dtype=jnp.int32), training=False)\n",
        "    tx = optax.adamw(config.learning_rate)\n",
        "    return TrainState.create(\n",
        "        apply_fn=model.apply, params=params, key=random_key, tx=tx)\n",
        "\n",
        "@jax.jit\n",
        "def train_step(state, x, y, dropout_key):\n",
        "    dropout_key = jax.random.fold_in(key=dropout_key, data=state.step)\n",
        "    def loss_fn(params):\n",
        "        logits = state.apply_fn(params, x, training=True, rngs={'dropout': dropout_key})\n",
        "        one_hot_encoded_labels = jax.nn.one_hot(y, num_classes=vocab_size)\n",
        "        return optax.softmax_cross_entropy(\n",
        "            logits=logits, labels=one_hot_encoded_labels\n",
        "        ).mean()\n",
        "\n",
        "    loss, grads = jax.value_and_grad(loss_fn)(state.params)\n",
        "    state = state.apply_gradients(grads=grads)\n",
        "\n",
        "    return state, loss\n",
        "\n",
        "@jax.jit\n",
        "def eval_step(state, x, y):\n",
        "    logits = state.apply_fn(state.params, x, training=False)\n",
        "    one_hot_encoded_labels = jax.nn.one_hot(y, num_classes=vocab_size)\n",
        "    return optax.softmax_cross_entropy(\n",
        "        logits=logits, labels=one_hot_encoded_labels\n",
        "    ).mean()\n",
        "\n",
        "random_key = jax.random.PRNGKey(config.seed)\n",
        "random_key, random_subkey = jax.random.split(random_key)\n",
        "\n",
        "state = create_train_state(random_subkey, config)\n",
        "for i in range(config.num_iterations):\n",
        "    random_key, random_subkey = jax.random.split(random_key)\n",
        "    state, loss = train_step(state, *get_batch(random_subkey, train_data), random_subkey)\n",
        "\n",
        "    if i % 100 == 0:\n",
        "        random_key, random_subkey = jax.random.split(random_key)\n",
        "        print(f\"Step: {i}\\t train loss: {loss}\\t eval loss: {eval_step(state, *get_batch(random_subkey, eval_data))}\")\n",
        "\n",
        "params_state_dict = serialization.to_state_dict(state.params)\n",
        "with open(\"./outputs/params.pickle\", \"wb\") as params_file:\n",
        "    pickle.dump(params_state_dict, params_file)"
      ],
      "metadata": {
        "id": "RAj1yJO3KH10"
      },
      "execution_count": null,
      "outputs": []
    },
    {
      "cell_type": "code",
      "source": [],
      "metadata": {
        "id": "-SALJTbceZkI"
      },
      "execution_count": null,
      "outputs": []
    }
  ]
}